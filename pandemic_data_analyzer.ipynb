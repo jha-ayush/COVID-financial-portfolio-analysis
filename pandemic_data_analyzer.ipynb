{
 "cells": [
  {
   "cell_type": "markdown",
   "id": "1a47de4a-ec9e-4135-b1fe-e1cb051330cf",
   "metadata": {},
   "source": [
    "# Pandemic financial analysis"
   ]
  },
  {
   "cell_type": "code",
   "execution_count": 1,
   "id": "2ba78104-2318-4e33-9895-bd32f48434a9",
   "metadata": {},
   "outputs": [
    {
     "name": "stdout",
     "output_type": "stream",
     "text": [
      "Last updated: 2022-11-19T21:29:16.408979-08:00\n",
      "\n",
      "Python implementation: CPython\n",
      "Python version       : 3.7.13\n",
      "IPython version      : 7.31.1\n",
      "\n",
      "Compiler    : Clang 12.0.0 \n",
      "OS          : Darwin\n",
      "Release     : 22.1.0\n",
      "Machine     : x86_64\n",
      "Processor   : i386\n",
      "CPU cores   : 8\n",
      "Architecture: 64bit\n",
      "\n",
      "\n"
     ]
    }
   ],
   "source": [
    "# Import warnings + watermark\n",
    "from watermark import watermark\n",
    "from warnings import filterwarnings\n",
    "filterwarnings(\"ignore\")\n",
    "print(watermark())\n",
    "print(watermark(iversions=True, globals_=globals()))"
   ]
  },
  {
   "cell_type": "code",
   "execution_count": 2,
   "id": "8d02b074-93ec-4081-b94d-1253f94aaedf",
   "metadata": {
    "tags": []
   },
   "outputs": [],
   "source": [
    "#import the necessary modules\n",
    "import pandas as pd\n",
    "import numpy as np\n",
    "#questionary\n",
    "from pathlib import Path\n",
    "import fire\n",
    "import questionary\n",
    "#API\n",
    "import os\n",
    "import json\n",
    "import requests\n",
    "from dotenv import load_dotenv\n",
    "%matplotlib inline"
   ]
  },
  {
   "cell_type": "code",
   "execution_count": 3,
   "id": "428574e2-2c55-4b44-a188-84e527dedd02",
   "metadata": {},
   "outputs": [],
   "source": [
    "POLYGON_API_KEY ='enZp2AUpH4pGXJJuQ1CbjdVXJIsBFBEl'"
   ]
  },
  {
   "cell_type": "code",
   "execution_count": 4,
   "id": "2cdf7244-351f-4a17-9938-49698418d841",
   "metadata": {},
   "outputs": [],
   "source": [
    "ticker_list = [\"AMZN\", \"RTH\", \"AMT\", \"IYR\", \"XOM\", \"XLE\", \"SPY\"]"
   ]
  },
  {
   "cell_type": "code",
   "execution_count": 5,
   "id": "2acc604b-e69e-41fd-babf-b83b33f81f05",
   "metadata": {
    "tags": []
   },
   "outputs": [],
   "source": [
    "import requests\n",
    "import datetime\n",
    "from time import sleep\n",
    "from tqdm import tqdm\n",
    "def get_prices(start_date,end_date,universe):\n",
    "    data = pd.DataFrame()\n",
    "    # end_at = datetime.datetime.now() \n",
    "    # begin_from = end_at + datetime.timedelta(days=-5000)\n",
    "    for t in tqdm(universe):\n",
    "        print(t)\n",
    "        print(len(data))\n",
    "        # for start in pd.date_range(start = begin_from, end = end_at,normalize=True,freq = '88D'):\n",
    "        #     end = start + datetime.timedelta(days = 88)\n",
    "        #     end = str(int((end - datetime.datetime(1970,1,1)).total_seconds()))\n",
    "        #     start = str(int((start - datetime.datetime(1970,1,1)).total_seconds()))\n",
    "        try:\n",
    "            r = requests.get(f'https://api.polygon.io/v2/aggs/ticker/{t}/range/1/day/{start_date}/{end_date}?apiKey={POLYGON_API_KEY}')\n",
    "        except json.JSONDecodeError:\n",
    "            pass\n",
    "        try:\n",
    "            # print(r.json())\n",
    "            temp_data = pd.DataFrame(r.json()['results'])\n",
    "            temp_data['ticker'] = t\n",
    "            data = data.append(temp_data, ignore_index=True)\n",
    "            print(t+':'+str(pd.to_datetime(start_date, unit='s'))+':'+str(pd.to_datetime(end_date, unit='s')))\n",
    "        except KeyError:\n",
    "            print(f'{t} was not found')\n",
    "            pass\n",
    "        except ValueError:\n",
    "            pass\n",
    "        except ConnectionError as error:\n",
    "            print(error)\n",
    "            sleep(200)\n",
    "            continue\n",
    "        except TimeoutError as error:\n",
    "            print(error)\n",
    "            sleep(200)\n",
    "            continue\n",
    "        sleep(0.25)\n",
    "#     data.to_csv(file_name,index = False)\n",
    "    data.t = pd.to_datetime(data.t, unit = 'ms')\n",
    "    columns_name = {'t': 'time', 'o': 'Open', 'c': 'Close', 'h': 'High', 'l': 'Low', 'v': 'Volume'} \n",
    "    data= data.rename(columns = columns_name)\n",
    "    data = data[['time','ticker','Open', 'Close','High', 'Low', 'Volume']]\n",
    "    data = data.set_index(['time', 'ticker'])\n",
    "    data[\"daily_returns\"] = data['Close'].groupby('ticker').pct_change()\n",
    "    data = data.dropna()\n",
    "    #data.to_csv(file_name, index = False)\n",
    "    return data"
   ]
  },
  {
   "cell_type": "code",
   "execution_count": 6,
   "id": "416c6c2e-9467-46a9-bcb0-fced2c70cc60",
   "metadata": {
    "tags": []
   },
   "outputs": [
    {
     "name": "stderr",
     "output_type": "stream",
     "text": [
      "  0%|                                                                                                                | 0/7 [00:00<?, ?it/s]"
     ]
    },
    {
     "name": "stdout",
     "output_type": "stream",
     "text": [
      "AMZN\n",
      "0\n"
     ]
    },
    {
     "name": "stderr",
     "output_type": "stream",
     "text": [
      " 14%|██████████████▊                                                                                         | 1/7 [00:00<00:03,  1.56it/s]"
     ]
    },
    {
     "name": "stdout",
     "output_type": "stream",
     "text": [
      "RTH\n",
      "505\n"
     ]
    },
    {
     "name": "stderr",
     "output_type": "stream",
     "text": [
      " 29%|█████████████████████████████▋                                                                          | 2/7 [00:01<00:03,  1.61it/s]"
     ]
    },
    {
     "name": "stdout",
     "output_type": "stream",
     "text": [
      "AMT\n",
      "1010\n"
     ]
    },
    {
     "name": "stderr",
     "output_type": "stream",
     "text": [
      " 43%|████████████████████████████████████████████▌                                                           | 3/7 [00:01<00:02,  1.57it/s]"
     ]
    },
    {
     "name": "stdout",
     "output_type": "stream",
     "text": [
      "IYR\n",
      "1515\n"
     ]
    },
    {
     "name": "stderr",
     "output_type": "stream",
     "text": [
      " 57%|███████████████████████████████████████████████████████████▍                                            | 4/7 [00:02<00:01,  1.53it/s]"
     ]
    },
    {
     "name": "stdout",
     "output_type": "stream",
     "text": [
      "XOM\n",
      "2020\n"
     ]
    },
    {
     "name": "stderr",
     "output_type": "stream",
     "text": [
      " 71%|██████████████████████████████████████████████████████████████████████████▎                             | 5/7 [00:03<00:01,  1.52it/s]"
     ]
    },
    {
     "name": "stdout",
     "output_type": "stream",
     "text": [
      "XLE\n",
      "2525\n"
     ]
    },
    {
     "name": "stderr",
     "output_type": "stream",
     "text": [
      " 86%|█████████████████████████████████████████████████████████████████████████████████████████▏              | 6/7 [00:04<00:00,  1.42it/s]"
     ]
    },
    {
     "name": "stdout",
     "output_type": "stream",
     "text": [
      "SPY\n",
      "3030\n"
     ]
    },
    {
     "name": "stderr",
     "output_type": "stream",
     "text": [
      "100%|████████████████████████████████████████████████████████████████████████████████████████████████████████| 7/7 [00:04<00:00,  1.46it/s]\n"
     ]
    }
   ],
   "source": [
    "# Create `start_date` and `end_date` variables for the period before the pandemic\n",
    "start_date = \"2020-03-01\"\n",
    "end_date = \"2022-03-01\"\n",
    "all_data = get_prices(start_date=start_date, end_date=end_date, universe=ticker_list)\n"
   ]
  },
  {
   "cell_type": "code",
   "execution_count": 7,
   "id": "c3fa2453-af96-42c5-ac90-14a69368a3d2",
   "metadata": {},
   "outputs": [
    {
     "data": {
      "text/html": [
       "<div>\n",
       "<style scoped>\n",
       "    .dataframe tbody tr th:only-of-type {\n",
       "        vertical-align: middle;\n",
       "    }\n",
       "\n",
       "    .dataframe tbody tr th {\n",
       "        vertical-align: top;\n",
       "    }\n",
       "\n",
       "    .dataframe thead th {\n",
       "        text-align: right;\n",
       "    }\n",
       "</style>\n",
       "<table border=\"1\" class=\"dataframe\">\n",
       "  <thead>\n",
       "    <tr style=\"text-align: right;\">\n",
       "      <th></th>\n",
       "      <th></th>\n",
       "      <th>Open</th>\n",
       "      <th>Close</th>\n",
       "      <th>High</th>\n",
       "      <th>Low</th>\n",
       "      <th>Volume</th>\n",
       "      <th>daily_returns</th>\n",
       "    </tr>\n",
       "    <tr>\n",
       "      <th>time</th>\n",
       "      <th>ticker</th>\n",
       "      <th></th>\n",
       "      <th></th>\n",
       "      <th></th>\n",
       "      <th></th>\n",
       "      <th></th>\n",
       "      <th></th>\n",
       "    </tr>\n",
       "  </thead>\n",
       "  <tbody>\n",
       "    <tr>\n",
       "      <th>2020-03-03 05:00:00</th>\n",
       "      <th>AMZN</th>\n",
       "      <td>98.7685</td>\n",
       "      <td>95.4495</td>\n",
       "      <td>99.8165</td>\n",
       "      <td>94.4045</td>\n",
       "      <td>150689820.0</td>\n",
       "      <td>-0.023010</td>\n",
       "    </tr>\n",
       "    <tr>\n",
       "      <th>2020-03-04 05:00:00</th>\n",
       "      <th>AMZN</th>\n",
       "      <td>97.3285</td>\n",
       "      <td>98.7915</td>\n",
       "      <td>98.9000</td>\n",
       "      <td>96.1000</td>\n",
       "      <td>95289620.0</td>\n",
       "      <td>0.035013</td>\n",
       "    </tr>\n",
       "    <tr>\n",
       "      <th>2020-03-05 05:00:00</th>\n",
       "      <th>AMZN</th>\n",
       "      <td>96.6500</td>\n",
       "      <td>96.2015</td>\n",
       "      <td>98.0360</td>\n",
       "      <td>95.5000</td>\n",
       "      <td>94964200.0</td>\n",
       "      <td>-0.026217</td>\n",
       "    </tr>\n",
       "    <tr>\n",
       "      <th>2020-03-06 05:00:00</th>\n",
       "      <th>AMZN</th>\n",
       "      <td>93.7500</td>\n",
       "      <td>95.0545</td>\n",
       "      <td>95.5435</td>\n",
       "      <td>93.4750</td>\n",
       "      <td>105471600.0</td>\n",
       "      <td>-0.011923</td>\n",
       "    </tr>\n",
       "    <tr>\n",
       "      <th>2020-03-09 04:00:00</th>\n",
       "      <th>AMZN</th>\n",
       "      <td>88.6930</td>\n",
       "      <td>90.0305</td>\n",
       "      <td>93.1385</td>\n",
       "      <td>88.0645</td>\n",
       "      <td>156264640.0</td>\n",
       "      <td>-0.052854</td>\n",
       "    </tr>\n",
       "    <tr>\n",
       "      <th>...</th>\n",
       "      <th>...</th>\n",
       "      <td>...</td>\n",
       "      <td>...</td>\n",
       "      <td>...</td>\n",
       "      <td>...</td>\n",
       "      <td>...</td>\n",
       "      <td>...</td>\n",
       "    </tr>\n",
       "    <tr>\n",
       "      <th>2022-02-23 05:00:00</th>\n",
       "      <th>SPY</th>\n",
       "      <td>432.6600</td>\n",
       "      <td>421.9500</td>\n",
       "      <td>433.2600</td>\n",
       "      <td>421.3500</td>\n",
       "      <td>132374005.0</td>\n",
       "      <td>-0.017739</td>\n",
       "    </tr>\n",
       "    <tr>\n",
       "      <th>2022-02-24 05:00:00</th>\n",
       "      <th>SPY</th>\n",
       "      <td>411.0200</td>\n",
       "      <td>428.3000</td>\n",
       "      <td>428.7600</td>\n",
       "      <td>410.6400</td>\n",
       "      <td>213923446.0</td>\n",
       "      <td>0.015049</td>\n",
       "    </tr>\n",
       "    <tr>\n",
       "      <th>2022-02-25 05:00:00</th>\n",
       "      <th>SPY</th>\n",
       "      <td>429.6100</td>\n",
       "      <td>437.7500</td>\n",
       "      <td>437.8400</td>\n",
       "      <td>427.8600</td>\n",
       "      <td>121785659.0</td>\n",
       "      <td>0.022064</td>\n",
       "    </tr>\n",
       "    <tr>\n",
       "      <th>2022-02-28 05:00:00</th>\n",
       "      <th>SPY</th>\n",
       "      <td>432.0300</td>\n",
       "      <td>436.6300</td>\n",
       "      <td>438.2000</td>\n",
       "      <td>430.7000</td>\n",
       "      <td>145594529.0</td>\n",
       "      <td>-0.002559</td>\n",
       "    </tr>\n",
       "    <tr>\n",
       "      <th>2022-03-01 05:00:00</th>\n",
       "      <th>SPY</th>\n",
       "      <td>435.0400</td>\n",
       "      <td>429.9800</td>\n",
       "      <td>437.1700</td>\n",
       "      <td>427.1100</td>\n",
       "      <td>137720158.0</td>\n",
       "      <td>-0.015230</td>\n",
       "    </tr>\n",
       "  </tbody>\n",
       "</table>\n",
       "<p>3528 rows × 6 columns</p>\n",
       "</div>"
      ],
      "text/plain": [
       "                                Open     Close      High       Low  \\\n",
       "time                ticker                                           \n",
       "2020-03-03 05:00:00 AMZN     98.7685   95.4495   99.8165   94.4045   \n",
       "2020-03-04 05:00:00 AMZN     97.3285   98.7915   98.9000   96.1000   \n",
       "2020-03-05 05:00:00 AMZN     96.6500   96.2015   98.0360   95.5000   \n",
       "2020-03-06 05:00:00 AMZN     93.7500   95.0545   95.5435   93.4750   \n",
       "2020-03-09 04:00:00 AMZN     88.6930   90.0305   93.1385   88.0645   \n",
       "...                              ...       ...       ...       ...   \n",
       "2022-02-23 05:00:00 SPY     432.6600  421.9500  433.2600  421.3500   \n",
       "2022-02-24 05:00:00 SPY     411.0200  428.3000  428.7600  410.6400   \n",
       "2022-02-25 05:00:00 SPY     429.6100  437.7500  437.8400  427.8600   \n",
       "2022-02-28 05:00:00 SPY     432.0300  436.6300  438.2000  430.7000   \n",
       "2022-03-01 05:00:00 SPY     435.0400  429.9800  437.1700  427.1100   \n",
       "\n",
       "                                 Volume  daily_returns  \n",
       "time                ticker                              \n",
       "2020-03-03 05:00:00 AMZN    150689820.0      -0.023010  \n",
       "2020-03-04 05:00:00 AMZN     95289620.0       0.035013  \n",
       "2020-03-05 05:00:00 AMZN     94964200.0      -0.026217  \n",
       "2020-03-06 05:00:00 AMZN    105471600.0      -0.011923  \n",
       "2020-03-09 04:00:00 AMZN    156264640.0      -0.052854  \n",
       "...                                 ...            ...  \n",
       "2022-02-23 05:00:00 SPY     132374005.0      -0.017739  \n",
       "2022-02-24 05:00:00 SPY     213923446.0       0.015049  \n",
       "2022-02-25 05:00:00 SPY     121785659.0       0.022064  \n",
       "2022-02-28 05:00:00 SPY     145594529.0      -0.002559  \n",
       "2022-03-01 05:00:00 SPY     137720158.0      -0.015230  \n",
       "\n",
       "[3528 rows x 6 columns]"
      ]
     },
     "execution_count": 7,
     "metadata": {},
     "output_type": "execute_result"
    }
   ],
   "source": [
    "all_data\n"
   ]
  },
  {
   "cell_type": "code",
   "execution_count": 8,
   "id": "8d262a9f-d0d3-49a3-a818-6928a874aa4c",
   "metadata": {
    "tags": []
   },
   "outputs": [
    {
     "data": {
      "text/plain": [
       "MultiIndex([('2020-03-03 05:00:00', 'AMZN'),\n",
       "            ('2020-03-04 05:00:00', 'AMZN'),\n",
       "            ('2020-03-05 05:00:00', 'AMZN'),\n",
       "            ('2020-03-06 05:00:00', 'AMZN'),\n",
       "            ('2020-03-09 04:00:00', 'AMZN'),\n",
       "            ('2020-03-10 04:00:00', 'AMZN'),\n",
       "            ('2020-03-11 04:00:00', 'AMZN'),\n",
       "            ('2020-03-12 04:00:00', 'AMZN'),\n",
       "            ('2020-03-13 04:00:00', 'AMZN'),\n",
       "            ('2020-03-16 04:00:00', 'AMZN'),\n",
       "            ...\n",
       "            ('2022-02-15 05:00:00',  'SPY'),\n",
       "            ('2022-02-16 05:00:00',  'SPY'),\n",
       "            ('2022-02-17 05:00:00',  'SPY'),\n",
       "            ('2022-02-18 05:00:00',  'SPY'),\n",
       "            ('2022-02-22 05:00:00',  'SPY'),\n",
       "            ('2022-02-23 05:00:00',  'SPY'),\n",
       "            ('2022-02-24 05:00:00',  'SPY'),\n",
       "            ('2022-02-25 05:00:00',  'SPY'),\n",
       "            ('2022-02-28 05:00:00',  'SPY'),\n",
       "            ('2022-03-01 05:00:00',  'SPY')],\n",
       "           names=['time', 'ticker'], length=3528)"
      ]
     },
     "execution_count": 8,
     "metadata": {},
     "output_type": "execute_result"
    }
   ],
   "source": [
    "all_data.index"
   ]
  },
  {
   "cell_type": "code",
   "execution_count": 9,
   "id": "fb3a57e1-da2d-4a2c-8bc9-c8c26462291b",
   "metadata": {},
   "outputs": [],
   "source": [
    "idx = pd.IndexSlice"
   ]
  },
  {
   "cell_type": "code",
   "execution_count": 10,
   "id": "bd9f0acc-2b7f-4ba8-94e1-b16f4b2d8404",
   "metadata": {
    "tags": []
   },
   "outputs": [
    {
     "data": {
      "text/html": [
       "<div>\n",
       "<style scoped>\n",
       "    .dataframe tbody tr th:only-of-type {\n",
       "        vertical-align: middle;\n",
       "    }\n",
       "\n",
       "    .dataframe tbody tr th {\n",
       "        vertical-align: top;\n",
       "    }\n",
       "\n",
       "    .dataframe thead th {\n",
       "        text-align: right;\n",
       "    }\n",
       "</style>\n",
       "<table border=\"1\" class=\"dataframe\">\n",
       "  <thead>\n",
       "    <tr style=\"text-align: right;\">\n",
       "      <th></th>\n",
       "      <th></th>\n",
       "      <th>daily_returns</th>\n",
       "    </tr>\n",
       "    <tr>\n",
       "      <th>time</th>\n",
       "      <th>ticker</th>\n",
       "      <th></th>\n",
       "    </tr>\n",
       "  </thead>\n",
       "  <tbody>\n",
       "    <tr>\n",
       "      <th>2020-03-03 05:00:00</th>\n",
       "      <th>AMZN</th>\n",
       "      <td>-0.023010</td>\n",
       "    </tr>\n",
       "    <tr>\n",
       "      <th>2020-03-04 05:00:00</th>\n",
       "      <th>AMZN</th>\n",
       "      <td>0.035013</td>\n",
       "    </tr>\n",
       "    <tr>\n",
       "      <th>2020-03-05 05:00:00</th>\n",
       "      <th>AMZN</th>\n",
       "      <td>-0.026217</td>\n",
       "    </tr>\n",
       "    <tr>\n",
       "      <th>2020-03-06 05:00:00</th>\n",
       "      <th>AMZN</th>\n",
       "      <td>-0.011923</td>\n",
       "    </tr>\n",
       "    <tr>\n",
       "      <th>2020-03-09 04:00:00</th>\n",
       "      <th>AMZN</th>\n",
       "      <td>-0.052854</td>\n",
       "    </tr>\n",
       "    <tr>\n",
       "      <th>...</th>\n",
       "      <th>...</th>\n",
       "      <td>...</td>\n",
       "    </tr>\n",
       "    <tr>\n",
       "      <th>2022-02-23 05:00:00</th>\n",
       "      <th>AMZN</th>\n",
       "      <td>-0.035756</td>\n",
       "    </tr>\n",
       "    <tr>\n",
       "      <th>2022-02-24 05:00:00</th>\n",
       "      <th>AMZN</th>\n",
       "      <td>0.045095</td>\n",
       "    </tr>\n",
       "    <tr>\n",
       "      <th>2022-02-25 05:00:00</th>\n",
       "      <th>AMZN</th>\n",
       "      <td>0.016058</td>\n",
       "    </tr>\n",
       "    <tr>\n",
       "      <th>2022-02-28 05:00:00</th>\n",
       "      <th>AMZN</th>\n",
       "      <td>-0.001466</td>\n",
       "    </tr>\n",
       "    <tr>\n",
       "      <th>2022-03-01 05:00:00</th>\n",
       "      <th>AMZN</th>\n",
       "      <td>-0.015766</td>\n",
       "    </tr>\n",
       "  </tbody>\n",
       "</table>\n",
       "<p>504 rows × 1 columns</p>\n",
       "</div>"
      ],
      "text/plain": [
       "                            daily_returns\n",
       "time                ticker               \n",
       "2020-03-03 05:00:00 AMZN        -0.023010\n",
       "2020-03-04 05:00:00 AMZN         0.035013\n",
       "2020-03-05 05:00:00 AMZN        -0.026217\n",
       "2020-03-06 05:00:00 AMZN        -0.011923\n",
       "2020-03-09 04:00:00 AMZN        -0.052854\n",
       "...                                   ...\n",
       "2022-02-23 05:00:00 AMZN        -0.035756\n",
       "2022-02-24 05:00:00 AMZN         0.045095\n",
       "2022-02-25 05:00:00 AMZN         0.016058\n",
       "2022-02-28 05:00:00 AMZN        -0.001466\n",
       "2022-03-01 05:00:00 AMZN        -0.015766\n",
       "\n",
       "[504 rows x 1 columns]"
      ]
     },
     "execution_count": 10,
     "metadata": {},
     "output_type": "execute_result"
    }
   ],
   "source": [
    "AMZN_daily_returns_df = all_data.loc[idx[:,'AMZN'],['daily_returns']]\n",
    "AMZN_daily_returns_df"
   ]
  },
  {
   "cell_type": "code",
   "execution_count": 11,
   "id": "2f721e12-2574-4d0e-a808-4fe845badbef",
   "metadata": {
    "tags": []
   },
   "outputs": [
    {
     "data": {
      "text/html": [
       "<div>\n",
       "<style scoped>\n",
       "    .dataframe tbody tr th:only-of-type {\n",
       "        vertical-align: middle;\n",
       "    }\n",
       "\n",
       "    .dataframe tbody tr th {\n",
       "        vertical-align: top;\n",
       "    }\n",
       "\n",
       "    .dataframe thead th {\n",
       "        text-align: right;\n",
       "    }\n",
       "</style>\n",
       "<table border=\"1\" class=\"dataframe\">\n",
       "  <thead>\n",
       "    <tr style=\"text-align: right;\">\n",
       "      <th></th>\n",
       "      <th></th>\n",
       "      <th>daily_returns</th>\n",
       "    </tr>\n",
       "    <tr>\n",
       "      <th>time</th>\n",
       "      <th>ticker</th>\n",
       "      <th></th>\n",
       "    </tr>\n",
       "  </thead>\n",
       "  <tbody>\n",
       "    <tr>\n",
       "      <th>2020-03-03 05:00:00</th>\n",
       "      <th>RTH</th>\n",
       "      <td>-0.025206</td>\n",
       "    </tr>\n",
       "    <tr>\n",
       "      <th>2020-03-04 05:00:00</th>\n",
       "      <th>RTH</th>\n",
       "      <td>0.039796</td>\n",
       "    </tr>\n",
       "    <tr>\n",
       "      <th>2020-03-05 05:00:00</th>\n",
       "      <th>RTH</th>\n",
       "      <td>-0.022688</td>\n",
       "    </tr>\n",
       "    <tr>\n",
       "      <th>2020-03-06 05:00:00</th>\n",
       "      <th>RTH</th>\n",
       "      <td>-0.009098</td>\n",
       "    </tr>\n",
       "    <tr>\n",
       "      <th>2020-03-09 04:00:00</th>\n",
       "      <th>RTH</th>\n",
       "      <td>-0.042211</td>\n",
       "    </tr>\n",
       "    <tr>\n",
       "      <th>...</th>\n",
       "      <th>...</th>\n",
       "      <td>...</td>\n",
       "    </tr>\n",
       "    <tr>\n",
       "      <th>2022-02-23 05:00:00</th>\n",
       "      <th>RTH</th>\n",
       "      <td>-0.020849</td>\n",
       "    </tr>\n",
       "    <tr>\n",
       "      <th>2022-02-24 05:00:00</th>\n",
       "      <th>RTH</th>\n",
       "      <td>0.014314</td>\n",
       "    </tr>\n",
       "    <tr>\n",
       "      <th>2022-02-25 05:00:00</th>\n",
       "      <th>RTH</th>\n",
       "      <td>0.025366</td>\n",
       "    </tr>\n",
       "    <tr>\n",
       "      <th>2022-02-28 05:00:00</th>\n",
       "      <th>RTH</th>\n",
       "      <td>-0.002389</td>\n",
       "    </tr>\n",
       "    <tr>\n",
       "      <th>2022-03-01 05:00:00</th>\n",
       "      <th>RTH</th>\n",
       "      <td>0.000684</td>\n",
       "    </tr>\n",
       "  </tbody>\n",
       "</table>\n",
       "<p>504 rows × 1 columns</p>\n",
       "</div>"
      ],
      "text/plain": [
       "                            daily_returns\n",
       "time                ticker               \n",
       "2020-03-03 05:00:00 RTH         -0.025206\n",
       "2020-03-04 05:00:00 RTH          0.039796\n",
       "2020-03-05 05:00:00 RTH         -0.022688\n",
       "2020-03-06 05:00:00 RTH         -0.009098\n",
       "2020-03-09 04:00:00 RTH         -0.042211\n",
       "...                                   ...\n",
       "2022-02-23 05:00:00 RTH         -0.020849\n",
       "2022-02-24 05:00:00 RTH          0.014314\n",
       "2022-02-25 05:00:00 RTH          0.025366\n",
       "2022-02-28 05:00:00 RTH         -0.002389\n",
       "2022-03-01 05:00:00 RTH          0.000684\n",
       "\n",
       "[504 rows x 1 columns]"
      ]
     },
     "execution_count": 11,
     "metadata": {},
     "output_type": "execute_result"
    }
   ],
   "source": [
    "RTH_daily_returns_df = all_data.loc[idx[:,'RTH'],['daily_returns']]\n",
    "RTH_daily_returns_df"
   ]
  },
  {
   "cell_type": "code",
   "execution_count": 12,
   "id": "16142708-a0c0-4a29-bb13-a6feb6795bfb",
   "metadata": {
    "tags": []
   },
   "outputs": [
    {
     "data": {
      "text/html": [
       "<div>\n",
       "<style scoped>\n",
       "    .dataframe tbody tr th:only-of-type {\n",
       "        vertical-align: middle;\n",
       "    }\n",
       "\n",
       "    .dataframe tbody tr th {\n",
       "        vertical-align: top;\n",
       "    }\n",
       "\n",
       "    .dataframe thead th {\n",
       "        text-align: right;\n",
       "    }\n",
       "</style>\n",
       "<table border=\"1\" class=\"dataframe\">\n",
       "  <thead>\n",
       "    <tr style=\"text-align: right;\">\n",
       "      <th></th>\n",
       "      <th></th>\n",
       "      <th>daily_returns</th>\n",
       "    </tr>\n",
       "    <tr>\n",
       "      <th>time</th>\n",
       "      <th>ticker</th>\n",
       "      <th></th>\n",
       "    </tr>\n",
       "  </thead>\n",
       "  <tbody>\n",
       "    <tr>\n",
       "      <th>2020-03-03 05:00:00</th>\n",
       "      <th>AMT</th>\n",
       "      <td>0.007892</td>\n",
       "    </tr>\n",
       "    <tr>\n",
       "      <th>2020-03-04 05:00:00</th>\n",
       "      <th>AMT</th>\n",
       "      <td>0.037132</td>\n",
       "    </tr>\n",
       "    <tr>\n",
       "      <th>2020-03-05 05:00:00</th>\n",
       "      <th>AMT</th>\n",
       "      <td>-0.018755</td>\n",
       "    </tr>\n",
       "    <tr>\n",
       "      <th>2020-03-06 05:00:00</th>\n",
       "      <th>AMT</th>\n",
       "      <td>-0.002511</td>\n",
       "    </tr>\n",
       "    <tr>\n",
       "      <th>2020-03-09 04:00:00</th>\n",
       "      <th>AMT</th>\n",
       "      <td>-0.058704</td>\n",
       "    </tr>\n",
       "    <tr>\n",
       "      <th>...</th>\n",
       "      <th>...</th>\n",
       "      <td>...</td>\n",
       "    </tr>\n",
       "    <tr>\n",
       "      <th>2022-02-23 05:00:00</th>\n",
       "      <th>AMT</th>\n",
       "      <td>-0.004029</td>\n",
       "    </tr>\n",
       "    <tr>\n",
       "      <th>2022-02-24 05:00:00</th>\n",
       "      <th>AMT</th>\n",
       "      <td>0.018905</td>\n",
       "    </tr>\n",
       "    <tr>\n",
       "      <th>2022-02-25 05:00:00</th>\n",
       "      <th>AMT</th>\n",
       "      <td>0.008242</td>\n",
       "    </tr>\n",
       "    <tr>\n",
       "      <th>2022-02-28 05:00:00</th>\n",
       "      <th>AMT</th>\n",
       "      <td>-0.029059</td>\n",
       "    </tr>\n",
       "    <tr>\n",
       "      <th>2022-03-01 05:00:00</th>\n",
       "      <th>AMT</th>\n",
       "      <td>0.007405</td>\n",
       "    </tr>\n",
       "  </tbody>\n",
       "</table>\n",
       "<p>504 rows × 1 columns</p>\n",
       "</div>"
      ],
      "text/plain": [
       "                            daily_returns\n",
       "time                ticker               \n",
       "2020-03-03 05:00:00 AMT          0.007892\n",
       "2020-03-04 05:00:00 AMT          0.037132\n",
       "2020-03-05 05:00:00 AMT         -0.018755\n",
       "2020-03-06 05:00:00 AMT         -0.002511\n",
       "2020-03-09 04:00:00 AMT         -0.058704\n",
       "...                                   ...\n",
       "2022-02-23 05:00:00 AMT         -0.004029\n",
       "2022-02-24 05:00:00 AMT          0.018905\n",
       "2022-02-25 05:00:00 AMT          0.008242\n",
       "2022-02-28 05:00:00 AMT         -0.029059\n",
       "2022-03-01 05:00:00 AMT          0.007405\n",
       "\n",
       "[504 rows x 1 columns]"
      ]
     },
     "execution_count": 12,
     "metadata": {},
     "output_type": "execute_result"
    }
   ],
   "source": [
    "AMT_daily_returns_df = all_data.loc[idx[:,'AMT'],['daily_returns']]\n",
    "AMT_daily_returns_df"
   ]
  },
  {
   "cell_type": "code",
   "execution_count": 13,
   "id": "50f16562-025b-47ea-8a33-e6b04863a6c2",
   "metadata": {
    "tags": []
   },
   "outputs": [
    {
     "data": {
      "text/html": [
       "<div>\n",
       "<style scoped>\n",
       "    .dataframe tbody tr th:only-of-type {\n",
       "        vertical-align: middle;\n",
       "    }\n",
       "\n",
       "    .dataframe tbody tr th {\n",
       "        vertical-align: top;\n",
       "    }\n",
       "\n",
       "    .dataframe thead th {\n",
       "        text-align: right;\n",
       "    }\n",
       "</style>\n",
       "<table border=\"1\" class=\"dataframe\">\n",
       "  <thead>\n",
       "    <tr style=\"text-align: right;\">\n",
       "      <th></th>\n",
       "      <th></th>\n",
       "      <th>daily_returns</th>\n",
       "    </tr>\n",
       "    <tr>\n",
       "      <th>time</th>\n",
       "      <th>ticker</th>\n",
       "      <th></th>\n",
       "    </tr>\n",
       "  </thead>\n",
       "  <tbody>\n",
       "    <tr>\n",
       "      <th>2020-03-03 05:00:00</th>\n",
       "      <th>IYR</th>\n",
       "      <td>0.000109</td>\n",
       "    </tr>\n",
       "    <tr>\n",
       "      <th>2020-03-04 05:00:00</th>\n",
       "      <th>IYR</th>\n",
       "      <td>0.038201</td>\n",
       "    </tr>\n",
       "    <tr>\n",
       "      <th>2020-03-05 05:00:00</th>\n",
       "      <th>IYR</th>\n",
       "      <td>-0.021762</td>\n",
       "    </tr>\n",
       "    <tr>\n",
       "      <th>2020-03-06 05:00:00</th>\n",
       "      <th>IYR</th>\n",
       "      <td>-0.016980</td>\n",
       "    </tr>\n",
       "    <tr>\n",
       "      <th>2020-03-09 04:00:00</th>\n",
       "      <th>IYR</th>\n",
       "      <td>-0.074123</td>\n",
       "    </tr>\n",
       "    <tr>\n",
       "      <th>...</th>\n",
       "      <th>...</th>\n",
       "      <td>...</td>\n",
       "    </tr>\n",
       "    <tr>\n",
       "      <th>2022-02-23 05:00:00</th>\n",
       "      <th>IYR</th>\n",
       "      <td>-0.017626</td>\n",
       "    </tr>\n",
       "    <tr>\n",
       "      <th>2022-02-24 05:00:00</th>\n",
       "      <th>IYR</th>\n",
       "      <td>0.017740</td>\n",
       "    </tr>\n",
       "    <tr>\n",
       "      <th>2022-02-25 05:00:00</th>\n",
       "      <th>IYR</th>\n",
       "      <td>0.024067</td>\n",
       "    </tr>\n",
       "    <tr>\n",
       "      <th>2022-02-28 05:00:00</th>\n",
       "      <th>IYR</th>\n",
       "      <td>-0.016538</td>\n",
       "    </tr>\n",
       "    <tr>\n",
       "      <th>2022-03-01 05:00:00</th>\n",
       "      <th>IYR</th>\n",
       "      <td>-0.002557</td>\n",
       "    </tr>\n",
       "  </tbody>\n",
       "</table>\n",
       "<p>504 rows × 1 columns</p>\n",
       "</div>"
      ],
      "text/plain": [
       "                            daily_returns\n",
       "time                ticker               \n",
       "2020-03-03 05:00:00 IYR          0.000109\n",
       "2020-03-04 05:00:00 IYR          0.038201\n",
       "2020-03-05 05:00:00 IYR         -0.021762\n",
       "2020-03-06 05:00:00 IYR         -0.016980\n",
       "2020-03-09 04:00:00 IYR         -0.074123\n",
       "...                                   ...\n",
       "2022-02-23 05:00:00 IYR         -0.017626\n",
       "2022-02-24 05:00:00 IYR          0.017740\n",
       "2022-02-25 05:00:00 IYR          0.024067\n",
       "2022-02-28 05:00:00 IYR         -0.016538\n",
       "2022-03-01 05:00:00 IYR         -0.002557\n",
       "\n",
       "[504 rows x 1 columns]"
      ]
     },
     "execution_count": 13,
     "metadata": {},
     "output_type": "execute_result"
    }
   ],
   "source": [
    "IYR_daily_returns_df = all_data.loc[idx[:,'IYR'],['daily_returns']]\n",
    "IYR_daily_returns_df"
   ]
  },
  {
   "cell_type": "code",
   "execution_count": 14,
   "id": "7e420884-0e57-49fa-bad8-8bea782fd89f",
   "metadata": {
    "tags": []
   },
   "outputs": [
    {
     "data": {
      "text/html": [
       "<div>\n",
       "<style scoped>\n",
       "    .dataframe tbody tr th:only-of-type {\n",
       "        vertical-align: middle;\n",
       "    }\n",
       "\n",
       "    .dataframe tbody tr th {\n",
       "        vertical-align: top;\n",
       "    }\n",
       "\n",
       "    .dataframe thead th {\n",
       "        text-align: right;\n",
       "    }\n",
       "</style>\n",
       "<table border=\"1\" class=\"dataframe\">\n",
       "  <thead>\n",
       "    <tr style=\"text-align: right;\">\n",
       "      <th></th>\n",
       "      <th></th>\n",
       "      <th>daily_returns</th>\n",
       "    </tr>\n",
       "    <tr>\n",
       "      <th>time</th>\n",
       "      <th>ticker</th>\n",
       "      <th></th>\n",
       "    </tr>\n",
       "  </thead>\n",
       "  <tbody>\n",
       "    <tr>\n",
       "      <th>2020-03-03 05:00:00</th>\n",
       "      <th>XOM</th>\n",
       "      <td>-0.047884</td>\n",
       "    </tr>\n",
       "    <tr>\n",
       "      <th>2020-03-04 05:00:00</th>\n",
       "      <th>XOM</th>\n",
       "      <td>0.021832</td>\n",
       "    </tr>\n",
       "    <tr>\n",
       "      <th>2020-03-05 05:00:00</th>\n",
       "      <th>XOM</th>\n",
       "      <td>-0.044067</td>\n",
       "    </tr>\n",
       "    <tr>\n",
       "      <th>2020-03-06 05:00:00</th>\n",
       "      <th>XOM</th>\n",
       "      <td>-0.048294</td>\n",
       "    </tr>\n",
       "    <tr>\n",
       "      <th>2020-03-09 04:00:00</th>\n",
       "      <th>XOM</th>\n",
       "      <td>-0.122248</td>\n",
       "    </tr>\n",
       "    <tr>\n",
       "      <th>...</th>\n",
       "      <th>...</th>\n",
       "      <td>...</td>\n",
       "    </tr>\n",
       "    <tr>\n",
       "      <th>2022-02-23 05:00:00</th>\n",
       "      <th>XOM</th>\n",
       "      <td>0.004054</td>\n",
       "    </tr>\n",
       "    <tr>\n",
       "      <th>2022-02-24 05:00:00</th>\n",
       "      <th>XOM</th>\n",
       "      <td>-0.012635</td>\n",
       "    </tr>\n",
       "    <tr>\n",
       "      <th>2022-02-25 05:00:00</th>\n",
       "      <th>XOM</th>\n",
       "      <td>0.026913</td>\n",
       "    </tr>\n",
       "    <tr>\n",
       "      <th>2022-02-28 05:00:00</th>\n",
       "      <th>XOM</th>\n",
       "      <td>0.007451</td>\n",
       "    </tr>\n",
       "    <tr>\n",
       "      <th>2022-03-01 05:00:00</th>\n",
       "      <th>XOM</th>\n",
       "      <td>0.009564</td>\n",
       "    </tr>\n",
       "  </tbody>\n",
       "</table>\n",
       "<p>504 rows × 1 columns</p>\n",
       "</div>"
      ],
      "text/plain": [
       "                            daily_returns\n",
       "time                ticker               \n",
       "2020-03-03 05:00:00 XOM         -0.047884\n",
       "2020-03-04 05:00:00 XOM          0.021832\n",
       "2020-03-05 05:00:00 XOM         -0.044067\n",
       "2020-03-06 05:00:00 XOM         -0.048294\n",
       "2020-03-09 04:00:00 XOM         -0.122248\n",
       "...                                   ...\n",
       "2022-02-23 05:00:00 XOM          0.004054\n",
       "2022-02-24 05:00:00 XOM         -0.012635\n",
       "2022-02-25 05:00:00 XOM          0.026913\n",
       "2022-02-28 05:00:00 XOM          0.007451\n",
       "2022-03-01 05:00:00 XOM          0.009564\n",
       "\n",
       "[504 rows x 1 columns]"
      ]
     },
     "execution_count": 14,
     "metadata": {},
     "output_type": "execute_result"
    }
   ],
   "source": [
    "XOM_daily_returns_df = all_data.loc[idx[:,'XOM'],['daily_returns']]\n",
    "XOM_daily_returns_df"
   ]
  },
  {
   "cell_type": "code",
   "execution_count": 15,
   "id": "3821ae3a-37e8-4110-a172-70f70caad743",
   "metadata": {
    "tags": []
   },
   "outputs": [
    {
     "data": {
      "text/html": [
       "<div>\n",
       "<style scoped>\n",
       "    .dataframe tbody tr th:only-of-type {\n",
       "        vertical-align: middle;\n",
       "    }\n",
       "\n",
       "    .dataframe tbody tr th {\n",
       "        vertical-align: top;\n",
       "    }\n",
       "\n",
       "    .dataframe thead th {\n",
       "        text-align: right;\n",
       "    }\n",
       "</style>\n",
       "<table border=\"1\" class=\"dataframe\">\n",
       "  <thead>\n",
       "    <tr style=\"text-align: right;\">\n",
       "      <th></th>\n",
       "      <th></th>\n",
       "      <th>daily_returns</th>\n",
       "    </tr>\n",
       "    <tr>\n",
       "      <th>time</th>\n",
       "      <th>ticker</th>\n",
       "      <th></th>\n",
       "    </tr>\n",
       "  </thead>\n",
       "  <tbody>\n",
       "    <tr>\n",
       "      <th>2020-03-03 05:00:00</th>\n",
       "      <th>XLE</th>\n",
       "      <td>-0.030573</td>\n",
       "    </tr>\n",
       "    <tr>\n",
       "      <th>2020-03-04 05:00:00</th>\n",
       "      <th>XLE</th>\n",
       "      <td>0.023653</td>\n",
       "    </tr>\n",
       "    <tr>\n",
       "      <th>2020-03-05 05:00:00</th>\n",
       "      <th>XLE</th>\n",
       "      <td>-0.036585</td>\n",
       "    </tr>\n",
       "    <tr>\n",
       "      <th>2020-03-06 05:00:00</th>\n",
       "      <th>XLE</th>\n",
       "      <td>-0.056185</td>\n",
       "    </tr>\n",
       "    <tr>\n",
       "      <th>2020-03-09 04:00:00</th>\n",
       "      <th>XLE</th>\n",
       "      <td>-0.201412</td>\n",
       "    </tr>\n",
       "    <tr>\n",
       "      <th>...</th>\n",
       "      <th>...</th>\n",
       "      <td>...</td>\n",
       "    </tr>\n",
       "    <tr>\n",
       "      <th>2022-02-23 05:00:00</th>\n",
       "      <th>XLE</th>\n",
       "      <td>0.010306</td>\n",
       "    </tr>\n",
       "    <tr>\n",
       "      <th>2022-02-24 05:00:00</th>\n",
       "      <th>XLE</th>\n",
       "      <td>-0.007836</td>\n",
       "    </tr>\n",
       "    <tr>\n",
       "      <th>2022-02-25 05:00:00</th>\n",
       "      <th>XLE</th>\n",
       "      <td>0.026375</td>\n",
       "    </tr>\n",
       "    <tr>\n",
       "      <th>2022-02-28 05:00:00</th>\n",
       "      <th>XLE</th>\n",
       "      <td>0.024681</td>\n",
       "    </tr>\n",
       "    <tr>\n",
       "      <th>2022-03-01 05:00:00</th>\n",
       "      <th>XLE</th>\n",
       "      <td>0.010060</td>\n",
       "    </tr>\n",
       "  </tbody>\n",
       "</table>\n",
       "<p>504 rows × 1 columns</p>\n",
       "</div>"
      ],
      "text/plain": [
       "                            daily_returns\n",
       "time                ticker               \n",
       "2020-03-03 05:00:00 XLE         -0.030573\n",
       "2020-03-04 05:00:00 XLE          0.023653\n",
       "2020-03-05 05:00:00 XLE         -0.036585\n",
       "2020-03-06 05:00:00 XLE         -0.056185\n",
       "2020-03-09 04:00:00 XLE         -0.201412\n",
       "...                                   ...\n",
       "2022-02-23 05:00:00 XLE          0.010306\n",
       "2022-02-24 05:00:00 XLE         -0.007836\n",
       "2022-02-25 05:00:00 XLE          0.026375\n",
       "2022-02-28 05:00:00 XLE          0.024681\n",
       "2022-03-01 05:00:00 XLE          0.010060\n",
       "\n",
       "[504 rows x 1 columns]"
      ]
     },
     "execution_count": 15,
     "metadata": {},
     "output_type": "execute_result"
    }
   ],
   "source": [
    "XLE_daily_returns_df = all_data.loc[idx[:,'XLE'],['daily_returns']]\n",
    "XLE_daily_returns_df"
   ]
  },
  {
   "cell_type": "code",
   "execution_count": 16,
   "id": "6399dd61-3199-4c42-b23e-79a577da9b58",
   "metadata": {
    "tags": []
   },
   "outputs": [
    {
     "data": {
      "text/html": [
       "<div>\n",
       "<style scoped>\n",
       "    .dataframe tbody tr th:only-of-type {\n",
       "        vertical-align: middle;\n",
       "    }\n",
       "\n",
       "    .dataframe tbody tr th {\n",
       "        vertical-align: top;\n",
       "    }\n",
       "\n",
       "    .dataframe thead th {\n",
       "        text-align: right;\n",
       "    }\n",
       "</style>\n",
       "<table border=\"1\" class=\"dataframe\">\n",
       "  <thead>\n",
       "    <tr style=\"text-align: right;\">\n",
       "      <th></th>\n",
       "      <th></th>\n",
       "      <th>daily_returns</th>\n",
       "    </tr>\n",
       "    <tr>\n",
       "      <th>time</th>\n",
       "      <th>ticker</th>\n",
       "      <th></th>\n",
       "    </tr>\n",
       "  </thead>\n",
       "  <tbody>\n",
       "    <tr>\n",
       "      <th>2020-03-03 05:00:00</th>\n",
       "      <th>SPY</th>\n",
       "      <td>-0.028632</td>\n",
       "    </tr>\n",
       "    <tr>\n",
       "      <th>2020-03-04 05:00:00</th>\n",
       "      <th>SPY</th>\n",
       "      <td>0.042033</td>\n",
       "    </tr>\n",
       "    <tr>\n",
       "      <th>2020-03-05 05:00:00</th>\n",
       "      <th>SPY</th>\n",
       "      <td>-0.033242</td>\n",
       "    </tr>\n",
       "    <tr>\n",
       "      <th>2020-03-06 05:00:00</th>\n",
       "      <th>SPY</th>\n",
       "      <td>-0.016531</td>\n",
       "    </tr>\n",
       "    <tr>\n",
       "      <th>2020-03-09 04:00:00</th>\n",
       "      <th>SPY</th>\n",
       "      <td>-0.078095</td>\n",
       "    </tr>\n",
       "    <tr>\n",
       "      <th>...</th>\n",
       "      <th>...</th>\n",
       "      <td>...</td>\n",
       "    </tr>\n",
       "    <tr>\n",
       "      <th>2022-02-23 05:00:00</th>\n",
       "      <th>SPY</th>\n",
       "      <td>-0.017739</td>\n",
       "    </tr>\n",
       "    <tr>\n",
       "      <th>2022-02-24 05:00:00</th>\n",
       "      <th>SPY</th>\n",
       "      <td>0.015049</td>\n",
       "    </tr>\n",
       "    <tr>\n",
       "      <th>2022-02-25 05:00:00</th>\n",
       "      <th>SPY</th>\n",
       "      <td>0.022064</td>\n",
       "    </tr>\n",
       "    <tr>\n",
       "      <th>2022-02-28 05:00:00</th>\n",
       "      <th>SPY</th>\n",
       "      <td>-0.002559</td>\n",
       "    </tr>\n",
       "    <tr>\n",
       "      <th>2022-03-01 05:00:00</th>\n",
       "      <th>SPY</th>\n",
       "      <td>-0.015230</td>\n",
       "    </tr>\n",
       "  </tbody>\n",
       "</table>\n",
       "<p>504 rows × 1 columns</p>\n",
       "</div>"
      ],
      "text/plain": [
       "                            daily_returns\n",
       "time                ticker               \n",
       "2020-03-03 05:00:00 SPY         -0.028632\n",
       "2020-03-04 05:00:00 SPY          0.042033\n",
       "2020-03-05 05:00:00 SPY         -0.033242\n",
       "2020-03-06 05:00:00 SPY         -0.016531\n",
       "2020-03-09 04:00:00 SPY         -0.078095\n",
       "...                                   ...\n",
       "2022-02-23 05:00:00 SPY         -0.017739\n",
       "2022-02-24 05:00:00 SPY          0.015049\n",
       "2022-02-25 05:00:00 SPY          0.022064\n",
       "2022-02-28 05:00:00 SPY         -0.002559\n",
       "2022-03-01 05:00:00 SPY         -0.015230\n",
       "\n",
       "[504 rows x 1 columns]"
      ]
     },
     "execution_count": 16,
     "metadata": {},
     "output_type": "execute_result"
    }
   ],
   "source": [
    "SPY_daily_returns_df = all_data.loc[idx[:,'SPY'],['daily_returns']]\n",
    "SPY_daily_returns_df"
   ]
  },
  {
   "cell_type": "code",
   "execution_count": 17,
   "id": "3cf20180-2f73-499b-95dd-73c8a2875e9a",
   "metadata": {
    "tags": []
   },
   "outputs": [
    {
     "data": {
      "text/html": [
       "<div>\n",
       "<style scoped>\n",
       "    .dataframe tbody tr th:only-of-type {\n",
       "        vertical-align: middle;\n",
       "    }\n",
       "\n",
       "    .dataframe tbody tr th {\n",
       "        vertical-align: top;\n",
       "    }\n",
       "\n",
       "    .dataframe thead th {\n",
       "        text-align: right;\n",
       "    }\n",
       "</style>\n",
       "<table border=\"1\" class=\"dataframe\">\n",
       "  <thead>\n",
       "    <tr style=\"text-align: right;\">\n",
       "      <th></th>\n",
       "      <th></th>\n",
       "      <th></th>\n",
       "      <th>daily_returns</th>\n",
       "    </tr>\n",
       "    <tr>\n",
       "      <th></th>\n",
       "      <th>time</th>\n",
       "      <th>ticker</th>\n",
       "      <th></th>\n",
       "    </tr>\n",
       "  </thead>\n",
       "  <tbody>\n",
       "    <tr>\n",
       "      <th rowspan=\"5\" valign=\"top\">AMZN</th>\n",
       "      <th>2020-03-03 05:00:00</th>\n",
       "      <th>AMZN</th>\n",
       "      <td>-0.023010</td>\n",
       "    </tr>\n",
       "    <tr>\n",
       "      <th>2020-03-04 05:00:00</th>\n",
       "      <th>AMZN</th>\n",
       "      <td>0.035013</td>\n",
       "    </tr>\n",
       "    <tr>\n",
       "      <th>2020-03-05 05:00:00</th>\n",
       "      <th>AMZN</th>\n",
       "      <td>-0.026217</td>\n",
       "    </tr>\n",
       "    <tr>\n",
       "      <th>2020-03-06 05:00:00</th>\n",
       "      <th>AMZN</th>\n",
       "      <td>-0.011923</td>\n",
       "    </tr>\n",
       "    <tr>\n",
       "      <th>2020-03-09 04:00:00</th>\n",
       "      <th>AMZN</th>\n",
       "      <td>-0.052854</td>\n",
       "    </tr>\n",
       "    <tr>\n",
       "      <th>...</th>\n",
       "      <th>...</th>\n",
       "      <th>...</th>\n",
       "      <td>...</td>\n",
       "    </tr>\n",
       "    <tr>\n",
       "      <th rowspan=\"5\" valign=\"top\">RTH</th>\n",
       "      <th>2022-02-23 05:00:00</th>\n",
       "      <th>RTH</th>\n",
       "      <td>-0.020849</td>\n",
       "    </tr>\n",
       "    <tr>\n",
       "      <th>2022-02-24 05:00:00</th>\n",
       "      <th>RTH</th>\n",
       "      <td>0.014314</td>\n",
       "    </tr>\n",
       "    <tr>\n",
       "      <th>2022-02-25 05:00:00</th>\n",
       "      <th>RTH</th>\n",
       "      <td>0.025366</td>\n",
       "    </tr>\n",
       "    <tr>\n",
       "      <th>2022-02-28 05:00:00</th>\n",
       "      <th>RTH</th>\n",
       "      <td>-0.002389</td>\n",
       "    </tr>\n",
       "    <tr>\n",
       "      <th>2022-03-01 05:00:00</th>\n",
       "      <th>RTH</th>\n",
       "      <td>0.000684</td>\n",
       "    </tr>\n",
       "  </tbody>\n",
       "</table>\n",
       "<p>1008 rows × 1 columns</p>\n",
       "</div>"
      ],
      "text/plain": [
       "                                 daily_returns\n",
       "     time                ticker               \n",
       "AMZN 2020-03-03 05:00:00 AMZN        -0.023010\n",
       "     2020-03-04 05:00:00 AMZN         0.035013\n",
       "     2020-03-05 05:00:00 AMZN        -0.026217\n",
       "     2020-03-06 05:00:00 AMZN        -0.011923\n",
       "     2020-03-09 04:00:00 AMZN        -0.052854\n",
       "...                                        ...\n",
       "RTH  2022-02-23 05:00:00 RTH         -0.020849\n",
       "     2022-02-24 05:00:00 RTH          0.014314\n",
       "     2022-02-25 05:00:00 RTH          0.025366\n",
       "     2022-02-28 05:00:00 RTH         -0.002389\n",
       "     2022-03-01 05:00:00 RTH          0.000684\n",
       "\n",
       "[1008 rows x 1 columns]"
      ]
     },
     "execution_count": 17,
     "metadata": {},
     "output_type": "execute_result"
    }
   ],
   "source": [
    "tech_daily_returns = pd.concat([AMZN_daily_returns_df, RTH_daily_returns_df], keys=[\"AMZN\",\"RTH\"])\n",
    "tech_daily_returns"
   ]
  },
  {
   "cell_type": "code",
   "execution_count": 18,
   "id": "7eea0650-e218-448b-ac83-3e7212898511",
   "metadata": {
    "tags": []
   },
   "outputs": [
    {
     "data": {
      "text/html": [
       "<div>\n",
       "<style scoped>\n",
       "    .dataframe tbody tr th:only-of-type {\n",
       "        vertical-align: middle;\n",
       "    }\n",
       "\n",
       "    .dataframe tbody tr th {\n",
       "        vertical-align: top;\n",
       "    }\n",
       "\n",
       "    .dataframe thead th {\n",
       "        text-align: right;\n",
       "    }\n",
       "</style>\n",
       "<table border=\"1\" class=\"dataframe\">\n",
       "  <thead>\n",
       "    <tr style=\"text-align: right;\">\n",
       "      <th></th>\n",
       "      <th></th>\n",
       "      <th></th>\n",
       "      <th>daily_returns</th>\n",
       "    </tr>\n",
       "    <tr>\n",
       "      <th></th>\n",
       "      <th>time</th>\n",
       "      <th>ticker</th>\n",
       "      <th></th>\n",
       "    </tr>\n",
       "  </thead>\n",
       "  <tbody>\n",
       "    <tr>\n",
       "      <th rowspan=\"5\" valign=\"top\">AMT</th>\n",
       "      <th>2020-03-03 05:00:00</th>\n",
       "      <th>AMT</th>\n",
       "      <td>0.007892</td>\n",
       "    </tr>\n",
       "    <tr>\n",
       "      <th>2020-03-04 05:00:00</th>\n",
       "      <th>AMT</th>\n",
       "      <td>0.037132</td>\n",
       "    </tr>\n",
       "    <tr>\n",
       "      <th>2020-03-05 05:00:00</th>\n",
       "      <th>AMT</th>\n",
       "      <td>-0.018755</td>\n",
       "    </tr>\n",
       "    <tr>\n",
       "      <th>2020-03-06 05:00:00</th>\n",
       "      <th>AMT</th>\n",
       "      <td>-0.002511</td>\n",
       "    </tr>\n",
       "    <tr>\n",
       "      <th>2020-03-09 04:00:00</th>\n",
       "      <th>AMT</th>\n",
       "      <td>-0.058704</td>\n",
       "    </tr>\n",
       "    <tr>\n",
       "      <th>...</th>\n",
       "      <th>...</th>\n",
       "      <th>...</th>\n",
       "      <td>...</td>\n",
       "    </tr>\n",
       "    <tr>\n",
       "      <th rowspan=\"5\" valign=\"top\">IYR</th>\n",
       "      <th>2022-02-23 05:00:00</th>\n",
       "      <th>IYR</th>\n",
       "      <td>-0.017626</td>\n",
       "    </tr>\n",
       "    <tr>\n",
       "      <th>2022-02-24 05:00:00</th>\n",
       "      <th>IYR</th>\n",
       "      <td>0.017740</td>\n",
       "    </tr>\n",
       "    <tr>\n",
       "      <th>2022-02-25 05:00:00</th>\n",
       "      <th>IYR</th>\n",
       "      <td>0.024067</td>\n",
       "    </tr>\n",
       "    <tr>\n",
       "      <th>2022-02-28 05:00:00</th>\n",
       "      <th>IYR</th>\n",
       "      <td>-0.016538</td>\n",
       "    </tr>\n",
       "    <tr>\n",
       "      <th>2022-03-01 05:00:00</th>\n",
       "      <th>IYR</th>\n",
       "      <td>-0.002557</td>\n",
       "    </tr>\n",
       "  </tbody>\n",
       "</table>\n",
       "<p>1008 rows × 1 columns</p>\n",
       "</div>"
      ],
      "text/plain": [
       "                                daily_returns\n",
       "    time                ticker               \n",
       "AMT 2020-03-03 05:00:00 AMT          0.007892\n",
       "    2020-03-04 05:00:00 AMT          0.037132\n",
       "    2020-03-05 05:00:00 AMT         -0.018755\n",
       "    2020-03-06 05:00:00 AMT         -0.002511\n",
       "    2020-03-09 04:00:00 AMT         -0.058704\n",
       "...                                       ...\n",
       "IYR 2022-02-23 05:00:00 IYR         -0.017626\n",
       "    2022-02-24 05:00:00 IYR          0.017740\n",
       "    2022-02-25 05:00:00 IYR          0.024067\n",
       "    2022-02-28 05:00:00 IYR         -0.016538\n",
       "    2022-03-01 05:00:00 IYR         -0.002557\n",
       "\n",
       "[1008 rows x 1 columns]"
      ]
     },
     "execution_count": 18,
     "metadata": {},
     "output_type": "execute_result"
    }
   ],
   "source": [
    "RE_daily_returns = pd.concat([AMT_daily_returns_df, IYR_daily_returns_df], keys=[\"AMT\",\"IYR\"])\n",
    "RE_daily_returns"
   ]
  },
  {
   "cell_type": "code",
   "execution_count": 19,
   "id": "fa8baa24-e409-49d7-b5ca-660d51aa9a45",
   "metadata": {
    "tags": []
   },
   "outputs": [
    {
     "data": {
      "text/html": [
       "<div>\n",
       "<style scoped>\n",
       "    .dataframe tbody tr th:only-of-type {\n",
       "        vertical-align: middle;\n",
       "    }\n",
       "\n",
       "    .dataframe tbody tr th {\n",
       "        vertical-align: top;\n",
       "    }\n",
       "\n",
       "    .dataframe thead th {\n",
       "        text-align: right;\n",
       "    }\n",
       "</style>\n",
       "<table border=\"1\" class=\"dataframe\">\n",
       "  <thead>\n",
       "    <tr style=\"text-align: right;\">\n",
       "      <th></th>\n",
       "      <th></th>\n",
       "      <th></th>\n",
       "      <th>daily_returns</th>\n",
       "    </tr>\n",
       "    <tr>\n",
       "      <th></th>\n",
       "      <th>time</th>\n",
       "      <th>ticker</th>\n",
       "      <th></th>\n",
       "    </tr>\n",
       "  </thead>\n",
       "  <tbody>\n",
       "    <tr>\n",
       "      <th rowspan=\"5\" valign=\"top\">XOM</th>\n",
       "      <th>2020-03-03 05:00:00</th>\n",
       "      <th>XOM</th>\n",
       "      <td>-0.047884</td>\n",
       "    </tr>\n",
       "    <tr>\n",
       "      <th>2020-03-04 05:00:00</th>\n",
       "      <th>XOM</th>\n",
       "      <td>0.021832</td>\n",
       "    </tr>\n",
       "    <tr>\n",
       "      <th>2020-03-05 05:00:00</th>\n",
       "      <th>XOM</th>\n",
       "      <td>-0.044067</td>\n",
       "    </tr>\n",
       "    <tr>\n",
       "      <th>2020-03-06 05:00:00</th>\n",
       "      <th>XOM</th>\n",
       "      <td>-0.048294</td>\n",
       "    </tr>\n",
       "    <tr>\n",
       "      <th>2020-03-09 04:00:00</th>\n",
       "      <th>XOM</th>\n",
       "      <td>-0.122248</td>\n",
       "    </tr>\n",
       "    <tr>\n",
       "      <th>...</th>\n",
       "      <th>...</th>\n",
       "      <th>...</th>\n",
       "      <td>...</td>\n",
       "    </tr>\n",
       "    <tr>\n",
       "      <th rowspan=\"5\" valign=\"top\">XLE</th>\n",
       "      <th>2022-02-23 05:00:00</th>\n",
       "      <th>XLE</th>\n",
       "      <td>0.010306</td>\n",
       "    </tr>\n",
       "    <tr>\n",
       "      <th>2022-02-24 05:00:00</th>\n",
       "      <th>XLE</th>\n",
       "      <td>-0.007836</td>\n",
       "    </tr>\n",
       "    <tr>\n",
       "      <th>2022-02-25 05:00:00</th>\n",
       "      <th>XLE</th>\n",
       "      <td>0.026375</td>\n",
       "    </tr>\n",
       "    <tr>\n",
       "      <th>2022-02-28 05:00:00</th>\n",
       "      <th>XLE</th>\n",
       "      <td>0.024681</td>\n",
       "    </tr>\n",
       "    <tr>\n",
       "      <th>2022-03-01 05:00:00</th>\n",
       "      <th>XLE</th>\n",
       "      <td>0.010060</td>\n",
       "    </tr>\n",
       "  </tbody>\n",
       "</table>\n",
       "<p>1008 rows × 1 columns</p>\n",
       "</div>"
      ],
      "text/plain": [
       "                                daily_returns\n",
       "    time                ticker               \n",
       "XOM 2020-03-03 05:00:00 XOM         -0.047884\n",
       "    2020-03-04 05:00:00 XOM          0.021832\n",
       "    2020-03-05 05:00:00 XOM         -0.044067\n",
       "    2020-03-06 05:00:00 XOM         -0.048294\n",
       "    2020-03-09 04:00:00 XOM         -0.122248\n",
       "...                                       ...\n",
       "XLE 2022-02-23 05:00:00 XLE          0.010306\n",
       "    2022-02-24 05:00:00 XLE         -0.007836\n",
       "    2022-02-25 05:00:00 XLE          0.026375\n",
       "    2022-02-28 05:00:00 XLE          0.024681\n",
       "    2022-03-01 05:00:00 XLE          0.010060\n",
       "\n",
       "[1008 rows x 1 columns]"
      ]
     },
     "execution_count": 19,
     "metadata": {},
     "output_type": "execute_result"
    }
   ],
   "source": [
    "energy_daily_returns = pd.concat([XOM_daily_returns_df, XLE_daily_returns_df], keys=[\"XOM\",\"XLE\"])\n",
    "energy_daily_returns"
   ]
  },
  {
   "cell_type": "markdown",
   "id": "4e01bda0-7313-4129-8930-b0b950cbd90a",
   "metadata": {},
   "source": [
    "### A) Analyzing Each Stock and ETF Individually\n"
   ]
  },
  {
   "cell_type": "code",
   "execution_count": 20,
   "id": "7e265e85-6dde-4d72-9060-6ea9bb3a7238",
   "metadata": {},
   "outputs": [],
   "source": [
    "import warnings\n",
    "warnings.filterwarnings(\"ignore\")"
   ]
  },
  {
   "cell_type": "code",
   "execution_count": 21,
   "id": "3c7a7a45-67aa-45bf-b77d-c2de7163aa9c",
   "metadata": {},
   "outputs": [],
   "source": [
    "from pytz import timezone\n",
    "#from IPython.display import clear_output\n",
    "from time import sleep\n",
    "import numpy as np\n",
    "import pyfolio as pf\n",
    "import sqlalchemy"
   ]
  },
  {
   "cell_type": "code",
   "execution_count": 59,
   "id": "90bdcd33-12c4-4e17-ac2a-9dd78b52c14c",
   "metadata": {},
   "outputs": [
    {
     "data": {
      "text/html": [
       "<div>\n",
       "<style scoped>\n",
       "    .dataframe tbody tr th:only-of-type {\n",
       "        vertical-align: middle;\n",
       "    }\n",
       "\n",
       "    .dataframe tbody tr th {\n",
       "        vertical-align: top;\n",
       "    }\n",
       "\n",
       "    .dataframe thead th {\n",
       "        text-align: right;\n",
       "    }\n",
       "</style>\n",
       "<table border=\"1\" class=\"dataframe\">\n",
       "  <thead>\n",
       "    <tr style=\"text-align: right;\">\n",
       "      <th></th>\n",
       "      <th></th>\n",
       "      <th>daily_returns</th>\n",
       "    </tr>\n",
       "    <tr>\n",
       "      <th></th>\n",
       "      <th>time</th>\n",
       "      <th></th>\n",
       "    </tr>\n",
       "  </thead>\n",
       "  <tbody>\n",
       "    <tr>\n",
       "      <th rowspan=\"5\" valign=\"top\">AMZN</th>\n",
       "      <th>2020-03-03 05:00:00</th>\n",
       "      <td>-0.023010</td>\n",
       "    </tr>\n",
       "    <tr>\n",
       "      <th>2020-03-04 05:00:00</th>\n",
       "      <td>0.035013</td>\n",
       "    </tr>\n",
       "    <tr>\n",
       "      <th>2020-03-05 05:00:00</th>\n",
       "      <td>-0.026217</td>\n",
       "    </tr>\n",
       "    <tr>\n",
       "      <th>2020-03-06 05:00:00</th>\n",
       "      <td>-0.011923</td>\n",
       "    </tr>\n",
       "    <tr>\n",
       "      <th>2020-03-09 04:00:00</th>\n",
       "      <td>-0.052854</td>\n",
       "    </tr>\n",
       "    <tr>\n",
       "      <th>...</th>\n",
       "      <th>...</th>\n",
       "      <td>...</td>\n",
       "    </tr>\n",
       "    <tr>\n",
       "      <th rowspan=\"5\" valign=\"top\">SPY</th>\n",
       "      <th>2022-02-23 05:00:00</th>\n",
       "      <td>-0.017739</td>\n",
       "    </tr>\n",
       "    <tr>\n",
       "      <th>2022-02-24 05:00:00</th>\n",
       "      <td>0.015049</td>\n",
       "    </tr>\n",
       "    <tr>\n",
       "      <th>2022-02-25 05:00:00</th>\n",
       "      <td>0.022064</td>\n",
       "    </tr>\n",
       "    <tr>\n",
       "      <th>2022-02-28 05:00:00</th>\n",
       "      <td>-0.002559</td>\n",
       "    </tr>\n",
       "    <tr>\n",
       "      <th>2022-03-01 05:00:00</th>\n",
       "      <td>-0.015230</td>\n",
       "    </tr>\n",
       "  </tbody>\n",
       "</table>\n",
       "<p>3528 rows × 1 columns</p>\n",
       "</div>"
      ],
      "text/plain": [
       "                          daily_returns\n",
       "     time                              \n",
       "AMZN 2020-03-03 05:00:00      -0.023010\n",
       "     2020-03-04 05:00:00       0.035013\n",
       "     2020-03-05 05:00:00      -0.026217\n",
       "     2020-03-06 05:00:00      -0.011923\n",
       "     2020-03-09 04:00:00      -0.052854\n",
       "...                                 ...\n",
       "SPY  2022-02-23 05:00:00      -0.017739\n",
       "     2022-02-24 05:00:00       0.015049\n",
       "     2022-02-25 05:00:00       0.022064\n",
       "     2022-02-28 05:00:00      -0.002559\n",
       "     2022-03-01 05:00:00      -0.015230\n",
       "\n",
       "[3528 rows x 1 columns]"
      ]
     },
     "execution_count": 59,
     "metadata": {},
     "output_type": "execute_result"
    }
   ],
   "source": [
    "pandemic_prices_df = pd.concat([AMZN_daily_returns_df.reset_index(level = 1,drop=True), RTH_daily_returns_df.reset_index(level = 1,drop=True), AMT_daily_returns_df.reset_index(level = 1,drop=True), IYR_daily_returns_df.reset_index(level = 1,drop=True), XOM_daily_returns_df.reset_index(level = 1,drop=True), XLE_daily_returns_df.reset_index(level = 1,drop=True), SPY_daily_returns_df.reset_index(level = 1,drop=True)],axis=0, keys=[\"AMZN\",\"RTH\",\"AMT\",\"IYR\",\"XOM\",\"XLE\",\"SPY\"])\n",
    "pandemic_prices_df"
   ]
  },
  {
   "cell_type": "code",
   "execution_count": 23,
   "id": "ff4acb97-aefd-475c-b7a3-320ffdce8a2b",
   "metadata": {},
   "outputs": [],
   "source": [
    "database_connection_string = 'sqlite:///'"
   ]
  },
  {
   "cell_type": "code",
   "execution_count": 24,
   "id": "21b45bd6-804e-4a3a-b666-71a48852f697",
   "metadata": {},
   "outputs": [],
   "source": [
    "engine = sqlalchemy.create_engine(database_connection_string)"
   ]
  },
  {
   "cell_type": "code",
   "execution_count": 25,
   "id": "ba8f9cd5-5dd7-4082-87d8-34b9baa5a145",
   "metadata": {},
   "outputs": [
    {
     "data": {
      "text/plain": [
       "[]"
      ]
     },
     "execution_count": 25,
     "metadata": {},
     "output_type": "execute_result"
    }
   ],
   "source": [
    "engine.table_names()"
   ]
  },
  {
   "cell_type": "code",
   "execution_count": 26,
   "id": "57557244-d89f-487c-9fef-8ea4b98aade2",
   "metadata": {},
   "outputs": [
    {
     "data": {
      "text/plain": [
       "daily_returns    0.021559\n",
       "dtype: float64"
      ]
     },
     "metadata": {},
     "output_type": "display_data"
    },
    {
     "data": {
      "text/plain": [
       "daily_returns    0.001097\n",
       "dtype: float64"
      ]
     },
     "metadata": {},
     "output_type": "display_data"
    }
   ],
   "source": [
    "#Summary statistics for AMZN stock using .std() and .mean()\n",
    "display(AMZN_daily_returns_df.std())\n",
    "display(AMZN_daily_returns_df.mean())"
   ]
  },
  {
   "cell_type": "code",
   "execution_count": 27,
   "id": "43851111-af48-4322-9aeb-30fcd0e713e0",
   "metadata": {},
   "outputs": [
    {
     "data": {
      "text/plain": [
       "daily_returns    0.000884\n",
       "dtype: float64"
      ]
     },
     "execution_count": 27,
     "metadata": {},
     "output_type": "execute_result"
    }
   ],
   "source": [
    "#Summary statistics for RTH stock using .std() and .mean()\n",
    "RTH_daily_returns_df.std()\n",
    "RTH_daily_returns_df.mean()"
   ]
  },
  {
   "cell_type": "code",
   "execution_count": 28,
   "id": "80a18635-6927-4ebf-be21-bac003f7f04e",
   "metadata": {},
   "outputs": [
    {
     "data": {
      "text/plain": [
       "daily_returns    0.000131\n",
       "dtype: float64"
      ]
     },
     "execution_count": 28,
     "metadata": {},
     "output_type": "execute_result"
    }
   ],
   "source": [
    "#Summary statistics for AMT stock using .std() and .mean()\n",
    "AMT_daily_returns_df.std()\n",
    "AMT_daily_returns_df.mean()"
   ]
  },
  {
   "cell_type": "code",
   "execution_count": 29,
   "id": "0a6d48da-cbbb-453a-9059-25725226b493",
   "metadata": {},
   "outputs": [
    {
     "data": {
      "text/plain": [
       "daily_returns    0.000391\n",
       "dtype: float64"
      ]
     },
     "execution_count": 29,
     "metadata": {},
     "output_type": "execute_result"
    }
   ],
   "source": [
    "#Summary statistics for IYR stock using .std() and .mean()\n",
    "IYR_daily_returns_df.std()\n",
    "IYR_daily_returns_df.mean()"
   ]
  },
  {
   "cell_type": "code",
   "execution_count": 30,
   "id": "60b68c0d-17fb-45b8-8b7b-10c7edb435e8",
   "metadata": {},
   "outputs": [
    {
     "data": {
      "text/plain": [
       "daily_returns    0.001127\n",
       "dtype: float64"
      ]
     },
     "execution_count": 30,
     "metadata": {},
     "output_type": "execute_result"
    }
   ],
   "source": [
    "#Summary statistics for XOM stock using .std() and .mean()\n",
    "XOM_daily_returns_df.std()\n",
    "XOM_daily_returns_df.mean()"
   ]
  },
  {
   "cell_type": "code",
   "execution_count": 31,
   "id": "93ce569f-0ac9-4d0c-b2c9-95c9ac18e1f7",
   "metadata": {},
   "outputs": [
    {
     "data": {
      "text/plain": [
       "daily_returns    0.001281\n",
       "dtype: float64"
      ]
     },
     "execution_count": 31,
     "metadata": {},
     "output_type": "execute_result"
    }
   ],
   "source": [
    "#Summary statistics for XLE stock using .std() and .mean()\n",
    "XLE_daily_returns_df.std()\n",
    "XLE_daily_returns_df.mean()"
   ]
  },
  {
   "cell_type": "code",
   "execution_count": 32,
   "id": "90f2823e-f0d8-4e66-b5d2-d0f2ca4f16c9",
   "metadata": {},
   "outputs": [
    {
     "data": {
      "text/html": [
       "<div>\n",
       "<style scoped>\n",
       "    .dataframe tbody tr th:only-of-type {\n",
       "        vertical-align: middle;\n",
       "    }\n",
       "\n",
       "    .dataframe tbody tr th {\n",
       "        vertical-align: top;\n",
       "    }\n",
       "\n",
       "    .dataframe thead th {\n",
       "        text-align: right;\n",
       "    }\n",
       "</style>\n",
       "<table border=\"1\" class=\"dataframe\">\n",
       "  <thead>\n",
       "    <tr style=\"text-align: right;\">\n",
       "      <th></th>\n",
       "      <th>daily_returns</th>\n",
       "    </tr>\n",
       "  </thead>\n",
       "  <tbody>\n",
       "    <tr>\n",
       "      <th>count</th>\n",
       "      <td>3528.000000</td>\n",
       "    </tr>\n",
       "    <tr>\n",
       "      <th>mean</th>\n",
       "      <td>0.000813</td>\n",
       "    </tr>\n",
       "    <tr>\n",
       "      <th>std</th>\n",
       "      <td>0.022020</td>\n",
       "    </tr>\n",
       "    <tr>\n",
       "      <th>min</th>\n",
       "      <td>-0.201412</td>\n",
       "    </tr>\n",
       "    <tr>\n",
       "      <th>25%</th>\n",
       "      <td>-0.008630</td>\n",
       "    </tr>\n",
       "    <tr>\n",
       "      <th>50%</th>\n",
       "      <td>0.000916</td>\n",
       "    </tr>\n",
       "    <tr>\n",
       "      <th>75%</th>\n",
       "      <td>0.010146</td>\n",
       "    </tr>\n",
       "    <tr>\n",
       "      <th>max</th>\n",
       "      <td>0.160373</td>\n",
       "    </tr>\n",
       "  </tbody>\n",
       "</table>\n",
       "</div>"
      ],
      "text/plain": [
       "       daily_returns\n",
       "count    3528.000000\n",
       "mean        0.000813\n",
       "std         0.022020\n",
       "min        -0.201412\n",
       "25%        -0.008630\n",
       "50%         0.000916\n",
       "75%         0.010146\n",
       "max         0.160373"
      ]
     },
     "execution_count": 32,
     "metadata": {},
     "output_type": "execute_result"
    }
   ],
   "source": [
    "pandemic_prices_df.describe()"
   ]
  },
  {
   "cell_type": "code",
   "execution_count": 33,
   "id": "a47fc738-e516-4502-abab-4629cec0e12d",
   "metadata": {},
   "outputs": [
    {
     "data": {
      "text/html": [
       "<div>\n",
       "<style scoped>\n",
       "    .dataframe tbody tr th:only-of-type {\n",
       "        vertical-align: middle;\n",
       "    }\n",
       "\n",
       "    .dataframe tbody tr th {\n",
       "        vertical-align: top;\n",
       "    }\n",
       "\n",
       "    .dataframe thead th {\n",
       "        text-align: right;\n",
       "    }\n",
       "</style>\n",
       "<table border=\"1\" class=\"dataframe\">\n",
       "  <thead>\n",
       "    <tr style=\"text-align: right;\">\n",
       "      <th></th>\n",
       "      <th>daily_returns</th>\n",
       "    </tr>\n",
       "  </thead>\n",
       "  <tbody>\n",
       "    <tr>\n",
       "      <th>count</th>\n",
       "      <td>504.000000</td>\n",
       "    </tr>\n",
       "    <tr>\n",
       "      <th>mean</th>\n",
       "      <td>0.001097</td>\n",
       "    </tr>\n",
       "    <tr>\n",
       "      <th>std</th>\n",
       "      <td>0.021559</td>\n",
       "    </tr>\n",
       "    <tr>\n",
       "      <th>min</th>\n",
       "      <td>-0.079221</td>\n",
       "    </tr>\n",
       "    <tr>\n",
       "      <th>25%</th>\n",
       "      <td>-0.010765</td>\n",
       "    </tr>\n",
       "    <tr>\n",
       "      <th>50%</th>\n",
       "      <td>0.001172</td>\n",
       "    </tr>\n",
       "    <tr>\n",
       "      <th>75%</th>\n",
       "      <td>0.011710</td>\n",
       "    </tr>\n",
       "    <tr>\n",
       "      <th>max</th>\n",
       "      <td>0.135359</td>\n",
       "    </tr>\n",
       "  </tbody>\n",
       "</table>\n",
       "</div>"
      ],
      "text/plain": [
       "       daily_returns\n",
       "count     504.000000\n",
       "mean        0.001097\n",
       "std         0.021559\n",
       "min        -0.079221\n",
       "25%        -0.010765\n",
       "50%         0.001172\n",
       "75%         0.011710\n",
       "max         0.135359"
      ]
     },
     "execution_count": 33,
     "metadata": {},
     "output_type": "execute_result"
    }
   ],
   "source": [
    "#Summary statistics for AMZN using .describe()\n",
    "AMZN_daily_returns_df.describe()"
   ]
  },
  {
   "cell_type": "code",
   "execution_count": 34,
   "id": "c6df94d2-4744-4ee7-b582-c820961204a7",
   "metadata": {},
   "outputs": [
    {
     "data": {
      "text/html": [
       "<div>\n",
       "<style scoped>\n",
       "    .dataframe tbody tr th:only-of-type {\n",
       "        vertical-align: middle;\n",
       "    }\n",
       "\n",
       "    .dataframe tbody tr th {\n",
       "        vertical-align: top;\n",
       "    }\n",
       "\n",
       "    .dataframe thead th {\n",
       "        text-align: right;\n",
       "    }\n",
       "</style>\n",
       "<table border=\"1\" class=\"dataframe\">\n",
       "  <thead>\n",
       "    <tr style=\"text-align: right;\">\n",
       "      <th></th>\n",
       "      <th>daily_returns</th>\n",
       "    </tr>\n",
       "  </thead>\n",
       "  <tbody>\n",
       "    <tr>\n",
       "      <th>count</th>\n",
       "      <td>504.000000</td>\n",
       "    </tr>\n",
       "    <tr>\n",
       "      <th>mean</th>\n",
       "      <td>0.000884</td>\n",
       "    </tr>\n",
       "    <tr>\n",
       "      <th>std</th>\n",
       "      <td>0.014332</td>\n",
       "    </tr>\n",
       "    <tr>\n",
       "      <th>min</th>\n",
       "      <td>-0.103722</td>\n",
       "    </tr>\n",
       "    <tr>\n",
       "      <th>25%</th>\n",
       "      <td>-0.004818</td>\n",
       "    </tr>\n",
       "    <tr>\n",
       "      <th>50%</th>\n",
       "      <td>0.001504</td>\n",
       "    </tr>\n",
       "    <tr>\n",
       "      <th>75%</th>\n",
       "      <td>0.007989</td>\n",
       "    </tr>\n",
       "    <tr>\n",
       "      <th>max</th>\n",
       "      <td>0.072946</td>\n",
       "    </tr>\n",
       "  </tbody>\n",
       "</table>\n",
       "</div>"
      ],
      "text/plain": [
       "       daily_returns\n",
       "count     504.000000\n",
       "mean        0.000884\n",
       "std         0.014332\n",
       "min        -0.103722\n",
       "25%        -0.004818\n",
       "50%         0.001504\n",
       "75%         0.007989\n",
       "max         0.072946"
      ]
     },
     "execution_count": 34,
     "metadata": {},
     "output_type": "execute_result"
    }
   ],
   "source": [
    "#Summary statistics for RTH using .describe()\n",
    "RTH_daily_returns_df.describe()"
   ]
  },
  {
   "cell_type": "code",
   "execution_count": 35,
   "id": "b6ef11bb-db63-45dc-8904-98b78c5c6ae0",
   "metadata": {},
   "outputs": [
    {
     "data": {
      "text/html": [
       "<div>\n",
       "<style scoped>\n",
       "    .dataframe tbody tr th:only-of-type {\n",
       "        vertical-align: middle;\n",
       "    }\n",
       "\n",
       "    .dataframe tbody tr th {\n",
       "        vertical-align: top;\n",
       "    }\n",
       "\n",
       "    .dataframe thead th {\n",
       "        text-align: right;\n",
       "    }\n",
       "</style>\n",
       "<table border=\"1\" class=\"dataframe\">\n",
       "  <thead>\n",
       "    <tr style=\"text-align: right;\">\n",
       "      <th></th>\n",
       "      <th>daily_returns</th>\n",
       "    </tr>\n",
       "  </thead>\n",
       "  <tbody>\n",
       "    <tr>\n",
       "      <th>count</th>\n",
       "      <td>504.000000</td>\n",
       "    </tr>\n",
       "    <tr>\n",
       "      <th>mean</th>\n",
       "      <td>0.000131</td>\n",
       "    </tr>\n",
       "    <tr>\n",
       "      <th>std</th>\n",
       "      <td>0.021656</td>\n",
       "    </tr>\n",
       "    <tr>\n",
       "      <th>min</th>\n",
       "      <td>-0.151638</td>\n",
       "    </tr>\n",
       "    <tr>\n",
       "      <th>25%</th>\n",
       "      <td>-0.009146</td>\n",
       "    </tr>\n",
       "    <tr>\n",
       "      <th>50%</th>\n",
       "      <td>-0.000023</td>\n",
       "    </tr>\n",
       "    <tr>\n",
       "      <th>75%</th>\n",
       "      <td>0.009113</td>\n",
       "    </tr>\n",
       "    <tr>\n",
       "      <th>max</th>\n",
       "      <td>0.122219</td>\n",
       "    </tr>\n",
       "  </tbody>\n",
       "</table>\n",
       "</div>"
      ],
      "text/plain": [
       "       daily_returns\n",
       "count     504.000000\n",
       "mean        0.000131\n",
       "std         0.021656\n",
       "min        -0.151638\n",
       "25%        -0.009146\n",
       "50%        -0.000023\n",
       "75%         0.009113\n",
       "max         0.122219"
      ]
     },
     "execution_count": 35,
     "metadata": {},
     "output_type": "execute_result"
    }
   ],
   "source": [
    "#Summary statistics for AMT using .describe()\n",
    "AMT_daily_returns_df.describe()"
   ]
  },
  {
   "cell_type": "code",
   "execution_count": 36,
   "id": "7c4aa0f8-a623-4855-aad0-18dee5615781",
   "metadata": {},
   "outputs": [
    {
     "data": {
      "text/html": [
       "<div>\n",
       "<style scoped>\n",
       "    .dataframe tbody tr th:only-of-type {\n",
       "        vertical-align: middle;\n",
       "    }\n",
       "\n",
       "    .dataframe tbody tr th {\n",
       "        vertical-align: top;\n",
       "    }\n",
       "\n",
       "    .dataframe thead th {\n",
       "        text-align: right;\n",
       "    }\n",
       "</style>\n",
       "<table border=\"1\" class=\"dataframe\">\n",
       "  <thead>\n",
       "    <tr style=\"text-align: right;\">\n",
       "      <th></th>\n",
       "      <th>daily_returns</th>\n",
       "    </tr>\n",
       "  </thead>\n",
       "  <tbody>\n",
       "    <tr>\n",
       "      <th>count</th>\n",
       "      <td>504.000000</td>\n",
       "    </tr>\n",
       "    <tr>\n",
       "      <th>mean</th>\n",
       "      <td>0.000391</td>\n",
       "    </tr>\n",
       "    <tr>\n",
       "      <th>std</th>\n",
       "      <td>0.019258</td>\n",
       "    </tr>\n",
       "    <tr>\n",
       "      <th>min</th>\n",
       "      <td>-0.168700</td>\n",
       "    </tr>\n",
       "    <tr>\n",
       "      <th>25%</th>\n",
       "      <td>-0.007200</td>\n",
       "    </tr>\n",
       "    <tr>\n",
       "      <th>50%</th>\n",
       "      <td>0.000915</td>\n",
       "    </tr>\n",
       "    <tr>\n",
       "      <th>75%</th>\n",
       "      <td>0.008129</td>\n",
       "    </tr>\n",
       "    <tr>\n",
       "      <th>max</th>\n",
       "      <td>0.085328</td>\n",
       "    </tr>\n",
       "  </tbody>\n",
       "</table>\n",
       "</div>"
      ],
      "text/plain": [
       "       daily_returns\n",
       "count     504.000000\n",
       "mean        0.000391\n",
       "std         0.019258\n",
       "min        -0.168700\n",
       "25%        -0.007200\n",
       "50%         0.000915\n",
       "75%         0.008129\n",
       "max         0.085328"
      ]
     },
     "execution_count": 36,
     "metadata": {},
     "output_type": "execute_result"
    }
   ],
   "source": [
    "#Summary statistics for IYR using .describe()\n",
    "IYR_daily_returns_df.describe()"
   ]
  },
  {
   "cell_type": "code",
   "execution_count": 37,
   "id": "f2a60a2b-a269-4563-b637-f2d825f99ef5",
   "metadata": {},
   "outputs": [
    {
     "data": {
      "text/html": [
       "<div>\n",
       "<style scoped>\n",
       "    .dataframe tbody tr th:only-of-type {\n",
       "        vertical-align: middle;\n",
       "    }\n",
       "\n",
       "    .dataframe tbody tr th {\n",
       "        vertical-align: top;\n",
       "    }\n",
       "\n",
       "    .dataframe thead th {\n",
       "        text-align: right;\n",
       "    }\n",
       "</style>\n",
       "<table border=\"1\" class=\"dataframe\">\n",
       "  <thead>\n",
       "    <tr style=\"text-align: right;\">\n",
       "      <th></th>\n",
       "      <th>daily_returns</th>\n",
       "    </tr>\n",
       "  </thead>\n",
       "  <tbody>\n",
       "    <tr>\n",
       "      <th>count</th>\n",
       "      <td>504.000000</td>\n",
       "    </tr>\n",
       "    <tr>\n",
       "      <th>mean</th>\n",
       "      <td>0.001127</td>\n",
       "    </tr>\n",
       "    <tr>\n",
       "      <th>std</th>\n",
       "      <td>0.026977</td>\n",
       "    </tr>\n",
       "    <tr>\n",
       "      <th>min</th>\n",
       "      <td>-0.122248</td>\n",
       "    </tr>\n",
       "    <tr>\n",
       "      <th>25%</th>\n",
       "      <td>-0.013158</td>\n",
       "    </tr>\n",
       "    <tr>\n",
       "      <th>50%</th>\n",
       "      <td>-0.000045</td>\n",
       "    </tr>\n",
       "    <tr>\n",
       "      <th>75%</th>\n",
       "      <td>0.014287</td>\n",
       "    </tr>\n",
       "    <tr>\n",
       "      <th>max</th>\n",
       "      <td>0.126868</td>\n",
       "    </tr>\n",
       "  </tbody>\n",
       "</table>\n",
       "</div>"
      ],
      "text/plain": [
       "       daily_returns\n",
       "count     504.000000\n",
       "mean        0.001127\n",
       "std         0.026977\n",
       "min        -0.122248\n",
       "25%        -0.013158\n",
       "50%        -0.000045\n",
       "75%         0.014287\n",
       "max         0.126868"
      ]
     },
     "execution_count": 37,
     "metadata": {},
     "output_type": "execute_result"
    }
   ],
   "source": [
    "#Summary statistics for XOM using .describe()\n",
    "XOM_daily_returns_df.describe()"
   ]
  },
  {
   "cell_type": "code",
   "execution_count": 38,
   "id": "45f67940-9e53-4ffc-9a8a-c6b59e920775",
   "metadata": {},
   "outputs": [
    {
     "data": {
      "text/html": [
       "<div>\n",
       "<style scoped>\n",
       "    .dataframe tbody tr th:only-of-type {\n",
       "        vertical-align: middle;\n",
       "    }\n",
       "\n",
       "    .dataframe tbody tr th {\n",
       "        vertical-align: top;\n",
       "    }\n",
       "\n",
       "    .dataframe thead th {\n",
       "        text-align: right;\n",
       "    }\n",
       "</style>\n",
       "<table border=\"1\" class=\"dataframe\">\n",
       "  <thead>\n",
       "    <tr style=\"text-align: right;\">\n",
       "      <th></th>\n",
       "      <th>daily_returns</th>\n",
       "    </tr>\n",
       "  </thead>\n",
       "  <tbody>\n",
       "    <tr>\n",
       "      <th>count</th>\n",
       "      <td>504.000000</td>\n",
       "    </tr>\n",
       "    <tr>\n",
       "      <th>mean</th>\n",
       "      <td>0.001281</td>\n",
       "    </tr>\n",
       "    <tr>\n",
       "      <th>std</th>\n",
       "      <td>0.030101</td>\n",
       "    </tr>\n",
       "    <tr>\n",
       "      <th>min</th>\n",
       "      <td>-0.201412</td>\n",
       "    </tr>\n",
       "    <tr>\n",
       "      <th>25%</th>\n",
       "      <td>-0.012374</td>\n",
       "    </tr>\n",
       "    <tr>\n",
       "      <th>50%</th>\n",
       "      <td>0.000789</td>\n",
       "    </tr>\n",
       "    <tr>\n",
       "      <th>75%</th>\n",
       "      <td>0.015856</td>\n",
       "    </tr>\n",
       "    <tr>\n",
       "      <th>max</th>\n",
       "      <td>0.160373</td>\n",
       "    </tr>\n",
       "  </tbody>\n",
       "</table>\n",
       "</div>"
      ],
      "text/plain": [
       "       daily_returns\n",
       "count     504.000000\n",
       "mean        0.001281\n",
       "std         0.030101\n",
       "min        -0.201412\n",
       "25%        -0.012374\n",
       "50%         0.000789\n",
       "75%         0.015856\n",
       "max         0.160373"
      ]
     },
     "execution_count": 38,
     "metadata": {},
     "output_type": "execute_result"
    }
   ],
   "source": [
    "#Summary statistics for XLE using .describe()\n",
    "XLE_daily_returns_df.describe()"
   ]
  },
  {
   "cell_type": "code",
   "execution_count": 39,
   "id": "aab7c8d8-e0ab-472f-a062-f43551600a95",
   "metadata": {},
   "outputs": [
    {
     "data": {
      "text/plain": [
       "daily_returns    0.000465\n",
       "dtype: float64"
      ]
     },
     "execution_count": 39,
     "metadata": {},
     "output_type": "execute_result"
    }
   ],
   "source": [
    "# Variance Of Amzn\n",
    "AMZN_var=AMZN_daily_returns_df.var()\n",
    "AMZN_var"
   ]
  },
  {
   "cell_type": "code",
   "execution_count": 40,
   "id": "49a7106a-df9b-4a38-a6c7-cae41ac5f38c",
   "metadata": {},
   "outputs": [
    {
     "data": {
      "text/plain": [
       "daily_returns    0.000205\n",
       "dtype: float64"
      ]
     },
     "execution_count": 40,
     "metadata": {},
     "output_type": "execute_result"
    }
   ],
   "source": [
    "# Variance For RTH\n",
    "RTH_var=RTH_daily_returns_df.var()\n",
    "RTH_var"
   ]
  },
  {
   "cell_type": "code",
   "execution_count": 41,
   "id": "c167a7bb-6072-48cb-b8ad-7597b58bc0a8",
   "metadata": {},
   "outputs": [
    {
     "data": {
      "text/plain": [
       "daily_returns    0.000371\n",
       "dtype: float64"
      ]
     },
     "execution_count": 41,
     "metadata": {},
     "output_type": "execute_result"
    }
   ],
   "source": [
    "# Variance Of IYR\n",
    "IYR_var=IYR_daily_returns_df.var()\n",
    "IYR_var"
   ]
  },
  {
   "cell_type": "code",
   "execution_count": 42,
   "id": "fd8ca882-08cb-48cb-88b8-ce31a1cd519b",
   "metadata": {},
   "outputs": [
    {
     "data": {
      "text/plain": [
       "daily_returns    0.000469\n",
       "dtype: float64"
      ]
     },
     "execution_count": 42,
     "metadata": {},
     "output_type": "execute_result"
    }
   ],
   "source": [
    "# Variance Of AMT\n",
    "AMT_var=AMT_daily_returns_df.var()\n",
    "AMT_var"
   ]
  },
  {
   "cell_type": "code",
   "execution_count": 43,
   "id": "a324ba09-e369-486a-9014-9e6b4f051d22",
   "metadata": {},
   "outputs": [
    {
     "data": {
      "text/plain": [
       "daily_returns    0.000728\n",
       "dtype: float64"
      ]
     },
     "execution_count": 43,
     "metadata": {},
     "output_type": "execute_result"
    }
   ],
   "source": [
    "# Variance Of XOM\n",
    "XOM_var=XOM_daily_returns_df.var()\n",
    "XOM_var"
   ]
  },
  {
   "cell_type": "code",
   "execution_count": 44,
   "id": "bb70e7af-f176-4366-bfc7-347bca816a08",
   "metadata": {},
   "outputs": [
    {
     "data": {
      "text/plain": [
       "daily_returns    0.000906\n",
       "dtype: float64"
      ]
     },
     "execution_count": 44,
     "metadata": {},
     "output_type": "execute_result"
    }
   ],
   "source": [
    "# Variance Of XLE\n",
    "XLE_var=XLE_daily_returns_df.var()\n",
    "XLE_var"
   ]
  },
  {
   "cell_type": "code",
   "execution_count": 45,
   "id": "dd01668f-ecde-46a6-8188-d600ca5dabcb",
   "metadata": {},
   "outputs": [
    {
     "data": {
      "text/plain": [
       "0.00020195705481941884"
      ]
     },
     "execution_count": 45,
     "metadata": {},
     "output_type": "execute_result"
    }
   ],
   "source": [
    "# Covariance for Each Stock and ETF\n",
    "AMZN_Cov=AMZN_daily_returns_df.reset_index(level = 1, drop= True)['daily_returns'].cov(SPY_daily_returns_df.reset_index(level = 1, drop= True)['daily_returns'])\n",
    "AMZN_Cov"
   ]
  },
  {
   "cell_type": "code",
   "execution_count": 46,
   "id": "d21ed2cd-ae10-477a-9cb7-89fd8338e261",
   "metadata": {},
   "outputs": [
    {
     "data": {
      "text/plain": [
       "0.00020693644628238053"
      ]
     },
     "execution_count": 46,
     "metadata": {},
     "output_type": "execute_result"
    }
   ],
   "source": [
    "RTH_Cov=RTH_daily_returns_df.reset_index(level = 1, drop= True)['daily_returns'].cov(SPY_daily_returns_df.reset_index(level = 1, drop= True)['daily_returns'])\n",
    "RTH_Cov"
   ]
  },
  {
   "cell_type": "code",
   "execution_count": 47,
   "id": "5c7aa024-9b16-4cc2-b5ae-27bc6a90e1ef",
   "metadata": {},
   "outputs": [
    {
     "data": {
      "text/plain": [
       "0.0002448729063446677"
      ]
     },
     "execution_count": 47,
     "metadata": {},
     "output_type": "execute_result"
    }
   ],
   "source": [
    "# Covariance for Each Stock and ETF\n",
    "AMT_Cov=AMT_daily_returns_df.reset_index(level = 1, drop= True)['daily_returns'].cov(SPY_daily_returns_df.reset_index(level = 1, drop= True)['daily_returns'])\n",
    "AMT_Cov"
   ]
  },
  {
   "cell_type": "code",
   "execution_count": 48,
   "id": "c53a7703-a351-4a24-bb2e-1233dc1b553b",
   "metadata": {},
   "outputs": [
    {
     "data": {
      "text/plain": [
       "0.0002640480626083232"
      ]
     },
     "execution_count": 48,
     "metadata": {},
     "output_type": "execute_result"
    }
   ],
   "source": [
    "IYR_Cov=IYR_daily_returns_df.reset_index(level = 1, drop= True)['daily_returns'].cov(SPY_daily_returns_df.reset_index(level = 1, drop= True)['daily_returns'])\n",
    "IYR_Cov"
   ]
  },
  {
   "cell_type": "code",
   "execution_count": 49,
   "id": "e91c6d15-5aa1-41fc-a6e7-d086cd9868f4",
   "metadata": {},
   "outputs": [
    {
     "data": {
      "text/plain": [
       "0.0002693593653154059"
      ]
     },
     "execution_count": 49,
     "metadata": {},
     "output_type": "execute_result"
    }
   ],
   "source": [
    "XOM_Cov=XOM_daily_returns_df.reset_index(level = 1, drop= True)['daily_returns'].cov(SPY_daily_returns_df.reset_index(level = 1, drop= True)['daily_returns'])\n",
    "XOM_Cov"
   ]
  },
  {
   "cell_type": "code",
   "execution_count": 50,
   "id": "e45d1793-5241-417b-b902-3537eacd5ab2",
   "metadata": {},
   "outputs": [
    {
     "data": {
      "text/plain": [
       "0.00032882729778066575"
      ]
     },
     "execution_count": 50,
     "metadata": {},
     "output_type": "execute_result"
    }
   ],
   "source": [
    "XLE_Cov=XLE_daily_returns_df.reset_index(level = 1, drop= True)['daily_returns'].cov(SPY_daily_returns_df.reset_index(level = 1, drop= True)['daily_returns'])\n",
    "XLE_Cov"
   ]
  },
  {
   "cell_type": "code",
   "execution_count": 51,
   "id": "48eea197-5f92-4d21-9004-44e9dca5c0bd",
   "metadata": {},
   "outputs": [],
   "source": [
    "year_trading_days = 252"
   ]
  },
  {
   "cell_type": "code",
   "execution_count": 52,
   "id": "b6dbc1b9-d70d-4692-bbeb-3c56d6305ea8",
   "metadata": {},
   "outputs": [
    {
     "data": {
      "text/plain": [
       "daily_returns    0.222666\n",
       "dtype: float64"
      ]
     },
     "execution_count": 52,
     "metadata": {},
     "output_type": "execute_result"
    }
   ],
   "source": [
    "# Annualized returns of RTH\n",
    "RTH_Annual_Ret = RTH_daily_returns_df.mean()*252\n",
    "RTH_Annual_Ret"
   ]
  },
  {
   "cell_type": "code",
   "execution_count": 53,
   "id": "fbacf7e2-0a31-4622-b873-cf066523dbc0",
   "metadata": {},
   "outputs": [
    {
     "data": {
      "text/plain": [
       "daily_returns    0.0986\n",
       "dtype: float64"
      ]
     },
     "execution_count": 53,
     "metadata": {},
     "output_type": "execute_result"
    }
   ],
   "source": [
    "# Annualized returns of IYR\n",
    "IYR_Annual_Ret = IYR_daily_returns_df.mean()*252\n",
    "IYR_Annual_Ret"
   ]
  },
  {
   "cell_type": "code",
   "execution_count": 54,
   "id": "f5d7b699-0382-4a13-9753-83c969fa1ecd",
   "metadata": {},
   "outputs": [
    {
     "data": {
      "text/plain": [
       "daily_returns    0.32279\n",
       "dtype: float64"
      ]
     },
     "execution_count": 54,
     "metadata": {},
     "output_type": "execute_result"
    }
   ],
   "source": [
    "# Annualized returns of XLE\n",
    "XLE_Annual_Ret = XLE_daily_returns_df.mean()*252\n",
    "XLE_Annual_Ret"
   ]
  },
  {
   "cell_type": "code",
   "execution_count": 55,
   "id": "ef9a8667-33a0-4139-9db9-21a9473fcde6",
   "metadata": {},
   "outputs": [
    {
     "data": {
      "text/plain": [
       "daily_returns    0.227511\n",
       "dtype: float64"
      ]
     },
     "execution_count": 55,
     "metadata": {},
     "output_type": "execute_result"
    }
   ],
   "source": [
    "# Annualized std dev of RTH\n",
    "annual_std_dev_RTH = RTH_daily_returns_df.std() * np.sqrt(year_trading_days)\n",
    "annual_std_dev_RTH"
   ]
  },
  {
   "cell_type": "code",
   "execution_count": 56,
   "id": "9528d47b-c694-4b9f-9165-f8667c2c4fad",
   "metadata": {},
   "outputs": [
    {
     "data": {
      "text/plain": [
       "daily_returns    0.305708\n",
       "dtype: float64"
      ]
     },
     "execution_count": 56,
     "metadata": {},
     "output_type": "execute_result"
    }
   ],
   "source": [
    "# Annualized std dev of IYR\n",
    "annual_std_dev_IYR = IYR_daily_returns_df.std() * np.sqrt(year_trading_days)\n",
    "annual_std_dev_IYR"
   ]
  },
  {
   "cell_type": "code",
   "execution_count": 57,
   "id": "bd5de4b1-8be0-4ffa-a62e-08f742d31af0",
   "metadata": {},
   "outputs": [
    {
     "data": {
      "text/plain": [
       "daily_returns    0.477834\n",
       "dtype: float64"
      ]
     },
     "execution_count": 57,
     "metadata": {},
     "output_type": "execute_result"
    }
   ],
   "source": [
    "# Annualized std dev of XLE\n",
    "annual_std_dev_XLE = XLE_daily_returns_df.std() * np.sqrt(year_trading_days)\n",
    "annual_std_dev_XLE"
   ]
  },
  {
   "cell_type": "code",
   "execution_count": 58,
   "id": "4e7d167c-cfbf-4e62-8d18-fc939d6c6939",
   "metadata": {},
   "outputs": [
    {
     "data": {
      "text/html": [
       "<table border=\"1\" class=\"dataframe\">\n",
       "  <thead>\n",
       "    <tr style=\"text-align: right;\"><th>Start date</th><td colspan=2>2020-03-03</td></tr>\n",
       "    <tr style=\"text-align: right;\"><th>End date</th><td colspan=2>2022-03-01</td></tr>\n",
       "    <tr style=\"text-align: right;\"><th>Total months</th><td colspan=2>24</td></tr>\n",
       "    <tr style=\"text-align: right;\">\n",
       "      <th></th>\n",
       "      <th>Backtest</th>\n",
       "    </tr>\n",
       "  </thead>\n",
       "  <tbody>\n",
       "    <tr>\n",
       "      <th>Annual return</th>\n",
       "      <td>24.4%</td>\n",
       "    </tr>\n",
       "    <tr>\n",
       "      <th>Cumulative returns</th>\n",
       "      <td>54.7%</td>\n",
       "    </tr>\n",
       "    <tr>\n",
       "      <th>Annual volatility</th>\n",
       "      <td>34.2%</td>\n",
       "    </tr>\n",
       "    <tr>\n",
       "      <th>Sharpe ratio</th>\n",
       "      <td>0.81</td>\n",
       "    </tr>\n",
       "    <tr>\n",
       "      <th>Calmar ratio</th>\n",
       "      <td>0.95</td>\n",
       "    </tr>\n",
       "    <tr>\n",
       "      <th>Stability</th>\n",
       "      <td>0.45</td>\n",
       "    </tr>\n",
       "    <tr>\n",
       "      <th>Max drawdown</th>\n",
       "      <td>-25.6%</td>\n",
       "    </tr>\n",
       "    <tr>\n",
       "      <th>Omega ratio</th>\n",
       "      <td>1.15</td>\n",
       "    </tr>\n",
       "    <tr>\n",
       "      <th>Sortino ratio</th>\n",
       "      <td>1.22</td>\n",
       "    </tr>\n",
       "    <tr>\n",
       "      <th>Skew</th>\n",
       "      <td>0.39</td>\n",
       "    </tr>\n",
       "    <tr>\n",
       "      <th>Kurtosis</th>\n",
       "      <td>4.29</td>\n",
       "    </tr>\n",
       "    <tr>\n",
       "      <th>Tail ratio</th>\n",
       "      <td>1.22</td>\n",
       "    </tr>\n",
       "    <tr>\n",
       "      <th>Daily value at risk</th>\n",
       "      <td>-4.2%</td>\n",
       "    </tr>\n",
       "  </tbody>\n",
       "</table>"
      ],
      "text/plain": [
       "<IPython.core.display.HTML object>"
      ]
     },
     "metadata": {},
     "output_type": "display_data"
    },
    {
     "ename": "AttributeError",
     "evalue": "'numpy.int64' object has no attribute 'to_pydatetime'",
     "output_type": "error",
     "traceback": [
      "\u001b[0;31m---------------------------------------------------------------------------\u001b[0m",
      "\u001b[0;31mAttributeError\u001b[0m                            Traceback (most recent call last)",
      "\u001b[0;32m/var/folders/0k/6khhs1fd7xqgsfgj5sgncg_40000gn/T/ipykernel_62728/1166492705.py\u001b[0m in \u001b[0;36m<module>\u001b[0;34m\u001b[0m\n\u001b[1;32m      1\u001b[0m result = pf.create_returns_tear_sheet(AMZN_daily_returns_df.reset_index(level = 1,drop = True).daily_returns,\n\u001b[0;32m----> 2\u001b[0;31m                                            return_fig=True)\n\u001b[0m\u001b[1;32m      3\u001b[0m \u001b[0;31m#result.savefig(\"amzn_prepan_tearsheet.png\", format = \"png\")\u001b[0m\u001b[0;34m\u001b[0m\u001b[0;34m\u001b[0m\u001b[0;34m\u001b[0m\u001b[0m\n",
      "\u001b[0;32m~/opt/anaconda3/envs/dev/lib/python3.7/site-packages/pyfolio/plotting.py\u001b[0m in \u001b[0;36mcall_w_context\u001b[0;34m(*args, **kwargs)\u001b[0m\n\u001b[1;32m     50\u001b[0m         \u001b[0;32mif\u001b[0m \u001b[0mset_context\u001b[0m\u001b[0;34m:\u001b[0m\u001b[0;34m\u001b[0m\u001b[0;34m\u001b[0m\u001b[0m\n\u001b[1;32m     51\u001b[0m             \u001b[0;32mwith\u001b[0m \u001b[0mplotting_context\u001b[0m\u001b[0;34m(\u001b[0m\u001b[0;34m)\u001b[0m\u001b[0;34m,\u001b[0m \u001b[0maxes_style\u001b[0m\u001b[0;34m(\u001b[0m\u001b[0;34m)\u001b[0m\u001b[0;34m:\u001b[0m\u001b[0;34m\u001b[0m\u001b[0;34m\u001b[0m\u001b[0m\n\u001b[0;32m---> 52\u001b[0;31m                 \u001b[0;32mreturn\u001b[0m \u001b[0mfunc\u001b[0m\u001b[0;34m(\u001b[0m\u001b[0;34m*\u001b[0m\u001b[0margs\u001b[0m\u001b[0;34m,\u001b[0m \u001b[0;34m**\u001b[0m\u001b[0mkwargs\u001b[0m\u001b[0;34m)\u001b[0m\u001b[0;34m\u001b[0m\u001b[0;34m\u001b[0m\u001b[0m\n\u001b[0m\u001b[1;32m     53\u001b[0m         \u001b[0;32melse\u001b[0m\u001b[0;34m:\u001b[0m\u001b[0;34m\u001b[0m\u001b[0;34m\u001b[0m\u001b[0m\n\u001b[1;32m     54\u001b[0m             \u001b[0;32mreturn\u001b[0m \u001b[0mfunc\u001b[0m\u001b[0;34m(\u001b[0m\u001b[0;34m*\u001b[0m\u001b[0margs\u001b[0m\u001b[0;34m,\u001b[0m \u001b[0;34m**\u001b[0m\u001b[0mkwargs\u001b[0m\u001b[0;34m)\u001b[0m\u001b[0;34m\u001b[0m\u001b[0;34m\u001b[0m\u001b[0m\n",
      "\u001b[0;32m~/opt/anaconda3/envs/dev/lib/python3.7/site-packages/pyfolio/tears.py\u001b[0m in \u001b[0;36mcreate_returns_tear_sheet\u001b[0;34m(returns, positions, transactions, live_start_date, cone_std, benchmark_rets, bootstrap, turnover_denom, header_rows, return_fig)\u001b[0m\n\u001b[1;32m    502\u001b[0m                              header_rows=header_rows)\n\u001b[1;32m    503\u001b[0m \u001b[0;34m\u001b[0m\u001b[0m\n\u001b[0;32m--> 504\u001b[0;31m     \u001b[0mplotting\u001b[0m\u001b[0;34m.\u001b[0m\u001b[0mshow_worst_drawdown_periods\u001b[0m\u001b[0;34m(\u001b[0m\u001b[0mreturns\u001b[0m\u001b[0;34m)\u001b[0m\u001b[0;34m\u001b[0m\u001b[0;34m\u001b[0m\u001b[0m\n\u001b[0m\u001b[1;32m    505\u001b[0m \u001b[0;34m\u001b[0m\u001b[0m\n\u001b[1;32m    506\u001b[0m     \u001b[0mvertical_sections\u001b[0m \u001b[0;34m=\u001b[0m \u001b[0;36m11\u001b[0m\u001b[0;34m\u001b[0m\u001b[0;34m\u001b[0m\u001b[0m\n",
      "\u001b[0;32m~/opt/anaconda3/envs/dev/lib/python3.7/site-packages/pyfolio/plotting.py\u001b[0m in \u001b[0;36mshow_worst_drawdown_periods\u001b[0;34m(returns, top)\u001b[0m\n\u001b[1;32m   1662\u001b[0m     \"\"\"\n\u001b[1;32m   1663\u001b[0m \u001b[0;34m\u001b[0m\u001b[0m\n\u001b[0;32m-> 1664\u001b[0;31m     \u001b[0mdrawdown_df\u001b[0m \u001b[0;34m=\u001b[0m \u001b[0mtimeseries\u001b[0m\u001b[0;34m.\u001b[0m\u001b[0mgen_drawdown_table\u001b[0m\u001b[0;34m(\u001b[0m\u001b[0mreturns\u001b[0m\u001b[0;34m,\u001b[0m \u001b[0mtop\u001b[0m\u001b[0;34m=\u001b[0m\u001b[0mtop\u001b[0m\u001b[0;34m)\u001b[0m\u001b[0;34m\u001b[0m\u001b[0;34m\u001b[0m\u001b[0m\n\u001b[0m\u001b[1;32m   1665\u001b[0m     utils.print_table(\n\u001b[1;32m   1666\u001b[0m         \u001b[0mdrawdown_df\u001b[0m\u001b[0;34m.\u001b[0m\u001b[0msort_values\u001b[0m\u001b[0;34m(\u001b[0m\u001b[0;34m'Net drawdown in %'\u001b[0m\u001b[0;34m,\u001b[0m \u001b[0mascending\u001b[0m\u001b[0;34m=\u001b[0m\u001b[0;32mFalse\u001b[0m\u001b[0;34m)\u001b[0m\u001b[0;34m,\u001b[0m\u001b[0;34m\u001b[0m\u001b[0;34m\u001b[0m\u001b[0m\n",
      "\u001b[0;32m~/opt/anaconda3/envs/dev/lib/python3.7/site-packages/pyfolio/timeseries.py\u001b[0m in \u001b[0;36mgen_drawdown_table\u001b[0;34m(returns, top)\u001b[0m\n\u001b[1;32m   1006\u001b[0m         df_drawdowns.loc[i, 'Peak date'] = (peak.to_pydatetime()\n\u001b[1;32m   1007\u001b[0m                                             .strftime('%Y-%m-%d'))\n\u001b[0;32m-> 1008\u001b[0;31m         df_drawdowns.loc[i, 'Valley date'] = (valley.to_pydatetime()\n\u001b[0m\u001b[1;32m   1009\u001b[0m                                               .strftime('%Y-%m-%d'))\n\u001b[1;32m   1010\u001b[0m         \u001b[0;32mif\u001b[0m \u001b[0misinstance\u001b[0m\u001b[0;34m(\u001b[0m\u001b[0mrecovery\u001b[0m\u001b[0;34m,\u001b[0m \u001b[0mfloat\u001b[0m\u001b[0;34m)\u001b[0m\u001b[0;34m:\u001b[0m\u001b[0;34m\u001b[0m\u001b[0;34m\u001b[0m\u001b[0m\n",
      "\u001b[0;31mAttributeError\u001b[0m: 'numpy.int64' object has no attribute 'to_pydatetime'"
     ]
    }
   ],
   "source": [
    "result = pf.create_returns_tear_sheet(AMZN_daily_returns_df.reset_index(level = 1,drop = True).daily_returns,\n",
    "                                           return_fig=True)\n",
    "#result.savefig(\"amzn_prepan_tearsheet.png\", format = \"png\")"
   ]
  },
  {
   "cell_type": "code",
   "execution_count": null,
   "id": "83f06fe9-58d8-47eb-90c8-001d29f2d32e",
   "metadata": {},
   "outputs": [],
   "source": [
    "result = pf.create_returns_tear_sheet(RTH_daily_returns_df.reset_index(level = 1,drop = True).daily_returns,\n",
    "                                           return_fig=True)\n",
    "#result.savefig(\"RTH_prepan_tearsheet.png\", format = \"png\")"
   ]
  },
  {
   "cell_type": "code",
   "execution_count": null,
   "id": "453690b4-129f-4671-9dbd-730e93820e36",
   "metadata": {},
   "outputs": [],
   "source": [
    "result = pf.create_returns_tear_sheet(AMT_daily_returns_df.reset_index(level = 1,drop = True).daily_returns,\n",
    "                                           return_fig=True)\n",
    "#result.savefig(\"amt_prepan_tearsheet.png\", format = \"png\")"
   ]
  },
  {
   "cell_type": "code",
   "execution_count": null,
   "id": "8ea54b17-b95d-42bf-8f8b-e7ab4c20fa28",
   "metadata": {},
   "outputs": [],
   "source": [
    "result = pf.create_returns_tear_sheet(IYR_daily_returns_df.reset_index(level = 1,drop = True).daily_returns,\n",
    "                                           return_fig=True)\n",
    "#result.savefig(\"iyr_prepan_tearsheet.png\", format = \"png\")"
   ]
  },
  {
   "cell_type": "code",
   "execution_count": null,
   "id": "18163c61-a0a9-48e7-bf81-757a56f15ab3",
   "metadata": {},
   "outputs": [],
   "source": [
    "result = pf.create_returns_tear_sheet(XOM_daily_returns_df.reset_index(level = 1,drop = True).daily_returns,\n",
    "                                           return_fig=True)\n",
    "#result.savefig(\"xom_prepan_tearsheet.png\", format = \"png\")"
   ]
  },
  {
   "cell_type": "code",
   "execution_count": null,
   "id": "7b50dbb7-6a9d-45dc-8502-c75ab58e2237",
   "metadata": {},
   "outputs": [],
   "source": [
    "result = pf.create_returns_tear_sheet(XLE_daily_returns_df.reset_index(level = 1,drop = True).daily_returns,\n",
    "                                           return_fig=True)\n",
    "#result.savefig(\"xle_prepan_tearsheet.png\", format = \"png\")\n"
   ]
  },
  {
   "cell_type": "code",
   "execution_count": null,
   "id": "e9b38d9d-2ee8-4442-b2e0-b8359ccb4d6b",
   "metadata": {},
   "outputs": [],
   "source": [
    "result = pf.create_returns_tear_sheet(SPY_daily_returns_df.reset_index(level = 1,drop = True).daily_returns,\n",
    "                                           return_fig=True)\n",
    "#result.savefig(\"spy_prepan_tearsheet.png\", format = \"png\")"
   ]
  }
 ],
 "metadata": {
  "kernelspec": {
   "display_name": "Python 3",
   "language": "python",
   "name": "python3"
  },
  "language_info": {
   "codemirror_mode": {
    "name": "ipython",
    "version": 3
   },
   "file_extension": ".py",
   "mimetype": "text/x-python",
   "name": "python",
   "nbconvert_exporter": "python",
   "pygments_lexer": "ipython3",
   "version": "3.8.8"
  },
  "vscode": {
   "interpreter": {
    "hash": "3ad933181bd8a04b432d3370b9dc3b0662ad032c4dfaa4e4f1596c548f763858"
   }
  }
 },
 "nbformat": 4,
 "nbformat_minor": 5
}
