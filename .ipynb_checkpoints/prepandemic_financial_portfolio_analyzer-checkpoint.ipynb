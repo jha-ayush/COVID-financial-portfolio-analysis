{
 "cells": [
  {
   "cell_type": "markdown",
   "id": "1a47de4a-ec9e-4135-b1fe-e1cb051330cf",
   "metadata": {},
   "source": [
    "# Prepandemic financial analysis"
   ]
  },
  {
   "cell_type": "code",
   "execution_count": 1,
   "id": "2ba78104-2318-4e33-9895-bd32f48434a9",
   "metadata": {},
   "outputs": [
    {
     "name": "stdout",
     "output_type": "stream",
     "text": [
      "Last updated: 2022-11-18T22:16:17.448364-08:00\n",
      "\n",
      "Python implementation: CPython\n",
      "Python version       : 3.7.13\n",
      "IPython version      : 7.31.1\n",
      "\n",
      "Compiler    : Clang 12.0.0 \n",
      "OS          : Darwin\n",
      "Release     : 22.1.0\n",
      "Machine     : x86_64\n",
      "Processor   : i386\n",
      "CPU cores   : 8\n",
      "Architecture: 64bit\n",
      "\n",
      "\n"
     ]
    }
   ],
   "source": [
    "# Import warnings + watermark\n",
    "from watermark import watermark\n",
    "from warnings import filterwarnings\n",
    "filterwarnings(\"ignore\")\n",
    "print(watermark())\n",
    "print(watermark(iversions=True, globals_=globals()))"
   ]
  },
  {
   "cell_type": "code",
   "execution_count": 2,
   "id": "abdf4912-1f85-494c-ae72-53d942d705b5",
   "metadata": {},
   "outputs": [],
   "source": [
    "#pip install polygon-api-client"
   ]
  },
  {
   "cell_type": "code",
   "execution_count": 3,
   "id": "de14f1a4-a915-4231-b31c-e1141fa40cfb",
   "metadata": {},
   "outputs": [],
   "source": [
    "#from polygon import RESTClient"
   ]
  },
  {
   "cell_type": "code",
   "execution_count": 4,
   "id": "8d02b074-93ec-4081-b94d-1253f94aaedf",
   "metadata": {
    "tags": []
   },
   "outputs": [],
   "source": [
    "#import the necessary modules\n",
    "import pandas as pd\n",
    "import numpy as np\n",
    "#questionary\n",
    "from pathlib import Path\n",
    "import fire\n",
    "import questionary\n",
    "#API\n",
    "import os\n",
    "import json\n",
    "import requests\n",
    "from dotenv import load_dotenv\n",
    "%matplotlib inline"
   ]
  },
  {
   "cell_type": "code",
   "execution_count": 5,
   "id": "428574e2-2c55-4b44-a188-84e527dedd02",
   "metadata": {},
   "outputs": [],
   "source": [
    "POLYGON_API_KEY ='enZp2AUpH4pGXJJuQ1CbjdVXJIsBFBEl'"
   ]
  },
  {
   "cell_type": "code",
   "execution_count": 6,
   "id": "617081b8-4453-4ce1-aab1-6f713e3470c9",
   "metadata": {},
   "outputs": [],
   "source": [
    "# Load .env enviroment variables into the notebook\n",
    "#load_dotenv()"
   ]
  },
  {
   "cell_type": "code",
   "execution_count": 7,
   "id": "3660efc3-6176-41fa-9c54-1528cb4670da",
   "metadata": {
    "tags": []
   },
   "outputs": [],
   "source": [
    "# Get the API key from the environment variable and store as Python variable\n",
    "#polygon_api_key = os.getenv(\"POLYGON_API_KEY\")\n",
    "\n",
    "# Using the type funcion, confirm that the Nasdaq API key is available for use in the notebook\n",
    "#type(polygon_api_key)"
   ]
  },
  {
   "cell_type": "code",
   "execution_count": 8,
   "id": "2cdf7244-351f-4a17-9938-49698418d841",
   "metadata": {},
   "outputs": [],
   "source": [
    "ticker_list = [\"AMZN\", \"RTH\", \"AMT\", \"IYR\", \"XOM\", \"XLE\", \"SPY\"]"
   ]
  },
  {
   "cell_type": "code",
   "execution_count": 9,
   "id": "2acc604b-e69e-41fd-babf-b83b33f81f05",
   "metadata": {
    "tags": []
   },
   "outputs": [],
   "source": [
    "import requests\n",
    "import datetime\n",
    "from time import sleep\n",
    "from tqdm import tqdm\n",
    "def get_prices(start_date,end_date,universe):\n",
    "    data = pd.DataFrame()\n",
    "    # end_at = datetime.datetime.now() \n",
    "    # begin_from = end_at + datetime.timedelta(days=-5000)\n",
    "    for t in tqdm(universe):\n",
    "        print(t)\n",
    "        print(len(data))\n",
    "        # for start in pd.date_range(start = begin_from, end = end_at,normalize=True,freq = '88D'):\n",
    "        #     end = start + datetime.timedelta(days = 88)\n",
    "        #     end = str(int((end - datetime.datetime(1970,1,1)).total_seconds()))\n",
    "        #     start = str(int((start - datetime.datetime(1970,1,1)).total_seconds()))\n",
    "        try:\n",
    "            r = requests.get(f'https://api.polygon.io/v2/aggs/ticker/{t}/range/1/day/{start_date}/{end_date}?apiKey={POLYGON_API_KEY}')\n",
    "        except json.JSONDecodeError:\n",
    "            pass\n",
    "        try:\n",
    "            # print(r.json())\n",
    "            temp_data = pd.DataFrame(r.json()['results'])\n",
    "            temp_data['ticker'] = t\n",
    "            data = data.append(temp_data, ignore_index=True)\n",
    "            print(t+':'+str(pd.to_datetime(start_date, unit='s'))+':'+str(pd.to_datetime(end_date, unit='s')))\n",
    "        except KeyError:\n",
    "            print(f'{t} was not found')\n",
    "            pass\n",
    "        except ValueError:\n",
    "            pass\n",
    "        except ConnectionError as error:\n",
    "            print(error)\n",
    "            sleep(200)\n",
    "            continue\n",
    "        except TimeoutError as error:\n",
    "            print(error)\n",
    "            sleep(200)\n",
    "            continue\n",
    "        sleep(0.25)\n",
    "#     data.to_csv(file_name,index = False)\n",
    "    data.t = pd.to_datetime(data.t, unit = 'ms')\n",
    "    columns_name = {'t': 'time', 'o': 'Open', 'c': 'Close', 'h': 'High', 'l': 'Low', 'v': 'Volume'} \n",
    "    data= data.rename(columns = columns_name)\n",
    "    data = data[['time','ticker','Open', 'Close','High', 'Low', 'Volume']]\n",
    "    data = data.set_index(['time', 'ticker'])\n",
    "    data[\"daily_returns\"] = data['Close'].groupby('ticker').pct_change()\n",
    "    data = data.dropna()\n",
    "    #data.to_csv(file_name, index = False)\n",
    "    return data"
   ]
  },
  {
   "cell_type": "code",
   "execution_count": 10,
   "id": "fa1c9d73-21f0-4347-852f-210b9051f49e",
   "metadata": {},
   "outputs": [],
   "source": [
    "#f\"https://api.polygon.io/v2/aggs/ticker/{t}/range/1/day/{start_date}/{end_date}?apiKey=rHtIrGbGhJY6umnXSqp6hYgTM3XnHI2_\""
   ]
  },
  {
   "cell_type": "code",
   "execution_count": 11,
   "id": "416c6c2e-9467-46a9-bcb0-fced2c70cc60",
   "metadata": {
    "tags": []
   },
   "outputs": [
    {
     "name": "stderr",
     "output_type": "stream",
     "text": [
      "  0%|                                                                                            | 0/7 [00:00<?, ?it/s]"
     ]
    },
    {
     "name": "stdout",
     "output_type": "stream",
     "text": [
      "AMZN\n",
      "0\n"
     ]
    },
    {
     "name": "stderr",
     "output_type": "stream",
     "text": [
      " 14%|████████████                                                                        | 1/7 [00:00<00:04,  1.32it/s]"
     ]
    },
    {
     "name": "stdout",
     "output_type": "stream",
     "text": [
      "RTH\n",
      "571\n"
     ]
    },
    {
     "name": "stderr",
     "output_type": "stream",
     "text": [
      " 29%|████████████████████████                                                            | 2/7 [00:01<00:03,  1.40it/s]"
     ]
    },
    {
     "name": "stdout",
     "output_type": "stream",
     "text": [
      "AMT\n",
      "1142\n"
     ]
    },
    {
     "name": "stderr",
     "output_type": "stream",
     "text": [
      " 43%|████████████████████████████████████                                                | 3/7 [00:02<00:02,  1.41it/s]"
     ]
    },
    {
     "name": "stdout",
     "output_type": "stream",
     "text": [
      "IYR\n",
      "1713\n"
     ]
    },
    {
     "name": "stderr",
     "output_type": "stream",
     "text": [
      " 57%|████████████████████████████████████████████████                                    | 4/7 [00:02<00:02,  1.39it/s]"
     ]
    },
    {
     "name": "stdout",
     "output_type": "stream",
     "text": [
      "XOM\n",
      "2284\n"
     ]
    },
    {
     "name": "stderr",
     "output_type": "stream",
     "text": [
      " 71%|████████████████████████████████████████████████████████████                        | 5/7 [00:03<00:01,  1.45it/s]"
     ]
    },
    {
     "name": "stdout",
     "output_type": "stream",
     "text": [
      "XLE\n",
      "2855\n"
     ]
    },
    {
     "name": "stderr",
     "output_type": "stream",
     "text": [
      " 86%|████████████████████████████████████████████████████████████████████████            | 6/7 [00:04<00:00,  1.44it/s]"
     ]
    },
    {
     "name": "stdout",
     "output_type": "stream",
     "text": [
      "SPY\n",
      "3426\n"
     ]
    },
    {
     "name": "stderr",
     "output_type": "stream",
     "text": [
      "100%|████████████████████████████████████████████████████████████████████████████████████| 7/7 [00:04<00:00,  1.40it/s]\n"
     ]
    }
   ],
   "source": [
    "# Create `start_date` and `end_date` variables for the period before the pandemic\n",
    "start_date = \"2017-03-01\"\n",
    "end_date = \"2020-03-01\"\n",
    "all_data = get_prices(start_date=start_date, end_date=end_date, universe=ticker_list)\n",
    "#example\n",
    "#big_mac_usa = \"https://data.nasdaq.com/api/v3/datasets/ECONOMIST/BIGMAC_USA?start_date=\" + start_date + \"&end_date=\" + end_date + \"&api_key=\" + nasdaq_api_key"
   ]
  },
  {
   "cell_type": "code",
   "execution_count": 12,
   "id": "8d262a9f-d0d3-49a3-a818-6928a874aa4c",
   "metadata": {
    "tags": []
   },
   "outputs": [
    {
     "data": {
      "text/plain": [
       "MultiIndex([('2017-11-21 05:00:00', 'AMZN'),\n",
       "            ('2017-11-22 05:00:00', 'AMZN'),\n",
       "            ('2017-11-24 05:00:00', 'AMZN'),\n",
       "            ('2017-11-27 05:00:00', 'AMZN'),\n",
       "            ('2017-11-28 05:00:00', 'AMZN'),\n",
       "            ('2017-11-29 05:00:00', 'AMZN'),\n",
       "            ('2017-11-30 05:00:00', 'AMZN'),\n",
       "            ('2017-12-01 05:00:00', 'AMZN'),\n",
       "            ('2017-12-04 05:00:00', 'AMZN'),\n",
       "            ('2017-12-05 05:00:00', 'AMZN'),\n",
       "            ...\n",
       "            ('2020-02-14 05:00:00',  'SPY'),\n",
       "            ('2020-02-18 05:00:00',  'SPY'),\n",
       "            ('2020-02-19 05:00:00',  'SPY'),\n",
       "            ('2020-02-20 05:00:00',  'SPY'),\n",
       "            ('2020-02-21 05:00:00',  'SPY'),\n",
       "            ('2020-02-24 05:00:00',  'SPY'),\n",
       "            ('2020-02-25 05:00:00',  'SPY'),\n",
       "            ('2020-02-26 05:00:00',  'SPY'),\n",
       "            ('2020-02-27 05:00:00',  'SPY'),\n",
       "            ('2020-02-28 05:00:00',  'SPY')],\n",
       "           names=['time', 'ticker'], length=3990)"
      ]
     },
     "execution_count": 12,
     "metadata": {},
     "output_type": "execute_result"
    }
   ],
   "source": [
    "all_data.index"
   ]
  },
  {
   "cell_type": "code",
   "execution_count": 13,
   "id": "fb3a57e1-da2d-4a2c-8bc9-c8c26462291b",
   "metadata": {},
   "outputs": [],
   "source": [
    "idx = pd.IndexSlice"
   ]
  },
  {
   "cell_type": "code",
   "execution_count": 14,
   "id": "bd9f0acc-2b7f-4ba8-94e1-b16f4b2d8404",
   "metadata": {
    "tags": []
   },
   "outputs": [
    {
     "data": {
      "text/html": [
       "<div>\n",
       "<style scoped>\n",
       "    .dataframe tbody tr th:only-of-type {\n",
       "        vertical-align: middle;\n",
       "    }\n",
       "\n",
       "    .dataframe tbody tr th {\n",
       "        vertical-align: top;\n",
       "    }\n",
       "\n",
       "    .dataframe thead th {\n",
       "        text-align: right;\n",
       "    }\n",
       "</style>\n",
       "<table border=\"1\" class=\"dataframe\">\n",
       "  <thead>\n",
       "    <tr style=\"text-align: right;\">\n",
       "      <th></th>\n",
       "      <th></th>\n",
       "      <th>daily_returns</th>\n",
       "    </tr>\n",
       "    <tr>\n",
       "      <th>time</th>\n",
       "      <th>ticker</th>\n",
       "      <th></th>\n",
       "    </tr>\n",
       "  </thead>\n",
       "  <tbody>\n",
       "    <tr>\n",
       "      <th>2017-11-21 05:00:00</th>\n",
       "      <th>AMZN</th>\n",
       "      <td>0.011702</td>\n",
       "    </tr>\n",
       "    <tr>\n",
       "      <th>2017-11-22 05:00:00</th>\n",
       "      <th>AMZN</th>\n",
       "      <td>0.014629</td>\n",
       "    </tr>\n",
       "    <tr>\n",
       "      <th>2017-11-24 05:00:00</th>\n",
       "      <th>AMZN</th>\n",
       "      <td>0.025810</td>\n",
       "    </tr>\n",
       "    <tr>\n",
       "      <th>2017-11-27 05:00:00</th>\n",
       "      <th>AMZN</th>\n",
       "      <td>0.008288</td>\n",
       "    </tr>\n",
       "    <tr>\n",
       "      <th>2017-11-28 05:00:00</th>\n",
       "      <th>AMZN</th>\n",
       "      <td>-0.001865</td>\n",
       "    </tr>\n",
       "    <tr>\n",
       "      <th>...</th>\n",
       "      <th>...</th>\n",
       "      <td>...</td>\n",
       "    </tr>\n",
       "    <tr>\n",
       "      <th>2020-02-24 05:00:00</th>\n",
       "      <th>AMZN</th>\n",
       "      <td>-0.041356</td>\n",
       "    </tr>\n",
       "    <tr>\n",
       "      <th>2020-02-25 05:00:00</th>\n",
       "      <th>AMZN</th>\n",
       "      <td>-0.018191</td>\n",
       "    </tr>\n",
       "    <tr>\n",
       "      <th>2020-02-26 05:00:00</th>\n",
       "      <th>AMZN</th>\n",
       "      <td>0.003472</td>\n",
       "    </tr>\n",
       "    <tr>\n",
       "      <th>2020-02-27 05:00:00</th>\n",
       "      <th>AMZN</th>\n",
       "      <td>-0.048136</td>\n",
       "    </tr>\n",
       "    <tr>\n",
       "      <th>2020-02-28 05:00:00</th>\n",
       "      <th>AMZN</th>\n",
       "      <td>-0.000292</td>\n",
       "    </tr>\n",
       "  </tbody>\n",
       "</table>\n",
       "<p>570 rows × 1 columns</p>\n",
       "</div>"
      ],
      "text/plain": [
       "                            daily_returns\n",
       "time                ticker               \n",
       "2017-11-21 05:00:00 AMZN         0.011702\n",
       "2017-11-22 05:00:00 AMZN         0.014629\n",
       "2017-11-24 05:00:00 AMZN         0.025810\n",
       "2017-11-27 05:00:00 AMZN         0.008288\n",
       "2017-11-28 05:00:00 AMZN        -0.001865\n",
       "...                                   ...\n",
       "2020-02-24 05:00:00 AMZN        -0.041356\n",
       "2020-02-25 05:00:00 AMZN        -0.018191\n",
       "2020-02-26 05:00:00 AMZN         0.003472\n",
       "2020-02-27 05:00:00 AMZN        -0.048136\n",
       "2020-02-28 05:00:00 AMZN        -0.000292\n",
       "\n",
       "[570 rows x 1 columns]"
      ]
     },
     "execution_count": 14,
     "metadata": {},
     "output_type": "execute_result"
    }
   ],
   "source": [
    "AMZN_daily_returns_df = all_data.loc[idx[:,'AMZN'],['daily_returns']]\n",
    "AMZN_daily_returns_df"
   ]
  },
  {
   "cell_type": "code",
   "execution_count": 15,
   "id": "2f721e12-2574-4d0e-a808-4fe845badbef",
   "metadata": {
    "tags": []
   },
   "outputs": [
    {
     "data": {
      "text/html": [
       "<div>\n",
       "<style scoped>\n",
       "    .dataframe tbody tr th:only-of-type {\n",
       "        vertical-align: middle;\n",
       "    }\n",
       "\n",
       "    .dataframe tbody tr th {\n",
       "        vertical-align: top;\n",
       "    }\n",
       "\n",
       "    .dataframe thead th {\n",
       "        text-align: right;\n",
       "    }\n",
       "</style>\n",
       "<table border=\"1\" class=\"dataframe\">\n",
       "  <thead>\n",
       "    <tr style=\"text-align: right;\">\n",
       "      <th></th>\n",
       "      <th></th>\n",
       "      <th>daily_returns</th>\n",
       "    </tr>\n",
       "    <tr>\n",
       "      <th>time</th>\n",
       "      <th>ticker</th>\n",
       "      <th></th>\n",
       "    </tr>\n",
       "  </thead>\n",
       "  <tbody>\n",
       "    <tr>\n",
       "      <th>2017-11-21 05:00:00</th>\n",
       "      <th>RTH</th>\n",
       "      <td>0.003172</td>\n",
       "    </tr>\n",
       "    <tr>\n",
       "      <th>2017-11-22 05:00:00</th>\n",
       "      <th>RTH</th>\n",
       "      <td>0.004450</td>\n",
       "    </tr>\n",
       "    <tr>\n",
       "      <th>2017-11-24 05:00:00</th>\n",
       "      <th>RTH</th>\n",
       "      <td>0.000000</td>\n",
       "    </tr>\n",
       "    <tr>\n",
       "      <th>2017-11-27 05:00:00</th>\n",
       "      <th>RTH</th>\n",
       "      <td>0.003381</td>\n",
       "    </tr>\n",
       "    <tr>\n",
       "      <th>2017-11-28 05:00:00</th>\n",
       "      <th>RTH</th>\n",
       "      <td>0.016849</td>\n",
       "    </tr>\n",
       "    <tr>\n",
       "      <th>...</th>\n",
       "      <th>...</th>\n",
       "      <td>...</td>\n",
       "    </tr>\n",
       "    <tr>\n",
       "      <th>2020-02-24 05:00:00</th>\n",
       "      <th>RTH</th>\n",
       "      <td>-0.026701</td>\n",
       "    </tr>\n",
       "    <tr>\n",
       "      <th>2020-02-25 05:00:00</th>\n",
       "      <th>RTH</th>\n",
       "      <td>-0.023793</td>\n",
       "    </tr>\n",
       "    <tr>\n",
       "      <th>2020-02-26 05:00:00</th>\n",
       "      <th>RTH</th>\n",
       "      <td>-0.001961</td>\n",
       "    </tr>\n",
       "    <tr>\n",
       "      <th>2020-02-27 05:00:00</th>\n",
       "      <th>RTH</th>\n",
       "      <td>-0.041607</td>\n",
       "    </tr>\n",
       "    <tr>\n",
       "      <th>2020-02-28 05:00:00</th>\n",
       "      <th>RTH</th>\n",
       "      <td>-0.017861</td>\n",
       "    </tr>\n",
       "  </tbody>\n",
       "</table>\n",
       "<p>570 rows × 1 columns</p>\n",
       "</div>"
      ],
      "text/plain": [
       "                            daily_returns\n",
       "time                ticker               \n",
       "2017-11-21 05:00:00 RTH          0.003172\n",
       "2017-11-22 05:00:00 RTH          0.004450\n",
       "2017-11-24 05:00:00 RTH          0.000000\n",
       "2017-11-27 05:00:00 RTH          0.003381\n",
       "2017-11-28 05:00:00 RTH          0.016849\n",
       "...                                   ...\n",
       "2020-02-24 05:00:00 RTH         -0.026701\n",
       "2020-02-25 05:00:00 RTH         -0.023793\n",
       "2020-02-26 05:00:00 RTH         -0.001961\n",
       "2020-02-27 05:00:00 RTH         -0.041607\n",
       "2020-02-28 05:00:00 RTH         -0.017861\n",
       "\n",
       "[570 rows x 1 columns]"
      ]
     },
     "execution_count": 15,
     "metadata": {},
     "output_type": "execute_result"
    }
   ],
   "source": [
    "RTH_daily_returns_df = all_data.loc[idx[:,'RTH'],['daily_returns']]\n",
    "RTH_daily_returns_df"
   ]
  },
  {
   "cell_type": "code",
   "execution_count": 16,
   "id": "16142708-a0c0-4a29-bb13-a6feb6795bfb",
   "metadata": {
    "tags": []
   },
   "outputs": [
    {
     "data": {
      "text/html": [
       "<div>\n",
       "<style scoped>\n",
       "    .dataframe tbody tr th:only-of-type {\n",
       "        vertical-align: middle;\n",
       "    }\n",
       "\n",
       "    .dataframe tbody tr th {\n",
       "        vertical-align: top;\n",
       "    }\n",
       "\n",
       "    .dataframe thead th {\n",
       "        text-align: right;\n",
       "    }\n",
       "</style>\n",
       "<table border=\"1\" class=\"dataframe\">\n",
       "  <thead>\n",
       "    <tr style=\"text-align: right;\">\n",
       "      <th></th>\n",
       "      <th></th>\n",
       "      <th>daily_returns</th>\n",
       "    </tr>\n",
       "    <tr>\n",
       "      <th>time</th>\n",
       "      <th>ticker</th>\n",
       "      <th></th>\n",
       "    </tr>\n",
       "  </thead>\n",
       "  <tbody>\n",
       "    <tr>\n",
       "      <th>2017-11-21 05:00:00</th>\n",
       "      <th>AMT</th>\n",
       "      <td>0.002530</td>\n",
       "    </tr>\n",
       "    <tr>\n",
       "      <th>2017-11-22 05:00:00</th>\n",
       "      <th>AMT</th>\n",
       "      <td>-0.008732</td>\n",
       "    </tr>\n",
       "    <tr>\n",
       "      <th>2017-11-24 05:00:00</th>\n",
       "      <th>AMT</th>\n",
       "      <td>0.013695</td>\n",
       "    </tr>\n",
       "    <tr>\n",
       "      <th>2017-11-27 05:00:00</th>\n",
       "      <th>AMT</th>\n",
       "      <td>0.006314</td>\n",
       "    </tr>\n",
       "    <tr>\n",
       "      <th>2017-11-28 05:00:00</th>\n",
       "      <th>AMT</th>\n",
       "      <td>0.002766</td>\n",
       "    </tr>\n",
       "    <tr>\n",
       "      <th>...</th>\n",
       "      <th>...</th>\n",
       "      <td>...</td>\n",
       "    </tr>\n",
       "    <tr>\n",
       "      <th>2020-02-24 05:00:00</th>\n",
       "      <th>AMT</th>\n",
       "      <td>-0.007692</td>\n",
       "    </tr>\n",
       "    <tr>\n",
       "      <th>2020-02-25 05:00:00</th>\n",
       "      <th>AMT</th>\n",
       "      <td>0.004202</td>\n",
       "    </tr>\n",
       "    <tr>\n",
       "      <th>2020-02-26 05:00:00</th>\n",
       "      <th>AMT</th>\n",
       "      <td>-0.014098</td>\n",
       "    </tr>\n",
       "    <tr>\n",
       "      <th>2020-02-27 05:00:00</th>\n",
       "      <th>AMT</th>\n",
       "      <td>-0.040137</td>\n",
       "    </tr>\n",
       "    <tr>\n",
       "      <th>2020-02-28 05:00:00</th>\n",
       "      <th>AMT</th>\n",
       "      <td>-0.026317</td>\n",
       "    </tr>\n",
       "  </tbody>\n",
       "</table>\n",
       "<p>570 rows × 1 columns</p>\n",
       "</div>"
      ],
      "text/plain": [
       "                            daily_returns\n",
       "time                ticker               \n",
       "2017-11-21 05:00:00 AMT          0.002530\n",
       "2017-11-22 05:00:00 AMT         -0.008732\n",
       "2017-11-24 05:00:00 AMT          0.013695\n",
       "2017-11-27 05:00:00 AMT          0.006314\n",
       "2017-11-28 05:00:00 AMT          0.002766\n",
       "...                                   ...\n",
       "2020-02-24 05:00:00 AMT         -0.007692\n",
       "2020-02-25 05:00:00 AMT          0.004202\n",
       "2020-02-26 05:00:00 AMT         -0.014098\n",
       "2020-02-27 05:00:00 AMT         -0.040137\n",
       "2020-02-28 05:00:00 AMT         -0.026317\n",
       "\n",
       "[570 rows x 1 columns]"
      ]
     },
     "execution_count": 16,
     "metadata": {},
     "output_type": "execute_result"
    }
   ],
   "source": [
    "AMT_daily_returns_df = all_data.loc[idx[:,'AMT'],['daily_returns']]\n",
    "AMT_daily_returns_df"
   ]
  },
  {
   "cell_type": "code",
   "execution_count": 17,
   "id": "50f16562-025b-47ea-8a33-e6b04863a6c2",
   "metadata": {
    "tags": []
   },
   "outputs": [
    {
     "data": {
      "text/html": [
       "<div>\n",
       "<style scoped>\n",
       "    .dataframe tbody tr th:only-of-type {\n",
       "        vertical-align: middle;\n",
       "    }\n",
       "\n",
       "    .dataframe tbody tr th {\n",
       "        vertical-align: top;\n",
       "    }\n",
       "\n",
       "    .dataframe thead th {\n",
       "        text-align: right;\n",
       "    }\n",
       "</style>\n",
       "<table border=\"1\" class=\"dataframe\">\n",
       "  <thead>\n",
       "    <tr style=\"text-align: right;\">\n",
       "      <th></th>\n",
       "      <th></th>\n",
       "      <th>daily_returns</th>\n",
       "    </tr>\n",
       "    <tr>\n",
       "      <th>time</th>\n",
       "      <th>ticker</th>\n",
       "      <th></th>\n",
       "    </tr>\n",
       "  </thead>\n",
       "  <tbody>\n",
       "    <tr>\n",
       "      <th>2017-11-21 05:00:00</th>\n",
       "      <th>IYR</th>\n",
       "      <td>0.007198</td>\n",
       "    </tr>\n",
       "    <tr>\n",
       "      <th>2017-11-22 05:00:00</th>\n",
       "      <th>IYR</th>\n",
       "      <td>-0.002786</td>\n",
       "    </tr>\n",
       "    <tr>\n",
       "      <th>2017-11-24 05:00:00</th>\n",
       "      <th>IYR</th>\n",
       "      <td>0.002065</td>\n",
       "    </tr>\n",
       "    <tr>\n",
       "      <th>2017-11-27 05:00:00</th>\n",
       "      <th>IYR</th>\n",
       "      <td>-0.004121</td>\n",
       "    </tr>\n",
       "    <tr>\n",
       "      <th>2017-11-28 05:00:00</th>\n",
       "      <th>IYR</th>\n",
       "      <td>-0.002191</td>\n",
       "    </tr>\n",
       "    <tr>\n",
       "      <th>...</th>\n",
       "      <th>...</th>\n",
       "      <td>...</td>\n",
       "    </tr>\n",
       "    <tr>\n",
       "      <th>2020-02-24 05:00:00</th>\n",
       "      <th>IYR</th>\n",
       "      <td>-0.013372</td>\n",
       "    </tr>\n",
       "    <tr>\n",
       "      <th>2020-02-25 05:00:00</th>\n",
       "      <th>IYR</th>\n",
       "      <td>-0.026803</td>\n",
       "    </tr>\n",
       "    <tr>\n",
       "      <th>2020-02-26 05:00:00</th>\n",
       "      <th>IYR</th>\n",
       "      <td>-0.010497</td>\n",
       "    </tr>\n",
       "    <tr>\n",
       "      <th>2020-02-27 05:00:00</th>\n",
       "      <th>IYR</th>\n",
       "      <td>-0.052410</td>\n",
       "    </tr>\n",
       "    <tr>\n",
       "      <th>2020-02-28 05:00:00</th>\n",
       "      <th>IYR</th>\n",
       "      <td>-0.031257</td>\n",
       "    </tr>\n",
       "  </tbody>\n",
       "</table>\n",
       "<p>570 rows × 1 columns</p>\n",
       "</div>"
      ],
      "text/plain": [
       "                            daily_returns\n",
       "time                ticker               \n",
       "2017-11-21 05:00:00 IYR          0.007198\n",
       "2017-11-22 05:00:00 IYR         -0.002786\n",
       "2017-11-24 05:00:00 IYR          0.002065\n",
       "2017-11-27 05:00:00 IYR         -0.004121\n",
       "2017-11-28 05:00:00 IYR         -0.002191\n",
       "...                                   ...\n",
       "2020-02-24 05:00:00 IYR         -0.013372\n",
       "2020-02-25 05:00:00 IYR         -0.026803\n",
       "2020-02-26 05:00:00 IYR         -0.010497\n",
       "2020-02-27 05:00:00 IYR         -0.052410\n",
       "2020-02-28 05:00:00 IYR         -0.031257\n",
       "\n",
       "[570 rows x 1 columns]"
      ]
     },
     "execution_count": 17,
     "metadata": {},
     "output_type": "execute_result"
    }
   ],
   "source": [
    "IYR_daily_returns_df = all_data.loc[idx[:,'IYR'],['daily_returns']]\n",
    "IYR_daily_returns_df"
   ]
  },
  {
   "cell_type": "code",
   "execution_count": 18,
   "id": "7e420884-0e57-49fa-bad8-8bea782fd89f",
   "metadata": {
    "tags": []
   },
   "outputs": [
    {
     "data": {
      "text/html": [
       "<div>\n",
       "<style scoped>\n",
       "    .dataframe tbody tr th:only-of-type {\n",
       "        vertical-align: middle;\n",
       "    }\n",
       "\n",
       "    .dataframe tbody tr th {\n",
       "        vertical-align: top;\n",
       "    }\n",
       "\n",
       "    .dataframe thead th {\n",
       "        text-align: right;\n",
       "    }\n",
       "</style>\n",
       "<table border=\"1\" class=\"dataframe\">\n",
       "  <thead>\n",
       "    <tr style=\"text-align: right;\">\n",
       "      <th></th>\n",
       "      <th></th>\n",
       "      <th>daily_returns</th>\n",
       "    </tr>\n",
       "    <tr>\n",
       "      <th>time</th>\n",
       "      <th>ticker</th>\n",
       "      <th></th>\n",
       "    </tr>\n",
       "  </thead>\n",
       "  <tbody>\n",
       "    <tr>\n",
       "      <th>2017-11-21 05:00:00</th>\n",
       "      <th>XOM</th>\n",
       "      <td>0.003973</td>\n",
       "    </tr>\n",
       "    <tr>\n",
       "      <th>2017-11-22 05:00:00</th>\n",
       "      <th>XOM</th>\n",
       "      <td>0.002844</td>\n",
       "    </tr>\n",
       "    <tr>\n",
       "      <th>2017-11-24 05:00:00</th>\n",
       "      <th>XOM</th>\n",
       "      <td>0.003946</td>\n",
       "    </tr>\n",
       "    <tr>\n",
       "      <th>2017-11-27 05:00:00</th>\n",
       "      <th>XOM</th>\n",
       "      <td>-0.003807</td>\n",
       "    </tr>\n",
       "    <tr>\n",
       "      <th>2017-11-28 05:00:00</th>\n",
       "      <th>XOM</th>\n",
       "      <td>0.006904</td>\n",
       "    </tr>\n",
       "    <tr>\n",
       "      <th>...</th>\n",
       "      <th>...</th>\n",
       "      <td>...</td>\n",
       "    </tr>\n",
       "    <tr>\n",
       "      <th>2020-02-24 05:00:00</th>\n",
       "      <th>XOM</th>\n",
       "      <td>-0.046846</td>\n",
       "    </tr>\n",
       "    <tr>\n",
       "      <th>2020-02-25 05:00:00</th>\n",
       "      <th>XOM</th>\n",
       "      <td>-0.038325</td>\n",
       "    </tr>\n",
       "    <tr>\n",
       "      <th>2020-02-26 05:00:00</th>\n",
       "      <th>XOM</th>\n",
       "      <td>-0.021956</td>\n",
       "    </tr>\n",
       "    <tr>\n",
       "      <th>2020-02-27 05:00:00</th>\n",
       "      <th>XOM</th>\n",
       "      <td>-0.060177</td>\n",
       "    </tr>\n",
       "    <tr>\n",
       "      <th>2020-02-28 05:00:00</th>\n",
       "      <th>XOM</th>\n",
       "      <td>0.032517</td>\n",
       "    </tr>\n",
       "  </tbody>\n",
       "</table>\n",
       "<p>570 rows × 1 columns</p>\n",
       "</div>"
      ],
      "text/plain": [
       "                            daily_returns\n",
       "time                ticker               \n",
       "2017-11-21 05:00:00 XOM          0.003973\n",
       "2017-11-22 05:00:00 XOM          0.002844\n",
       "2017-11-24 05:00:00 XOM          0.003946\n",
       "2017-11-27 05:00:00 XOM         -0.003807\n",
       "2017-11-28 05:00:00 XOM          0.006904\n",
       "...                                   ...\n",
       "2020-02-24 05:00:00 XOM         -0.046846\n",
       "2020-02-25 05:00:00 XOM         -0.038325\n",
       "2020-02-26 05:00:00 XOM         -0.021956\n",
       "2020-02-27 05:00:00 XOM         -0.060177\n",
       "2020-02-28 05:00:00 XOM          0.032517\n",
       "\n",
       "[570 rows x 1 columns]"
      ]
     },
     "execution_count": 18,
     "metadata": {},
     "output_type": "execute_result"
    }
   ],
   "source": [
    "XOM_daily_returns_df = all_data.loc[idx[:,'XOM'],['daily_returns']]\n",
    "XOM_daily_returns_df"
   ]
  },
  {
   "cell_type": "code",
   "execution_count": 19,
   "id": "3821ae3a-37e8-4110-a172-70f70caad743",
   "metadata": {
    "tags": []
   },
   "outputs": [
    {
     "data": {
      "text/html": [
       "<div>\n",
       "<style scoped>\n",
       "    .dataframe tbody tr th:only-of-type {\n",
       "        vertical-align: middle;\n",
       "    }\n",
       "\n",
       "    .dataframe tbody tr th {\n",
       "        vertical-align: top;\n",
       "    }\n",
       "\n",
       "    .dataframe thead th {\n",
       "        text-align: right;\n",
       "    }\n",
       "</style>\n",
       "<table border=\"1\" class=\"dataframe\">\n",
       "  <thead>\n",
       "    <tr style=\"text-align: right;\">\n",
       "      <th></th>\n",
       "      <th></th>\n",
       "      <th>daily_returns</th>\n",
       "    </tr>\n",
       "    <tr>\n",
       "      <th>time</th>\n",
       "      <th>ticker</th>\n",
       "      <th></th>\n",
       "    </tr>\n",
       "  </thead>\n",
       "  <tbody>\n",
       "    <tr>\n",
       "      <th>2017-11-21 05:00:00</th>\n",
       "      <th>XLE</th>\n",
       "      <td>0.002230</td>\n",
       "    </tr>\n",
       "    <tr>\n",
       "      <th>2017-11-22 05:00:00</th>\n",
       "      <th>XLE</th>\n",
       "      <td>0.004005</td>\n",
       "    </tr>\n",
       "    <tr>\n",
       "      <th>2017-11-24 05:00:00</th>\n",
       "      <th>XLE</th>\n",
       "      <td>0.002807</td>\n",
       "    </tr>\n",
       "    <tr>\n",
       "      <th>2017-11-27 05:00:00</th>\n",
       "      <th>XLE</th>\n",
       "      <td>-0.010165</td>\n",
       "    </tr>\n",
       "    <tr>\n",
       "      <th>2017-11-28 05:00:00</th>\n",
       "      <th>XLE</th>\n",
       "      <td>0.007739</td>\n",
       "    </tr>\n",
       "    <tr>\n",
       "      <th>...</th>\n",
       "      <th>...</th>\n",
       "      <td>...</td>\n",
       "    </tr>\n",
       "    <tr>\n",
       "      <th>2020-02-24 05:00:00</th>\n",
       "      <th>XLE</th>\n",
       "      <td>-0.046177</td>\n",
       "    </tr>\n",
       "    <tr>\n",
       "      <th>2020-02-25 05:00:00</th>\n",
       "      <th>XLE</th>\n",
       "      <td>-0.044152</td>\n",
       "    </tr>\n",
       "    <tr>\n",
       "      <th>2020-02-26 05:00:00</th>\n",
       "      <th>XLE</th>\n",
       "      <td>-0.030186</td>\n",
       "    </tr>\n",
       "    <tr>\n",
       "      <th>2020-02-27 05:00:00</th>\n",
       "      <th>XLE</th>\n",
       "      <td>-0.053478</td>\n",
       "    </tr>\n",
       "    <tr>\n",
       "      <th>2020-02-28 05:00:00</th>\n",
       "      <th>XLE</th>\n",
       "      <td>-0.000883</td>\n",
       "    </tr>\n",
       "  </tbody>\n",
       "</table>\n",
       "<p>570 rows × 1 columns</p>\n",
       "</div>"
      ],
      "text/plain": [
       "                            daily_returns\n",
       "time                ticker               \n",
       "2017-11-21 05:00:00 XLE          0.002230\n",
       "2017-11-22 05:00:00 XLE          0.004005\n",
       "2017-11-24 05:00:00 XLE          0.002807\n",
       "2017-11-27 05:00:00 XLE         -0.010165\n",
       "2017-11-28 05:00:00 XLE          0.007739\n",
       "...                                   ...\n",
       "2020-02-24 05:00:00 XLE         -0.046177\n",
       "2020-02-25 05:00:00 XLE         -0.044152\n",
       "2020-02-26 05:00:00 XLE         -0.030186\n",
       "2020-02-27 05:00:00 XLE         -0.053478\n",
       "2020-02-28 05:00:00 XLE         -0.000883\n",
       "\n",
       "[570 rows x 1 columns]"
      ]
     },
     "execution_count": 19,
     "metadata": {},
     "output_type": "execute_result"
    }
   ],
   "source": [
    "XLE_daily_returns_df = all_data.loc[idx[:,'XLE'],['daily_returns']]\n",
    "XLE_daily_returns_df"
   ]
  },
  {
   "cell_type": "code",
   "execution_count": 20,
   "id": "6399dd61-3199-4c42-b23e-79a577da9b58",
   "metadata": {
    "tags": []
   },
   "outputs": [
    {
     "data": {
      "text/html": [
       "<div>\n",
       "<style scoped>\n",
       "    .dataframe tbody tr th:only-of-type {\n",
       "        vertical-align: middle;\n",
       "    }\n",
       "\n",
       "    .dataframe tbody tr th {\n",
       "        vertical-align: top;\n",
       "    }\n",
       "\n",
       "    .dataframe thead th {\n",
       "        text-align: right;\n",
       "    }\n",
       "</style>\n",
       "<table border=\"1\" class=\"dataframe\">\n",
       "  <thead>\n",
       "    <tr style=\"text-align: right;\">\n",
       "      <th></th>\n",
       "      <th></th>\n",
       "      <th>daily_returns</th>\n",
       "    </tr>\n",
       "    <tr>\n",
       "      <th>time</th>\n",
       "      <th>ticker</th>\n",
       "      <th></th>\n",
       "    </tr>\n",
       "  </thead>\n",
       "  <tbody>\n",
       "    <tr>\n",
       "      <th>2017-11-21 05:00:00</th>\n",
       "      <th>SPY</th>\n",
       "      <td>0.006543</td>\n",
       "    </tr>\n",
       "    <tr>\n",
       "      <th>2017-11-22 05:00:00</th>\n",
       "      <th>SPY</th>\n",
       "      <td>-0.000885</td>\n",
       "    </tr>\n",
       "    <tr>\n",
       "      <th>2017-11-24 05:00:00</th>\n",
       "      <th>SPY</th>\n",
       "      <td>0.002310</td>\n",
       "    </tr>\n",
       "    <tr>\n",
       "      <th>2017-11-27 05:00:00</th>\n",
       "      <th>SPY</th>\n",
       "      <td>-0.000499</td>\n",
       "    </tr>\n",
       "    <tr>\n",
       "      <th>2017-11-28 05:00:00</th>\n",
       "      <th>SPY</th>\n",
       "      <td>0.010145</td>\n",
       "    </tr>\n",
       "    <tr>\n",
       "      <th>...</th>\n",
       "      <th>...</th>\n",
       "      <td>...</td>\n",
       "    </tr>\n",
       "    <tr>\n",
       "      <th>2020-02-24 05:00:00</th>\n",
       "      <th>SPY</th>\n",
       "      <td>-0.033165</td>\n",
       "    </tr>\n",
       "    <tr>\n",
       "      <th>2020-02-25 05:00:00</th>\n",
       "      <th>SPY</th>\n",
       "      <td>-0.030302</td>\n",
       "    </tr>\n",
       "    <tr>\n",
       "      <th>2020-02-26 05:00:00</th>\n",
       "      <th>SPY</th>\n",
       "      <td>-0.003678</td>\n",
       "    </tr>\n",
       "    <tr>\n",
       "      <th>2020-02-27 05:00:00</th>\n",
       "      <th>SPY</th>\n",
       "      <td>-0.044912</td>\n",
       "    </tr>\n",
       "    <tr>\n",
       "      <th>2020-02-28 05:00:00</th>\n",
       "      <th>SPY</th>\n",
       "      <td>-0.004202</td>\n",
       "    </tr>\n",
       "  </tbody>\n",
       "</table>\n",
       "<p>570 rows × 1 columns</p>\n",
       "</div>"
      ],
      "text/plain": [
       "                            daily_returns\n",
       "time                ticker               \n",
       "2017-11-21 05:00:00 SPY          0.006543\n",
       "2017-11-22 05:00:00 SPY         -0.000885\n",
       "2017-11-24 05:00:00 SPY          0.002310\n",
       "2017-11-27 05:00:00 SPY         -0.000499\n",
       "2017-11-28 05:00:00 SPY          0.010145\n",
       "...                                   ...\n",
       "2020-02-24 05:00:00 SPY         -0.033165\n",
       "2020-02-25 05:00:00 SPY         -0.030302\n",
       "2020-02-26 05:00:00 SPY         -0.003678\n",
       "2020-02-27 05:00:00 SPY         -0.044912\n",
       "2020-02-28 05:00:00 SPY         -0.004202\n",
       "\n",
       "[570 rows x 1 columns]"
      ]
     },
     "execution_count": 20,
     "metadata": {},
     "output_type": "execute_result"
    }
   ],
   "source": [
    "SPY_daily_returns_df = all_data.loc[idx[:,'SPY'],['daily_returns']]\n",
    "SPY_daily_returns_df"
   ]
  },
  {
   "cell_type": "code",
   "execution_count": 21,
   "id": "3cf20180-2f73-499b-95dd-73c8a2875e9a",
   "metadata": {
    "tags": []
   },
   "outputs": [
    {
     "data": {
      "text/html": [
       "<div>\n",
       "<style scoped>\n",
       "    .dataframe tbody tr th:only-of-type {\n",
       "        vertical-align: middle;\n",
       "    }\n",
       "\n",
       "    .dataframe tbody tr th {\n",
       "        vertical-align: top;\n",
       "    }\n",
       "\n",
       "    .dataframe thead th {\n",
       "        text-align: right;\n",
       "    }\n",
       "</style>\n",
       "<table border=\"1\" class=\"dataframe\">\n",
       "  <thead>\n",
       "    <tr style=\"text-align: right;\">\n",
       "      <th></th>\n",
       "      <th></th>\n",
       "      <th></th>\n",
       "      <th>daily_returns</th>\n",
       "    </tr>\n",
       "    <tr>\n",
       "      <th></th>\n",
       "      <th>time</th>\n",
       "      <th>ticker</th>\n",
       "      <th></th>\n",
       "    </tr>\n",
       "  </thead>\n",
       "  <tbody>\n",
       "    <tr>\n",
       "      <th rowspan=\"5\" valign=\"top\">AMZN</th>\n",
       "      <th>2017-11-21 05:00:00</th>\n",
       "      <th>AMZN</th>\n",
       "      <td>0.011702</td>\n",
       "    </tr>\n",
       "    <tr>\n",
       "      <th>2017-11-22 05:00:00</th>\n",
       "      <th>AMZN</th>\n",
       "      <td>0.014629</td>\n",
       "    </tr>\n",
       "    <tr>\n",
       "      <th>2017-11-24 05:00:00</th>\n",
       "      <th>AMZN</th>\n",
       "      <td>0.025810</td>\n",
       "    </tr>\n",
       "    <tr>\n",
       "      <th>2017-11-27 05:00:00</th>\n",
       "      <th>AMZN</th>\n",
       "      <td>0.008288</td>\n",
       "    </tr>\n",
       "    <tr>\n",
       "      <th>2017-11-28 05:00:00</th>\n",
       "      <th>AMZN</th>\n",
       "      <td>-0.001865</td>\n",
       "    </tr>\n",
       "    <tr>\n",
       "      <th>...</th>\n",
       "      <th>...</th>\n",
       "      <th>...</th>\n",
       "      <td>...</td>\n",
       "    </tr>\n",
       "    <tr>\n",
       "      <th rowspan=\"5\" valign=\"top\">RTH</th>\n",
       "      <th>2020-02-24 05:00:00</th>\n",
       "      <th>RTH</th>\n",
       "      <td>-0.026701</td>\n",
       "    </tr>\n",
       "    <tr>\n",
       "      <th>2020-02-25 05:00:00</th>\n",
       "      <th>RTH</th>\n",
       "      <td>-0.023793</td>\n",
       "    </tr>\n",
       "    <tr>\n",
       "      <th>2020-02-26 05:00:00</th>\n",
       "      <th>RTH</th>\n",
       "      <td>-0.001961</td>\n",
       "    </tr>\n",
       "    <tr>\n",
       "      <th>2020-02-27 05:00:00</th>\n",
       "      <th>RTH</th>\n",
       "      <td>-0.041607</td>\n",
       "    </tr>\n",
       "    <tr>\n",
       "      <th>2020-02-28 05:00:00</th>\n",
       "      <th>RTH</th>\n",
       "      <td>-0.017861</td>\n",
       "    </tr>\n",
       "  </tbody>\n",
       "</table>\n",
       "<p>1140 rows × 1 columns</p>\n",
       "</div>"
      ],
      "text/plain": [
       "                                 daily_returns\n",
       "     time                ticker               \n",
       "AMZN 2017-11-21 05:00:00 AMZN         0.011702\n",
       "     2017-11-22 05:00:00 AMZN         0.014629\n",
       "     2017-11-24 05:00:00 AMZN         0.025810\n",
       "     2017-11-27 05:00:00 AMZN         0.008288\n",
       "     2017-11-28 05:00:00 AMZN        -0.001865\n",
       "...                                        ...\n",
       "RTH  2020-02-24 05:00:00 RTH         -0.026701\n",
       "     2020-02-25 05:00:00 RTH         -0.023793\n",
       "     2020-02-26 05:00:00 RTH         -0.001961\n",
       "     2020-02-27 05:00:00 RTH         -0.041607\n",
       "     2020-02-28 05:00:00 RTH         -0.017861\n",
       "\n",
       "[1140 rows x 1 columns]"
      ]
     },
     "execution_count": 21,
     "metadata": {},
     "output_type": "execute_result"
    }
   ],
   "source": [
    "tech_daily_returns = pd.concat([AMZN_daily_returns_df, RTH_daily_returns_df], keys=[\"AMZN\",\"RTH\"])\n",
    "tech_daily_returns"
   ]
  },
  {
   "cell_type": "code",
   "execution_count": 22,
   "id": "7eea0650-e218-448b-ac83-3e7212898511",
   "metadata": {
    "tags": []
   },
   "outputs": [
    {
     "data": {
      "text/html": [
       "<div>\n",
       "<style scoped>\n",
       "    .dataframe tbody tr th:only-of-type {\n",
       "        vertical-align: middle;\n",
       "    }\n",
       "\n",
       "    .dataframe tbody tr th {\n",
       "        vertical-align: top;\n",
       "    }\n",
       "\n",
       "    .dataframe thead th {\n",
       "        text-align: right;\n",
       "    }\n",
       "</style>\n",
       "<table border=\"1\" class=\"dataframe\">\n",
       "  <thead>\n",
       "    <tr style=\"text-align: right;\">\n",
       "      <th></th>\n",
       "      <th></th>\n",
       "      <th></th>\n",
       "      <th>daily_returns</th>\n",
       "    </tr>\n",
       "    <tr>\n",
       "      <th></th>\n",
       "      <th>time</th>\n",
       "      <th>ticker</th>\n",
       "      <th></th>\n",
       "    </tr>\n",
       "  </thead>\n",
       "  <tbody>\n",
       "    <tr>\n",
       "      <th rowspan=\"5\" valign=\"top\">AMT</th>\n",
       "      <th>2017-11-21 05:00:00</th>\n",
       "      <th>AMT</th>\n",
       "      <td>0.002530</td>\n",
       "    </tr>\n",
       "    <tr>\n",
       "      <th>2017-11-22 05:00:00</th>\n",
       "      <th>AMT</th>\n",
       "      <td>-0.008732</td>\n",
       "    </tr>\n",
       "    <tr>\n",
       "      <th>2017-11-24 05:00:00</th>\n",
       "      <th>AMT</th>\n",
       "      <td>0.013695</td>\n",
       "    </tr>\n",
       "    <tr>\n",
       "      <th>2017-11-27 05:00:00</th>\n",
       "      <th>AMT</th>\n",
       "      <td>0.006314</td>\n",
       "    </tr>\n",
       "    <tr>\n",
       "      <th>2017-11-28 05:00:00</th>\n",
       "      <th>AMT</th>\n",
       "      <td>0.002766</td>\n",
       "    </tr>\n",
       "    <tr>\n",
       "      <th>...</th>\n",
       "      <th>...</th>\n",
       "      <th>...</th>\n",
       "      <td>...</td>\n",
       "    </tr>\n",
       "    <tr>\n",
       "      <th rowspan=\"5\" valign=\"top\">IYR</th>\n",
       "      <th>2020-02-24 05:00:00</th>\n",
       "      <th>IYR</th>\n",
       "      <td>-0.013372</td>\n",
       "    </tr>\n",
       "    <tr>\n",
       "      <th>2020-02-25 05:00:00</th>\n",
       "      <th>IYR</th>\n",
       "      <td>-0.026803</td>\n",
       "    </tr>\n",
       "    <tr>\n",
       "      <th>2020-02-26 05:00:00</th>\n",
       "      <th>IYR</th>\n",
       "      <td>-0.010497</td>\n",
       "    </tr>\n",
       "    <tr>\n",
       "      <th>2020-02-27 05:00:00</th>\n",
       "      <th>IYR</th>\n",
       "      <td>-0.052410</td>\n",
       "    </tr>\n",
       "    <tr>\n",
       "      <th>2020-02-28 05:00:00</th>\n",
       "      <th>IYR</th>\n",
       "      <td>-0.031257</td>\n",
       "    </tr>\n",
       "  </tbody>\n",
       "</table>\n",
       "<p>1140 rows × 1 columns</p>\n",
       "</div>"
      ],
      "text/plain": [
       "                                daily_returns\n",
       "    time                ticker               \n",
       "AMT 2017-11-21 05:00:00 AMT          0.002530\n",
       "    2017-11-22 05:00:00 AMT         -0.008732\n",
       "    2017-11-24 05:00:00 AMT          0.013695\n",
       "    2017-11-27 05:00:00 AMT          0.006314\n",
       "    2017-11-28 05:00:00 AMT          0.002766\n",
       "...                                       ...\n",
       "IYR 2020-02-24 05:00:00 IYR         -0.013372\n",
       "    2020-02-25 05:00:00 IYR         -0.026803\n",
       "    2020-02-26 05:00:00 IYR         -0.010497\n",
       "    2020-02-27 05:00:00 IYR         -0.052410\n",
       "    2020-02-28 05:00:00 IYR         -0.031257\n",
       "\n",
       "[1140 rows x 1 columns]"
      ]
     },
     "execution_count": 22,
     "metadata": {},
     "output_type": "execute_result"
    }
   ],
   "source": [
    "RE_daily_returns = pd.concat([AMT_daily_returns_df, IYR_daily_returns_df], keys=[\"AMT\",\"IYR\"])\n",
    "RE_daily_returns"
   ]
  },
  {
   "cell_type": "code",
   "execution_count": 23,
   "id": "fa8baa24-e409-49d7-b5ca-660d51aa9a45",
   "metadata": {
    "tags": []
   },
   "outputs": [
    {
     "data": {
      "text/html": [
       "<div>\n",
       "<style scoped>\n",
       "    .dataframe tbody tr th:only-of-type {\n",
       "        vertical-align: middle;\n",
       "    }\n",
       "\n",
       "    .dataframe tbody tr th {\n",
       "        vertical-align: top;\n",
       "    }\n",
       "\n",
       "    .dataframe thead th {\n",
       "        text-align: right;\n",
       "    }\n",
       "</style>\n",
       "<table border=\"1\" class=\"dataframe\">\n",
       "  <thead>\n",
       "    <tr style=\"text-align: right;\">\n",
       "      <th></th>\n",
       "      <th></th>\n",
       "      <th></th>\n",
       "      <th>daily_returns</th>\n",
       "    </tr>\n",
       "    <tr>\n",
       "      <th></th>\n",
       "      <th>time</th>\n",
       "      <th>ticker</th>\n",
       "      <th></th>\n",
       "    </tr>\n",
       "  </thead>\n",
       "  <tbody>\n",
       "    <tr>\n",
       "      <th rowspan=\"5\" valign=\"top\">XOM</th>\n",
       "      <th>2017-11-21 05:00:00</th>\n",
       "      <th>XOM</th>\n",
       "      <td>0.003973</td>\n",
       "    </tr>\n",
       "    <tr>\n",
       "      <th>2017-11-22 05:00:00</th>\n",
       "      <th>XOM</th>\n",
       "      <td>0.002844</td>\n",
       "    </tr>\n",
       "    <tr>\n",
       "      <th>2017-11-24 05:00:00</th>\n",
       "      <th>XOM</th>\n",
       "      <td>0.003946</td>\n",
       "    </tr>\n",
       "    <tr>\n",
       "      <th>2017-11-27 05:00:00</th>\n",
       "      <th>XOM</th>\n",
       "      <td>-0.003807</td>\n",
       "    </tr>\n",
       "    <tr>\n",
       "      <th>2017-11-28 05:00:00</th>\n",
       "      <th>XOM</th>\n",
       "      <td>0.006904</td>\n",
       "    </tr>\n",
       "    <tr>\n",
       "      <th>...</th>\n",
       "      <th>...</th>\n",
       "      <th>...</th>\n",
       "      <td>...</td>\n",
       "    </tr>\n",
       "    <tr>\n",
       "      <th rowspan=\"5\" valign=\"top\">XLE</th>\n",
       "      <th>2020-02-24 05:00:00</th>\n",
       "      <th>XLE</th>\n",
       "      <td>-0.046177</td>\n",
       "    </tr>\n",
       "    <tr>\n",
       "      <th>2020-02-25 05:00:00</th>\n",
       "      <th>XLE</th>\n",
       "      <td>-0.044152</td>\n",
       "    </tr>\n",
       "    <tr>\n",
       "      <th>2020-02-26 05:00:00</th>\n",
       "      <th>XLE</th>\n",
       "      <td>-0.030186</td>\n",
       "    </tr>\n",
       "    <tr>\n",
       "      <th>2020-02-27 05:00:00</th>\n",
       "      <th>XLE</th>\n",
       "      <td>-0.053478</td>\n",
       "    </tr>\n",
       "    <tr>\n",
       "      <th>2020-02-28 05:00:00</th>\n",
       "      <th>XLE</th>\n",
       "      <td>-0.000883</td>\n",
       "    </tr>\n",
       "  </tbody>\n",
       "</table>\n",
       "<p>1140 rows × 1 columns</p>\n",
       "</div>"
      ],
      "text/plain": [
       "                                daily_returns\n",
       "    time                ticker               \n",
       "XOM 2017-11-21 05:00:00 XOM          0.003973\n",
       "    2017-11-22 05:00:00 XOM          0.002844\n",
       "    2017-11-24 05:00:00 XOM          0.003946\n",
       "    2017-11-27 05:00:00 XOM         -0.003807\n",
       "    2017-11-28 05:00:00 XOM          0.006904\n",
       "...                                       ...\n",
       "XLE 2020-02-24 05:00:00 XLE         -0.046177\n",
       "    2020-02-25 05:00:00 XLE         -0.044152\n",
       "    2020-02-26 05:00:00 XLE         -0.030186\n",
       "    2020-02-27 05:00:00 XLE         -0.053478\n",
       "    2020-02-28 05:00:00 XLE         -0.000883\n",
       "\n",
       "[1140 rows x 1 columns]"
      ]
     },
     "execution_count": 23,
     "metadata": {},
     "output_type": "execute_result"
    }
   ],
   "source": [
    "energy_daily_returns = pd.concat([XOM_daily_returns_df, XLE_daily_returns_df], keys=[\"XOM\",\"XLE\"])\n",
    "energy_daily_returns"
   ]
  },
  {
   "cell_type": "markdown",
   "id": "4e01bda0-7313-4129-8930-b0b950cbd90a",
   "metadata": {},
   "source": [
    "### A) Analyzing Each Stock and ETF Individually\n"
   ]
  },
  {
   "cell_type": "code",
   "execution_count": 24,
   "id": "7e265e85-6dde-4d72-9060-6ea9bb3a7238",
   "metadata": {},
   "outputs": [],
   "source": [
    "import warnings\n",
    "warnings.filterwarnings(\"ignore\")"
   ]
  },
  {
   "cell_type": "code",
   "execution_count": 25,
   "id": "3c7a7a45-67aa-45bf-b77d-c2de7163aa9c",
   "metadata": {},
   "outputs": [],
   "source": [
    "from pytz import timezone\n",
    "#from IPython.display import clear_output\n",
    "from time import sleep\n",
    "import numpy as np\n",
    "import pyfolio as pf\n",
    "import sqlalchemy"
   ]
  },
  {
   "cell_type": "code",
   "execution_count": 26,
   "id": "90bdcd33-12c4-4e17-ac2a-9dd78b52c14c",
   "metadata": {},
   "outputs": [],
   "source": [
    "pre_pandemic_prices_df = pd.concat([AMZN_daily_returns_df.reset_index(level = 1,drop=True), RTH_daily_returns_df.reset_index(level = 1,drop=True), AMT_daily_returns_df.reset_index(level = 1,drop=True), IYR_daily_returns_df.reset_index(level = 1,drop=True), XOM_daily_returns_df.reset_index(level = 1,drop=True), XLE_daily_returns_df.reset_index(level = 1,drop=True), SPY_daily_returns_df.reset_index(level = 1,drop=True)],axis=0, keys=[\"AMZN\",\"RTH\",\"AMT\",\"IYR\",\"XOM\",\"XLE\",\"SPY\"])"
   ]
  },
  {
   "cell_type": "code",
   "execution_count": 27,
   "id": "0d20105e-3052-45ec-928e-87f6941dbf1d",
   "metadata": {
    "tags": []
   },
   "outputs": [
    {
     "ename": "ValueError",
     "evalue": "Length of values (7) does not match length of index (1)",
     "output_type": "error",
     "traceback": [
      "\u001b[0;31m---------------------------------------------------------------------------\u001b[0m",
      "\u001b[0;31mValueError\u001b[0m                                Traceback (most recent call last)",
      "\u001b[0;32m/var/folders/0k/6khhs1fd7xqgsfgj5sgncg_40000gn/T/ipykernel_55010/3369757850.py\u001b[0m in \u001b[0;36m<module>\u001b[0;34m\u001b[0m\n\u001b[1;32m      3\u001b[0m \u001b[0;31m# del pre_pandemic_std['level_0']\u001b[0m\u001b[0;34m\u001b[0m\u001b[0;34m\u001b[0m\u001b[0;34m\u001b[0m\u001b[0m\n\u001b[1;32m      4\u001b[0m \u001b[0mpre_pandemic_std\u001b[0m\u001b[0;34m.\u001b[0m\u001b[0mrename\u001b[0m\u001b[0;34m(\u001b[0m\u001b[0;34m{\u001b[0m\u001b[0;34m'level_0'\u001b[0m\u001b[0;34m:\u001b[0m \u001b[0;34m'Ticker'\u001b[0m\u001b[0;34m,\u001b[0m \u001b[0;36m0\u001b[0m\u001b[0;34m:\u001b[0m \u001b[0;34m'STD'\u001b[0m\u001b[0;34m}\u001b[0m\u001b[0;34m,\u001b[0m \u001b[0maxis\u001b[0m\u001b[0;34m=\u001b[0m\u001b[0;36m1\u001b[0m\u001b[0;34m,\u001b[0m \u001b[0minplace\u001b[0m\u001b[0;34m=\u001b[0m\u001b[0;32mTrue\u001b[0m\u001b[0;34m)\u001b[0m\u001b[0;34m\u001b[0m\u001b[0;34m\u001b[0m\u001b[0m\n\u001b[0;32m----> 5\u001b[0;31m \u001b[0mpre_pandemic_std\u001b[0m\u001b[0;34m[\u001b[0m\u001b[0;34m'ticker_type'\u001b[0m\u001b[0;34m]\u001b[0m\u001b[0;34m=\u001b[0m\u001b[0;34m[\u001b[0m\u001b[0;34m'Stock'\u001b[0m\u001b[0;34m,\u001b[0m\u001b[0;34m'ETF'\u001b[0m\u001b[0;34m,\u001b[0m\u001b[0;34m'Stock'\u001b[0m\u001b[0;34m,\u001b[0m\u001b[0;34m'ETF'\u001b[0m\u001b[0;34m,\u001b[0m\u001b[0;34m'Stock'\u001b[0m\u001b[0;34m,\u001b[0m\u001b[0;34m'ETF'\u001b[0m\u001b[0;34m,\u001b[0m\u001b[0;34m'Index'\u001b[0m\u001b[0;34m]\u001b[0m\u001b[0;34m\u001b[0m\u001b[0;34m\u001b[0m\u001b[0m\n\u001b[0m\u001b[1;32m      6\u001b[0m \u001b[0mpre_pandemic_std\u001b[0m\u001b[0;34m\u001b[0m\u001b[0;34m\u001b[0m\u001b[0m\n",
      "\u001b[0;32m~/opt/anaconda3/envs/dev/lib/python3.7/site-packages/pandas/core/frame.py\u001b[0m in \u001b[0;36m__setitem__\u001b[0;34m(self, key, value)\u001b[0m\n\u001b[1;32m   3610\u001b[0m         \u001b[0;32melse\u001b[0m\u001b[0;34m:\u001b[0m\u001b[0;34m\u001b[0m\u001b[0;34m\u001b[0m\u001b[0m\n\u001b[1;32m   3611\u001b[0m             \u001b[0;31m# set column\u001b[0m\u001b[0;34m\u001b[0m\u001b[0;34m\u001b[0m\u001b[0;34m\u001b[0m\u001b[0m\n\u001b[0;32m-> 3612\u001b[0;31m             \u001b[0mself\u001b[0m\u001b[0;34m.\u001b[0m\u001b[0m_set_item\u001b[0m\u001b[0;34m(\u001b[0m\u001b[0mkey\u001b[0m\u001b[0;34m,\u001b[0m \u001b[0mvalue\u001b[0m\u001b[0;34m)\u001b[0m\u001b[0;34m\u001b[0m\u001b[0;34m\u001b[0m\u001b[0m\n\u001b[0m\u001b[1;32m   3613\u001b[0m \u001b[0;34m\u001b[0m\u001b[0m\n\u001b[1;32m   3614\u001b[0m     \u001b[0;32mdef\u001b[0m \u001b[0m_setitem_slice\u001b[0m\u001b[0;34m(\u001b[0m\u001b[0mself\u001b[0m\u001b[0;34m,\u001b[0m \u001b[0mkey\u001b[0m\u001b[0;34m:\u001b[0m \u001b[0mslice\u001b[0m\u001b[0;34m,\u001b[0m \u001b[0mvalue\u001b[0m\u001b[0;34m)\u001b[0m\u001b[0;34m:\u001b[0m\u001b[0;34m\u001b[0m\u001b[0;34m\u001b[0m\u001b[0m\n",
      "\u001b[0;32m~/opt/anaconda3/envs/dev/lib/python3.7/site-packages/pandas/core/frame.py\u001b[0m in \u001b[0;36m_set_item\u001b[0;34m(self, key, value)\u001b[0m\n\u001b[1;32m   3782\u001b[0m         \u001b[0mensure\u001b[0m \u001b[0mhomogeneity\u001b[0m\u001b[0;34m.\u001b[0m\u001b[0;34m\u001b[0m\u001b[0;34m\u001b[0m\u001b[0m\n\u001b[1;32m   3783\u001b[0m         \"\"\"\n\u001b[0;32m-> 3784\u001b[0;31m         \u001b[0mvalue\u001b[0m \u001b[0;34m=\u001b[0m \u001b[0mself\u001b[0m\u001b[0;34m.\u001b[0m\u001b[0m_sanitize_column\u001b[0m\u001b[0;34m(\u001b[0m\u001b[0mvalue\u001b[0m\u001b[0;34m)\u001b[0m\u001b[0;34m\u001b[0m\u001b[0;34m\u001b[0m\u001b[0m\n\u001b[0m\u001b[1;32m   3785\u001b[0m \u001b[0;34m\u001b[0m\u001b[0m\n\u001b[1;32m   3786\u001b[0m         if (\n",
      "\u001b[0;32m~/opt/anaconda3/envs/dev/lib/python3.7/site-packages/pandas/core/frame.py\u001b[0m in \u001b[0;36m_sanitize_column\u001b[0;34m(self, value)\u001b[0m\n\u001b[1;32m   4507\u001b[0m \u001b[0;34m\u001b[0m\u001b[0m\n\u001b[1;32m   4508\u001b[0m         \u001b[0;32mif\u001b[0m \u001b[0mis_list_like\u001b[0m\u001b[0;34m(\u001b[0m\u001b[0mvalue\u001b[0m\u001b[0;34m)\u001b[0m\u001b[0;34m:\u001b[0m\u001b[0;34m\u001b[0m\u001b[0;34m\u001b[0m\u001b[0m\n\u001b[0;32m-> 4509\u001b[0;31m             \u001b[0mcom\u001b[0m\u001b[0;34m.\u001b[0m\u001b[0mrequire_length_match\u001b[0m\u001b[0;34m(\u001b[0m\u001b[0mvalue\u001b[0m\u001b[0;34m,\u001b[0m \u001b[0mself\u001b[0m\u001b[0;34m.\u001b[0m\u001b[0mindex\u001b[0m\u001b[0;34m)\u001b[0m\u001b[0;34m\u001b[0m\u001b[0;34m\u001b[0m\u001b[0m\n\u001b[0m\u001b[1;32m   4510\u001b[0m         \u001b[0;32mreturn\u001b[0m \u001b[0msanitize_array\u001b[0m\u001b[0;34m(\u001b[0m\u001b[0mvalue\u001b[0m\u001b[0;34m,\u001b[0m \u001b[0mself\u001b[0m\u001b[0;34m.\u001b[0m\u001b[0mindex\u001b[0m\u001b[0;34m,\u001b[0m \u001b[0mcopy\u001b[0m\u001b[0;34m=\u001b[0m\u001b[0;32mTrue\u001b[0m\u001b[0;34m,\u001b[0m \u001b[0mallow_2d\u001b[0m\u001b[0;34m=\u001b[0m\u001b[0;32mTrue\u001b[0m\u001b[0;34m)\u001b[0m\u001b[0;34m\u001b[0m\u001b[0;34m\u001b[0m\u001b[0m\n\u001b[1;32m   4511\u001b[0m \u001b[0;34m\u001b[0m\u001b[0m\n",
      "\u001b[0;32m~/opt/anaconda3/envs/dev/lib/python3.7/site-packages/pandas/core/common.py\u001b[0m in \u001b[0;36mrequire_length_match\u001b[0;34m(data, index)\u001b[0m\n\u001b[1;32m    530\u001b[0m     \u001b[0;32mif\u001b[0m \u001b[0mlen\u001b[0m\u001b[0;34m(\u001b[0m\u001b[0mdata\u001b[0m\u001b[0;34m)\u001b[0m \u001b[0;34m!=\u001b[0m \u001b[0mlen\u001b[0m\u001b[0;34m(\u001b[0m\u001b[0mindex\u001b[0m\u001b[0;34m)\u001b[0m\u001b[0;34m:\u001b[0m\u001b[0;34m\u001b[0m\u001b[0;34m\u001b[0m\u001b[0m\n\u001b[1;32m    531\u001b[0m         raise ValueError(\n\u001b[0;32m--> 532\u001b[0;31m             \u001b[0;34m\"Length of values \"\u001b[0m\u001b[0;34m\u001b[0m\u001b[0;34m\u001b[0m\u001b[0m\n\u001b[0m\u001b[1;32m    533\u001b[0m             \u001b[0;34mf\"({len(data)}) \"\u001b[0m\u001b[0;34m\u001b[0m\u001b[0;34m\u001b[0m\u001b[0m\n\u001b[1;32m    534\u001b[0m             \u001b[0;34m\"does not match length of index \"\u001b[0m\u001b[0;34m\u001b[0m\u001b[0;34m\u001b[0m\u001b[0m\n",
      "\u001b[0;31mValueError\u001b[0m: Length of values (7) does not match length of index (1)"
     ]
    }
   ],
   "source": [
    "pre_pandemic_std=pd.DataFrame(pre_pandemic_prices_df.std())\n",
    "# pre_pandemic_std=pre_pandemic_prices_df.reset_index()\n",
    "# del pre_pandemic_std['level_0']\n",
    "pre_pandemic_std.rename({'level_0': 'Ticker', 0: 'STD'}, axis=1, inplace=True)\n",
    "pre_pandemic_std['ticker_type']=['Stock','ETF','Stock','ETF','Stock','ETF','Index']\n",
    "pre_pandemic_std"
   ]
  },
  {
   "cell_type": "code",
   "execution_count": null,
   "id": "9bd553ab-f471-4f5e-9250-d6c14c852fd0",
   "metadata": {
    "tags": []
   },
   "outputs": [],
   "source": [
    "pre_pandemic_mean=pd.DataFrame(Pandemic_prices_df.std())\n",
    "pre_pandemic_mean=pandemic_mean.reset_index()\n",
    "del pre_pandemic_mean['index']\n",
    "#pre_pandemic_mean.columns=['Ticker','Mean']\n",
    "pre_pandemic_mean['Ticker_type']=['Stock','ETF','Stock','ETF','Stock','ETF','Index']\n",
    "pre_pandemic_mean"
   ]
  },
  {
   "cell_type": "code",
   "execution_count": null,
   "id": "ff4acb97-aefd-475c-b7a3-320ffdce8a2b",
   "metadata": {},
   "outputs": [],
   "source": [
    "database_connection_string = 'sqlite:///'"
   ]
  },
  {
   "cell_type": "code",
   "execution_count": null,
   "id": "21b45bd6-804e-4a3a-b666-71a48852f697",
   "metadata": {},
   "outputs": [],
   "source": [
    "engine = sqlalchemy.create_engine(database_connection_string)"
   ]
  },
  {
   "cell_type": "code",
   "execution_count": null,
   "id": "ba8f9cd5-5dd7-4082-87d8-34b9baa5a145",
   "metadata": {},
   "outputs": [],
   "source": [
    "engine.table_names()"
   ]
  },
  {
   "cell_type": "code",
   "execution_count": null,
   "id": "0830f046-3144-4399-b0d0-660fd8d97b5b",
   "metadata": {},
   "outputs": [],
   "source": [
    "pre_pandemic_mean.to_sql('portfolio_mean',engine)"
   ]
  },
  {
   "cell_type": "code",
   "execution_count": null,
   "id": "9ff13007-c97b-4421-b015-3bc66f8bbe1c",
   "metadata": {},
   "outputs": [],
   "source": [
    "engine.table_names()"
   ]
  },
  {
   "cell_type": "code",
   "execution_count": null,
   "id": "0154243c-36a5-46fd-a501-8ecca1b8732d",
   "metadata": {},
   "outputs": [],
   "source": [
    "del_spy_mean = \"\"\"delete from portfolio_mean where mean=0.000288\"\"\"\n",
    "engine.execute(del_spy_mean)"
   ]
  },
  {
   "cell_type": "code",
   "execution_count": null,
   "id": "dc4a9670-379c-44b5-89dd-8d6bf0129e04",
   "metadata": {},
   "outputs": [],
   "source": [
    "def top_stock():\n",
    "    sel_port_max_mean=\"\"\"select Ticker from portfolio_mean where mean= (select max(Mean) from portfolio_mean where Ticker_type='Stock')\"\"\"\n",
    "    max_mean=engine.execute(sel_port_max_mean)\n",
    "    for row in max_mean:\n",
    "        print(row)"
   ]
  },
  {
   "cell_type": "code",
   "execution_count": null,
   "id": "9f4da87d-6259-4d95-9a0b-6ca14141e919",
   "metadata": {},
   "outputs": [],
   "source": [
    "top_stock()"
   ]
  },
  {
   "cell_type": "code",
   "execution_count": null,
   "id": "08a4ad07-2507-4d91-9993-5096d33155e0",
   "metadata": {},
   "outputs": [],
   "source": [
    "def bottom_stock():\n",
    "    sel_port_min_mean=\"\"\"select Ticker from portfolio_mean where mean= (select min(mean) from portfolio_mean where Ticker_type='Stock')\"\"\"\n",
    "    min_mean=engine.execute(sel_port_min_mean)\n",
    "    for row in min_mean:\n",
    "        print(row)"
   ]
  },
  {
   "cell_type": "code",
   "execution_count": null,
   "id": "50a66d32-cfed-4439-8843-c08dd440efe3",
   "metadata": {},
   "outputs": [],
   "source": [
    "bottom_stock()"
   ]
  },
  {
   "cell_type": "code",
   "execution_count": null,
   "id": "d48edeeb-5fc0-4396-ac6c-c8a0eac2fedd",
   "metadata": {},
   "outputs": [],
   "source": [
    "def top_etf():\n",
    "    sel_port_max_mean=\"\"\"select Ticker from portfolio_mean where mean= (select max(Mean) from portfolio_mean where Ticker_type='ETF')\"\"\"\n",
    "    max_mean=engine.execute(sel_port_max_mean)\n",
    "    for row in max_mean:\n",
    "        print(row)"
   ]
  },
  {
   "cell_type": "code",
   "execution_count": null,
   "id": "1ffc3ddd-c043-41fa-b97a-5adbd0e2bd85",
   "metadata": {},
   "outputs": [],
   "source": [
    "top_etf()"
   ]
  },
  {
   "cell_type": "code",
   "execution_count": null,
   "id": "9677a326-6074-4039-b824-1d05bc4fc7bc",
   "metadata": {},
   "outputs": [],
   "source": [
    "def bottom_etf():\n",
    "    sel_port_min_mean=\"\"\"select Ticker from portfolio_mean where mean=(select min(mean) from portfolio_mean where Ticker_type='ETF')\"\"\"\n",
    "    min_mean=engine.execute(sel_port_min_mean)\n",
    "    for row in min_mean:\n",
    "        print(row)"
   ]
  },
  {
   "cell_type": "code",
   "execution_count": null,
   "id": "e9c2efb9-3269-49ac-ae05-a23ee7eb2dda",
   "metadata": {},
   "outputs": [],
   "source": [
    "bottom_etf()"
   ]
  },
  {
   "cell_type": "code",
   "execution_count": 28,
   "id": "bb69ca85-e48f-4f13-a3b0-614598f38625",
   "metadata": {},
   "outputs": [],
   "source": [
    "# Pending - replace Mean greater than a dynamic value\n",
    "def sur_spy():\n",
    "    sel_port_sur_spy=\"\"\"select Ticker from portfolio_mean where Mean>0.009506\"\"\"\n",
    "    sur_spy=engine.execute(sel_port_sur_spy)\n",
    "    for row in sur_spy:\n",
    "        print(row)"
   ]
  },
  {
   "cell_type": "code",
   "execution_count": null,
   "id": "7a38f85b-d9c3-4d8f-859d-954db28135e5",
   "metadata": {},
   "outputs": [],
   "source": [
    "sur_spy()"
   ]
  },
  {
   "cell_type": "code",
   "execution_count": null,
   "id": "c7171161-6efb-4a05-b703-4bbdb5962ff0",
   "metadata": {
    "tags": []
   },
   "outputs": [],
   "source": [
    "Pandemic_prices_df"
   ]
  },
  {
   "cell_type": "code",
   "execution_count": null,
   "id": "57557244-d89f-487c-9fef-8ea4b98aade2",
   "metadata": {},
   "outputs": [],
   "source": [
    "#Summary statistics for AMZN stock using .std() and .mean()\n",
    "display(AMZN_daily_returns_df.std())\n",
    "display(AMZN_daily_returns_df.mean())"
   ]
  },
  {
   "cell_type": "code",
   "execution_count": null,
   "id": "43851111-af48-4322-9aeb-30fcd0e713e0",
   "metadata": {},
   "outputs": [],
   "source": [
    "#Summary statistics for RTH stock using .std() and .mean()\n",
    "RTH_daily_returns_df.std()\n",
    "RTH_daily_returns_df.mean()"
   ]
  },
  {
   "cell_type": "code",
   "execution_count": null,
   "id": "80a18635-6927-4ebf-be21-bac003f7f04e",
   "metadata": {},
   "outputs": [],
   "source": [
    "#Summary statistics for AMT stock using .std() and .mean()\n",
    "AMT_daily_returns_df.std()\n",
    "AMT_daily_returns_df.mean()"
   ]
  },
  {
   "cell_type": "code",
   "execution_count": null,
   "id": "0a6d48da-cbbb-453a-9059-25725226b493",
   "metadata": {},
   "outputs": [],
   "source": [
    "#Summary statistics for IYR stock using .std() and .mean()\n",
    "IYR_daily_returns_df.std()\n",
    "IYR_daily_returns_df.mean()"
   ]
  },
  {
   "cell_type": "code",
   "execution_count": null,
   "id": "60b68c0d-17fb-45b8-8b7b-10c7edb435e8",
   "metadata": {},
   "outputs": [],
   "source": [
    "#Summary statistics for XOM stock using .std() and .mean()\n",
    "XOM_daily_returns_df.std()\n",
    "XOM_daily_returns_df.mean()"
   ]
  },
  {
   "cell_type": "code",
   "execution_count": null,
   "id": "93ce569f-0ac9-4d0c-b2c9-95c9ac18e1f7",
   "metadata": {},
   "outputs": [],
   "source": [
    "#Summary statistics for XLE stock using .std() and .mean()\n",
    "XLE_daily_returns_df.std()\n",
    "XLE_daily_returns_df.mean()"
   ]
  },
  {
   "cell_type": "code",
   "execution_count": null,
   "id": "90f2823e-f0d8-4e66-b5d2-d0f2ca4f16c9",
   "metadata": {},
   "outputs": [],
   "source": [
    "Pandemic_prices_df.describe()"
   ]
  },
  {
   "cell_type": "code",
   "execution_count": null,
   "id": "a47fc738-e516-4502-abab-4629cec0e12d",
   "metadata": {},
   "outputs": [],
   "source": [
    "#Summary statistics for AMZN using .describe()\n",
    "AMZN_daily_returns_df.describe()"
   ]
  },
  {
   "cell_type": "code",
   "execution_count": null,
   "id": "c6df94d2-4744-4ee7-b582-c820961204a7",
   "metadata": {},
   "outputs": [],
   "source": [
    "#Summary statistics for RTH using .describe()\n",
    "RTH_daily_returns_df.describe()"
   ]
  },
  {
   "cell_type": "code",
   "execution_count": null,
   "id": "b6ef11bb-db63-45dc-8904-98b78c5c6ae0",
   "metadata": {},
   "outputs": [],
   "source": [
    "#Summary statistics for AMT using .describe()\n",
    "AMT_daily_returns_df.describe()"
   ]
  },
  {
   "cell_type": "code",
   "execution_count": null,
   "id": "7c4aa0f8-a623-4855-aad0-18dee5615781",
   "metadata": {},
   "outputs": [],
   "source": [
    "#Summary statistics for IYR using .describe()\n",
    "IYR_daily_returns_df.describe()"
   ]
  },
  {
   "cell_type": "code",
   "execution_count": null,
   "id": "f2a60a2b-a269-4563-b637-f2d825f99ef5",
   "metadata": {},
   "outputs": [],
   "source": [
    "#Summary statistics for XOM using .describe()\n",
    "XOM_daily_returns_df.describe()"
   ]
  },
  {
   "cell_type": "code",
   "execution_count": null,
   "id": "45f67940-9e53-4ffc-9a8a-c6b59e920775",
   "metadata": {},
   "outputs": [],
   "source": [
    "#Summary statistics for XLE using .describe()\n",
    "XLE_daily_returns_df.describe()"
   ]
  },
  {
   "cell_type": "code",
   "execution_count": null,
   "id": "b0ea0815-7ab3-4c32-a754-622350e7323a",
   "metadata": {},
   "outputs": [],
   "source": [
    "Pandemic_var=Pandemic_prices_df.var()\n",
    "Pandemic_var"
   ]
  },
  {
   "cell_type": "code",
   "execution_count": null,
   "id": "aab7c8d8-e0ab-472f-a062-f43551600a95",
   "metadata": {},
   "outputs": [],
   "source": [
    "# Variance Of Amzn\n",
    "AMZN_var=AMZN_daily_returns_df.var()\n",
    "AMZN_var"
   ]
  },
  {
   "cell_type": "code",
   "execution_count": null,
   "id": "49a7106a-df9b-4a38-a6c7-cae41ac5f38c",
   "metadata": {},
   "outputs": [],
   "source": [
    "# Variance For RTH\n",
    "RTH_var=RTH_daily_returns_df.var()\n",
    "RTH_var"
   ]
  },
  {
   "cell_type": "code",
   "execution_count": null,
   "id": "c167a7bb-6072-48cb-b8ad-7597b58bc0a8",
   "metadata": {},
   "outputs": [],
   "source": [
    "# Variance Of IYR\n",
    "IYR_var=IYR_daily_returns_df.var()\n",
    "IYR_var"
   ]
  },
  {
   "cell_type": "code",
   "execution_count": null,
   "id": "fd8ca882-08cb-48cb-88b8-ce31a1cd519b",
   "metadata": {},
   "outputs": [],
   "source": [
    "# Variance Of AMT\n",
    "AMT_var=AMT_daily_returns_df.var()\n",
    "AMT_var"
   ]
  },
  {
   "cell_type": "code",
   "execution_count": null,
   "id": "a324ba09-e369-486a-9014-9e6b4f051d22",
   "metadata": {},
   "outputs": [],
   "source": [
    "# Variance Of XOM\n",
    "XOM_var=XOM_daily_returns_df.var()\n",
    "XOM_var"
   ]
  },
  {
   "cell_type": "code",
   "execution_count": null,
   "id": "bb70e7af-f176-4366-bfc7-347bca816a08",
   "metadata": {},
   "outputs": [],
   "source": [
    "# Variance Of XLE\n",
    "XLE_var=XLE_daily_returns_df.var()\n",
    "XLE_var"
   ]
  },
  {
   "cell_type": "code",
   "execution_count": null,
   "id": "dd01668f-ecde-46a6-8188-d600ca5dabcb",
   "metadata": {},
   "outputs": [],
   "source": [
    "# Covariance for Each Stock and ETF\n",
    "AMZN_RTH_Cov=AMZN_daily_returns_df['daily_returns'].cov(SPY_daily_returns_df['daily_returns'])\n",
    "AMZN_RTH_Cov"
   ]
  },
  {
   "cell_type": "code",
   "execution_count": null,
   "id": "5c7aa024-9b16-4cc2-b5ae-27bc6a90e1ef",
   "metadata": {},
   "outputs": [],
   "source": [
    "# Covariance for Each Stock and ETF\n",
    "AMT_IYR_Cov=AMT_daily_returns_df['daily_returns'].cov(IYR_daily_returns_df['daily_returns'])\n",
    "AMT_IYR_Cov"
   ]
  },
  {
   "cell_type": "code",
   "execution_count": null,
   "id": "e91c6d15-5aa1-41fc-a6e7-d086cd9868f4",
   "metadata": {},
   "outputs": [],
   "source": [
    "# Covariance for Each Stock and ETF\n",
    "XOM_XLE_Cov=XOM_daily_returns_df['daily_returns'].cov(XLE_daily_returns_df['daily_returns'])\n",
    "XOM_XLE_Cov"
   ]
  },
  {
   "cell_type": "code",
   "execution_count": null,
   "id": "48eea197-5f92-4d21-9004-44e9dca5c0bd",
   "metadata": {},
   "outputs": [],
   "source": [
    "year_trading_days = 252"
   ]
  },
  {
   "cell_type": "code",
   "execution_count": null,
   "id": "cdce39c3-178a-4aca-852b-08b637e76f9b",
   "metadata": {},
   "outputs": [],
   "source": [
    "Pandemic_prices_ann_ret=Pandemic_prices_df.mean()*year_trading_days\n",
    "Pandemic_prices_ann_ret"
   ]
  },
  {
   "cell_type": "code",
   "execution_count": null,
   "id": "b6dbc1b9-d70d-4692-bbeb-3c56d6305ea8",
   "metadata": {},
   "outputs": [],
   "source": [
    "# Annualized returns of RTH\n",
    "RTH_Annual_Ret = RTH_daily_returns_df.mean()*252\n",
    "RTH_Annual_Ret"
   ]
  },
  {
   "cell_type": "code",
   "execution_count": null,
   "id": "fbacf7e2-0a31-4622-b873-cf066523dbc0",
   "metadata": {},
   "outputs": [],
   "source": [
    "# Annualized returns of IYR\n",
    "IYR_Annual_Ret = IYR_daily_returns_df.mean()*252\n",
    "IYR_Annual_Ret"
   ]
  },
  {
   "cell_type": "code",
   "execution_count": null,
   "id": "f5d7b699-0382-4a13-9753-83c969fa1ecd",
   "metadata": {},
   "outputs": [],
   "source": [
    "# Annualized returns of XLE\n",
    "XLE_Annual_Ret = XLE_daily_returns_df.mean()*252\n",
    "XLE_Annual_Ret"
   ]
  },
  {
   "cell_type": "code",
   "execution_count": null,
   "id": "853cd1ac-fd1b-4132-88b9-daf45b11f8e2",
   "metadata": {},
   "outputs": [],
   "source": [
    "Pandemic_prices_ann_std=Pandemic_prices_df.std()*np.sqrt(year_trading_days)\n",
    "Pandemic_prices_ann_std"
   ]
  },
  {
   "cell_type": "code",
   "execution_count": null,
   "id": "ef9a8667-33a0-4139-9db9-21a9473fcde6",
   "metadata": {},
   "outputs": [],
   "source": [
    "# Annualized std dev of RTH\n",
    "annual_std_dev_RTH = RTH_daily_returns_df.std() * np.sqrt(year_trading_days)\n",
    "annual_std_dev_RTH"
   ]
  },
  {
   "cell_type": "code",
   "execution_count": null,
   "id": "9528d47b-c694-4b9f-9165-f8667c2c4fad",
   "metadata": {},
   "outputs": [],
   "source": [
    "# Annualized std dev of IYR\n",
    "annual_std_dev_IYR = IYR_daily_returns_df.std() * np.sqrt(year_trading_days)\n",
    "annual_std_dev_IYR"
   ]
  },
  {
   "cell_type": "code",
   "execution_count": null,
   "id": "bd5de4b1-8be0-4ffa-a62e-08f742d31af0",
   "metadata": {},
   "outputs": [],
   "source": [
    "# Annualized std dev of XLE\n",
    "annual_std_dev_XLE = XLE_daily_returns_df.std() * np.sqrt(year_trading_days)\n",
    "annual_std_dev_XLE"
   ]
  },
  {
   "cell_type": "code",
   "execution_count": null,
   "id": "43f2f4f5-1e32-450f-bcc5-97f75a46485f",
   "metadata": {},
   "outputs": [],
   "source": [
    "Pandemic_prices_ann_ret/Pandemic_prices_ann_std"
   ]
  },
  {
   "cell_type": "code",
   "execution_count": null,
   "id": "bb0dcb6d-e07c-4022-971a-8628d0aae00c",
   "metadata": {},
   "outputs": [],
   "source": [
    "#Sharpe ratio for each stock and ETF \n",
    "Sharpe_RTH = RTH_Annual_Ret/annual_std_dev_RTH\n",
    "Sharpe_RTH"
   ]
  },
  {
   "cell_type": "code",
   "execution_count": null,
   "id": "840dea8e-0c11-4e4d-b246-ef178fd2dff3",
   "metadata": {},
   "outputs": [],
   "source": [
    "#Sharpe ratio for each stock and ETF \n",
    "Sharpe_IYR = IYR_Annual_Ret/annual_std_dev_IYR\n",
    "Sharpe_IYR "
   ]
  },
  {
   "cell_type": "code",
   "execution_count": null,
   "id": "108c9a44-1e15-4a3f-ad3b-1a0ce9755017",
   "metadata": {},
   "outputs": [],
   "source": [
    "#Sharpe ratio for each stock and ETF \n",
    "Sharpe_XLE = XLE_Annual_Ret/annual_std_dev_XLE\n",
    "Sharpe_XLE"
   ]
  },
  {
   "cell_type": "code",
   "execution_count": null,
   "id": "9b56aa30-cfb3-4468-a1c2-2447683fe4ac",
   "metadata": {},
   "outputs": [],
   "source": [
    "# Calculate betas of AMZN\n",
    "#AMZN_beta= = AMZN_daily_returns_df['daily_returns'].cov(SPY_daily_returns_df['daily_returns'])/SPY_daily_returns_df['daily_returns'].var()\n",
    "AMZN_beta=pf.timeseries.beta(AMZN_daily_returns_df, factor_returns = SPY_daily_returns_df)\n",
    "# Display the beta of all stocks and ETFS\n",
    "AMZN_beta"
   ]
  },
  {
   "cell_type": "code",
   "execution_count": null,
   "id": "1cbe97f4-462c-4173-a77c-45f8aaae3fc9",
   "metadata": {},
   "outputs": [],
   "source": [
    "# Calculate betas of RTH\n",
    "#RTH_beta = RTH_daily_returns_df['daily_returns'].cov(SPY_daily_returns_df['daily_returns'])/SPY_daily_returns_df['daily_returns'].var()\n",
    "RTH_beta=pf.timeseries.beta(RTH_daily_returns_df, factor_returns = RTH_daily_returns_df)\n",
    "# Display the beta of all stocks and ETFS\n",
    "RTH_beta"
   ]
  },
  {
   "cell_type": "code",
   "execution_count": null,
   "id": "0a45864e-87c1-47b8-bf85-36cb2a0f3884",
   "metadata": {},
   "outputs": [],
   "source": [
    "# Calculate betas of AMT\n",
    "#AMT_beta =AMT_daily_returns_df['daily_returns'].cov(SPY_daily_returns_df['daily_returns'])/SPY_daily_returns_df['daily_returns'].var()\n",
    "AMT_beta = pf.timeseries.beta(AMT_daily_returns_df, factor_returns = AMT_daily_returns_df)\n",
    "# Display the beta of all stocks and ETFS\n",
    "AMT_beta"
   ]
  },
  {
   "cell_type": "code",
   "execution_count": null,
   "id": "f55ea83b-f86e-42ac-8adf-aed504f38089",
   "metadata": {},
   "outputs": [],
   "source": [
    "# Calculate betas of IYR\n",
    "#IYR_beta = IYR_daily_returns_df['daily_returns'].cov(SPY_daily_returns_df['daily_returns'])/SPY_daily_returns_df['daily_returns'].var()\n",
    "IYR_beta = pf.timeseries.beta(IYR_daily_returns_df, factor_returns = IYR_daily_returns_df)\n",
    "# Display the beta of all stocks and ETFS\n",
    "IYR_beta"
   ]
  },
  {
   "cell_type": "code",
   "execution_count": null,
   "id": "2a6a88a4-daff-4e96-955c-4de531e2a58a",
   "metadata": {},
   "outputs": [],
   "source": [
    "# Calculate betas of XOM\n",
    "#XOM_beta = XOM_daily_returns_df['daily_returns'].cov(SPY_daily_returns_df['daily_returns'])/SPY_daily_returns_df['daily_returns'].var()\n",
    "XOM_beta = pf.timeseries.beta(XOM_daily_returns_df, factor_returns = XOM_daily_returns_df)\n",
    "# Display the beta of all stocks and ETFS\n",
    "XOM_beta"
   ]
  },
  {
   "cell_type": "code",
   "execution_count": null,
   "id": "15d030be-4280-40db-8364-f681f0a865dd",
   "metadata": {},
   "outputs": [],
   "source": [
    "# Calculate betas of XLE \n",
    "#XLE_beta = XLE_daily_returns_df['daily_returns'].cov(SPY_daily_returns_df['daily_returns'])/SPY_daily_returns_df['daily_returns'].var()\n",
    "XLE_beta = pf.timeseries.beta(XLE_daily_returns_df, factor_returns = XLE_daily_returns_df)\n",
    "# Display the beta of all stocks and ETFS\n",
    "XLE_beta"
   ]
  },
  {
   "cell_type": "code",
   "execution_count": null,
   "id": "4e7d167c-cfbf-4e62-8d18-fc939d6c6939",
   "metadata": {},
   "outputs": [],
   "source": [
    "result = pf.create_returns_tear_sheet(AMZN_daily_returns_df.reset_index(level = 1,drop = True).daily_returns,\n",
    "                                           return_fig=True)\n",
    "#result.savefig(\"amzn_prepan_tearsheet.png\", format = \"png\")"
   ]
  },
  {
   "cell_type": "code",
   "execution_count": null,
   "id": "83f06fe9-58d8-47eb-90c8-001d29f2d32e",
   "metadata": {},
   "outputs": [],
   "source": [
    "result = pf.create_returns_tear_sheet(RTH_daily_returns_df.reset_index(level = 1,drop = True).daily_returns,\n",
    "                                           return_fig=True)\n",
    "#result.savefig(\"RTH_prepan_tearsheet.png\", format = \"png\")"
   ]
  },
  {
   "cell_type": "code",
   "execution_count": null,
   "id": "453690b4-129f-4671-9dbd-730e93820e36",
   "metadata": {},
   "outputs": [],
   "source": [
    "result = pf.create_returns_tear_sheet(AMT_daily_returns_df.reset_index(level = 1,drop = True).daily_returns,\n",
    "                                           return_fig=True)\n",
    "#result.savefig(\"amt_prepan_tearsheet.png\", format = \"png\")"
   ]
  },
  {
   "cell_type": "code",
   "execution_count": null,
   "id": "8ea54b17-b95d-42bf-8f8b-e7ab4c20fa28",
   "metadata": {},
   "outputs": [],
   "source": [
    "result = pf.create_returns_tear_sheet(IYR_daily_returns_df.reset_index(level = 1,drop = True).daily_returns,\n",
    "                                           return_fig=True)\n",
    "#result.savefig(\"iyr_prepan_tearsheet.png\", format = \"png\")"
   ]
  },
  {
   "cell_type": "code",
   "execution_count": null,
   "id": "18163c61-a0a9-48e7-bf81-757a56f15ab3",
   "metadata": {},
   "outputs": [],
   "source": [
    "result = pf.create_returns_tear_sheet(XOM_daily_returns_df.reset_index(level = 1,drop = True).daily_returns,\n",
    "                                           return_fig=True)\n",
    "#result.savefig(\"xom_prepan_tearsheet.png\", format = \"png\")"
   ]
  },
  {
   "cell_type": "code",
   "execution_count": null,
   "id": "7b50dbb7-6a9d-45dc-8502-c75ab58e2237",
   "metadata": {},
   "outputs": [],
   "source": [
    "result = pf.create_returns_tear_sheet(XLE_daily_returns_df.reset_index(level = 1,drop = True).daily_returns,\n",
    "                                           return_fig=True)\n",
    "#result.savefig(\"xle_prepan_tearsheet.png\", format = \"png\")\n"
   ]
  },
  {
   "cell_type": "code",
   "execution_count": null,
   "id": "e9b38d9d-2ee8-4442-b2e0-b8359ccb4d6b",
   "metadata": {},
   "outputs": [],
   "source": [
    "result = pf.create_returns_tear_sheet(SPY_daily_returns_df.reset_index(level = 1,drop = True).daily_returns,\n",
    "                                           return_fig=True)\n",
    "#result.savefig(\"spy_prepan_tearsheet.png\", format = \"png\")"
   ]
  },
  {
   "cell_type": "code",
   "execution_count": null,
   "id": "0b8f0366-8155-4c95-8355-5833bfa1c2fa",
   "metadata": {},
   "outputs": [],
   "source": [
    "# Calculate alphas of AMZN\n",
    "Alpha = R – Rf – beta (Rm-Rf)\n",
    "AMZN_Alpha = R – Rf – AMZN_beta (Rm-Rf)\n",
    "# Display the alphas of all stocks and ETFS\n",
    "AMZN_Alpha"
   ]
  },
  {
   "cell_type": "code",
   "execution_count": null,
   "id": "eb4f2954-baa3-48bb-b6b3-2512a7c7e5e2",
   "metadata": {},
   "outputs": [],
   "source": [
    "# Calculate alphas of RTH\n",
    "RTH_Alpha = R – Rf – RTH_beta (Rm-Rf)\n",
    "# Display the alphas of all stocks and ETFS\n",
    "RTH_Alpha"
   ]
  },
  {
   "cell_type": "code",
   "execution_count": null,
   "id": "fbbda80f-d871-455b-a235-18e3bd6cc58d",
   "metadata": {},
   "outputs": [],
   "source": [
    "# Calculate alphas of AMT\n",
    "AMT_Alpha = R – Rf – AMT_beta (Rm-Rf)\n",
    "# Display the alphas of all stocks and ETFS\n",
    "AMT_Alpha"
   ]
  },
  {
   "cell_type": "code",
   "execution_count": null,
   "id": "cc6b6bb7-6661-41e7-838b-2a7eed5e86ed",
   "metadata": {},
   "outputs": [],
   "source": [
    "# Calculate alphas of IYR\n",
    "IYR_Alpha = R – Rf – IYR_beta (Rm-Rf)\n",
    "# Display the alphas of all stocks and ETFS\n",
    "IYR_Alpha"
   ]
  },
  {
   "cell_type": "code",
   "execution_count": null,
   "id": "a1e772a6-d6a9-47aa-a202-be88d7eb1cc5",
   "metadata": {},
   "outputs": [],
   "source": [
    "# Calculate alphas of XOM\n",
    "XOM_Alpha = R – Rf – XOM_beta (Rm-Rf)\n",
    "# Display the alphas of all stocks and ETFS\n",
    "XOM_Alpha"
   ]
  },
  {
   "cell_type": "code",
   "execution_count": null,
   "id": "60a1359b-26cf-4090-8ba6-360e2208e797",
   "metadata": {},
   "outputs": [],
   "source": [
    "# Calculate alphas of XLE \n",
    "XLEZZ_Alpha = R – Rf – XLE_beta (Rm-Rf)\n",
    "XLEZZ_Alpha"
   ]
  },
  {
   "cell_type": "markdown",
   "id": "730909ed-38de-433e-b54b-0d3f6bc1fc8c",
   "metadata": {},
   "source": [
    "### A) Analyzing What Would Happen To A Portfolio in Each Sector For the Period Before the Pandemic"
   ]
  },
  {
   "cell_type": "code",
   "execution_count": null,
   "id": "9bb484a7-56ee-4a8d-bfdf-f604c1a1be1f",
   "metadata": {},
   "outputs": [],
   "source": [
    "import questionary"
   ]
  },
  {
   "cell_type": "code",
   "execution_count": null,
   "id": "f2dc4b63-30ac-46a8-bf71-0af30379345b",
   "metadata": {},
   "outputs": [],
   "source": [
    "#Questionary SQL\n",
    "#what kind of investor are you (risk-averse, risk-neutral, risk loving)?\n",
    "\n",
    "#Which company performed well in pre pandemic?\n",
    "#Which ETF performed well in pre pandemic?\n",
    "#Which ticker performed better than SPY?\n",
    "#Which company performed inversely in pre pandemic?\n",
    "#Which ETF performed inversely in pre pandemic?\n",
    "\n"
   ]
  },
  {
   "cell_type": "code",
   "execution_count": null,
   "id": "3dc5f858-307e-4cbd-bb9d-93060d737f86",
   "metadata": {},
   "outputs": [],
   "source": []
  },
  {
   "cell_type": "code",
   "execution_count": null,
   "id": "aef37e10-756f-4ee1-9266-40335ec09176",
   "metadata": {},
   "outputs": [],
   "source": [
    "#Portfolio Returns for Tech: use (portfolio_return = weightAMZN * meanAMZN + weightRTH * meanRTH)\n"
   ]
  },
  {
   "cell_type": "code",
   "execution_count": null,
   "id": "2065791a-7216-4bd2-b797-1ee44011e409",
   "metadata": {},
   "outputs": [],
   "source": [
    "#Portfolio Returns for Real Estate: use (portfolio_return = weightAMT * meanAMT + weightIYR * meanIYR)\n",
    "\n"
   ]
  },
  {
   "cell_type": "code",
   "execution_count": null,
   "id": "22810902-1b52-4d3a-9292-88d944facd09",
   "metadata": {},
   "outputs": [],
   "source": [
    "#Portfolio Returns for Energy: use (portfolio_return = weightXOM * meanXOM + weightXLE * meanXLE)\n",
    "\n"
   ]
  },
  {
   "cell_type": "code",
   "execution_count": null,
   "id": "4c02dd9f-5fdf-4354-969d-fc3d4f333e71",
   "metadata": {},
   "outputs": [],
   "source": [
    "# Using the Pandas var function, calculate the covariance of the S&P 500 using tech portfolio returns information\n",
    "# The ETF SPY will represent the market\n"
   ]
  },
  {
   "cell_type": "code",
   "execution_count": null,
   "id": "cf15e04a-fc49-48f3-99b8-6c05f9ffabff",
   "metadata": {},
   "outputs": [],
   "source": [
    "# Using the Pandas var function, calculate the covariance of the S&P 500 using Real Estate portfolio returns information\n",
    "# The ETF SPY will represent the market\n"
   ]
  },
  {
   "cell_type": "code",
   "execution_count": null,
   "id": "81d6f2b5-93ed-4d9a-8e5c-569dec488e0c",
   "metadata": {},
   "outputs": [],
   "source": [
    "# Using the Pandas var function, calculate the covariance of the S&P 500 using Energy portfolio returns information\n",
    "# The ETF SPY will represent the market\n"
   ]
  },
  {
   "cell_type": "code",
   "execution_count": null,
   "id": "3879d2f5-ba8a-4275-ad66-ea8a69bf14c3",
   "metadata": {},
   "outputs": [],
   "source": [
    "#Calculate the Portfolio Standard Deviation for Tech: use (weightAMZN^2 * MeanAMZN^2 + weightRTH^2 * MeanRTH^2 + 2*weightAMZN*weightRTH*stdevAMZN*stdevRTH*covAMZN,RTH)\n"
   ]
  },
  {
   "cell_type": "code",
   "execution_count": null,
   "id": "be1fe403-e896-4324-a126-e2c4c0b6a5cf",
   "metadata": {},
   "outputs": [],
   "source": [
    "#Calculate the Portfolio Standard Deviation for Real Estate\n"
   ]
  },
  {
   "cell_type": "code",
   "execution_count": null,
   "id": "dfc1ba2a-447f-4b9c-9bd2-35a358472213",
   "metadata": {},
   "outputs": [],
   "source": [
    "#Calculate the Portfolio Standard Deviation for Energy\n"
   ]
  },
  {
   "cell_type": "code",
   "execution_count": null,
   "id": "13208f83-4d9a-4891-b5a6-58ff48280422",
   "metadata": {},
   "outputs": [],
   "source": [
    "# Using the Pandas rolling function in conjunction with the var function, \n",
    "# calculate the 30-day rolling variance for the S&P 500 using tech daily returns information\n",
    "\n",
    "# Visualize the 30-day rolling variance of the S&P 500\n",
    "# Be sure to adjust the figure size and add a title\n"
   ]
  },
  {
   "cell_type": "code",
   "execution_count": null,
   "id": "7df3d87b-6d71-4d1e-8067-984111e671d7",
   "metadata": {},
   "outputs": [],
   "source": [
    "#Monte Carlo Simulation\n"
   ]
  },
  {
   "cell_type": "code",
   "execution_count": null,
   "id": "d1e86eb5-7600-4485-b234-0b7c96421eaa",
   "metadata": {},
   "outputs": [],
   "source": [
    "#Box and Whisker Plot\n"
   ]
  },
  {
   "cell_type": "code",
   "execution_count": null,
   "id": "a6622cf0-3fad-4f25-8f37-9bd7b19b0de7",
   "metadata": {},
   "outputs": [],
   "source": [
    "#HVPlot\n"
   ]
  },
  {
   "cell_type": "code",
   "execution_count": null,
   "id": "3b8580ff-d5e9-4bd6-a82a-a45f0dcdf1ca",
   "metadata": {},
   "outputs": [],
   "source": [
    "#bar plot comparing returns of all sectors "
   ]
  },
  {
   "cell_type": "code",
   "execution_count": null,
   "id": "bb591f12-3cb3-4f7e-b407-354f307483ef",
   "metadata": {},
   "outputs": [],
   "source": [
    "#bar plot comparing returns of all portfolio"
   ]
  },
  {
   "cell_type": "code",
   "execution_count": null,
   "id": "1cf09a58-38c4-45ec-b040-4deaeb68a9d4",
   "metadata": {},
   "outputs": [],
   "source": []
  }
 ],
 "metadata": {
  "kernelspec": {
   "display_name": "dev",
   "language": "python",
   "name": "dev"
  },
  "language_info": {
   "codemirror_mode": {
    "name": "ipython",
    "version": 3
   },
   "file_extension": ".py",
   "mimetype": "text/x-python",
   "name": "python",
   "nbconvert_exporter": "python",
   "pygments_lexer": "ipython3",
   "version": "3.7.13"
  },
  "vscode": {
   "interpreter": {
    "hash": "3ad933181bd8a04b432d3370b9dc3b0662ad032c4dfaa4e4f1596c548f763858"
   }
  }
 },
 "nbformat": 4,
 "nbformat_minor": 5
}
