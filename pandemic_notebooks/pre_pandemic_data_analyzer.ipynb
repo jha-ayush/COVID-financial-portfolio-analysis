{
 "cells": [
  {
   "cell_type": "markdown",
   "id": "1a47de4a-ec9e-4135-b1fe-e1cb051330cf",
   "metadata": {},
   "source": [
    "# Pre-pandemic financial analysis"
   ]
  },
  {
   "cell_type": "code",
   "execution_count": 1,
   "id": "2ba78104-2318-4e33-9895-bd32f48434a9",
   "metadata": {},
   "outputs": [
    {
     "name": "stdout",
     "output_type": "stream",
     "text": [
      "Last updated: 2022-11-30T12:43:40.868167-08:00\n",
      "\n",
      "Python implementation: CPython\n",
      "Python version       : 3.7.13\n",
      "IPython version      : 7.31.1\n",
      "\n",
      "Compiler    : Clang 12.0.0 \n",
      "OS          : Darwin\n",
      "Release     : 22.1.0\n",
      "Machine     : x86_64\n",
      "Processor   : i386\n",
      "CPU cores   : 8\n",
      "Architecture: 64bit\n",
      "\n",
      "\n"
     ]
    }
   ],
   "source": [
    "# Import warnings + watermark\n",
    "from watermark import watermark\n",
    "from warnings import filterwarnings\n",
    "filterwarnings(\"ignore\")\n",
    "print(watermark())\n",
    "print(watermark(iversions=True, globals_=globals()))"
   ]
  },
  {
   "cell_type": "code",
   "execution_count": 2,
   "id": "8d02b074-93ec-4081-b94d-1253f94aaedf",
   "metadata": {
    "tags": []
   },
   "outputs": [],
   "source": [
    "#import the necessary modules\n",
    "import pandas as pd\n",
    "import numpy as np\n",
    "#questionary\n",
    "from pathlib import Path\n",
    "import fire\n",
    "import questionary\n",
    "#API\n",
    "import os\n",
    "import json\n",
    "import requests\n",
    "from dotenv import load_dotenv\n",
    "%matplotlib inline"
   ]
  },
  {
   "cell_type": "code",
   "execution_count": 3,
   "id": "428574e2-2c55-4b44-a188-84e527dedd02",
   "metadata": {},
   "outputs": [],
   "source": [
    "POLYGON_API_KEY ='enZp2AUpH4pGXJJuQ1CbjdVXJIsBFBEl'"
   ]
  },
  {
   "cell_type": "code",
   "execution_count": 4,
   "id": "2cdf7244-351f-4a17-9938-49698418d841",
   "metadata": {},
   "outputs": [],
   "source": [
    "ticker_list = [\"AMZN\", \"RTH\", \"AMT\", \"IYR\", \"XOM\", \"XLE\", \"SPY\"]"
   ]
  },
  {
   "cell_type": "code",
   "execution_count": 5,
   "id": "2acc604b-e69e-41fd-babf-b83b33f81f05",
   "metadata": {
    "tags": []
   },
   "outputs": [],
   "source": [
    "import requests\n",
    "import datetime\n",
    "from time import sleep\n",
    "from tqdm import tqdm\n",
    "def get_prices(start_date,end_date,universe):\n",
    "    data = pd.DataFrame()\n",
    "    # end_at = datetime.datetime.now() \n",
    "    # begin_from = end_at + datetime.timedelta(days=-5000)\n",
    "    for t in tqdm(universe):\n",
    "        print(t)\n",
    "        print(len(data))\n",
    "        # for start in pd.date_range(start = begin_from, end = end_at,normalize=True,freq = '88D'):\n",
    "        #     end = start + datetime.timedelta(days = 88)\n",
    "        #     end = str(int((end - datetime.datetime(1970,1,1)).total_seconds()))\n",
    "        #     start = str(int((start - datetime.datetime(1970,1,1)).total_seconds()))\n",
    "        try:\n",
    "            r = requests.get(f'https://api.polygon.io/v2/aggs/ticker/{t}/range/1/day/{start_date}/{end_date}?apiKey={POLYGON_API_KEY}')\n",
    "        except json.JSONDecodeError:\n",
    "            pass\n",
    "        try:\n",
    "            # print(r.json())\n",
    "            temp_data = pd.DataFrame(r.json()['results'])\n",
    "            temp_data['ticker'] = t\n",
    "            data = data.append(temp_data, ignore_index=True)\n",
    "            print(t+':'+str(pd.to_datetime(start_date, unit='s'))+':'+str(pd.to_datetime(end_date, unit='s')))\n",
    "        except KeyError:\n",
    "            print(f'{t} was not found')\n",
    "            pass\n",
    "        except ValueError:\n",
    "            pass\n",
    "        except ConnectionError as error:\n",
    "            print(error)\n",
    "            sleep(200)\n",
    "            continue\n",
    "        except TimeoutError as error:\n",
    "            print(error)\n",
    "            sleep(200)\n",
    "            continue\n",
    "        sleep(0.25)\n",
    "#     data.to_csv(file_name,index = False)\n",
    "    data.t = pd.to_datetime(data.t, unit = 'ms')\n",
    "    columns_name = {'t': 'time', 'o': 'Open', 'c': 'Close', 'h': 'High', 'l': 'Low', 'v': 'Volume'} \n",
    "    data= data.rename(columns = columns_name)\n",
    "    data = data[['time','ticker','Open', 'Close','High', 'Low', 'Volume']]\n",
    "    data = data.set_index(['time', 'ticker'])\n",
    "    data[\"daily_returns\"] = data['Close'].groupby('ticker').pct_change()\n",
    "    data = data.dropna()\n",
    "    #data.to_csv(file_name, index = False)\n",
    "    return data"
   ]
  },
  {
   "cell_type": "code",
   "execution_count": 6,
   "id": "416c6c2e-9467-46a9-bcb0-fced2c70cc60",
   "metadata": {
    "collapsed": true,
    "jupyter": {
     "outputs_hidden": true
    },
    "tags": []
   },
   "outputs": [
    {
     "name": "stderr",
     "output_type": "stream",
     "text": [
      "  0%|                                                                                                          | 0/7 [00:00<?, ?it/s]"
     ]
    },
    {
     "name": "stdout",
     "output_type": "stream",
     "text": [
      "AMZN\n",
      "0\n"
     ]
    },
    {
     "name": "stderr",
     "output_type": "stream",
     "text": [
      " 14%|██████████████                                                                                    | 1/7 [00:00<00:05,  1.09it/s]"
     ]
    },
    {
     "name": "stdout",
     "output_type": "stream",
     "text": [
      "RTH\n",
      "563\n"
     ]
    },
    {
     "name": "stderr",
     "output_type": "stream",
     "text": [
      " 29%|████████████████████████████                                                                      | 2/7 [00:04<00:11,  2.23s/it]"
     ]
    },
    {
     "name": "stdout",
     "output_type": "stream",
     "text": [
      "AMT\n",
      "1126\n"
     ]
    },
    {
     "name": "stderr",
     "output_type": "stream",
     "text": [
      " 43%|██████████████████████████████████████████                                                        | 3/7 [00:04<00:06,  1.52s/it]"
     ]
    },
    {
     "name": "stdout",
     "output_type": "stream",
     "text": [
      "IYR\n",
      "1689\n"
     ]
    },
    {
     "name": "stderr",
     "output_type": "stream",
     "text": [
      " 57%|████████████████████████████████████████████████████████                                          | 4/7 [00:05<00:03,  1.19s/it]"
     ]
    },
    {
     "name": "stdout",
     "output_type": "stream",
     "text": [
      "XOM\n",
      "2252\n"
     ]
    },
    {
     "name": "stderr",
     "output_type": "stream",
     "text": [
      " 71%|██████████████████████████████████████████████████████████████████████                            | 5/7 [00:06<00:02,  1.01s/it]"
     ]
    },
    {
     "name": "stdout",
     "output_type": "stream",
     "text": [
      "XLE\n",
      "2815\n"
     ]
    },
    {
     "name": "stderr",
     "output_type": "stream",
     "text": [
      " 86%|████████████████████████████████████████████████████████████████████████████████████              | 6/7 [00:07<00:00,  1.01it/s]"
     ]
    },
    {
     "name": "stdout",
     "output_type": "stream",
     "text": [
      "SPY\n",
      "3378\n"
     ]
    },
    {
     "name": "stderr",
     "output_type": "stream",
     "text": [
      "100%|██████████████████████████████████████████████████████████████████████████████████████████████████| 7/7 [00:07<00:00,  1.10s/it]\n"
     ]
    }
   ],
   "source": [
    "# Create `start_date` and `end_date` variables for the period before the pandemic\n",
    "start_date = \"2017-03-01\"\n",
    "end_date = \"2020-03-01\"\n",
    "all_data = get_prices(start_date=start_date, end_date=end_date, universe=ticker_list)"
   ]
  },
  {
   "cell_type": "code",
   "execution_count": 7,
   "id": "c3fa2453-af96-42c5-ac90-14a69368a3d2",
   "metadata": {
    "collapsed": true,
    "jupyter": {
     "outputs_hidden": true
    },
    "tags": []
   },
   "outputs": [
    {
     "data": {
      "text/html": [
       "<div>\n",
       "<style scoped>\n",
       "    .dataframe tbody tr th:only-of-type {\n",
       "        vertical-align: middle;\n",
       "    }\n",
       "\n",
       "    .dataframe tbody tr th {\n",
       "        vertical-align: top;\n",
       "    }\n",
       "\n",
       "    .dataframe thead th {\n",
       "        text-align: right;\n",
       "    }\n",
       "</style>\n",
       "<table border=\"1\" class=\"dataframe\">\n",
       "  <thead>\n",
       "    <tr style=\"text-align: right;\">\n",
       "      <th></th>\n",
       "      <th></th>\n",
       "      <th>Open</th>\n",
       "      <th>Close</th>\n",
       "      <th>High</th>\n",
       "      <th>Low</th>\n",
       "      <th>Volume</th>\n",
       "      <th>daily_returns</th>\n",
       "    </tr>\n",
       "    <tr>\n",
       "      <th>time</th>\n",
       "      <th>ticker</th>\n",
       "      <th></th>\n",
       "      <th></th>\n",
       "      <th></th>\n",
       "      <th></th>\n",
       "      <th></th>\n",
       "      <th></th>\n",
       "    </tr>\n",
       "  </thead>\n",
       "  <tbody>\n",
       "    <tr>\n",
       "      <th>2017-12-04 05:00:00</th>\n",
       "      <th>AMZN</th>\n",
       "      <td>58.6925</td>\n",
       "      <td>56.6975</td>\n",
       "      <td>58.7600</td>\n",
       "      <td>56.400</td>\n",
       "      <td>118638300.0</td>\n",
       "      <td>-0.024433</td>\n",
       "    </tr>\n",
       "    <tr>\n",
       "      <th>2017-12-05 05:00:00</th>\n",
       "      <th>AMZN</th>\n",
       "      <td>56.4130</td>\n",
       "      <td>57.0785</td>\n",
       "      <td>57.9635</td>\n",
       "      <td>56.237</td>\n",
       "      <td>81595480.0</td>\n",
       "      <td>0.006720</td>\n",
       "    </tr>\n",
       "    <tr>\n",
       "      <th>2017-12-06 05:00:00</th>\n",
       "      <th>AMZN</th>\n",
       "      <td>56.8995</td>\n",
       "      <td>57.6175</td>\n",
       "      <td>57.7945</td>\n",
       "      <td>56.804</td>\n",
       "      <td>57066320.0</td>\n",
       "      <td>0.009443</td>\n",
       "    </tr>\n",
       "    <tr>\n",
       "      <th>2017-12-07 05:00:00</th>\n",
       "      <th>AMZN</th>\n",
       "      <td>57.8295</td>\n",
       "      <td>57.9895</td>\n",
       "      <td>58.1595</td>\n",
       "      <td>57.550</td>\n",
       "      <td>50231380.0</td>\n",
       "      <td>0.006456</td>\n",
       "    </tr>\n",
       "    <tr>\n",
       "      <th>2017-12-08 05:00:00</th>\n",
       "      <th>AMZN</th>\n",
       "      <td>58.5200</td>\n",
       "      <td>58.1000</td>\n",
       "      <td>58.6395</td>\n",
       "      <td>57.855</td>\n",
       "      <td>60567800.0</td>\n",
       "      <td>0.001906</td>\n",
       "    </tr>\n",
       "    <tr>\n",
       "      <th>...</th>\n",
       "      <th>...</th>\n",
       "      <td>...</td>\n",
       "      <td>...</td>\n",
       "      <td>...</td>\n",
       "      <td>...</td>\n",
       "      <td>...</td>\n",
       "      <td>...</td>\n",
       "    </tr>\n",
       "    <tr>\n",
       "      <th>2020-02-24 05:00:00</th>\n",
       "      <th>SPY</th>\n",
       "      <td>323.1400</td>\n",
       "      <td>322.4200</td>\n",
       "      <td>333.5623</td>\n",
       "      <td>321.240</td>\n",
       "      <td>161665075.0</td>\n",
       "      <td>-0.033165</td>\n",
       "    </tr>\n",
       "    <tr>\n",
       "      <th>2020-02-25 05:00:00</th>\n",
       "      <th>SPY</th>\n",
       "      <td>323.9400</td>\n",
       "      <td>312.6500</td>\n",
       "      <td>324.6100</td>\n",
       "      <td>311.690</td>\n",
       "      <td>219196902.0</td>\n",
       "      <td>-0.030302</td>\n",
       "    </tr>\n",
       "    <tr>\n",
       "      <th>2020-02-26 05:00:00</th>\n",
       "      <th>SPY</th>\n",
       "      <td>314.1800</td>\n",
       "      <td>311.5000</td>\n",
       "      <td>318.1100</td>\n",
       "      <td>310.700</td>\n",
       "      <td>194852264.0</td>\n",
       "      <td>-0.003678</td>\n",
       "    </tr>\n",
       "    <tr>\n",
       "      <th>2020-02-27 05:00:00</th>\n",
       "      <th>SPY</th>\n",
       "      <td>305.4600</td>\n",
       "      <td>297.5100</td>\n",
       "      <td>311.5637</td>\n",
       "      <td>297.510</td>\n",
       "      <td>283962598.0</td>\n",
       "      <td>-0.044912</td>\n",
       "    </tr>\n",
       "    <tr>\n",
       "      <th>2020-02-28 05:00:00</th>\n",
       "      <th>SPY</th>\n",
       "      <td>288.7000</td>\n",
       "      <td>296.2600</td>\n",
       "      <td>297.8920</td>\n",
       "      <td>285.540</td>\n",
       "      <td>381983496.0</td>\n",
       "      <td>-0.004202</td>\n",
       "    </tr>\n",
       "  </tbody>\n",
       "</table>\n",
       "<p>3934 rows × 6 columns</p>\n",
       "</div>"
      ],
      "text/plain": [
       "                                Open     Close      High      Low  \\\n",
       "time                ticker                                          \n",
       "2017-12-04 05:00:00 AMZN     58.6925   56.6975   58.7600   56.400   \n",
       "2017-12-05 05:00:00 AMZN     56.4130   57.0785   57.9635   56.237   \n",
       "2017-12-06 05:00:00 AMZN     56.8995   57.6175   57.7945   56.804   \n",
       "2017-12-07 05:00:00 AMZN     57.8295   57.9895   58.1595   57.550   \n",
       "2017-12-08 05:00:00 AMZN     58.5200   58.1000   58.6395   57.855   \n",
       "...                              ...       ...       ...      ...   \n",
       "2020-02-24 05:00:00 SPY     323.1400  322.4200  333.5623  321.240   \n",
       "2020-02-25 05:00:00 SPY     323.9400  312.6500  324.6100  311.690   \n",
       "2020-02-26 05:00:00 SPY     314.1800  311.5000  318.1100  310.700   \n",
       "2020-02-27 05:00:00 SPY     305.4600  297.5100  311.5637  297.510   \n",
       "2020-02-28 05:00:00 SPY     288.7000  296.2600  297.8920  285.540   \n",
       "\n",
       "                                 Volume  daily_returns  \n",
       "time                ticker                              \n",
       "2017-12-04 05:00:00 AMZN    118638300.0      -0.024433  \n",
       "2017-12-05 05:00:00 AMZN     81595480.0       0.006720  \n",
       "2017-12-06 05:00:00 AMZN     57066320.0       0.009443  \n",
       "2017-12-07 05:00:00 AMZN     50231380.0       0.006456  \n",
       "2017-12-08 05:00:00 AMZN     60567800.0       0.001906  \n",
       "...                                 ...            ...  \n",
       "2020-02-24 05:00:00 SPY     161665075.0      -0.033165  \n",
       "2020-02-25 05:00:00 SPY     219196902.0      -0.030302  \n",
       "2020-02-26 05:00:00 SPY     194852264.0      -0.003678  \n",
       "2020-02-27 05:00:00 SPY     283962598.0      -0.044912  \n",
       "2020-02-28 05:00:00 SPY     381983496.0      -0.004202  \n",
       "\n",
       "[3934 rows x 6 columns]"
      ]
     },
     "execution_count": 7,
     "metadata": {},
     "output_type": "execute_result"
    }
   ],
   "source": [
    "all_data"
   ]
  },
  {
   "cell_type": "code",
   "execution_count": 8,
   "id": "8d262a9f-d0d3-49a3-a818-6928a874aa4c",
   "metadata": {
    "collapsed": true,
    "jupyter": {
     "outputs_hidden": true
    },
    "tags": []
   },
   "outputs": [
    {
     "data": {
      "text/plain": [
       "MultiIndex([('2017-12-04 05:00:00', 'AMZN'),\n",
       "            ('2017-12-05 05:00:00', 'AMZN'),\n",
       "            ('2017-12-06 05:00:00', 'AMZN'),\n",
       "            ('2017-12-07 05:00:00', 'AMZN'),\n",
       "            ('2017-12-08 05:00:00', 'AMZN'),\n",
       "            ('2017-12-11 05:00:00', 'AMZN'),\n",
       "            ('2017-12-12 05:00:00', 'AMZN'),\n",
       "            ('2017-12-13 05:00:00', 'AMZN'),\n",
       "            ('2017-12-14 05:00:00', 'AMZN'),\n",
       "            ('2017-12-15 05:00:00', 'AMZN'),\n",
       "            ...\n",
       "            ('2020-02-14 05:00:00',  'SPY'),\n",
       "            ('2020-02-18 05:00:00',  'SPY'),\n",
       "            ('2020-02-19 05:00:00',  'SPY'),\n",
       "            ('2020-02-20 05:00:00',  'SPY'),\n",
       "            ('2020-02-21 05:00:00',  'SPY'),\n",
       "            ('2020-02-24 05:00:00',  'SPY'),\n",
       "            ('2020-02-25 05:00:00',  'SPY'),\n",
       "            ('2020-02-26 05:00:00',  'SPY'),\n",
       "            ('2020-02-27 05:00:00',  'SPY'),\n",
       "            ('2020-02-28 05:00:00',  'SPY')],\n",
       "           names=['time', 'ticker'], length=3934)"
      ]
     },
     "execution_count": 8,
     "metadata": {},
     "output_type": "execute_result"
    }
   ],
   "source": [
    "all_data.index"
   ]
  },
  {
   "cell_type": "code",
   "execution_count": 9,
   "id": "fb3a57e1-da2d-4a2c-8bc9-c8c26462291b",
   "metadata": {},
   "outputs": [],
   "source": [
    "idx = pd.IndexSlice"
   ]
  },
  {
   "cell_type": "code",
   "execution_count": 10,
   "id": "bd9f0acc-2b7f-4ba8-94e1-b16f4b2d8404",
   "metadata": {
    "collapsed": true,
    "jupyter": {
     "outputs_hidden": true
    },
    "tags": []
   },
   "outputs": [
    {
     "data": {
      "text/html": [
       "<div>\n",
       "<style scoped>\n",
       "    .dataframe tbody tr th:only-of-type {\n",
       "        vertical-align: middle;\n",
       "    }\n",
       "\n",
       "    .dataframe tbody tr th {\n",
       "        vertical-align: top;\n",
       "    }\n",
       "\n",
       "    .dataframe thead th {\n",
       "        text-align: right;\n",
       "    }\n",
       "</style>\n",
       "<table border=\"1\" class=\"dataframe\">\n",
       "  <thead>\n",
       "    <tr style=\"text-align: right;\">\n",
       "      <th></th>\n",
       "      <th></th>\n",
       "      <th>daily_returns</th>\n",
       "    </tr>\n",
       "    <tr>\n",
       "      <th>time</th>\n",
       "      <th>ticker</th>\n",
       "      <th></th>\n",
       "    </tr>\n",
       "  </thead>\n",
       "  <tbody>\n",
       "    <tr>\n",
       "      <th>2017-12-04 05:00:00</th>\n",
       "      <th>AMZN</th>\n",
       "      <td>-0.024433</td>\n",
       "    </tr>\n",
       "    <tr>\n",
       "      <th>2017-12-05 05:00:00</th>\n",
       "      <th>AMZN</th>\n",
       "      <td>0.006720</td>\n",
       "    </tr>\n",
       "    <tr>\n",
       "      <th>2017-12-06 05:00:00</th>\n",
       "      <th>AMZN</th>\n",
       "      <td>0.009443</td>\n",
       "    </tr>\n",
       "    <tr>\n",
       "      <th>2017-12-07 05:00:00</th>\n",
       "      <th>AMZN</th>\n",
       "      <td>0.006456</td>\n",
       "    </tr>\n",
       "    <tr>\n",
       "      <th>2017-12-08 05:00:00</th>\n",
       "      <th>AMZN</th>\n",
       "      <td>0.001906</td>\n",
       "    </tr>\n",
       "    <tr>\n",
       "      <th>...</th>\n",
       "      <th>...</th>\n",
       "      <td>...</td>\n",
       "    </tr>\n",
       "    <tr>\n",
       "      <th>2020-02-24 05:00:00</th>\n",
       "      <th>AMZN</th>\n",
       "      <td>-0.041356</td>\n",
       "    </tr>\n",
       "    <tr>\n",
       "      <th>2020-02-25 05:00:00</th>\n",
       "      <th>AMZN</th>\n",
       "      <td>-0.018191</td>\n",
       "    </tr>\n",
       "    <tr>\n",
       "      <th>2020-02-26 05:00:00</th>\n",
       "      <th>AMZN</th>\n",
       "      <td>0.003472</td>\n",
       "    </tr>\n",
       "    <tr>\n",
       "      <th>2020-02-27 05:00:00</th>\n",
       "      <th>AMZN</th>\n",
       "      <td>-0.048136</td>\n",
       "    </tr>\n",
       "    <tr>\n",
       "      <th>2020-02-28 05:00:00</th>\n",
       "      <th>AMZN</th>\n",
       "      <td>-0.000292</td>\n",
       "    </tr>\n",
       "  </tbody>\n",
       "</table>\n",
       "<p>562 rows × 1 columns</p>\n",
       "</div>"
      ],
      "text/plain": [
       "                            daily_returns\n",
       "time                ticker               \n",
       "2017-12-04 05:00:00 AMZN        -0.024433\n",
       "2017-12-05 05:00:00 AMZN         0.006720\n",
       "2017-12-06 05:00:00 AMZN         0.009443\n",
       "2017-12-07 05:00:00 AMZN         0.006456\n",
       "2017-12-08 05:00:00 AMZN         0.001906\n",
       "...                                   ...\n",
       "2020-02-24 05:00:00 AMZN        -0.041356\n",
       "2020-02-25 05:00:00 AMZN        -0.018191\n",
       "2020-02-26 05:00:00 AMZN         0.003472\n",
       "2020-02-27 05:00:00 AMZN        -0.048136\n",
       "2020-02-28 05:00:00 AMZN        -0.000292\n",
       "\n",
       "[562 rows x 1 columns]"
      ]
     },
     "execution_count": 10,
     "metadata": {},
     "output_type": "execute_result"
    }
   ],
   "source": [
    "AMZN_daily_returns_df = all_data.loc[idx[:,'AMZN'],['daily_returns']]\n",
    "AMZN_daily_returns_df"
   ]
  },
  {
   "cell_type": "code",
   "execution_count": 11,
   "id": "2f721e12-2574-4d0e-a808-4fe845badbef",
   "metadata": {
    "collapsed": true,
    "jupyter": {
     "outputs_hidden": true
    },
    "tags": []
   },
   "outputs": [
    {
     "data": {
      "text/html": [
       "<div>\n",
       "<style scoped>\n",
       "    .dataframe tbody tr th:only-of-type {\n",
       "        vertical-align: middle;\n",
       "    }\n",
       "\n",
       "    .dataframe tbody tr th {\n",
       "        vertical-align: top;\n",
       "    }\n",
       "\n",
       "    .dataframe thead th {\n",
       "        text-align: right;\n",
       "    }\n",
       "</style>\n",
       "<table border=\"1\" class=\"dataframe\">\n",
       "  <thead>\n",
       "    <tr style=\"text-align: right;\">\n",
       "      <th></th>\n",
       "      <th></th>\n",
       "      <th>daily_returns</th>\n",
       "    </tr>\n",
       "    <tr>\n",
       "      <th>time</th>\n",
       "      <th>ticker</th>\n",
       "      <th></th>\n",
       "    </tr>\n",
       "  </thead>\n",
       "  <tbody>\n",
       "    <tr>\n",
       "      <th>2017-12-04 05:00:00</th>\n",
       "      <th>RTH</th>\n",
       "      <td>0.016406</td>\n",
       "    </tr>\n",
       "    <tr>\n",
       "      <th>2017-12-05 05:00:00</th>\n",
       "      <th>RTH</th>\n",
       "      <td>-0.006855</td>\n",
       "    </tr>\n",
       "    <tr>\n",
       "      <th>2017-12-06 05:00:00</th>\n",
       "      <th>RTH</th>\n",
       "      <td>-0.003340</td>\n",
       "    </tr>\n",
       "    <tr>\n",
       "      <th>2017-12-07 05:00:00</th>\n",
       "      <th>RTH</th>\n",
       "      <td>0.002792</td>\n",
       "    </tr>\n",
       "    <tr>\n",
       "      <th>2017-12-08 05:00:00</th>\n",
       "      <th>RTH</th>\n",
       "      <td>0.010916</td>\n",
       "    </tr>\n",
       "    <tr>\n",
       "      <th>...</th>\n",
       "      <th>...</th>\n",
       "      <td>...</td>\n",
       "    </tr>\n",
       "    <tr>\n",
       "      <th>2020-02-24 05:00:00</th>\n",
       "      <th>RTH</th>\n",
       "      <td>-0.026701</td>\n",
       "    </tr>\n",
       "    <tr>\n",
       "      <th>2020-02-25 05:00:00</th>\n",
       "      <th>RTH</th>\n",
       "      <td>-0.023793</td>\n",
       "    </tr>\n",
       "    <tr>\n",
       "      <th>2020-02-26 05:00:00</th>\n",
       "      <th>RTH</th>\n",
       "      <td>-0.001961</td>\n",
       "    </tr>\n",
       "    <tr>\n",
       "      <th>2020-02-27 05:00:00</th>\n",
       "      <th>RTH</th>\n",
       "      <td>-0.041607</td>\n",
       "    </tr>\n",
       "    <tr>\n",
       "      <th>2020-02-28 05:00:00</th>\n",
       "      <th>RTH</th>\n",
       "      <td>-0.017861</td>\n",
       "    </tr>\n",
       "  </tbody>\n",
       "</table>\n",
       "<p>562 rows × 1 columns</p>\n",
       "</div>"
      ],
      "text/plain": [
       "                            daily_returns\n",
       "time                ticker               \n",
       "2017-12-04 05:00:00 RTH          0.016406\n",
       "2017-12-05 05:00:00 RTH         -0.006855\n",
       "2017-12-06 05:00:00 RTH         -0.003340\n",
       "2017-12-07 05:00:00 RTH          0.002792\n",
       "2017-12-08 05:00:00 RTH          0.010916\n",
       "...                                   ...\n",
       "2020-02-24 05:00:00 RTH         -0.026701\n",
       "2020-02-25 05:00:00 RTH         -0.023793\n",
       "2020-02-26 05:00:00 RTH         -0.001961\n",
       "2020-02-27 05:00:00 RTH         -0.041607\n",
       "2020-02-28 05:00:00 RTH         -0.017861\n",
       "\n",
       "[562 rows x 1 columns]"
      ]
     },
     "execution_count": 11,
     "metadata": {},
     "output_type": "execute_result"
    }
   ],
   "source": [
    "RTH_daily_returns_df = all_data.loc[idx[:,'RTH'],['daily_returns']]\n",
    "RTH_daily_returns_df"
   ]
  },
  {
   "cell_type": "code",
   "execution_count": 12,
   "id": "16142708-a0c0-4a29-bb13-a6feb6795bfb",
   "metadata": {
    "collapsed": true,
    "jupyter": {
     "outputs_hidden": true
    },
    "tags": []
   },
   "outputs": [
    {
     "data": {
      "text/html": [
       "<div>\n",
       "<style scoped>\n",
       "    .dataframe tbody tr th:only-of-type {\n",
       "        vertical-align: middle;\n",
       "    }\n",
       "\n",
       "    .dataframe tbody tr th {\n",
       "        vertical-align: top;\n",
       "    }\n",
       "\n",
       "    .dataframe thead th {\n",
       "        text-align: right;\n",
       "    }\n",
       "</style>\n",
       "<table border=\"1\" class=\"dataframe\">\n",
       "  <thead>\n",
       "    <tr style=\"text-align: right;\">\n",
       "      <th></th>\n",
       "      <th></th>\n",
       "      <th>daily_returns</th>\n",
       "    </tr>\n",
       "    <tr>\n",
       "      <th>time</th>\n",
       "      <th>ticker</th>\n",
       "      <th></th>\n",
       "    </tr>\n",
       "  </thead>\n",
       "  <tbody>\n",
       "    <tr>\n",
       "      <th>2017-12-04 05:00:00</th>\n",
       "      <th>AMT</th>\n",
       "      <td>-0.032310</td>\n",
       "    </tr>\n",
       "    <tr>\n",
       "      <th>2017-12-05 05:00:00</th>\n",
       "      <th>AMT</th>\n",
       "      <td>0.012880</td>\n",
       "    </tr>\n",
       "    <tr>\n",
       "      <th>2017-12-06 05:00:00</th>\n",
       "      <th>AMT</th>\n",
       "      <td>0.007388</td>\n",
       "    </tr>\n",
       "    <tr>\n",
       "      <th>2017-12-07 05:00:00</th>\n",
       "      <th>AMT</th>\n",
       "      <td>0.016291</td>\n",
       "    </tr>\n",
       "    <tr>\n",
       "      <th>2017-12-08 05:00:00</th>\n",
       "      <th>AMT</th>\n",
       "      <td>-0.011380</td>\n",
       "    </tr>\n",
       "    <tr>\n",
       "      <th>...</th>\n",
       "      <th>...</th>\n",
       "      <td>...</td>\n",
       "    </tr>\n",
       "    <tr>\n",
       "      <th>2020-02-24 05:00:00</th>\n",
       "      <th>AMT</th>\n",
       "      <td>-0.007692</td>\n",
       "    </tr>\n",
       "    <tr>\n",
       "      <th>2020-02-25 05:00:00</th>\n",
       "      <th>AMT</th>\n",
       "      <td>0.004202</td>\n",
       "    </tr>\n",
       "    <tr>\n",
       "      <th>2020-02-26 05:00:00</th>\n",
       "      <th>AMT</th>\n",
       "      <td>-0.014098</td>\n",
       "    </tr>\n",
       "    <tr>\n",
       "      <th>2020-02-27 05:00:00</th>\n",
       "      <th>AMT</th>\n",
       "      <td>-0.040137</td>\n",
       "    </tr>\n",
       "    <tr>\n",
       "      <th>2020-02-28 05:00:00</th>\n",
       "      <th>AMT</th>\n",
       "      <td>-0.026317</td>\n",
       "    </tr>\n",
       "  </tbody>\n",
       "</table>\n",
       "<p>562 rows × 1 columns</p>\n",
       "</div>"
      ],
      "text/plain": [
       "                            daily_returns\n",
       "time                ticker               \n",
       "2017-12-04 05:00:00 AMT         -0.032310\n",
       "2017-12-05 05:00:00 AMT          0.012880\n",
       "2017-12-06 05:00:00 AMT          0.007388\n",
       "2017-12-07 05:00:00 AMT          0.016291\n",
       "2017-12-08 05:00:00 AMT         -0.011380\n",
       "...                                   ...\n",
       "2020-02-24 05:00:00 AMT         -0.007692\n",
       "2020-02-25 05:00:00 AMT          0.004202\n",
       "2020-02-26 05:00:00 AMT         -0.014098\n",
       "2020-02-27 05:00:00 AMT         -0.040137\n",
       "2020-02-28 05:00:00 AMT         -0.026317\n",
       "\n",
       "[562 rows x 1 columns]"
      ]
     },
     "execution_count": 12,
     "metadata": {},
     "output_type": "execute_result"
    }
   ],
   "source": [
    "AMT_daily_returns_df = all_data.loc[idx[:,'AMT'],['daily_returns']]\n",
    "AMT_daily_returns_df"
   ]
  },
  {
   "cell_type": "code",
   "execution_count": 13,
   "id": "50f16562-025b-47ea-8a33-e6b04863a6c2",
   "metadata": {
    "tags": []
   },
   "outputs": [
    {
     "data": {
      "text/html": [
       "<div>\n",
       "<style scoped>\n",
       "    .dataframe tbody tr th:only-of-type {\n",
       "        vertical-align: middle;\n",
       "    }\n",
       "\n",
       "    .dataframe tbody tr th {\n",
       "        vertical-align: top;\n",
       "    }\n",
       "\n",
       "    .dataframe thead th {\n",
       "        text-align: right;\n",
       "    }\n",
       "</style>\n",
       "<table border=\"1\" class=\"dataframe\">\n",
       "  <thead>\n",
       "    <tr style=\"text-align: right;\">\n",
       "      <th></th>\n",
       "      <th></th>\n",
       "      <th>daily_returns</th>\n",
       "    </tr>\n",
       "    <tr>\n",
       "      <th>time</th>\n",
       "      <th>ticker</th>\n",
       "      <th></th>\n",
       "    </tr>\n",
       "  </thead>\n",
       "  <tbody>\n",
       "    <tr>\n",
       "      <th>2017-12-04 05:00:00</th>\n",
       "      <th>IYR</th>\n",
       "      <td>-0.007672</td>\n",
       "    </tr>\n",
       "    <tr>\n",
       "      <th>2017-12-05 05:00:00</th>\n",
       "      <th>IYR</th>\n",
       "      <td>-0.005890</td>\n",
       "    </tr>\n",
       "    <tr>\n",
       "      <th>2017-12-06 05:00:00</th>\n",
       "      <th>IYR</th>\n",
       "      <td>-0.000370</td>\n",
       "    </tr>\n",
       "    <tr>\n",
       "      <th>2017-12-07 05:00:00</th>\n",
       "      <th>IYR</th>\n",
       "      <td>0.004075</td>\n",
       "    </tr>\n",
       "    <tr>\n",
       "      <th>2017-12-08 05:00:00</th>\n",
       "      <th>IYR</th>\n",
       "      <td>0.003321</td>\n",
       "    </tr>\n",
       "    <tr>\n",
       "      <th>...</th>\n",
       "      <th>...</th>\n",
       "      <td>...</td>\n",
       "    </tr>\n",
       "    <tr>\n",
       "      <th>2020-02-24 05:00:00</th>\n",
       "      <th>IYR</th>\n",
       "      <td>-0.013372</td>\n",
       "    </tr>\n",
       "    <tr>\n",
       "      <th>2020-02-25 05:00:00</th>\n",
       "      <th>IYR</th>\n",
       "      <td>-0.026803</td>\n",
       "    </tr>\n",
       "    <tr>\n",
       "      <th>2020-02-26 05:00:00</th>\n",
       "      <th>IYR</th>\n",
       "      <td>-0.010497</td>\n",
       "    </tr>\n",
       "    <tr>\n",
       "      <th>2020-02-27 05:00:00</th>\n",
       "      <th>IYR</th>\n",
       "      <td>-0.052410</td>\n",
       "    </tr>\n",
       "    <tr>\n",
       "      <th>2020-02-28 05:00:00</th>\n",
       "      <th>IYR</th>\n",
       "      <td>-0.031257</td>\n",
       "    </tr>\n",
       "  </tbody>\n",
       "</table>\n",
       "<p>562 rows × 1 columns</p>\n",
       "</div>"
      ],
      "text/plain": [
       "                            daily_returns\n",
       "time                ticker               \n",
       "2017-12-04 05:00:00 IYR         -0.007672\n",
       "2017-12-05 05:00:00 IYR         -0.005890\n",
       "2017-12-06 05:00:00 IYR         -0.000370\n",
       "2017-12-07 05:00:00 IYR          0.004075\n",
       "2017-12-08 05:00:00 IYR          0.003321\n",
       "...                                   ...\n",
       "2020-02-24 05:00:00 IYR         -0.013372\n",
       "2020-02-25 05:00:00 IYR         -0.026803\n",
       "2020-02-26 05:00:00 IYR         -0.010497\n",
       "2020-02-27 05:00:00 IYR         -0.052410\n",
       "2020-02-28 05:00:00 IYR         -0.031257\n",
       "\n",
       "[562 rows x 1 columns]"
      ]
     },
     "execution_count": 13,
     "metadata": {},
     "output_type": "execute_result"
    }
   ],
   "source": [
    "IYR_daily_returns_df = all_data.loc[idx[:,'IYR'],['daily_returns']]\n",
    "IYR_daily_returns_df"
   ]
  },
  {
   "cell_type": "code",
   "execution_count": 14,
   "id": "7e420884-0e57-49fa-bad8-8bea782fd89f",
   "metadata": {
    "collapsed": true,
    "jupyter": {
     "outputs_hidden": true
    },
    "tags": []
   },
   "outputs": [
    {
     "data": {
      "text/html": [
       "<div>\n",
       "<style scoped>\n",
       "    .dataframe tbody tr th:only-of-type {\n",
       "        vertical-align: middle;\n",
       "    }\n",
       "\n",
       "    .dataframe tbody tr th {\n",
       "        vertical-align: top;\n",
       "    }\n",
       "\n",
       "    .dataframe thead th {\n",
       "        text-align: right;\n",
       "    }\n",
       "</style>\n",
       "<table border=\"1\" class=\"dataframe\">\n",
       "  <thead>\n",
       "    <tr style=\"text-align: right;\">\n",
       "      <th></th>\n",
       "      <th></th>\n",
       "      <th>daily_returns</th>\n",
       "    </tr>\n",
       "    <tr>\n",
       "      <th>time</th>\n",
       "      <th>ticker</th>\n",
       "      <th></th>\n",
       "    </tr>\n",
       "  </thead>\n",
       "  <tbody>\n",
       "    <tr>\n",
       "      <th>2017-12-04 05:00:00</th>\n",
       "      <th>XOM</th>\n",
       "      <td>0.001318</td>\n",
       "    </tr>\n",
       "    <tr>\n",
       "      <th>2017-12-05 05:00:00</th>\n",
       "      <th>XOM</th>\n",
       "      <td>-0.008137</td>\n",
       "    </tr>\n",
       "    <tr>\n",
       "      <th>2017-12-06 05:00:00</th>\n",
       "      <th>XOM</th>\n",
       "      <td>-0.007359</td>\n",
       "    </tr>\n",
       "    <tr>\n",
       "      <th>2017-12-07 05:00:00</th>\n",
       "      <th>XOM</th>\n",
       "      <td>0.003281</td>\n",
       "    </tr>\n",
       "    <tr>\n",
       "      <th>2017-12-08 05:00:00</th>\n",
       "      <th>XOM</th>\n",
       "      <td>0.001333</td>\n",
       "    </tr>\n",
       "    <tr>\n",
       "      <th>...</th>\n",
       "      <th>...</th>\n",
       "      <td>...</td>\n",
       "    </tr>\n",
       "    <tr>\n",
       "      <th>2020-02-24 05:00:00</th>\n",
       "      <th>XOM</th>\n",
       "      <td>-0.046846</td>\n",
       "    </tr>\n",
       "    <tr>\n",
       "      <th>2020-02-25 05:00:00</th>\n",
       "      <th>XOM</th>\n",
       "      <td>-0.038325</td>\n",
       "    </tr>\n",
       "    <tr>\n",
       "      <th>2020-02-26 05:00:00</th>\n",
       "      <th>XOM</th>\n",
       "      <td>-0.021956</td>\n",
       "    </tr>\n",
       "    <tr>\n",
       "      <th>2020-02-27 05:00:00</th>\n",
       "      <th>XOM</th>\n",
       "      <td>-0.060177</td>\n",
       "    </tr>\n",
       "    <tr>\n",
       "      <th>2020-02-28 05:00:00</th>\n",
       "      <th>XOM</th>\n",
       "      <td>0.032517</td>\n",
       "    </tr>\n",
       "  </tbody>\n",
       "</table>\n",
       "<p>562 rows × 1 columns</p>\n",
       "</div>"
      ],
      "text/plain": [
       "                            daily_returns\n",
       "time                ticker               \n",
       "2017-12-04 05:00:00 XOM          0.001318\n",
       "2017-12-05 05:00:00 XOM         -0.008137\n",
       "2017-12-06 05:00:00 XOM         -0.007359\n",
       "2017-12-07 05:00:00 XOM          0.003281\n",
       "2017-12-08 05:00:00 XOM          0.001333\n",
       "...                                   ...\n",
       "2020-02-24 05:00:00 XOM         -0.046846\n",
       "2020-02-25 05:00:00 XOM         -0.038325\n",
       "2020-02-26 05:00:00 XOM         -0.021956\n",
       "2020-02-27 05:00:00 XOM         -0.060177\n",
       "2020-02-28 05:00:00 XOM          0.032517\n",
       "\n",
       "[562 rows x 1 columns]"
      ]
     },
     "execution_count": 14,
     "metadata": {},
     "output_type": "execute_result"
    }
   ],
   "source": [
    "XOM_daily_returns_df = all_data.loc[idx[:,'XOM'],['daily_returns']]\n",
    "XOM_daily_returns_df"
   ]
  },
  {
   "cell_type": "code",
   "execution_count": 15,
   "id": "3821ae3a-37e8-4110-a172-70f70caad743",
   "metadata": {
    "tags": []
   },
   "outputs": [
    {
     "data": {
      "text/html": [
       "<div>\n",
       "<style scoped>\n",
       "    .dataframe tbody tr th:only-of-type {\n",
       "        vertical-align: middle;\n",
       "    }\n",
       "\n",
       "    .dataframe tbody tr th {\n",
       "        vertical-align: top;\n",
       "    }\n",
       "\n",
       "    .dataframe thead th {\n",
       "        text-align: right;\n",
       "    }\n",
       "</style>\n",
       "<table border=\"1\" class=\"dataframe\">\n",
       "  <thead>\n",
       "    <tr style=\"text-align: right;\">\n",
       "      <th></th>\n",
       "      <th></th>\n",
       "      <th>daily_returns</th>\n",
       "    </tr>\n",
       "    <tr>\n",
       "      <th>time</th>\n",
       "      <th>ticker</th>\n",
       "      <th></th>\n",
       "    </tr>\n",
       "  </thead>\n",
       "  <tbody>\n",
       "    <tr>\n",
       "      <th>2017-12-04 05:00:00</th>\n",
       "      <th>XLE</th>\n",
       "      <td>-0.000431</td>\n",
       "    </tr>\n",
       "    <tr>\n",
       "      <th>2017-12-05 05:00:00</th>\n",
       "      <th>XLE</th>\n",
       "      <td>-0.004307</td>\n",
       "    </tr>\n",
       "    <tr>\n",
       "      <th>2017-12-06 05:00:00</th>\n",
       "      <th>XLE</th>\n",
       "      <td>-0.012978</td>\n",
       "    </tr>\n",
       "    <tr>\n",
       "      <th>2017-12-07 05:00:00</th>\n",
       "      <th>XLE</th>\n",
       "      <td>0.002922</td>\n",
       "    </tr>\n",
       "    <tr>\n",
       "      <th>2017-12-08 05:00:00</th>\n",
       "      <th>XLE</th>\n",
       "      <td>0.009177</td>\n",
       "    </tr>\n",
       "    <tr>\n",
       "      <th>...</th>\n",
       "      <th>...</th>\n",
       "      <td>...</td>\n",
       "    </tr>\n",
       "    <tr>\n",
       "      <th>2020-02-24 05:00:00</th>\n",
       "      <th>XLE</th>\n",
       "      <td>-0.046177</td>\n",
       "    </tr>\n",
       "    <tr>\n",
       "      <th>2020-02-25 05:00:00</th>\n",
       "      <th>XLE</th>\n",
       "      <td>-0.044152</td>\n",
       "    </tr>\n",
       "    <tr>\n",
       "      <th>2020-02-26 05:00:00</th>\n",
       "      <th>XLE</th>\n",
       "      <td>-0.030186</td>\n",
       "    </tr>\n",
       "    <tr>\n",
       "      <th>2020-02-27 05:00:00</th>\n",
       "      <th>XLE</th>\n",
       "      <td>-0.053478</td>\n",
       "    </tr>\n",
       "    <tr>\n",
       "      <th>2020-02-28 05:00:00</th>\n",
       "      <th>XLE</th>\n",
       "      <td>-0.000883</td>\n",
       "    </tr>\n",
       "  </tbody>\n",
       "</table>\n",
       "<p>562 rows × 1 columns</p>\n",
       "</div>"
      ],
      "text/plain": [
       "                            daily_returns\n",
       "time                ticker               \n",
       "2017-12-04 05:00:00 XLE         -0.000431\n",
       "2017-12-05 05:00:00 XLE         -0.004307\n",
       "2017-12-06 05:00:00 XLE         -0.012978\n",
       "2017-12-07 05:00:00 XLE          0.002922\n",
       "2017-12-08 05:00:00 XLE          0.009177\n",
       "...                                   ...\n",
       "2020-02-24 05:00:00 XLE         -0.046177\n",
       "2020-02-25 05:00:00 XLE         -0.044152\n",
       "2020-02-26 05:00:00 XLE         -0.030186\n",
       "2020-02-27 05:00:00 XLE         -0.053478\n",
       "2020-02-28 05:00:00 XLE         -0.000883\n",
       "\n",
       "[562 rows x 1 columns]"
      ]
     },
     "execution_count": 15,
     "metadata": {},
     "output_type": "execute_result"
    }
   ],
   "source": [
    "XLE_daily_returns_df = all_data.loc[idx[:,'XLE'],['daily_returns']]\n",
    "XLE_daily_returns_df"
   ]
  },
  {
   "cell_type": "code",
   "execution_count": 16,
   "id": "6399dd61-3199-4c42-b23e-79a577da9b58",
   "metadata": {
    "tags": []
   },
   "outputs": [
    {
     "data": {
      "text/html": [
       "<div>\n",
       "<style scoped>\n",
       "    .dataframe tbody tr th:only-of-type {\n",
       "        vertical-align: middle;\n",
       "    }\n",
       "\n",
       "    .dataframe tbody tr th {\n",
       "        vertical-align: top;\n",
       "    }\n",
       "\n",
       "    .dataframe thead th {\n",
       "        text-align: right;\n",
       "    }\n",
       "</style>\n",
       "<table border=\"1\" class=\"dataframe\">\n",
       "  <thead>\n",
       "    <tr style=\"text-align: right;\">\n",
       "      <th></th>\n",
       "      <th></th>\n",
       "      <th>daily_returns</th>\n",
       "    </tr>\n",
       "    <tr>\n",
       "      <th>time</th>\n",
       "      <th>ticker</th>\n",
       "      <th></th>\n",
       "    </tr>\n",
       "  </thead>\n",
       "  <tbody>\n",
       "    <tr>\n",
       "      <th>2017-12-04 05:00:00</th>\n",
       "      <th>SPY</th>\n",
       "      <td>-0.001210</td>\n",
       "    </tr>\n",
       "    <tr>\n",
       "      <th>2017-12-05 05:00:00</th>\n",
       "      <th>SPY</th>\n",
       "      <td>-0.003597</td>\n",
       "    </tr>\n",
       "    <tr>\n",
       "      <th>2017-12-06 05:00:00</th>\n",
       "      <th>SPY</th>\n",
       "      <td>0.000190</td>\n",
       "    </tr>\n",
       "    <tr>\n",
       "      <th>2017-12-07 05:00:00</th>\n",
       "      <th>SPY</th>\n",
       "      <td>0.003153</td>\n",
       "    </tr>\n",
       "    <tr>\n",
       "      <th>2017-12-08 05:00:00</th>\n",
       "      <th>SPY</th>\n",
       "      <td>0.005453</td>\n",
       "    </tr>\n",
       "    <tr>\n",
       "      <th>...</th>\n",
       "      <th>...</th>\n",
       "      <td>...</td>\n",
       "    </tr>\n",
       "    <tr>\n",
       "      <th>2020-02-24 05:00:00</th>\n",
       "      <th>SPY</th>\n",
       "      <td>-0.033165</td>\n",
       "    </tr>\n",
       "    <tr>\n",
       "      <th>2020-02-25 05:00:00</th>\n",
       "      <th>SPY</th>\n",
       "      <td>-0.030302</td>\n",
       "    </tr>\n",
       "    <tr>\n",
       "      <th>2020-02-26 05:00:00</th>\n",
       "      <th>SPY</th>\n",
       "      <td>-0.003678</td>\n",
       "    </tr>\n",
       "    <tr>\n",
       "      <th>2020-02-27 05:00:00</th>\n",
       "      <th>SPY</th>\n",
       "      <td>-0.044912</td>\n",
       "    </tr>\n",
       "    <tr>\n",
       "      <th>2020-02-28 05:00:00</th>\n",
       "      <th>SPY</th>\n",
       "      <td>-0.004202</td>\n",
       "    </tr>\n",
       "  </tbody>\n",
       "</table>\n",
       "<p>562 rows × 1 columns</p>\n",
       "</div>"
      ],
      "text/plain": [
       "                            daily_returns\n",
       "time                ticker               \n",
       "2017-12-04 05:00:00 SPY         -0.001210\n",
       "2017-12-05 05:00:00 SPY         -0.003597\n",
       "2017-12-06 05:00:00 SPY          0.000190\n",
       "2017-12-07 05:00:00 SPY          0.003153\n",
       "2017-12-08 05:00:00 SPY          0.005453\n",
       "...                                   ...\n",
       "2020-02-24 05:00:00 SPY         -0.033165\n",
       "2020-02-25 05:00:00 SPY         -0.030302\n",
       "2020-02-26 05:00:00 SPY         -0.003678\n",
       "2020-02-27 05:00:00 SPY         -0.044912\n",
       "2020-02-28 05:00:00 SPY         -0.004202\n",
       "\n",
       "[562 rows x 1 columns]"
      ]
     },
     "execution_count": 16,
     "metadata": {},
     "output_type": "execute_result"
    }
   ],
   "source": [
    "SPY_daily_returns_df = all_data.loc[idx[:,'SPY'],['daily_returns']]\n",
    "SPY_daily_returns_df"
   ]
  },
  {
   "cell_type": "code",
   "execution_count": 17,
   "id": "3cf20180-2f73-499b-95dd-73c8a2875e9a",
   "metadata": {
    "tags": []
   },
   "outputs": [
    {
     "data": {
      "text/html": [
       "<div>\n",
       "<style scoped>\n",
       "    .dataframe tbody tr th:only-of-type {\n",
       "        vertical-align: middle;\n",
       "    }\n",
       "\n",
       "    .dataframe tbody tr th {\n",
       "        vertical-align: top;\n",
       "    }\n",
       "\n",
       "    .dataframe thead th {\n",
       "        text-align: right;\n",
       "    }\n",
       "</style>\n",
       "<table border=\"1\" class=\"dataframe\">\n",
       "  <thead>\n",
       "    <tr style=\"text-align: right;\">\n",
       "      <th></th>\n",
       "      <th></th>\n",
       "      <th></th>\n",
       "      <th>daily_returns</th>\n",
       "    </tr>\n",
       "    <tr>\n",
       "      <th></th>\n",
       "      <th>time</th>\n",
       "      <th>ticker</th>\n",
       "      <th></th>\n",
       "    </tr>\n",
       "  </thead>\n",
       "  <tbody>\n",
       "    <tr>\n",
       "      <th rowspan=\"5\" valign=\"top\">AMZN</th>\n",
       "      <th>2017-12-04 05:00:00</th>\n",
       "      <th>AMZN</th>\n",
       "      <td>-0.024433</td>\n",
       "    </tr>\n",
       "    <tr>\n",
       "      <th>2017-12-05 05:00:00</th>\n",
       "      <th>AMZN</th>\n",
       "      <td>0.006720</td>\n",
       "    </tr>\n",
       "    <tr>\n",
       "      <th>2017-12-06 05:00:00</th>\n",
       "      <th>AMZN</th>\n",
       "      <td>0.009443</td>\n",
       "    </tr>\n",
       "    <tr>\n",
       "      <th>2017-12-07 05:00:00</th>\n",
       "      <th>AMZN</th>\n",
       "      <td>0.006456</td>\n",
       "    </tr>\n",
       "    <tr>\n",
       "      <th>2017-12-08 05:00:00</th>\n",
       "      <th>AMZN</th>\n",
       "      <td>0.001906</td>\n",
       "    </tr>\n",
       "    <tr>\n",
       "      <th>...</th>\n",
       "      <th>...</th>\n",
       "      <th>...</th>\n",
       "      <td>...</td>\n",
       "    </tr>\n",
       "    <tr>\n",
       "      <th rowspan=\"5\" valign=\"top\">RTH</th>\n",
       "      <th>2020-02-24 05:00:00</th>\n",
       "      <th>RTH</th>\n",
       "      <td>-0.026701</td>\n",
       "    </tr>\n",
       "    <tr>\n",
       "      <th>2020-02-25 05:00:00</th>\n",
       "      <th>RTH</th>\n",
       "      <td>-0.023793</td>\n",
       "    </tr>\n",
       "    <tr>\n",
       "      <th>2020-02-26 05:00:00</th>\n",
       "      <th>RTH</th>\n",
       "      <td>-0.001961</td>\n",
       "    </tr>\n",
       "    <tr>\n",
       "      <th>2020-02-27 05:00:00</th>\n",
       "      <th>RTH</th>\n",
       "      <td>-0.041607</td>\n",
       "    </tr>\n",
       "    <tr>\n",
       "      <th>2020-02-28 05:00:00</th>\n",
       "      <th>RTH</th>\n",
       "      <td>-0.017861</td>\n",
       "    </tr>\n",
       "  </tbody>\n",
       "</table>\n",
       "<p>1124 rows × 1 columns</p>\n",
       "</div>"
      ],
      "text/plain": [
       "                                 daily_returns\n",
       "     time                ticker               \n",
       "AMZN 2017-12-04 05:00:00 AMZN        -0.024433\n",
       "     2017-12-05 05:00:00 AMZN         0.006720\n",
       "     2017-12-06 05:00:00 AMZN         0.009443\n",
       "     2017-12-07 05:00:00 AMZN         0.006456\n",
       "     2017-12-08 05:00:00 AMZN         0.001906\n",
       "...                                        ...\n",
       "RTH  2020-02-24 05:00:00 RTH         -0.026701\n",
       "     2020-02-25 05:00:00 RTH         -0.023793\n",
       "     2020-02-26 05:00:00 RTH         -0.001961\n",
       "     2020-02-27 05:00:00 RTH         -0.041607\n",
       "     2020-02-28 05:00:00 RTH         -0.017861\n",
       "\n",
       "[1124 rows x 1 columns]"
      ]
     },
     "execution_count": 17,
     "metadata": {},
     "output_type": "execute_result"
    }
   ],
   "source": [
    "tech_daily_returns = pd.concat([AMZN_daily_returns_df, RTH_daily_returns_df], keys=[\"AMZN\",\"RTH\"])\n",
    "tech_daily_returns"
   ]
  },
  {
   "cell_type": "code",
   "execution_count": 18,
   "id": "7eea0650-e218-448b-ac83-3e7212898511",
   "metadata": {
    "tags": []
   },
   "outputs": [
    {
     "data": {
      "text/html": [
       "<div>\n",
       "<style scoped>\n",
       "    .dataframe tbody tr th:only-of-type {\n",
       "        vertical-align: middle;\n",
       "    }\n",
       "\n",
       "    .dataframe tbody tr th {\n",
       "        vertical-align: top;\n",
       "    }\n",
       "\n",
       "    .dataframe thead th {\n",
       "        text-align: right;\n",
       "    }\n",
       "</style>\n",
       "<table border=\"1\" class=\"dataframe\">\n",
       "  <thead>\n",
       "    <tr style=\"text-align: right;\">\n",
       "      <th></th>\n",
       "      <th></th>\n",
       "      <th></th>\n",
       "      <th>daily_returns</th>\n",
       "    </tr>\n",
       "    <tr>\n",
       "      <th></th>\n",
       "      <th>time</th>\n",
       "      <th>ticker</th>\n",
       "      <th></th>\n",
       "    </tr>\n",
       "  </thead>\n",
       "  <tbody>\n",
       "    <tr>\n",
       "      <th rowspan=\"5\" valign=\"top\">AMT</th>\n",
       "      <th>2017-12-04 05:00:00</th>\n",
       "      <th>AMT</th>\n",
       "      <td>-0.032310</td>\n",
       "    </tr>\n",
       "    <tr>\n",
       "      <th>2017-12-05 05:00:00</th>\n",
       "      <th>AMT</th>\n",
       "      <td>0.012880</td>\n",
       "    </tr>\n",
       "    <tr>\n",
       "      <th>2017-12-06 05:00:00</th>\n",
       "      <th>AMT</th>\n",
       "      <td>0.007388</td>\n",
       "    </tr>\n",
       "    <tr>\n",
       "      <th>2017-12-07 05:00:00</th>\n",
       "      <th>AMT</th>\n",
       "      <td>0.016291</td>\n",
       "    </tr>\n",
       "    <tr>\n",
       "      <th>2017-12-08 05:00:00</th>\n",
       "      <th>AMT</th>\n",
       "      <td>-0.011380</td>\n",
       "    </tr>\n",
       "    <tr>\n",
       "      <th>...</th>\n",
       "      <th>...</th>\n",
       "      <th>...</th>\n",
       "      <td>...</td>\n",
       "    </tr>\n",
       "    <tr>\n",
       "      <th rowspan=\"5\" valign=\"top\">IYR</th>\n",
       "      <th>2020-02-24 05:00:00</th>\n",
       "      <th>IYR</th>\n",
       "      <td>-0.013372</td>\n",
       "    </tr>\n",
       "    <tr>\n",
       "      <th>2020-02-25 05:00:00</th>\n",
       "      <th>IYR</th>\n",
       "      <td>-0.026803</td>\n",
       "    </tr>\n",
       "    <tr>\n",
       "      <th>2020-02-26 05:00:00</th>\n",
       "      <th>IYR</th>\n",
       "      <td>-0.010497</td>\n",
       "    </tr>\n",
       "    <tr>\n",
       "      <th>2020-02-27 05:00:00</th>\n",
       "      <th>IYR</th>\n",
       "      <td>-0.052410</td>\n",
       "    </tr>\n",
       "    <tr>\n",
       "      <th>2020-02-28 05:00:00</th>\n",
       "      <th>IYR</th>\n",
       "      <td>-0.031257</td>\n",
       "    </tr>\n",
       "  </tbody>\n",
       "</table>\n",
       "<p>1124 rows × 1 columns</p>\n",
       "</div>"
      ],
      "text/plain": [
       "                                daily_returns\n",
       "    time                ticker               \n",
       "AMT 2017-12-04 05:00:00 AMT         -0.032310\n",
       "    2017-12-05 05:00:00 AMT          0.012880\n",
       "    2017-12-06 05:00:00 AMT          0.007388\n",
       "    2017-12-07 05:00:00 AMT          0.016291\n",
       "    2017-12-08 05:00:00 AMT         -0.011380\n",
       "...                                       ...\n",
       "IYR 2020-02-24 05:00:00 IYR         -0.013372\n",
       "    2020-02-25 05:00:00 IYR         -0.026803\n",
       "    2020-02-26 05:00:00 IYR         -0.010497\n",
       "    2020-02-27 05:00:00 IYR         -0.052410\n",
       "    2020-02-28 05:00:00 IYR         -0.031257\n",
       "\n",
       "[1124 rows x 1 columns]"
      ]
     },
     "execution_count": 18,
     "metadata": {},
     "output_type": "execute_result"
    }
   ],
   "source": [
    "RE_daily_returns = pd.concat([AMT_daily_returns_df, IYR_daily_returns_df], keys=[\"AMT\",\"IYR\"])\n",
    "RE_daily_returns"
   ]
  },
  {
   "cell_type": "code",
   "execution_count": 19,
   "id": "fa8baa24-e409-49d7-b5ca-660d51aa9a45",
   "metadata": {
    "tags": []
   },
   "outputs": [
    {
     "data": {
      "text/html": [
       "<div>\n",
       "<style scoped>\n",
       "    .dataframe tbody tr th:only-of-type {\n",
       "        vertical-align: middle;\n",
       "    }\n",
       "\n",
       "    .dataframe tbody tr th {\n",
       "        vertical-align: top;\n",
       "    }\n",
       "\n",
       "    .dataframe thead th {\n",
       "        text-align: right;\n",
       "    }\n",
       "</style>\n",
       "<table border=\"1\" class=\"dataframe\">\n",
       "  <thead>\n",
       "    <tr style=\"text-align: right;\">\n",
       "      <th></th>\n",
       "      <th></th>\n",
       "      <th></th>\n",
       "      <th>daily_returns</th>\n",
       "    </tr>\n",
       "    <tr>\n",
       "      <th></th>\n",
       "      <th>time</th>\n",
       "      <th>ticker</th>\n",
       "      <th></th>\n",
       "    </tr>\n",
       "  </thead>\n",
       "  <tbody>\n",
       "    <tr>\n",
       "      <th rowspan=\"5\" valign=\"top\">XOM</th>\n",
       "      <th>2017-12-04 05:00:00</th>\n",
       "      <th>XOM</th>\n",
       "      <td>0.001318</td>\n",
       "    </tr>\n",
       "    <tr>\n",
       "      <th>2017-12-05 05:00:00</th>\n",
       "      <th>XOM</th>\n",
       "      <td>-0.008137</td>\n",
       "    </tr>\n",
       "    <tr>\n",
       "      <th>2017-12-06 05:00:00</th>\n",
       "      <th>XOM</th>\n",
       "      <td>-0.007359</td>\n",
       "    </tr>\n",
       "    <tr>\n",
       "      <th>2017-12-07 05:00:00</th>\n",
       "      <th>XOM</th>\n",
       "      <td>0.003281</td>\n",
       "    </tr>\n",
       "    <tr>\n",
       "      <th>2017-12-08 05:00:00</th>\n",
       "      <th>XOM</th>\n",
       "      <td>0.001333</td>\n",
       "    </tr>\n",
       "    <tr>\n",
       "      <th>...</th>\n",
       "      <th>...</th>\n",
       "      <th>...</th>\n",
       "      <td>...</td>\n",
       "    </tr>\n",
       "    <tr>\n",
       "      <th rowspan=\"5\" valign=\"top\">XLE</th>\n",
       "      <th>2020-02-24 05:00:00</th>\n",
       "      <th>XLE</th>\n",
       "      <td>-0.046177</td>\n",
       "    </tr>\n",
       "    <tr>\n",
       "      <th>2020-02-25 05:00:00</th>\n",
       "      <th>XLE</th>\n",
       "      <td>-0.044152</td>\n",
       "    </tr>\n",
       "    <tr>\n",
       "      <th>2020-02-26 05:00:00</th>\n",
       "      <th>XLE</th>\n",
       "      <td>-0.030186</td>\n",
       "    </tr>\n",
       "    <tr>\n",
       "      <th>2020-02-27 05:00:00</th>\n",
       "      <th>XLE</th>\n",
       "      <td>-0.053478</td>\n",
       "    </tr>\n",
       "    <tr>\n",
       "      <th>2020-02-28 05:00:00</th>\n",
       "      <th>XLE</th>\n",
       "      <td>-0.000883</td>\n",
       "    </tr>\n",
       "  </tbody>\n",
       "</table>\n",
       "<p>1124 rows × 1 columns</p>\n",
       "</div>"
      ],
      "text/plain": [
       "                                daily_returns\n",
       "    time                ticker               \n",
       "XOM 2017-12-04 05:00:00 XOM          0.001318\n",
       "    2017-12-05 05:00:00 XOM         -0.008137\n",
       "    2017-12-06 05:00:00 XOM         -0.007359\n",
       "    2017-12-07 05:00:00 XOM          0.003281\n",
       "    2017-12-08 05:00:00 XOM          0.001333\n",
       "...                                       ...\n",
       "XLE 2020-02-24 05:00:00 XLE         -0.046177\n",
       "    2020-02-25 05:00:00 XLE         -0.044152\n",
       "    2020-02-26 05:00:00 XLE         -0.030186\n",
       "    2020-02-27 05:00:00 XLE         -0.053478\n",
       "    2020-02-28 05:00:00 XLE         -0.000883\n",
       "\n",
       "[1124 rows x 1 columns]"
      ]
     },
     "execution_count": 19,
     "metadata": {},
     "output_type": "execute_result"
    }
   ],
   "source": [
    "energy_daily_returns = pd.concat([XOM_daily_returns_df, XLE_daily_returns_df], keys=[\"XOM\",\"XLE\"])\n",
    "energy_daily_returns"
   ]
  },
  {
   "cell_type": "markdown",
   "id": "4e01bda0-7313-4129-8930-b0b950cbd90a",
   "metadata": {},
   "source": [
    "### A) Analyzing Each Stock and ETF Individually\n"
   ]
  },
  {
   "cell_type": "code",
   "execution_count": 20,
   "id": "7e265e85-6dde-4d72-9060-6ea9bb3a7238",
   "metadata": {},
   "outputs": [],
   "source": [
    "import warnings\n",
    "warnings.filterwarnings(\"ignore\")"
   ]
  },
  {
   "cell_type": "code",
   "execution_count": 21,
   "id": "3c7a7a45-67aa-45bf-b77d-c2de7163aa9c",
   "metadata": {},
   "outputs": [],
   "source": [
    "from pytz import timezone\n",
    "#from IPython.display import clear_output\n",
    "from time import sleep\n",
    "import numpy as np\n",
    "import pyfolio as pf\n",
    "import sqlalchemy"
   ]
  },
  {
   "cell_type": "code",
   "execution_count": 22,
   "id": "90bdcd33-12c4-4e17-ac2a-9dd78b52c14c",
   "metadata": {},
   "outputs": [
    {
     "data": {
      "text/html": [
       "<div>\n",
       "<style scoped>\n",
       "    .dataframe tbody tr th:only-of-type {\n",
       "        vertical-align: middle;\n",
       "    }\n",
       "\n",
       "    .dataframe tbody tr th {\n",
       "        vertical-align: top;\n",
       "    }\n",
       "\n",
       "    .dataframe thead th {\n",
       "        text-align: right;\n",
       "    }\n",
       "</style>\n",
       "<table border=\"1\" class=\"dataframe\">\n",
       "  <thead>\n",
       "    <tr style=\"text-align: right;\">\n",
       "      <th></th>\n",
       "      <th></th>\n",
       "      <th>daily_returns</th>\n",
       "    </tr>\n",
       "    <tr>\n",
       "      <th></th>\n",
       "      <th>time</th>\n",
       "      <th></th>\n",
       "    </tr>\n",
       "  </thead>\n",
       "  <tbody>\n",
       "    <tr>\n",
       "      <th rowspan=\"5\" valign=\"top\">AMZN</th>\n",
       "      <th>2017-12-04 05:00:00</th>\n",
       "      <td>-0.024433</td>\n",
       "    </tr>\n",
       "    <tr>\n",
       "      <th>2017-12-05 05:00:00</th>\n",
       "      <td>0.006720</td>\n",
       "    </tr>\n",
       "    <tr>\n",
       "      <th>2017-12-06 05:00:00</th>\n",
       "      <td>0.009443</td>\n",
       "    </tr>\n",
       "    <tr>\n",
       "      <th>2017-12-07 05:00:00</th>\n",
       "      <td>0.006456</td>\n",
       "    </tr>\n",
       "    <tr>\n",
       "      <th>2017-12-08 05:00:00</th>\n",
       "      <td>0.001906</td>\n",
       "    </tr>\n",
       "    <tr>\n",
       "      <th>...</th>\n",
       "      <th>...</th>\n",
       "      <td>...</td>\n",
       "    </tr>\n",
       "    <tr>\n",
       "      <th rowspan=\"5\" valign=\"top\">SPY</th>\n",
       "      <th>2020-02-24 05:00:00</th>\n",
       "      <td>-0.033165</td>\n",
       "    </tr>\n",
       "    <tr>\n",
       "      <th>2020-02-25 05:00:00</th>\n",
       "      <td>-0.030302</td>\n",
       "    </tr>\n",
       "    <tr>\n",
       "      <th>2020-02-26 05:00:00</th>\n",
       "      <td>-0.003678</td>\n",
       "    </tr>\n",
       "    <tr>\n",
       "      <th>2020-02-27 05:00:00</th>\n",
       "      <td>-0.044912</td>\n",
       "    </tr>\n",
       "    <tr>\n",
       "      <th>2020-02-28 05:00:00</th>\n",
       "      <td>-0.004202</td>\n",
       "    </tr>\n",
       "  </tbody>\n",
       "</table>\n",
       "<p>3934 rows × 1 columns</p>\n",
       "</div>"
      ],
      "text/plain": [
       "                          daily_returns\n",
       "     time                              \n",
       "AMZN 2017-12-04 05:00:00      -0.024433\n",
       "     2017-12-05 05:00:00       0.006720\n",
       "     2017-12-06 05:00:00       0.009443\n",
       "     2017-12-07 05:00:00       0.006456\n",
       "     2017-12-08 05:00:00       0.001906\n",
       "...                                 ...\n",
       "SPY  2020-02-24 05:00:00      -0.033165\n",
       "     2020-02-25 05:00:00      -0.030302\n",
       "     2020-02-26 05:00:00      -0.003678\n",
       "     2020-02-27 05:00:00      -0.044912\n",
       "     2020-02-28 05:00:00      -0.004202\n",
       "\n",
       "[3934 rows x 1 columns]"
      ]
     },
     "execution_count": 22,
     "metadata": {},
     "output_type": "execute_result"
    }
   ],
   "source": [
    "\n",
    "pre_pandemic_prices_df = pd.concat([AMZN_daily_returns_df.reset_index(level = 1,drop=True), RTH_daily_returns_df.reset_index(level = 1,drop=True), AMT_daily_returns_df.reset_index(level = 1,drop=True), IYR_daily_returns_df.reset_index(level = 1,drop=True), XOM_daily_returns_df.reset_index(level = 1,drop=True), XLE_daily_returns_df.reset_index(level = 1,drop=True), SPY_daily_returns_df.reset_index(level = 1,drop=True)],axis=0, keys=[\"AMZN\",\"RTH\",\"AMT\",\"IYR\",\"XOM\",\"XLE\",\"SPY\"])\n",
    "pre_pandemic_prices_df"
   ]
  },
  {
   "cell_type": "code",
   "execution_count": 23,
   "id": "ff4acb97-aefd-475c-b7a3-320ffdce8a2b",
   "metadata": {},
   "outputs": [],
   "source": [
    "database_connection_string = 'sqlite:///'"
   ]
  },
  {
   "cell_type": "code",
   "execution_count": 24,
   "id": "21b45bd6-804e-4a3a-b666-71a48852f697",
   "metadata": {},
   "outputs": [],
   "source": [
    "engine = sqlalchemy.create_engine(database_connection_string)"
   ]
  },
  {
   "cell_type": "code",
   "execution_count": 25,
   "id": "ba8f9cd5-5dd7-4082-87d8-34b9baa5a145",
   "metadata": {},
   "outputs": [
    {
     "data": {
      "text/plain": [
       "[]"
      ]
     },
     "execution_count": 25,
     "metadata": {},
     "output_type": "execute_result"
    }
   ],
   "source": [
    "engine.table_names()"
   ]
  },
  {
   "cell_type": "code",
   "execution_count": 26,
   "id": "57557244-d89f-487c-9fef-8ea4b98aade2",
   "metadata": {},
   "outputs": [
    {
     "data": {
      "text/plain": [
       "daily_returns    0.01878\n",
       "dtype: float64"
      ]
     },
     "metadata": {},
     "output_type": "display_data"
    },
    {
     "data": {
      "text/plain": [
       "daily_returns    0.001036\n",
       "dtype: float64"
      ]
     },
     "metadata": {},
     "output_type": "display_data"
    }
   ],
   "source": [
    "#Summary statistics for AMZN stock using .std() and .mean()\n",
    "display(AMZN_daily_returns_df.std())\n",
    "display(AMZN_daily_returns_df.mean())"
   ]
  },
  {
   "cell_type": "code",
   "execution_count": 27,
   "id": "43851111-af48-4322-9aeb-30fcd0e713e0",
   "metadata": {},
   "outputs": [
    {
     "data": {
      "text/plain": [
       "daily_returns    0.000472\n",
       "dtype: float64"
      ]
     },
     "execution_count": 27,
     "metadata": {},
     "output_type": "execute_result"
    }
   ],
   "source": [
    "#Summary statistics for RTH stock using .std() and .mean()\n",
    "RTH_daily_returns_df.std()\n",
    "RTH_daily_returns_df.mean()"
   ]
  },
  {
   "cell_type": "code",
   "execution_count": 28,
   "id": "80a18635-6927-4ebf-be21-bac003f7f04e",
   "metadata": {},
   "outputs": [
    {
     "data": {
      "text/plain": [
       "daily_returns    0.000889\n",
       "dtype: float64"
      ]
     },
     "execution_count": 28,
     "metadata": {},
     "output_type": "execute_result"
    }
   ],
   "source": [
    "#Summary statistics for AMT stock using .std() and .mean()\n",
    "AMT_daily_returns_df.std()\n",
    "AMT_daily_returns_df.mean()"
   ]
  },
  {
   "cell_type": "code",
   "execution_count": 29,
   "id": "0a6d48da-cbbb-453a-9059-25725226b493",
   "metadata": {},
   "outputs": [
    {
     "data": {
      "text/plain": [
       "daily_returns    0.000153\n",
       "dtype: float64"
      ]
     },
     "execution_count": 29,
     "metadata": {},
     "output_type": "execute_result"
    }
   ],
   "source": [
    "#Summary statistics for IYR stock using .std() and .mean()\n",
    "IYR_daily_returns_df.std()\n",
    "IYR_daily_returns_df.mean()"
   ]
  },
  {
   "cell_type": "code",
   "execution_count": 30,
   "id": "60b68c0d-17fb-45b8-8b7b-10c7edb435e8",
   "metadata": {},
   "outputs": [
    {
     "data": {
      "text/plain": [
       "daily_returns   -0.000772\n",
       "dtype: float64"
      ]
     },
     "execution_count": 30,
     "metadata": {},
     "output_type": "execute_result"
    }
   ],
   "source": [
    "#Summary statistics for XOM stock using .std() and .mean()\n",
    "XOM_daily_returns_df.std()\n",
    "XOM_daily_returns_df.mean()"
   ]
  },
  {
   "cell_type": "code",
   "execution_count": 31,
   "id": "93ce569f-0ac9-4d0c-b2c9-95c9ac18e1f7",
   "metadata": {},
   "outputs": [
    {
     "data": {
      "text/plain": [
       "daily_returns   -0.000677\n",
       "dtype: float64"
      ]
     },
     "execution_count": 31,
     "metadata": {},
     "output_type": "execute_result"
    }
   ],
   "source": [
    "#Summary statistics for XLE stock using .std() and .mean()\n",
    "XLE_daily_returns_df.std()\n",
    "XLE_daily_returns_df.mean()"
   ]
  },
  {
   "cell_type": "code",
   "execution_count": 32,
   "id": "90f2823e-f0d8-4e66-b5d2-d0f2ca4f16c9",
   "metadata": {},
   "outputs": [
    {
     "data": {
      "text/html": [
       "<div>\n",
       "<style scoped>\n",
       "    .dataframe tbody tr th:only-of-type {\n",
       "        vertical-align: middle;\n",
       "    }\n",
       "\n",
       "    .dataframe tbody tr th {\n",
       "        vertical-align: top;\n",
       "    }\n",
       "\n",
       "    .dataframe thead th {\n",
       "        text-align: right;\n",
       "    }\n",
       "</style>\n",
       "<table border=\"1\" class=\"dataframe\">\n",
       "  <thead>\n",
       "    <tr style=\"text-align: right;\">\n",
       "      <th></th>\n",
       "      <th>daily_returns</th>\n",
       "    </tr>\n",
       "  </thead>\n",
       "  <tbody>\n",
       "    <tr>\n",
       "      <th>count</th>\n",
       "      <td>3934.000000</td>\n",
       "    </tr>\n",
       "    <tr>\n",
       "      <th>mean</th>\n",
       "      <td>0.000193</td>\n",
       "    </tr>\n",
       "    <tr>\n",
       "      <th>std</th>\n",
       "      <td>0.012797</td>\n",
       "    </tr>\n",
       "    <tr>\n",
       "      <th>min</th>\n",
       "      <td>-0.078197</td>\n",
       "    </tr>\n",
       "    <tr>\n",
       "      <th>25%</th>\n",
       "      <td>-0.005803</td>\n",
       "    </tr>\n",
       "    <tr>\n",
       "      <th>50%</th>\n",
       "      <td>0.000857</td>\n",
       "    </tr>\n",
       "    <tr>\n",
       "      <th>75%</th>\n",
       "      <td>0.007189</td>\n",
       "    </tr>\n",
       "    <tr>\n",
       "      <th>max</th>\n",
       "      <td>0.094452</td>\n",
       "    </tr>\n",
       "  </tbody>\n",
       "</table>\n",
       "</div>"
      ],
      "text/plain": [
       "       daily_returns\n",
       "count    3934.000000\n",
       "mean        0.000193\n",
       "std         0.012797\n",
       "min        -0.078197\n",
       "25%        -0.005803\n",
       "50%         0.000857\n",
       "75%         0.007189\n",
       "max         0.094452"
      ]
     },
     "execution_count": 32,
     "metadata": {},
     "output_type": "execute_result"
    }
   ],
   "source": [
    "pre_pandemic_prices_df.describe()"
   ]
  },
  {
   "cell_type": "code",
   "execution_count": 33,
   "id": "a47fc738-e516-4502-abab-4629cec0e12d",
   "metadata": {},
   "outputs": [
    {
     "data": {
      "text/html": [
       "<div>\n",
       "<style scoped>\n",
       "    .dataframe tbody tr th:only-of-type {\n",
       "        vertical-align: middle;\n",
       "    }\n",
       "\n",
       "    .dataframe tbody tr th {\n",
       "        vertical-align: top;\n",
       "    }\n",
       "\n",
       "    .dataframe thead th {\n",
       "        text-align: right;\n",
       "    }\n",
       "</style>\n",
       "<table border=\"1\" class=\"dataframe\">\n",
       "  <thead>\n",
       "    <tr style=\"text-align: right;\">\n",
       "      <th></th>\n",
       "      <th>daily_returns</th>\n",
       "    </tr>\n",
       "  </thead>\n",
       "  <tbody>\n",
       "    <tr>\n",
       "      <th>count</th>\n",
       "      <td>562.000000</td>\n",
       "    </tr>\n",
       "    <tr>\n",
       "      <th>mean</th>\n",
       "      <td>0.001036</td>\n",
       "    </tr>\n",
       "    <tr>\n",
       "      <th>std</th>\n",
       "      <td>0.018780</td>\n",
       "    </tr>\n",
       "    <tr>\n",
       "      <th>min</th>\n",
       "      <td>-0.078197</td>\n",
       "    </tr>\n",
       "    <tr>\n",
       "      <th>25%</th>\n",
       "      <td>-0.007024</td>\n",
       "    </tr>\n",
       "    <tr>\n",
       "      <th>50%</th>\n",
       "      <td>0.001641</td>\n",
       "    </tr>\n",
       "    <tr>\n",
       "      <th>75%</th>\n",
       "      <td>0.010059</td>\n",
       "    </tr>\n",
       "    <tr>\n",
       "      <th>max</th>\n",
       "      <td>0.094452</td>\n",
       "    </tr>\n",
       "  </tbody>\n",
       "</table>\n",
       "</div>"
      ],
      "text/plain": [
       "       daily_returns\n",
       "count     562.000000\n",
       "mean        0.001036\n",
       "std         0.018780\n",
       "min        -0.078197\n",
       "25%        -0.007024\n",
       "50%         0.001641\n",
       "75%         0.010059\n",
       "max         0.094452"
      ]
     },
     "execution_count": 33,
     "metadata": {},
     "output_type": "execute_result"
    }
   ],
   "source": [
    "#Summary statistics for AMZN using .describe()\n",
    "AMZN_daily_returns_df.describe()"
   ]
  },
  {
   "cell_type": "code",
   "execution_count": 34,
   "id": "c6df94d2-4744-4ee7-b582-c820961204a7",
   "metadata": {},
   "outputs": [
    {
     "data": {
      "text/html": [
       "<div>\n",
       "<style scoped>\n",
       "    .dataframe tbody tr th:only-of-type {\n",
       "        vertical-align: middle;\n",
       "    }\n",
       "\n",
       "    .dataframe tbody tr th {\n",
       "        vertical-align: top;\n",
       "    }\n",
       "\n",
       "    .dataframe thead th {\n",
       "        text-align: right;\n",
       "    }\n",
       "</style>\n",
       "<table border=\"1\" class=\"dataframe\">\n",
       "  <thead>\n",
       "    <tr style=\"text-align: right;\">\n",
       "      <th></th>\n",
       "      <th>daily_returns</th>\n",
       "    </tr>\n",
       "  </thead>\n",
       "  <tbody>\n",
       "    <tr>\n",
       "      <th>count</th>\n",
       "      <td>562.000000</td>\n",
       "    </tr>\n",
       "    <tr>\n",
       "      <th>mean</th>\n",
       "      <td>0.000472</td>\n",
       "    </tr>\n",
       "    <tr>\n",
       "      <th>std</th>\n",
       "      <td>0.010459</td>\n",
       "    </tr>\n",
       "    <tr>\n",
       "      <th>min</th>\n",
       "      <td>-0.041607</td>\n",
       "    </tr>\n",
       "    <tr>\n",
       "      <th>25%</th>\n",
       "      <td>-0.004500</td>\n",
       "    </tr>\n",
       "    <tr>\n",
       "      <th>50%</th>\n",
       "      <td>0.001401</td>\n",
       "    </tr>\n",
       "    <tr>\n",
       "      <th>75%</th>\n",
       "      <td>0.005990</td>\n",
       "    </tr>\n",
       "    <tr>\n",
       "      <th>max</th>\n",
       "      <td>0.058514</td>\n",
       "    </tr>\n",
       "  </tbody>\n",
       "</table>\n",
       "</div>"
      ],
      "text/plain": [
       "       daily_returns\n",
       "count     562.000000\n",
       "mean        0.000472\n",
       "std         0.010459\n",
       "min        -0.041607\n",
       "25%        -0.004500\n",
       "50%         0.001401\n",
       "75%         0.005990\n",
       "max         0.058514"
      ]
     },
     "execution_count": 34,
     "metadata": {},
     "output_type": "execute_result"
    }
   ],
   "source": [
    "#Summary statistics for RTH using .describe()\n",
    "RTH_daily_returns_df.describe()"
   ]
  },
  {
   "cell_type": "code",
   "execution_count": 35,
   "id": "b6ef11bb-db63-45dc-8904-98b78c5c6ae0",
   "metadata": {},
   "outputs": [
    {
     "data": {
      "text/html": [
       "<div>\n",
       "<style scoped>\n",
       "    .dataframe tbody tr th:only-of-type {\n",
       "        vertical-align: middle;\n",
       "    }\n",
       "\n",
       "    .dataframe tbody tr th {\n",
       "        vertical-align: top;\n",
       "    }\n",
       "\n",
       "    .dataframe thead th {\n",
       "        text-align: right;\n",
       "    }\n",
       "</style>\n",
       "<table border=\"1\" class=\"dataframe\">\n",
       "  <thead>\n",
       "    <tr style=\"text-align: right;\">\n",
       "      <th></th>\n",
       "      <th>daily_returns</th>\n",
       "    </tr>\n",
       "  </thead>\n",
       "  <tbody>\n",
       "    <tr>\n",
       "      <th>count</th>\n",
       "      <td>562.000000</td>\n",
       "    </tr>\n",
       "    <tr>\n",
       "      <th>mean</th>\n",
       "      <td>0.000889</td>\n",
       "    </tr>\n",
       "    <tr>\n",
       "      <th>std</th>\n",
       "      <td>0.012321</td>\n",
       "    </tr>\n",
       "    <tr>\n",
       "      <th>min</th>\n",
       "      <td>-0.045929</td>\n",
       "    </tr>\n",
       "    <tr>\n",
       "      <th>25%</th>\n",
       "      <td>-0.005953</td>\n",
       "    </tr>\n",
       "    <tr>\n",
       "      <th>50%</th>\n",
       "      <td>0.001409</td>\n",
       "    </tr>\n",
       "    <tr>\n",
       "      <th>75%</th>\n",
       "      <td>0.008195</td>\n",
       "    </tr>\n",
       "    <tr>\n",
       "      <th>max</th>\n",
       "      <td>0.053200</td>\n",
       "    </tr>\n",
       "  </tbody>\n",
       "</table>\n",
       "</div>"
      ],
      "text/plain": [
       "       daily_returns\n",
       "count     562.000000\n",
       "mean        0.000889\n",
       "std         0.012321\n",
       "min        -0.045929\n",
       "25%        -0.005953\n",
       "50%         0.001409\n",
       "75%         0.008195\n",
       "max         0.053200"
      ]
     },
     "execution_count": 35,
     "metadata": {},
     "output_type": "execute_result"
    }
   ],
   "source": [
    "#Summary statistics for AMT using .describe()\n",
    "AMT_daily_returns_df.describe()"
   ]
  },
  {
   "cell_type": "code",
   "execution_count": 36,
   "id": "7c4aa0f8-a623-4855-aad0-18dee5615781",
   "metadata": {},
   "outputs": [
    {
     "data": {
      "text/html": [
       "<div>\n",
       "<style scoped>\n",
       "    .dataframe tbody tr th:only-of-type {\n",
       "        vertical-align: middle;\n",
       "    }\n",
       "\n",
       "    .dataframe tbody tr th {\n",
       "        vertical-align: top;\n",
       "    }\n",
       "\n",
       "    .dataframe thead th {\n",
       "        text-align: right;\n",
       "    }\n",
       "</style>\n",
       "<table border=\"1\" class=\"dataframe\">\n",
       "  <thead>\n",
       "    <tr style=\"text-align: right;\">\n",
       "      <th></th>\n",
       "      <th>daily_returns</th>\n",
       "    </tr>\n",
       "  </thead>\n",
       "  <tbody>\n",
       "    <tr>\n",
       "      <th>count</th>\n",
       "      <td>562.000000</td>\n",
       "    </tr>\n",
       "    <tr>\n",
       "      <th>mean</th>\n",
       "      <td>0.000153</td>\n",
       "    </tr>\n",
       "    <tr>\n",
       "      <th>std</th>\n",
       "      <td>0.009113</td>\n",
       "    </tr>\n",
       "    <tr>\n",
       "      <th>min</th>\n",
       "      <td>-0.052410</td>\n",
       "    </tr>\n",
       "    <tr>\n",
       "      <th>25%</th>\n",
       "      <td>-0.003999</td>\n",
       "    </tr>\n",
       "    <tr>\n",
       "      <th>50%</th>\n",
       "      <td>0.001148</td>\n",
       "    </tr>\n",
       "    <tr>\n",
       "      <th>75%</th>\n",
       "      <td>0.005942</td>\n",
       "    </tr>\n",
       "    <tr>\n",
       "      <th>max</th>\n",
       "      <td>0.032778</td>\n",
       "    </tr>\n",
       "  </tbody>\n",
       "</table>\n",
       "</div>"
      ],
      "text/plain": [
       "       daily_returns\n",
       "count     562.000000\n",
       "mean        0.000153\n",
       "std         0.009113\n",
       "min        -0.052410\n",
       "25%        -0.003999\n",
       "50%         0.001148\n",
       "75%         0.005942\n",
       "max         0.032778"
      ]
     },
     "execution_count": 36,
     "metadata": {},
     "output_type": "execute_result"
    }
   ],
   "source": [
    "#Summary statistics for IYR using .describe()\n",
    "IYR_daily_returns_df.describe()"
   ]
  },
  {
   "cell_type": "code",
   "execution_count": 37,
   "id": "f2a60a2b-a269-4563-b637-f2d825f99ef5",
   "metadata": {},
   "outputs": [
    {
     "data": {
      "text/html": [
       "<div>\n",
       "<style scoped>\n",
       "    .dataframe tbody tr th:only-of-type {\n",
       "        vertical-align: middle;\n",
       "    }\n",
       "\n",
       "    .dataframe tbody tr th {\n",
       "        vertical-align: top;\n",
       "    }\n",
       "\n",
       "    .dataframe thead th {\n",
       "        text-align: right;\n",
       "    }\n",
       "</style>\n",
       "<table border=\"1\" class=\"dataframe\">\n",
       "  <thead>\n",
       "    <tr style=\"text-align: right;\">\n",
       "      <th></th>\n",
       "      <th>daily_returns</th>\n",
       "    </tr>\n",
       "  </thead>\n",
       "  <tbody>\n",
       "    <tr>\n",
       "      <th>count</th>\n",
       "      <td>562.000000</td>\n",
       "    </tr>\n",
       "    <tr>\n",
       "      <th>mean</th>\n",
       "      <td>-0.000772</td>\n",
       "    </tr>\n",
       "    <tr>\n",
       "      <th>std</th>\n",
       "      <td>0.013299</td>\n",
       "    </tr>\n",
       "    <tr>\n",
       "      <th>min</th>\n",
       "      <td>-0.060177</td>\n",
       "    </tr>\n",
       "    <tr>\n",
       "      <th>25%</th>\n",
       "      <td>-0.008184</td>\n",
       "    </tr>\n",
       "    <tr>\n",
       "      <th>50%</th>\n",
       "      <td>-0.000548</td>\n",
       "    </tr>\n",
       "    <tr>\n",
       "      <th>75%</th>\n",
       "      <td>0.007635</td>\n",
       "    </tr>\n",
       "    <tr>\n",
       "      <th>max</th>\n",
       "      <td>0.047779</td>\n",
       "    </tr>\n",
       "  </tbody>\n",
       "</table>\n",
       "</div>"
      ],
      "text/plain": [
       "       daily_returns\n",
       "count     562.000000\n",
       "mean       -0.000772\n",
       "std         0.013299\n",
       "min        -0.060177\n",
       "25%        -0.008184\n",
       "50%        -0.000548\n",
       "75%         0.007635\n",
       "max         0.047779"
      ]
     },
     "execution_count": 37,
     "metadata": {},
     "output_type": "execute_result"
    }
   ],
   "source": [
    "#Summary statistics for XOM using .describe()\n",
    "XOM_daily_returns_df.describe()"
   ]
  },
  {
   "cell_type": "code",
   "execution_count": 38,
   "id": "45f67940-9e53-4ffc-9a8a-c6b59e920775",
   "metadata": {},
   "outputs": [
    {
     "data": {
      "text/html": [
       "<div>\n",
       "<style scoped>\n",
       "    .dataframe tbody tr th:only-of-type {\n",
       "        vertical-align: middle;\n",
       "    }\n",
       "\n",
       "    .dataframe tbody tr th {\n",
       "        vertical-align: top;\n",
       "    }\n",
       "\n",
       "    .dataframe thead th {\n",
       "        text-align: right;\n",
       "    }\n",
       "</style>\n",
       "<table border=\"1\" class=\"dataframe\">\n",
       "  <thead>\n",
       "    <tr style=\"text-align: right;\">\n",
       "      <th></th>\n",
       "      <th>daily_returns</th>\n",
       "    </tr>\n",
       "  </thead>\n",
       "  <tbody>\n",
       "    <tr>\n",
       "      <th>count</th>\n",
       "      <td>562.000000</td>\n",
       "    </tr>\n",
       "    <tr>\n",
       "      <th>mean</th>\n",
       "      <td>-0.000677</td>\n",
       "    </tr>\n",
       "    <tr>\n",
       "      <th>std</th>\n",
       "      <td>0.013422</td>\n",
       "    </tr>\n",
       "    <tr>\n",
       "      <th>min</th>\n",
       "      <td>-0.053478</td>\n",
       "    </tr>\n",
       "    <tr>\n",
       "      <th>25%</th>\n",
       "      <td>-0.007529</td>\n",
       "    </tr>\n",
       "    <tr>\n",
       "      <th>50%</th>\n",
       "      <td>-0.000064</td>\n",
       "    </tr>\n",
       "    <tr>\n",
       "      <th>75%</th>\n",
       "      <td>0.007658</td>\n",
       "    </tr>\n",
       "    <tr>\n",
       "      <th>max</th>\n",
       "      <td>0.062221</td>\n",
       "    </tr>\n",
       "  </tbody>\n",
       "</table>\n",
       "</div>"
      ],
      "text/plain": [
       "       daily_returns\n",
       "count     562.000000\n",
       "mean       -0.000677\n",
       "std         0.013422\n",
       "min        -0.053478\n",
       "25%        -0.007529\n",
       "50%        -0.000064\n",
       "75%         0.007658\n",
       "max         0.062221"
      ]
     },
     "execution_count": 38,
     "metadata": {},
     "output_type": "execute_result"
    }
   ],
   "source": [
    "#Summary statistics for XLE using .describe()\n",
    "XLE_daily_returns_df.describe()"
   ]
  },
  {
   "cell_type": "code",
   "execution_count": 39,
   "id": "aab7c8d8-e0ab-472f-a062-f43551600a95",
   "metadata": {},
   "outputs": [
    {
     "data": {
      "text/plain": [
       "daily_returns    0.000353\n",
       "dtype: float64"
      ]
     },
     "execution_count": 39,
     "metadata": {},
     "output_type": "execute_result"
    }
   ],
   "source": [
    "# Variance Of Amzn\n",
    "AMZN_var=AMZN_daily_returns_df.var()\n",
    "AMZN_var"
   ]
  },
  {
   "cell_type": "code",
   "execution_count": 40,
   "id": "49a7106a-df9b-4a38-a6c7-cae41ac5f38c",
   "metadata": {},
   "outputs": [
    {
     "data": {
      "text/plain": [
       "daily_returns    0.000109\n",
       "dtype: float64"
      ]
     },
     "execution_count": 40,
     "metadata": {},
     "output_type": "execute_result"
    }
   ],
   "source": [
    "# Variance For RTH\n",
    "RTH_var=RTH_daily_returns_df.var()\n",
    "RTH_var"
   ]
  },
  {
   "cell_type": "code",
   "execution_count": 41,
   "id": "c167a7bb-6072-48cb-b8ad-7597b58bc0a8",
   "metadata": {},
   "outputs": [
    {
     "data": {
      "text/plain": [
       "daily_returns    0.000083\n",
       "dtype: float64"
      ]
     },
     "execution_count": 41,
     "metadata": {},
     "output_type": "execute_result"
    }
   ],
   "source": [
    "# Variance Of IYR\n",
    "IYR_var=IYR_daily_returns_df.var()\n",
    "IYR_var"
   ]
  },
  {
   "cell_type": "code",
   "execution_count": 42,
   "id": "fd8ca882-08cb-48cb-88b8-ce31a1cd519b",
   "metadata": {},
   "outputs": [
    {
     "data": {
      "text/plain": [
       "daily_returns    0.000152\n",
       "dtype: float64"
      ]
     },
     "execution_count": 42,
     "metadata": {},
     "output_type": "execute_result"
    }
   ],
   "source": [
    "# Variance Of AMT\n",
    "AMT_var=AMT_daily_returns_df.var()\n",
    "AMT_var"
   ]
  },
  {
   "cell_type": "code",
   "execution_count": 43,
   "id": "a324ba09-e369-486a-9014-9e6b4f051d22",
   "metadata": {},
   "outputs": [
    {
     "data": {
      "text/plain": [
       "daily_returns    0.000177\n",
       "dtype: float64"
      ]
     },
     "execution_count": 43,
     "metadata": {},
     "output_type": "execute_result"
    }
   ],
   "source": [
    "# Variance Of XOM\n",
    "XOM_var=XOM_daily_returns_df.var()\n",
    "XOM_var"
   ]
  },
  {
   "cell_type": "code",
   "execution_count": 44,
   "id": "bb70e7af-f176-4366-bfc7-347bca816a08",
   "metadata": {},
   "outputs": [
    {
     "data": {
      "text/plain": [
       "daily_returns    0.00018\n",
       "dtype: float64"
      ]
     },
     "execution_count": 44,
     "metadata": {},
     "output_type": "execute_result"
    }
   ],
   "source": [
    "# Variance Of XLE\n",
    "XLE_var=XLE_daily_returns_df.var()\n",
    "XLE_var"
   ]
  },
  {
   "cell_type": "code",
   "execution_count": 45,
   "id": "dd01668f-ecde-46a6-8188-d600ca5dabcb",
   "metadata": {},
   "outputs": [
    {
     "data": {
      "text/plain": [
       "0.00012939896243668723"
      ]
     },
     "execution_count": 45,
     "metadata": {},
     "output_type": "execute_result"
    }
   ],
   "source": [
    "# Covariance for Each Stock and ETF\n",
    "AMZN_Cov=AMZN_daily_returns_df.reset_index(level = 1, drop= True)['daily_returns'].cov(SPY_daily_returns_df.reset_index(level = 1, drop= True)['daily_returns'])\n",
    "AMZN_Cov"
   ]
  },
  {
   "cell_type": "code",
   "execution_count": 46,
   "id": "d21ed2cd-ae10-477a-9cb7-89fd8338e261",
   "metadata": {},
   "outputs": [
    {
     "data": {
      "text/plain": [
       "8.601297759202322e-05"
      ]
     },
     "execution_count": 46,
     "metadata": {},
     "output_type": "execute_result"
    }
   ],
   "source": [
    "RTH_Cov=RTH_daily_returns_df.reset_index(level = 1, drop= True)['daily_returns'].cov(SPY_daily_returns_df.reset_index(level = 1, drop= True)['daily_returns'])\n",
    "RTH_Cov"
   ]
  },
  {
   "cell_type": "code",
   "execution_count": 47,
   "id": "5c7aa024-9b16-4cc2-b5ae-27bc6a90e1ef",
   "metadata": {},
   "outputs": [
    {
     "data": {
      "text/plain": [
       "3.365956449205652e-05"
      ]
     },
     "execution_count": 47,
     "metadata": {},
     "output_type": "execute_result"
    }
   ],
   "source": [
    "# Covariance for Each Stock and ETF\n",
    "AMT_Cov=AMT_daily_returns_df.reset_index(level = 1, drop= True)['daily_returns'].cov(SPY_daily_returns_df.reset_index(level = 1, drop= True)['daily_returns'])\n",
    "AMT_Cov"
   ]
  },
  {
   "cell_type": "code",
   "execution_count": 48,
   "id": "c53a7703-a351-4a24-bb2e-1233dc1b553b",
   "metadata": {},
   "outputs": [
    {
     "data": {
      "text/plain": [
       "4.901942026185568e-05"
      ]
     },
     "execution_count": 48,
     "metadata": {},
     "output_type": "execute_result"
    }
   ],
   "source": [
    "IYR_Cov=IYR_daily_returns_df.reset_index(level = 1, drop= True)['daily_returns'].cov(SPY_daily_returns_df.reset_index(level = 1, drop= True)['daily_returns'])\n",
    "IYR_Cov"
   ]
  },
  {
   "cell_type": "code",
   "execution_count": 49,
   "id": "e91c6d15-5aa1-41fc-a6e7-d086cd9868f4",
   "metadata": {},
   "outputs": [
    {
     "data": {
      "text/plain": [
       "8.38898443625193e-05"
      ]
     },
     "execution_count": 49,
     "metadata": {},
     "output_type": "execute_result"
    }
   ],
   "source": [
    "XOM_Cov=XOM_daily_returns_df.reset_index(level = 1, drop= True)['daily_returns'].cov(SPY_daily_returns_df.reset_index(level = 1, drop= True)['daily_returns'])\n",
    "XOM_Cov"
   ]
  },
  {
   "cell_type": "code",
   "execution_count": 50,
   "id": "e45d1793-5241-417b-b902-3537eacd5ab2",
   "metadata": {},
   "outputs": [
    {
     "data": {
      "text/plain": [
       "9.412789241032252e-05"
      ]
     },
     "execution_count": 50,
     "metadata": {},
     "output_type": "execute_result"
    }
   ],
   "source": [
    "XLE_Cov=XLE_daily_returns_df.reset_index(level = 1, drop= True)['daily_returns'].cov(SPY_daily_returns_df.reset_index(level = 1, drop= True)['daily_returns'])\n",
    "XLE_Cov"
   ]
  },
  {
   "cell_type": "code",
   "execution_count": 51,
   "id": "48eea197-5f92-4d21-9004-44e9dca5c0bd",
   "metadata": {},
   "outputs": [],
   "source": [
    "year_trading_days = 252"
   ]
  },
  {
   "cell_type": "code",
   "execution_count": 52,
   "id": "b6dbc1b9-d70d-4692-bbeb-3c56d6305ea8",
   "metadata": {},
   "outputs": [
    {
     "data": {
      "text/plain": [
       "daily_returns    0.119018\n",
       "dtype: float64"
      ]
     },
     "execution_count": 52,
     "metadata": {},
     "output_type": "execute_result"
    }
   ],
   "source": [
    "# Annualized returns of RTH\n",
    "RTH_Annual_Ret = RTH_daily_returns_df.mean()*252\n",
    "RTH_Annual_Ret"
   ]
  },
  {
   "cell_type": "code",
   "execution_count": 53,
   "id": "fbacf7e2-0a31-4622-b873-cf066523dbc0",
   "metadata": {},
   "outputs": [
    {
     "data": {
      "text/plain": [
       "daily_returns    0.038453\n",
       "dtype: float64"
      ]
     },
     "execution_count": 53,
     "metadata": {},
     "output_type": "execute_result"
    }
   ],
   "source": [
    "# Annualized returns of IYR\n",
    "IYR_Annual_Ret = IYR_daily_returns_df.mean()*252\n",
    "IYR_Annual_Ret"
   ]
  },
  {
   "cell_type": "code",
   "execution_count": 54,
   "id": "f5d7b699-0382-4a13-9753-83c969fa1ecd",
   "metadata": {},
   "outputs": [
    {
     "data": {
      "text/plain": [
       "daily_returns   -0.170551\n",
       "dtype: float64"
      ]
     },
     "execution_count": 54,
     "metadata": {},
     "output_type": "execute_result"
    }
   ],
   "source": [
    "# Annualized returns of XLE\n",
    "XLE_Annual_Ret = XLE_daily_returns_df.mean()*252\n",
    "XLE_Annual_Ret"
   ]
  },
  {
   "cell_type": "code",
   "execution_count": 55,
   "id": "ef9a8667-33a0-4139-9db9-21a9473fcde6",
   "metadata": {},
   "outputs": [
    {
     "data": {
      "text/plain": [
       "daily_returns    0.166037\n",
       "dtype: float64"
      ]
     },
     "execution_count": 55,
     "metadata": {},
     "output_type": "execute_result"
    }
   ],
   "source": [
    "# Annualized std dev of RTH\n",
    "annual_std_dev_RTH = RTH_daily_returns_df.std() * np.sqrt(year_trading_days)\n",
    "annual_std_dev_RTH"
   ]
  },
  {
   "cell_type": "code",
   "execution_count": 56,
   "id": "9528d47b-c694-4b9f-9165-f8667c2c4fad",
   "metadata": {},
   "outputs": [
    {
     "data": {
      "text/plain": [
       "daily_returns    0.144664\n",
       "dtype: float64"
      ]
     },
     "execution_count": 56,
     "metadata": {},
     "output_type": "execute_result"
    }
   ],
   "source": [
    "# Annualized std dev of IYR\n",
    "annual_std_dev_IYR = IYR_daily_returns_df.std() * np.sqrt(year_trading_days)\n",
    "annual_std_dev_IYR"
   ]
  },
  {
   "cell_type": "code",
   "execution_count": 57,
   "id": "bd5de4b1-8be0-4ffa-a62e-08f742d31af0",
   "metadata": {},
   "outputs": [
    {
     "data": {
      "text/plain": [
       "daily_returns    0.213068\n",
       "dtype: float64"
      ]
     },
     "execution_count": 57,
     "metadata": {},
     "output_type": "execute_result"
    }
   ],
   "source": [
    "# Annualized std dev of XLE\n",
    "annual_std_dev_XLE = XLE_daily_returns_df.std() * np.sqrt(year_trading_days)\n",
    "annual_std_dev_XLE"
   ]
  },
  {
   "cell_type": "code",
   "execution_count": 58,
   "id": "4e7d167c-cfbf-4e62-8d18-fc939d6c6939",
   "metadata": {
    "collapsed": true,
    "jupyter": {
     "outputs_hidden": true
    },
    "tags": []
   },
   "outputs": [
    {
     "data": {
      "text/html": [
       "<table border=\"1\" class=\"dataframe\">\n",
       "  <thead>\n",
       "    <tr style=\"text-align: right;\"><th>Start date</th><td colspan=2>2017-12-04</td></tr>\n",
       "    <tr style=\"text-align: right;\"><th>End date</th><td colspan=2>2020-02-28</td></tr>\n",
       "    <tr style=\"text-align: right;\"><th>Total months</th><td colspan=2>26</td></tr>\n",
       "    <tr style=\"text-align: right;\">\n",
       "      <th></th>\n",
       "      <th>Backtest</th>\n",
       "    </tr>\n",
       "  </thead>\n",
       "  <tbody>\n",
       "    <tr>\n",
       "      <th>Annual return</th>\n",
       "      <td>24.2%</td>\n",
       "    </tr>\n",
       "    <tr>\n",
       "      <th>Cumulative returns</th>\n",
       "      <td>62.1%</td>\n",
       "    </tr>\n",
       "    <tr>\n",
       "      <th>Annual volatility</th>\n",
       "      <td>29.8%</td>\n",
       "    </tr>\n",
       "    <tr>\n",
       "      <th>Sharpe ratio</th>\n",
       "      <td>0.88</td>\n",
       "    </tr>\n",
       "    <tr>\n",
       "      <th>Calmar ratio</th>\n",
       "      <td>0.71</td>\n",
       "    </tr>\n",
       "    <tr>\n",
       "      <th>Stability</th>\n",
       "      <td>0.47</td>\n",
       "    </tr>\n",
       "    <tr>\n",
       "      <th>Max drawdown</th>\n",
       "      <td>-34.1%</td>\n",
       "    </tr>\n",
       "    <tr>\n",
       "      <th>Omega ratio</th>\n",
       "      <td>1.17</td>\n",
       "    </tr>\n",
       "    <tr>\n",
       "      <th>Sortino ratio</th>\n",
       "      <td>1.26</td>\n",
       "    </tr>\n",
       "    <tr>\n",
       "      <th>Skew</th>\n",
       "      <td>-0.05</td>\n",
       "    </tr>\n",
       "    <tr>\n",
       "      <th>Kurtosis</th>\n",
       "      <td>3.29</td>\n",
       "    </tr>\n",
       "    <tr>\n",
       "      <th>Tail ratio</th>\n",
       "      <td>0.91</td>\n",
       "    </tr>\n",
       "    <tr>\n",
       "      <th>Daily value at risk</th>\n",
       "      <td>-3.7%</td>\n",
       "    </tr>\n",
       "  </tbody>\n",
       "</table>"
      ],
      "text/plain": [
       "<IPython.core.display.HTML object>"
      ]
     },
     "metadata": {},
     "output_type": "display_data"
    },
    {
     "ename": "AttributeError",
     "evalue": "'numpy.int64' object has no attribute 'to_pydatetime'",
     "output_type": "error",
     "traceback": [
      "\u001b[0;31m---------------------------------------------------------------------------\u001b[0m",
      "\u001b[0;31mAttributeError\u001b[0m                            Traceback (most recent call last)",
      "\u001b[0;32m/var/folders/0k/6khhs1fd7xqgsfgj5sgncg_40000gn/T/ipykernel_11054/1166492705.py\u001b[0m in \u001b[0;36m<module>\u001b[0;34m\u001b[0m\n\u001b[1;32m      1\u001b[0m result = pf.create_returns_tear_sheet(AMZN_daily_returns_df.reset_index(level = 1,drop = True).daily_returns,\n\u001b[0;32m----> 2\u001b[0;31m                                            return_fig=True)\n\u001b[0m\u001b[1;32m      3\u001b[0m \u001b[0;31m#result.savefig(\"amzn_prepan_tearsheet.png\", format = \"png\")\u001b[0m\u001b[0;34m\u001b[0m\u001b[0;34m\u001b[0m\u001b[0;34m\u001b[0m\u001b[0m\n",
      "\u001b[0;32m~/opt/anaconda3/envs/dev/lib/python3.7/site-packages/pyfolio/plotting.py\u001b[0m in \u001b[0;36mcall_w_context\u001b[0;34m(*args, **kwargs)\u001b[0m\n\u001b[1;32m     50\u001b[0m         \u001b[0;32mif\u001b[0m \u001b[0mset_context\u001b[0m\u001b[0;34m:\u001b[0m\u001b[0;34m\u001b[0m\u001b[0;34m\u001b[0m\u001b[0m\n\u001b[1;32m     51\u001b[0m             \u001b[0;32mwith\u001b[0m \u001b[0mplotting_context\u001b[0m\u001b[0;34m(\u001b[0m\u001b[0;34m)\u001b[0m\u001b[0;34m,\u001b[0m \u001b[0maxes_style\u001b[0m\u001b[0;34m(\u001b[0m\u001b[0;34m)\u001b[0m\u001b[0;34m:\u001b[0m\u001b[0;34m\u001b[0m\u001b[0;34m\u001b[0m\u001b[0m\n\u001b[0;32m---> 52\u001b[0;31m                 \u001b[0;32mreturn\u001b[0m \u001b[0mfunc\u001b[0m\u001b[0;34m(\u001b[0m\u001b[0;34m*\u001b[0m\u001b[0margs\u001b[0m\u001b[0;34m,\u001b[0m \u001b[0;34m**\u001b[0m\u001b[0mkwargs\u001b[0m\u001b[0;34m)\u001b[0m\u001b[0;34m\u001b[0m\u001b[0;34m\u001b[0m\u001b[0m\n\u001b[0m\u001b[1;32m     53\u001b[0m         \u001b[0;32melse\u001b[0m\u001b[0;34m:\u001b[0m\u001b[0;34m\u001b[0m\u001b[0;34m\u001b[0m\u001b[0m\n\u001b[1;32m     54\u001b[0m             \u001b[0;32mreturn\u001b[0m \u001b[0mfunc\u001b[0m\u001b[0;34m(\u001b[0m\u001b[0;34m*\u001b[0m\u001b[0margs\u001b[0m\u001b[0;34m,\u001b[0m \u001b[0;34m**\u001b[0m\u001b[0mkwargs\u001b[0m\u001b[0;34m)\u001b[0m\u001b[0;34m\u001b[0m\u001b[0;34m\u001b[0m\u001b[0m\n",
      "\u001b[0;32m~/opt/anaconda3/envs/dev/lib/python3.7/site-packages/pyfolio/tears.py\u001b[0m in \u001b[0;36mcreate_returns_tear_sheet\u001b[0;34m(returns, positions, transactions, live_start_date, cone_std, benchmark_rets, bootstrap, turnover_denom, header_rows, return_fig)\u001b[0m\n\u001b[1;32m    502\u001b[0m                              header_rows=header_rows)\n\u001b[1;32m    503\u001b[0m \u001b[0;34m\u001b[0m\u001b[0m\n\u001b[0;32m--> 504\u001b[0;31m     \u001b[0mplotting\u001b[0m\u001b[0;34m.\u001b[0m\u001b[0mshow_worst_drawdown_periods\u001b[0m\u001b[0;34m(\u001b[0m\u001b[0mreturns\u001b[0m\u001b[0;34m)\u001b[0m\u001b[0;34m\u001b[0m\u001b[0;34m\u001b[0m\u001b[0m\n\u001b[0m\u001b[1;32m    505\u001b[0m \u001b[0;34m\u001b[0m\u001b[0m\n\u001b[1;32m    506\u001b[0m     \u001b[0mvertical_sections\u001b[0m \u001b[0;34m=\u001b[0m \u001b[0;36m11\u001b[0m\u001b[0;34m\u001b[0m\u001b[0;34m\u001b[0m\u001b[0m\n",
      "\u001b[0;32m~/opt/anaconda3/envs/dev/lib/python3.7/site-packages/pyfolio/plotting.py\u001b[0m in \u001b[0;36mshow_worst_drawdown_periods\u001b[0;34m(returns, top)\u001b[0m\n\u001b[1;32m   1662\u001b[0m     \"\"\"\n\u001b[1;32m   1663\u001b[0m \u001b[0;34m\u001b[0m\u001b[0m\n\u001b[0;32m-> 1664\u001b[0;31m     \u001b[0mdrawdown_df\u001b[0m \u001b[0;34m=\u001b[0m \u001b[0mtimeseries\u001b[0m\u001b[0;34m.\u001b[0m\u001b[0mgen_drawdown_table\u001b[0m\u001b[0;34m(\u001b[0m\u001b[0mreturns\u001b[0m\u001b[0;34m,\u001b[0m \u001b[0mtop\u001b[0m\u001b[0;34m=\u001b[0m\u001b[0mtop\u001b[0m\u001b[0;34m)\u001b[0m\u001b[0;34m\u001b[0m\u001b[0;34m\u001b[0m\u001b[0m\n\u001b[0m\u001b[1;32m   1665\u001b[0m     utils.print_table(\n\u001b[1;32m   1666\u001b[0m         \u001b[0mdrawdown_df\u001b[0m\u001b[0;34m.\u001b[0m\u001b[0msort_values\u001b[0m\u001b[0;34m(\u001b[0m\u001b[0;34m'Net drawdown in %'\u001b[0m\u001b[0;34m,\u001b[0m \u001b[0mascending\u001b[0m\u001b[0;34m=\u001b[0m\u001b[0;32mFalse\u001b[0m\u001b[0;34m)\u001b[0m\u001b[0;34m,\u001b[0m\u001b[0;34m\u001b[0m\u001b[0;34m\u001b[0m\u001b[0m\n",
      "\u001b[0;32m~/opt/anaconda3/envs/dev/lib/python3.7/site-packages/pyfolio/timeseries.py\u001b[0m in \u001b[0;36mgen_drawdown_table\u001b[0;34m(returns, top)\u001b[0m\n\u001b[1;32m   1006\u001b[0m         df_drawdowns.loc[i, 'Peak date'] = (peak.to_pydatetime()\n\u001b[1;32m   1007\u001b[0m                                             .strftime('%Y-%m-%d'))\n\u001b[0;32m-> 1008\u001b[0;31m         df_drawdowns.loc[i, 'Valley date'] = (valley.to_pydatetime()\n\u001b[0m\u001b[1;32m   1009\u001b[0m                                               .strftime('%Y-%m-%d'))\n\u001b[1;32m   1010\u001b[0m         \u001b[0;32mif\u001b[0m \u001b[0misinstance\u001b[0m\u001b[0;34m(\u001b[0m\u001b[0mrecovery\u001b[0m\u001b[0;34m,\u001b[0m \u001b[0mfloat\u001b[0m\u001b[0;34m)\u001b[0m\u001b[0;34m:\u001b[0m\u001b[0;34m\u001b[0m\u001b[0;34m\u001b[0m\u001b[0m\n",
      "\u001b[0;31mAttributeError\u001b[0m: 'numpy.int64' object has no attribute 'to_pydatetime'"
     ]
    }
   ],
   "source": [
    "result = pf.create_returns_tear_sheet(AMZN_daily_returns_df.reset_index(level = 1,drop = True).daily_returns,\n",
    "                                           return_fig=True)\n",
    "#result.savefig(\"amzn_prepan_tearsheet.png\", format = \"png\")"
   ]
  },
  {
   "cell_type": "code",
   "execution_count": null,
   "id": "83f06fe9-58d8-47eb-90c8-001d29f2d32e",
   "metadata": {},
   "outputs": [],
   "source": [
    "result = pf.create_returns_tear_sheet(RTH_daily_returns_df.reset_index(level = 1,drop = True).daily_returns,\n",
    "                                           return_fig=True)\n",
    "#result.savefig(\"RTH_prepan_tearsheet.png\", format = \"png\")"
   ]
  },
  {
   "cell_type": "code",
   "execution_count": null,
   "id": "453690b4-129f-4671-9dbd-730e93820e36",
   "metadata": {},
   "outputs": [],
   "source": [
    "result = pf.create_returns_tear_sheet(AMT_daily_returns_df.reset_index(level = 1,drop = True).daily_returns,\n",
    "                                           return_fig=True)\n",
    "#result.savefig(\"amt_prepan_tearsheet.png\", format = \"png\")"
   ]
  },
  {
   "cell_type": "code",
   "execution_count": null,
   "id": "8ea54b17-b95d-42bf-8f8b-e7ab4c20fa28",
   "metadata": {},
   "outputs": [],
   "source": [
    "result = pf.create_returns_tear_sheet(IYR_daily_returns_df.reset_index(level = 1,drop = True).daily_returns,\n",
    "                                           return_fig=True)\n",
    "#result.savefig(\"iyr_prepan_tearsheet.png\", format = \"png\")"
   ]
  },
  {
   "cell_type": "code",
   "execution_count": null,
   "id": "18163c61-a0a9-48e7-bf81-757a56f15ab3",
   "metadata": {},
   "outputs": [],
   "source": [
    "result = pf.create_returns_tear_sheet(XOM_daily_returns_df.reset_index(level = 1,drop = True).daily_returns,\n",
    "                                           return_fig=True)\n",
    "#result.savefig(\"xom_prepan_tearsheet.png\", format = \"png\")"
   ]
  },
  {
   "cell_type": "code",
   "execution_count": null,
   "id": "7b50dbb7-6a9d-45dc-8502-c75ab58e2237",
   "metadata": {},
   "outputs": [],
   "source": [
    "result = pf.create_returns_tear_sheet(XLE_daily_returns_df.reset_index(level = 1,drop = True).daily_returns,\n",
    "                                           return_fig=True)\n",
    "#result.savefig(\"xle_prepan_tearsheet.png\", format = \"png\")"
   ]
  },
  {
   "cell_type": "code",
   "execution_count": null,
   "id": "e9b38d9d-2ee8-4442-b2e0-b8359ccb4d6b",
   "metadata": {},
   "outputs": [],
   "source": [
    "result = pf.create_returns_tear_sheet(SPY_daily_returns_df.reset_index(level = 1,drop = True).daily_returns,\n",
    "                                           return_fig=True)\n",
    "#result.savefig(\"spy_prepan_tearsheet.png\", format = \"png\")"
   ]
  }
 ],
 "metadata": {
  "kernelspec": {
   "display_name": "dev",
   "language": "python",
   "name": "dev"
  },
  "language_info": {
   "codemirror_mode": {
    "name": "ipython",
    "version": 3
   },
   "file_extension": ".py",
   "mimetype": "text/x-python",
   "name": "python",
   "nbconvert_exporter": "python",
   "pygments_lexer": "ipython3",
   "version": "3.7.13"
  },
  "vscode": {
   "interpreter": {
    "hash": "3ad933181bd8a04b432d3370b9dc3b0662ad032c4dfaa4e4f1596c548f763858"
   }
  }
 },
 "nbformat": 4,
 "nbformat_minor": 5
}
