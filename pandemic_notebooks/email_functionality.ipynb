{
 "cells": [
  {
   "cell_type": "code",
   "execution_count": 19,
   "id": "6ae1c0c5-902c-4053-b694-f65388ac9e79",
   "metadata": {},
   "outputs": [],
   "source": [
    "import time, ssl, smtplib, os\n",
    "from email.mime.text import MIMEText\n",
    "from email.mime.multipart import MIMEMultipart\n",
    "from email.header import Header\n",
    "\n",
    "def send_email(all_data):\n",
    "    \n",
    "    user = 'Fintechucb2022@gmail.com'\n",
    "    key = 'nzoenmvhugqqatjt'\n",
    "    to = ['besmookler@gmail.com','Kevtech577@gmail.com','christinepham218@gmail.com','jha.ayush85@gmail.com','mails2kranthi@gmail.com'] \n",
    "    \n",
    "    subject = 'API call made'\n",
    "    email_body = \"\"\"\\\n",
    "    Hey Everyone,\n",
    "    \n",
    "    An API call has been made to check the stock data!\n",
    "    \n",
    "    Best Regards,\n",
    "    Fintech Portfolio Team!\"\"\"%all_data\n",
    "    \n",
    "    message = MIMEMultipart()\n",
    "    message['From'] = Header(user.split(\"@\")[0])\n",
    "    # message['To'] = Header(to)     \n",
    "    message['Subject'] = Header(subject)\n",
    "    message.attach(MIMEText(email_body, 'plain', 'utf-8'))\n",
    "    \n",
    "    context = ssl.create_default_context()\n",
    "    email_port = 465\n",
    "    with smtplib.SMTP_SSL(host = \"smtp.gmail.com\", port = email_port, context = context) as server:\n",
    "        server.login(user, key)\n",
    "        print(server.ehlo())\n",
    "        if server.ehlo()[0] == 250:\n",
    "            server.sendmail(key,to, message.as_string())\n",
    "            print('Email sent successfully!')\n",
    "            # os.remove('%s_Predicitions.csv'% max_date)\n",
    "            server.quit()\n",
    "        else:\n",
    "            print(f'Unable to establish connection with server! Error code: {server.ehlo()[0]}')\n",
    "            server.quit()"
   ]
  }
 ],
 "metadata": {
  "kernelspec": {
   "display_name": "Python 3 (ipykernel)",
   "language": "python",
   "name": "python3"
  },
  "language_info": {
   "codemirror_mode": {
    "name": "ipython",
    "version": 3
   },
   "file_extension": ".py",
   "mimetype": "text/x-python",
   "name": "python",
   "nbconvert_exporter": "python",
   "pygments_lexer": "ipython3",
   "version": "3.7.13"
  }
 },
 "nbformat": 4,
 "nbformat_minor": 5
}
