{
 "cells": [
  {
   "cell_type": "markdown",
   "id": "1a47de4a-ec9e-4135-b1fe-e1cb051330cf",
   "metadata": {},
   "source": [
    "# Post-pandemic financial analysis"
   ]
  },
  {
   "cell_type": "code",
   "execution_count": 1,
   "id": "2ba78104-2318-4e33-9895-bd32f48434a9",
   "metadata": {},
   "outputs": [
    {
     "name": "stdout",
     "output_type": "stream",
     "text": [
      "Last updated: 2022-11-19T21:30:03.155761-08:00\n",
      "\n",
      "Python implementation: CPython\n",
      "Python version       : 3.7.13\n",
      "IPython version      : 7.31.1\n",
      "\n",
      "Compiler    : Clang 12.0.0 \n",
      "OS          : Darwin\n",
      "Release     : 22.1.0\n",
      "Machine     : x86_64\n",
      "Processor   : i386\n",
      "CPU cores   : 8\n",
      "Architecture: 64bit\n",
      "\n",
      "\n"
     ]
    }
   ],
   "source": [
    "# Import warnings + watermark\n",
    "from watermark import watermark\n",
    "from warnings import filterwarnings\n",
    "filterwarnings(\"ignore\")\n",
    "print(watermark())\n",
    "print(watermark(iversions=True, globals_=globals()))"
   ]
  },
  {
   "cell_type": "code",
   "execution_count": 2,
   "id": "8d02b074-93ec-4081-b94d-1253f94aaedf",
   "metadata": {
    "tags": []
   },
   "outputs": [],
   "source": [
    "#import the necessary modules\n",
    "import pandas as pd\n",
    "import numpy as np\n",
    "#questionary\n",
    "from pathlib import Path\n",
    "import fire\n",
    "import questionary\n",
    "#API\n",
    "import os\n",
    "import json\n",
    "import requests\n",
    "from dotenv import load_dotenv\n",
    "%matplotlib inline"
   ]
  },
  {
   "cell_type": "code",
   "execution_count": 3,
   "id": "428574e2-2c55-4b44-a188-84e527dedd02",
   "metadata": {},
   "outputs": [],
   "source": [
    "POLYGON_API_KEY ='enZp2AUpH4pGXJJuQ1CbjdVXJIsBFBEl'"
   ]
  },
  {
   "cell_type": "code",
   "execution_count": 4,
   "id": "2cdf7244-351f-4a17-9938-49698418d841",
   "metadata": {},
   "outputs": [],
   "source": [
    "ticker_list = [\"AMZN\", \"RTH\", \"AMT\", \"IYR\", \"XOM\", \"XLE\", \"SPY\"]"
   ]
  },
  {
   "cell_type": "code",
   "execution_count": 5,
   "id": "2acc604b-e69e-41fd-babf-b83b33f81f05",
   "metadata": {
    "tags": []
   },
   "outputs": [],
   "source": [
    "import requests\n",
    "import datetime\n",
    "from time import sleep\n",
    "from tqdm import tqdm\n",
    "def get_prices(start_date,end_date,universe):\n",
    "    data = pd.DataFrame()\n",
    "    # end_at = datetime.datetime.now() \n",
    "    # begin_from = end_at + datetime.timedelta(days=-5000)\n",
    "    for t in tqdm(universe):\n",
    "        print(t)\n",
    "        print(len(data))\n",
    "        # for start in pd.date_range(start = begin_from, end = end_at,normalize=True,freq = '88D'):\n",
    "        #     end = start + datetime.timedelta(days = 88)\n",
    "        #     end = str(int((end - datetime.datetime(1970,1,1)).total_seconds()))\n",
    "        #     start = str(int((start - datetime.datetime(1970,1,1)).total_seconds()))\n",
    "        try:\n",
    "            r = requests.get(f'https://api.polygon.io/v2/aggs/ticker/{t}/range/1/day/{start_date}/{end_date}?apiKey={POLYGON_API_KEY}')\n",
    "        except json.JSONDecodeError:\n",
    "            pass\n",
    "        try:\n",
    "            # print(r.json())\n",
    "            temp_data = pd.DataFrame(r.json()['results'])\n",
    "            temp_data['ticker'] = t\n",
    "            data = data.append(temp_data, ignore_index=True)\n",
    "            print(t+':'+str(pd.to_datetime(start_date, unit='s'))+':'+str(pd.to_datetime(end_date, unit='s')))\n",
    "        except KeyError:\n",
    "            print(f'{t} was not found')\n",
    "            pass\n",
    "        except ValueError:\n",
    "            pass\n",
    "        except ConnectionError as error:\n",
    "            print(error)\n",
    "            sleep(200)\n",
    "            continue\n",
    "        except TimeoutError as error:\n",
    "            print(error)\n",
    "            sleep(200)\n",
    "            continue\n",
    "        sleep(0.25)\n",
    "#     data.to_csv(file_name,index = False)\n",
    "    data.t = pd.to_datetime(data.t, unit = 'ms')\n",
    "    columns_name = {'t': 'time', 'o': 'Open', 'c': 'Close', 'h': 'High', 'l': 'Low', 'v': 'Volume'} \n",
    "    data= data.rename(columns = columns_name)\n",
    "    data = data[['time','ticker','Open', 'Close','High', 'Low', 'Volume']]\n",
    "    data = data.set_index(['time', 'ticker'])\n",
    "    data[\"daily_returns\"] = data['Close'].groupby('ticker').pct_change()\n",
    "    data = data.dropna()\n",
    "    #data.to_csv(file_name, index = False)\n",
    "    return data"
   ]
  },
  {
   "cell_type": "code",
   "execution_count": 6,
   "id": "416c6c2e-9467-46a9-bcb0-fced2c70cc60",
   "metadata": {
    "tags": []
   },
   "outputs": [
    {
     "name": "stderr",
     "output_type": "stream",
     "text": [
      "  0%|                                                                                                                | 0/7 [00:00<?, ?it/s]"
     ]
    },
    {
     "name": "stdout",
     "output_type": "stream",
     "text": [
      "AMZN\n",
      "0\n"
     ]
    },
    {
     "name": "stderr",
     "output_type": "stream",
     "text": [
      " 14%|██████████████▊                                                                                         | 1/7 [00:00<00:03,  1.81it/s]"
     ]
    },
    {
     "name": "stdout",
     "output_type": "stream",
     "text": [
      "RTH\n",
      "171\n"
     ]
    },
    {
     "name": "stderr",
     "output_type": "stream",
     "text": [
      " 29%|█████████████████████████████▋                                                                          | 2/7 [00:01<00:03,  1.62it/s]"
     ]
    },
    {
     "name": "stdout",
     "output_type": "stream",
     "text": [
      "AMT\n",
      "342\n"
     ]
    },
    {
     "name": "stderr",
     "output_type": "stream",
     "text": [
      " 43%|████████████████████████████████████████████▌                                                           | 3/7 [00:01<00:02,  1.68it/s]"
     ]
    },
    {
     "name": "stdout",
     "output_type": "stream",
     "text": [
      "IYR\n",
      "513\n"
     ]
    },
    {
     "name": "stderr",
     "output_type": "stream",
     "text": [
      " 57%|███████████████████████████████████████████████████████████▍                                            | 4/7 [00:02<00:01,  1.72it/s]"
     ]
    },
    {
     "name": "stdout",
     "output_type": "stream",
     "text": [
      "XOM\n",
      "684\n"
     ]
    },
    {
     "name": "stderr",
     "output_type": "stream",
     "text": [
      " 71%|██████████████████████████████████████████████████████████████████████████▎                             | 5/7 [00:02<00:01,  1.74it/s]"
     ]
    },
    {
     "name": "stdout",
     "output_type": "stream",
     "text": [
      "XLE\n",
      "855\n"
     ]
    },
    {
     "name": "stderr",
     "output_type": "stream",
     "text": [
      " 86%|█████████████████████████████████████████████████████████████████████████████████████████▏              | 6/7 [00:03<00:00,  1.75it/s]"
     ]
    },
    {
     "name": "stdout",
     "output_type": "stream",
     "text": [
      "SPY\n",
      "1026\n"
     ]
    },
    {
     "name": "stderr",
     "output_type": "stream",
     "text": [
      "100%|████████████████████████████████████████████████████████████████████████████████████████████████████████| 7/7 [00:04<00:00,  1.72it/s]\n"
     ]
    }
   ],
   "source": [
    "# Create `start_date` and `end_date` variables for the period before the pandemic\n",
    "start_date = \"2022-03-01\"\n",
    "end_date = \"2022-11-01\"\n",
    "all_data = get_prices(start_date=start_date, end_date=end_date, universe=ticker_list)\n"
   ]
  },
  {
   "cell_type": "code",
   "execution_count": 7,
   "id": "c3fa2453-af96-42c5-ac90-14a69368a3d2",
   "metadata": {},
   "outputs": [
    {
     "data": {
      "text/html": [
       "<div>\n",
       "<style scoped>\n",
       "    .dataframe tbody tr th:only-of-type {\n",
       "        vertical-align: middle;\n",
       "    }\n",
       "\n",
       "    .dataframe tbody tr th {\n",
       "        vertical-align: top;\n",
       "    }\n",
       "\n",
       "    .dataframe thead th {\n",
       "        text-align: right;\n",
       "    }\n",
       "</style>\n",
       "<table border=\"1\" class=\"dataframe\">\n",
       "  <thead>\n",
       "    <tr style=\"text-align: right;\">\n",
       "      <th></th>\n",
       "      <th></th>\n",
       "      <th>Open</th>\n",
       "      <th>Close</th>\n",
       "      <th>High</th>\n",
       "      <th>Low</th>\n",
       "      <th>Volume</th>\n",
       "      <th>daily_returns</th>\n",
       "    </tr>\n",
       "    <tr>\n",
       "      <th>time</th>\n",
       "      <th>ticker</th>\n",
       "      <th></th>\n",
       "      <th></th>\n",
       "      <th></th>\n",
       "      <th></th>\n",
       "      <th></th>\n",
       "      <th></th>\n",
       "    </tr>\n",
       "  </thead>\n",
       "  <tbody>\n",
       "    <tr>\n",
       "      <th>2022-03-02 05:00:00</th>\n",
       "      <th>AMZN</th>\n",
       "      <td>150.8490</td>\n",
       "      <td>152.0525</td>\n",
       "      <td>152.9995</td>\n",
       "      <td>148.7500</td>\n",
       "      <td>47334720.0</td>\n",
       "      <td>0.006024</td>\n",
       "    </tr>\n",
       "    <tr>\n",
       "      <th>2022-03-03 05:00:00</th>\n",
       "      <th>AMZN</th>\n",
       "      <td>153.5315</td>\n",
       "      <td>147.8985</td>\n",
       "      <td>153.9290</td>\n",
       "      <td>146.8560</td>\n",
       "      <td>65197200.0</td>\n",
       "      <td>-0.027320</td>\n",
       "    </tr>\n",
       "    <tr>\n",
       "      <th>2022-03-04 05:00:00</th>\n",
       "      <th>AMZN</th>\n",
       "      <td>147.1590</td>\n",
       "      <td>145.6410</td>\n",
       "      <td>147.8500</td>\n",
       "      <td>143.8070</td>\n",
       "      <td>60983120.0</td>\n",
       "      <td>-0.015264</td>\n",
       "    </tr>\n",
       "    <tr>\n",
       "      <th>2022-03-07 05:00:00</th>\n",
       "      <th>AMZN</th>\n",
       "      <td>145.4435</td>\n",
       "      <td>137.4530</td>\n",
       "      <td>146.0945</td>\n",
       "      <td>137.4165</td>\n",
       "      <td>86933860.0</td>\n",
       "      <td>-0.056220</td>\n",
       "    </tr>\n",
       "    <tr>\n",
       "      <th>2022-03-08 05:00:00</th>\n",
       "      <th>AMZN</th>\n",
       "      <td>136.6835</td>\n",
       "      <td>136.0145</td>\n",
       "      <td>140.6995</td>\n",
       "      <td>133.5725</td>\n",
       "      <td>91661580.0</td>\n",
       "      <td>-0.010465</td>\n",
       "    </tr>\n",
       "    <tr>\n",
       "      <th>...</th>\n",
       "      <th>...</th>\n",
       "      <td>...</td>\n",
       "      <td>...</td>\n",
       "      <td>...</td>\n",
       "      <td>...</td>\n",
       "      <td>...</td>\n",
       "      <td>...</td>\n",
       "    </tr>\n",
       "    <tr>\n",
       "      <th>2022-10-26 04:00:00</th>\n",
       "      <th>SPY</th>\n",
       "      <td>381.6200</td>\n",
       "      <td>382.0200</td>\n",
       "      <td>387.5800</td>\n",
       "      <td>381.3500</td>\n",
       "      <td>103906848.0</td>\n",
       "      <td>-0.007534</td>\n",
       "    </tr>\n",
       "    <tr>\n",
       "      <th>2022-10-27 04:00:00</th>\n",
       "      <th>SPY</th>\n",
       "      <td>383.0700</td>\n",
       "      <td>379.9800</td>\n",
       "      <td>385.0000</td>\n",
       "      <td>379.3300</td>\n",
       "      <td>81971756.0</td>\n",
       "      <td>-0.005340</td>\n",
       "    </tr>\n",
       "    <tr>\n",
       "      <th>2022-10-28 04:00:00</th>\n",
       "      <th>SPY</th>\n",
       "      <td>379.8700</td>\n",
       "      <td>389.0200</td>\n",
       "      <td>389.5200</td>\n",
       "      <td>379.6800</td>\n",
       "      <td>100301958.0</td>\n",
       "      <td>0.023791</td>\n",
       "    </tr>\n",
       "    <tr>\n",
       "      <th>2022-10-31 04:00:00</th>\n",
       "      <th>SPY</th>\n",
       "      <td>386.4400</td>\n",
       "      <td>386.2100</td>\n",
       "      <td>388.4000</td>\n",
       "      <td>385.2600</td>\n",
       "      <td>96443258.0</td>\n",
       "      <td>-0.007223</td>\n",
       "    </tr>\n",
       "    <tr>\n",
       "      <th>2022-11-01 04:00:00</th>\n",
       "      <th>SPY</th>\n",
       "      <td>390.1400</td>\n",
       "      <td>384.5200</td>\n",
       "      <td>390.3900</td>\n",
       "      <td>383.2900</td>\n",
       "      <td>85203598.0</td>\n",
       "      <td>-0.004376</td>\n",
       "    </tr>\n",
       "  </tbody>\n",
       "</table>\n",
       "<p>1190 rows × 6 columns</p>\n",
       "</div>"
      ],
      "text/plain": [
       "                                Open     Close      High       Low  \\\n",
       "time                ticker                                           \n",
       "2022-03-02 05:00:00 AMZN    150.8490  152.0525  152.9995  148.7500   \n",
       "2022-03-03 05:00:00 AMZN    153.5315  147.8985  153.9290  146.8560   \n",
       "2022-03-04 05:00:00 AMZN    147.1590  145.6410  147.8500  143.8070   \n",
       "2022-03-07 05:00:00 AMZN    145.4435  137.4530  146.0945  137.4165   \n",
       "2022-03-08 05:00:00 AMZN    136.6835  136.0145  140.6995  133.5725   \n",
       "...                              ...       ...       ...       ...   \n",
       "2022-10-26 04:00:00 SPY     381.6200  382.0200  387.5800  381.3500   \n",
       "2022-10-27 04:00:00 SPY     383.0700  379.9800  385.0000  379.3300   \n",
       "2022-10-28 04:00:00 SPY     379.8700  389.0200  389.5200  379.6800   \n",
       "2022-10-31 04:00:00 SPY     386.4400  386.2100  388.4000  385.2600   \n",
       "2022-11-01 04:00:00 SPY     390.1400  384.5200  390.3900  383.2900   \n",
       "\n",
       "                                 Volume  daily_returns  \n",
       "time                ticker                              \n",
       "2022-03-02 05:00:00 AMZN     47334720.0       0.006024  \n",
       "2022-03-03 05:00:00 AMZN     65197200.0      -0.027320  \n",
       "2022-03-04 05:00:00 AMZN     60983120.0      -0.015264  \n",
       "2022-03-07 05:00:00 AMZN     86933860.0      -0.056220  \n",
       "2022-03-08 05:00:00 AMZN     91661580.0      -0.010465  \n",
       "...                                 ...            ...  \n",
       "2022-10-26 04:00:00 SPY     103906848.0      -0.007534  \n",
       "2022-10-27 04:00:00 SPY      81971756.0      -0.005340  \n",
       "2022-10-28 04:00:00 SPY     100301958.0       0.023791  \n",
       "2022-10-31 04:00:00 SPY      96443258.0      -0.007223  \n",
       "2022-11-01 04:00:00 SPY      85203598.0      -0.004376  \n",
       "\n",
       "[1190 rows x 6 columns]"
      ]
     },
     "execution_count": 7,
     "metadata": {},
     "output_type": "execute_result"
    }
   ],
   "source": [
    "all_data\n"
   ]
  },
  {
   "cell_type": "code",
   "execution_count": 8,
   "id": "8d262a9f-d0d3-49a3-a818-6928a874aa4c",
   "metadata": {
    "tags": []
   },
   "outputs": [
    {
     "data": {
      "text/plain": [
       "MultiIndex([('2022-03-02 05:00:00', 'AMZN'),\n",
       "            ('2022-03-03 05:00:00', 'AMZN'),\n",
       "            ('2022-03-04 05:00:00', 'AMZN'),\n",
       "            ('2022-03-07 05:00:00', 'AMZN'),\n",
       "            ('2022-03-08 05:00:00', 'AMZN'),\n",
       "            ('2022-03-09 05:00:00', 'AMZN'),\n",
       "            ('2022-03-10 05:00:00', 'AMZN'),\n",
       "            ('2022-03-11 05:00:00', 'AMZN'),\n",
       "            ('2022-03-14 04:00:00', 'AMZN'),\n",
       "            ('2022-03-15 04:00:00', 'AMZN'),\n",
       "            ...\n",
       "            ('2022-10-19 04:00:00',  'SPY'),\n",
       "            ('2022-10-20 04:00:00',  'SPY'),\n",
       "            ('2022-10-21 04:00:00',  'SPY'),\n",
       "            ('2022-10-24 04:00:00',  'SPY'),\n",
       "            ('2022-10-25 04:00:00',  'SPY'),\n",
       "            ('2022-10-26 04:00:00',  'SPY'),\n",
       "            ('2022-10-27 04:00:00',  'SPY'),\n",
       "            ('2022-10-28 04:00:00',  'SPY'),\n",
       "            ('2022-10-31 04:00:00',  'SPY'),\n",
       "            ('2022-11-01 04:00:00',  'SPY')],\n",
       "           names=['time', 'ticker'], length=1190)"
      ]
     },
     "execution_count": 8,
     "metadata": {},
     "output_type": "execute_result"
    }
   ],
   "source": [
    "all_data.index"
   ]
  },
  {
   "cell_type": "code",
   "execution_count": 9,
   "id": "fb3a57e1-da2d-4a2c-8bc9-c8c26462291b",
   "metadata": {},
   "outputs": [],
   "source": [
    "idx = pd.IndexSlice"
   ]
  },
  {
   "cell_type": "code",
   "execution_count": 10,
   "id": "bd9f0acc-2b7f-4ba8-94e1-b16f4b2d8404",
   "metadata": {
    "tags": []
   },
   "outputs": [
    {
     "data": {
      "text/html": [
       "<div>\n",
       "<style scoped>\n",
       "    .dataframe tbody tr th:only-of-type {\n",
       "        vertical-align: middle;\n",
       "    }\n",
       "\n",
       "    .dataframe tbody tr th {\n",
       "        vertical-align: top;\n",
       "    }\n",
       "\n",
       "    .dataframe thead th {\n",
       "        text-align: right;\n",
       "    }\n",
       "</style>\n",
       "<table border=\"1\" class=\"dataframe\">\n",
       "  <thead>\n",
       "    <tr style=\"text-align: right;\">\n",
       "      <th></th>\n",
       "      <th></th>\n",
       "      <th>daily_returns</th>\n",
       "    </tr>\n",
       "    <tr>\n",
       "      <th>time</th>\n",
       "      <th>ticker</th>\n",
       "      <th></th>\n",
       "    </tr>\n",
       "  </thead>\n",
       "  <tbody>\n",
       "    <tr>\n",
       "      <th>2022-03-02 05:00:00</th>\n",
       "      <th>AMZN</th>\n",
       "      <td>0.006024</td>\n",
       "    </tr>\n",
       "    <tr>\n",
       "      <th>2022-03-03 05:00:00</th>\n",
       "      <th>AMZN</th>\n",
       "      <td>-0.027320</td>\n",
       "    </tr>\n",
       "    <tr>\n",
       "      <th>2022-03-04 05:00:00</th>\n",
       "      <th>AMZN</th>\n",
       "      <td>-0.015264</td>\n",
       "    </tr>\n",
       "    <tr>\n",
       "      <th>2022-03-07 05:00:00</th>\n",
       "      <th>AMZN</th>\n",
       "      <td>-0.056220</td>\n",
       "    </tr>\n",
       "    <tr>\n",
       "      <th>2022-03-08 05:00:00</th>\n",
       "      <th>AMZN</th>\n",
       "      <td>-0.010465</td>\n",
       "    </tr>\n",
       "    <tr>\n",
       "      <th>...</th>\n",
       "      <th>...</th>\n",
       "      <td>...</td>\n",
       "    </tr>\n",
       "    <tr>\n",
       "      <th>2022-10-26 04:00:00</th>\n",
       "      <th>AMZN</th>\n",
       "      <td>-0.040962</td>\n",
       "    </tr>\n",
       "    <tr>\n",
       "      <th>2022-10-27 04:00:00</th>\n",
       "      <th>AMZN</th>\n",
       "      <td>-0.040636</td>\n",
       "    </tr>\n",
       "    <tr>\n",
       "      <th>2022-10-28 04:00:00</th>\n",
       "      <th>AMZN</th>\n",
       "      <td>-0.068043</td>\n",
       "    </tr>\n",
       "    <tr>\n",
       "      <th>2022-10-31 04:00:00</th>\n",
       "      <th>AMZN</th>\n",
       "      <td>-0.009380</td>\n",
       "    </tr>\n",
       "    <tr>\n",
       "      <th>2022-11-01 04:00:00</th>\n",
       "      <th>AMZN</th>\n",
       "      <td>-0.055154</td>\n",
       "    </tr>\n",
       "  </tbody>\n",
       "</table>\n",
       "<p>170 rows × 1 columns</p>\n",
       "</div>"
      ],
      "text/plain": [
       "                            daily_returns\n",
       "time                ticker               \n",
       "2022-03-02 05:00:00 AMZN         0.006024\n",
       "2022-03-03 05:00:00 AMZN        -0.027320\n",
       "2022-03-04 05:00:00 AMZN        -0.015264\n",
       "2022-03-07 05:00:00 AMZN        -0.056220\n",
       "2022-03-08 05:00:00 AMZN        -0.010465\n",
       "...                                   ...\n",
       "2022-10-26 04:00:00 AMZN        -0.040962\n",
       "2022-10-27 04:00:00 AMZN        -0.040636\n",
       "2022-10-28 04:00:00 AMZN        -0.068043\n",
       "2022-10-31 04:00:00 AMZN        -0.009380\n",
       "2022-11-01 04:00:00 AMZN        -0.055154\n",
       "\n",
       "[170 rows x 1 columns]"
      ]
     },
     "execution_count": 10,
     "metadata": {},
     "output_type": "execute_result"
    }
   ],
   "source": [
    "AMZN_daily_returns_df = all_data.loc[idx[:,'AMZN'],['daily_returns']]\n",
    "AMZN_daily_returns_df"
   ]
  },
  {
   "cell_type": "code",
   "execution_count": 11,
   "id": "2f721e12-2574-4d0e-a808-4fe845badbef",
   "metadata": {
    "tags": []
   },
   "outputs": [
    {
     "data": {
      "text/html": [
       "<div>\n",
       "<style scoped>\n",
       "    .dataframe tbody tr th:only-of-type {\n",
       "        vertical-align: middle;\n",
       "    }\n",
       "\n",
       "    .dataframe tbody tr th {\n",
       "        vertical-align: top;\n",
       "    }\n",
       "\n",
       "    .dataframe thead th {\n",
       "        text-align: right;\n",
       "    }\n",
       "</style>\n",
       "<table border=\"1\" class=\"dataframe\">\n",
       "  <thead>\n",
       "    <tr style=\"text-align: right;\">\n",
       "      <th></th>\n",
       "      <th></th>\n",
       "      <th>daily_returns</th>\n",
       "    </tr>\n",
       "    <tr>\n",
       "      <th>time</th>\n",
       "      <th>ticker</th>\n",
       "      <th></th>\n",
       "    </tr>\n",
       "  </thead>\n",
       "  <tbody>\n",
       "    <tr>\n",
       "      <th>2022-03-02 05:00:00</th>\n",
       "      <th>RTH</th>\n",
       "      <td>0.019711</td>\n",
       "    </tr>\n",
       "    <tr>\n",
       "      <th>2022-03-03 05:00:00</th>\n",
       "      <th>RTH</th>\n",
       "      <td>-0.004525</td>\n",
       "    </tr>\n",
       "    <tr>\n",
       "      <th>2022-03-04 05:00:00</th>\n",
       "      <th>RTH</th>\n",
       "      <td>-0.007071</td>\n",
       "    </tr>\n",
       "    <tr>\n",
       "      <th>2022-03-07 05:00:00</th>\n",
       "      <th>RTH</th>\n",
       "      <td>-0.027808</td>\n",
       "    </tr>\n",
       "    <tr>\n",
       "      <th>2022-03-08 05:00:00</th>\n",
       "      <th>RTH</th>\n",
       "      <td>-0.012732</td>\n",
       "    </tr>\n",
       "    <tr>\n",
       "      <th>...</th>\n",
       "      <th>...</th>\n",
       "      <td>...</td>\n",
       "    </tr>\n",
       "    <tr>\n",
       "      <th>2022-10-26 04:00:00</th>\n",
       "      <th>RTH</th>\n",
       "      <td>-0.001160</td>\n",
       "    </tr>\n",
       "    <tr>\n",
       "      <th>2022-10-27 04:00:00</th>\n",
       "      <th>RTH</th>\n",
       "      <td>-0.003589</td>\n",
       "    </tr>\n",
       "    <tr>\n",
       "      <th>2022-10-28 04:00:00</th>\n",
       "      <th>RTH</th>\n",
       "      <td>0.001099</td>\n",
       "    </tr>\n",
       "    <tr>\n",
       "      <th>2022-10-31 04:00:00</th>\n",
       "      <th>RTH</th>\n",
       "      <td>-0.006342</td>\n",
       "    </tr>\n",
       "    <tr>\n",
       "      <th>2022-11-01 04:00:00</th>\n",
       "      <th>RTH</th>\n",
       "      <td>-0.012703</td>\n",
       "    </tr>\n",
       "  </tbody>\n",
       "</table>\n",
       "<p>170 rows × 1 columns</p>\n",
       "</div>"
      ],
      "text/plain": [
       "                            daily_returns\n",
       "time                ticker               \n",
       "2022-03-02 05:00:00 RTH          0.019711\n",
       "2022-03-03 05:00:00 RTH         -0.004525\n",
       "2022-03-04 05:00:00 RTH         -0.007071\n",
       "2022-03-07 05:00:00 RTH         -0.027808\n",
       "2022-03-08 05:00:00 RTH         -0.012732\n",
       "...                                   ...\n",
       "2022-10-26 04:00:00 RTH         -0.001160\n",
       "2022-10-27 04:00:00 RTH         -0.003589\n",
       "2022-10-28 04:00:00 RTH          0.001099\n",
       "2022-10-31 04:00:00 RTH         -0.006342\n",
       "2022-11-01 04:00:00 RTH         -0.012703\n",
       "\n",
       "[170 rows x 1 columns]"
      ]
     },
     "execution_count": 11,
     "metadata": {},
     "output_type": "execute_result"
    }
   ],
   "source": [
    "RTH_daily_returns_df = all_data.loc[idx[:,'RTH'],['daily_returns']]\n",
    "RTH_daily_returns_df"
   ]
  },
  {
   "cell_type": "code",
   "execution_count": 12,
   "id": "16142708-a0c0-4a29-bb13-a6feb6795bfb",
   "metadata": {
    "tags": []
   },
   "outputs": [
    {
     "data": {
      "text/html": [
       "<div>\n",
       "<style scoped>\n",
       "    .dataframe tbody tr th:only-of-type {\n",
       "        vertical-align: middle;\n",
       "    }\n",
       "\n",
       "    .dataframe tbody tr th {\n",
       "        vertical-align: top;\n",
       "    }\n",
       "\n",
       "    .dataframe thead th {\n",
       "        text-align: right;\n",
       "    }\n",
       "</style>\n",
       "<table border=\"1\" class=\"dataframe\">\n",
       "  <thead>\n",
       "    <tr style=\"text-align: right;\">\n",
       "      <th></th>\n",
       "      <th></th>\n",
       "      <th>daily_returns</th>\n",
       "    </tr>\n",
       "    <tr>\n",
       "      <th>time</th>\n",
       "      <th>ticker</th>\n",
       "      <th></th>\n",
       "    </tr>\n",
       "  </thead>\n",
       "  <tbody>\n",
       "    <tr>\n",
       "      <th>2022-03-02 05:00:00</th>\n",
       "      <th>AMT</th>\n",
       "      <td>0.010720</td>\n",
       "    </tr>\n",
       "    <tr>\n",
       "      <th>2022-03-03 05:00:00</th>\n",
       "      <th>AMT</th>\n",
       "      <td>0.018355</td>\n",
       "    </tr>\n",
       "    <tr>\n",
       "      <th>2022-03-04 05:00:00</th>\n",
       "      <th>AMT</th>\n",
       "      <td>0.012923</td>\n",
       "    </tr>\n",
       "    <tr>\n",
       "      <th>2022-03-07 05:00:00</th>\n",
       "      <th>AMT</th>\n",
       "      <td>-0.026272</td>\n",
       "    </tr>\n",
       "    <tr>\n",
       "      <th>2022-03-08 05:00:00</th>\n",
       "      <th>AMT</th>\n",
       "      <td>-0.017455</td>\n",
       "    </tr>\n",
       "    <tr>\n",
       "      <th>...</th>\n",
       "      <th>...</th>\n",
       "      <td>...</td>\n",
       "    </tr>\n",
       "    <tr>\n",
       "      <th>2022-10-26 04:00:00</th>\n",
       "      <th>AMT</th>\n",
       "      <td>0.007109</td>\n",
       "    </tr>\n",
       "    <tr>\n",
       "      <th>2022-10-27 04:00:00</th>\n",
       "      <th>AMT</th>\n",
       "      <td>0.008938</td>\n",
       "    </tr>\n",
       "    <tr>\n",
       "      <th>2022-10-28 04:00:00</th>\n",
       "      <th>AMT</th>\n",
       "      <td>0.030350</td>\n",
       "    </tr>\n",
       "    <tr>\n",
       "      <th>2022-10-31 04:00:00</th>\n",
       "      <th>AMT</th>\n",
       "      <td>0.012115</td>\n",
       "    </tr>\n",
       "    <tr>\n",
       "      <th>2022-11-01 04:00:00</th>\n",
       "      <th>AMT</th>\n",
       "      <td>0.003330</td>\n",
       "    </tr>\n",
       "  </tbody>\n",
       "</table>\n",
       "<p>170 rows × 1 columns</p>\n",
       "</div>"
      ],
      "text/plain": [
       "                            daily_returns\n",
       "time                ticker               \n",
       "2022-03-02 05:00:00 AMT          0.010720\n",
       "2022-03-03 05:00:00 AMT          0.018355\n",
       "2022-03-04 05:00:00 AMT          0.012923\n",
       "2022-03-07 05:00:00 AMT         -0.026272\n",
       "2022-03-08 05:00:00 AMT         -0.017455\n",
       "...                                   ...\n",
       "2022-10-26 04:00:00 AMT          0.007109\n",
       "2022-10-27 04:00:00 AMT          0.008938\n",
       "2022-10-28 04:00:00 AMT          0.030350\n",
       "2022-10-31 04:00:00 AMT          0.012115\n",
       "2022-11-01 04:00:00 AMT          0.003330\n",
       "\n",
       "[170 rows x 1 columns]"
      ]
     },
     "execution_count": 12,
     "metadata": {},
     "output_type": "execute_result"
    }
   ],
   "source": [
    "AMT_daily_returns_df = all_data.loc[idx[:,'AMT'],['daily_returns']]\n",
    "AMT_daily_returns_df"
   ]
  },
  {
   "cell_type": "code",
   "execution_count": 13,
   "id": "50f16562-025b-47ea-8a33-e6b04863a6c2",
   "metadata": {
    "tags": []
   },
   "outputs": [
    {
     "data": {
      "text/html": [
       "<div>\n",
       "<style scoped>\n",
       "    .dataframe tbody tr th:only-of-type {\n",
       "        vertical-align: middle;\n",
       "    }\n",
       "\n",
       "    .dataframe tbody tr th {\n",
       "        vertical-align: top;\n",
       "    }\n",
       "\n",
       "    .dataframe thead th {\n",
       "        text-align: right;\n",
       "    }\n",
       "</style>\n",
       "<table border=\"1\" class=\"dataframe\">\n",
       "  <thead>\n",
       "    <tr style=\"text-align: right;\">\n",
       "      <th></th>\n",
       "      <th></th>\n",
       "      <th>daily_returns</th>\n",
       "    </tr>\n",
       "    <tr>\n",
       "      <th>time</th>\n",
       "      <th>ticker</th>\n",
       "      <th></th>\n",
       "    </tr>\n",
       "  </thead>\n",
       "  <tbody>\n",
       "    <tr>\n",
       "      <th>2022-03-02 05:00:00</th>\n",
       "      <th>IYR</th>\n",
       "      <td>0.017253</td>\n",
       "    </tr>\n",
       "    <tr>\n",
       "      <th>2022-03-03 05:00:00</th>\n",
       "      <th>IYR</th>\n",
       "      <td>0.008238</td>\n",
       "    </tr>\n",
       "    <tr>\n",
       "      <th>2022-03-04 05:00:00</th>\n",
       "      <th>IYR</th>\n",
       "      <td>0.004902</td>\n",
       "    </tr>\n",
       "    <tr>\n",
       "      <th>2022-03-07 05:00:00</th>\n",
       "      <th>IYR</th>\n",
       "      <td>-0.020471</td>\n",
       "    </tr>\n",
       "    <tr>\n",
       "      <th>2022-03-08 05:00:00</th>\n",
       "      <th>IYR</th>\n",
       "      <td>-0.005566</td>\n",
       "    </tr>\n",
       "    <tr>\n",
       "      <th>...</th>\n",
       "      <th>...</th>\n",
       "      <td>...</td>\n",
       "    </tr>\n",
       "    <tr>\n",
       "      <th>2022-10-26 04:00:00</th>\n",
       "      <th>IYR</th>\n",
       "      <td>0.001952</td>\n",
       "    </tr>\n",
       "    <tr>\n",
       "      <th>2022-10-27 04:00:00</th>\n",
       "      <th>IYR</th>\n",
       "      <td>0.001827</td>\n",
       "    </tr>\n",
       "    <tr>\n",
       "      <th>2022-10-28 04:00:00</th>\n",
       "      <th>IYR</th>\n",
       "      <td>0.022247</td>\n",
       "    </tr>\n",
       "    <tr>\n",
       "      <th>2022-10-31 04:00:00</th>\n",
       "      <th>IYR</th>\n",
       "      <td>-0.001189</td>\n",
       "    </tr>\n",
       "    <tr>\n",
       "      <th>2022-11-01 04:00:00</th>\n",
       "      <th>IYR</th>\n",
       "      <td>-0.001905</td>\n",
       "    </tr>\n",
       "  </tbody>\n",
       "</table>\n",
       "<p>170 rows × 1 columns</p>\n",
       "</div>"
      ],
      "text/plain": [
       "                            daily_returns\n",
       "time                ticker               \n",
       "2022-03-02 05:00:00 IYR          0.017253\n",
       "2022-03-03 05:00:00 IYR          0.008238\n",
       "2022-03-04 05:00:00 IYR          0.004902\n",
       "2022-03-07 05:00:00 IYR         -0.020471\n",
       "2022-03-08 05:00:00 IYR         -0.005566\n",
       "...                                   ...\n",
       "2022-10-26 04:00:00 IYR          0.001952\n",
       "2022-10-27 04:00:00 IYR          0.001827\n",
       "2022-10-28 04:00:00 IYR          0.022247\n",
       "2022-10-31 04:00:00 IYR         -0.001189\n",
       "2022-11-01 04:00:00 IYR         -0.001905\n",
       "\n",
       "[170 rows x 1 columns]"
      ]
     },
     "execution_count": 13,
     "metadata": {},
     "output_type": "execute_result"
    }
   ],
   "source": [
    "IYR_daily_returns_df = all_data.loc[idx[:,'IYR'],['daily_returns']]\n",
    "IYR_daily_returns_df"
   ]
  },
  {
   "cell_type": "code",
   "execution_count": 14,
   "id": "7e420884-0e57-49fa-bad8-8bea782fd89f",
   "metadata": {
    "tags": []
   },
   "outputs": [
    {
     "data": {
      "text/html": [
       "<div>\n",
       "<style scoped>\n",
       "    .dataframe tbody tr th:only-of-type {\n",
       "        vertical-align: middle;\n",
       "    }\n",
       "\n",
       "    .dataframe tbody tr th {\n",
       "        vertical-align: top;\n",
       "    }\n",
       "\n",
       "    .dataframe thead th {\n",
       "        text-align: right;\n",
       "    }\n",
       "</style>\n",
       "<table border=\"1\" class=\"dataframe\">\n",
       "  <thead>\n",
       "    <tr style=\"text-align: right;\">\n",
       "      <th></th>\n",
       "      <th></th>\n",
       "      <th>daily_returns</th>\n",
       "    </tr>\n",
       "    <tr>\n",
       "      <th>time</th>\n",
       "      <th>ticker</th>\n",
       "      <th></th>\n",
       "    </tr>\n",
       "  </thead>\n",
       "  <tbody>\n",
       "    <tr>\n",
       "      <th>2022-03-02 05:00:00</th>\n",
       "      <th>XOM</th>\n",
       "      <td>0.017178</td>\n",
       "    </tr>\n",
       "    <tr>\n",
       "      <th>2022-03-03 05:00:00</th>\n",
       "      <th>XOM</th>\n",
       "      <td>0.006333</td>\n",
       "    </tr>\n",
       "    <tr>\n",
       "      <th>2022-03-04 05:00:00</th>\n",
       "      <th>XOM</th>\n",
       "      <td>0.037636</td>\n",
       "    </tr>\n",
       "    <tr>\n",
       "      <th>2022-03-07 05:00:00</th>\n",
       "      <th>XOM</th>\n",
       "      <td>0.036033</td>\n",
       "    </tr>\n",
       "    <tr>\n",
       "      <th>2022-03-08 05:00:00</th>\n",
       "      <th>XOM</th>\n",
       "      <td>0.007576</td>\n",
       "    </tr>\n",
       "    <tr>\n",
       "      <th>...</th>\n",
       "      <th>...</th>\n",
       "      <td>...</td>\n",
       "    </tr>\n",
       "    <tr>\n",
       "      <th>2022-10-26 04:00:00</th>\n",
       "      <th>XOM</th>\n",
       "      <td>0.011900</td>\n",
       "    </tr>\n",
       "    <tr>\n",
       "      <th>2022-10-27 04:00:00</th>\n",
       "      <th>XOM</th>\n",
       "      <td>0.003827</td>\n",
       "    </tr>\n",
       "    <tr>\n",
       "      <th>2022-10-28 04:00:00</th>\n",
       "      <th>XOM</th>\n",
       "      <td>0.029289</td>\n",
       "    </tr>\n",
       "    <tr>\n",
       "      <th>2022-10-31 04:00:00</th>\n",
       "      <th>XOM</th>\n",
       "      <td>0.000994</td>\n",
       "    </tr>\n",
       "    <tr>\n",
       "      <th>2022-11-01 04:00:00</th>\n",
       "      <th>XOM</th>\n",
       "      <td>0.009927</td>\n",
       "    </tr>\n",
       "  </tbody>\n",
       "</table>\n",
       "<p>170 rows × 1 columns</p>\n",
       "</div>"
      ],
      "text/plain": [
       "                            daily_returns\n",
       "time                ticker               \n",
       "2022-03-02 05:00:00 XOM          0.017178\n",
       "2022-03-03 05:00:00 XOM          0.006333\n",
       "2022-03-04 05:00:00 XOM          0.037636\n",
       "2022-03-07 05:00:00 XOM          0.036033\n",
       "2022-03-08 05:00:00 XOM          0.007576\n",
       "...                                   ...\n",
       "2022-10-26 04:00:00 XOM          0.011900\n",
       "2022-10-27 04:00:00 XOM          0.003827\n",
       "2022-10-28 04:00:00 XOM          0.029289\n",
       "2022-10-31 04:00:00 XOM          0.000994\n",
       "2022-11-01 04:00:00 XOM          0.009927\n",
       "\n",
       "[170 rows x 1 columns]"
      ]
     },
     "execution_count": 14,
     "metadata": {},
     "output_type": "execute_result"
    }
   ],
   "source": [
    "XOM_daily_returns_df = all_data.loc[idx[:,'XOM'],['daily_returns']]\n",
    "XOM_daily_returns_df"
   ]
  },
  {
   "cell_type": "code",
   "execution_count": 15,
   "id": "3821ae3a-37e8-4110-a172-70f70caad743",
   "metadata": {
    "tags": []
   },
   "outputs": [
    {
     "data": {
      "text/html": [
       "<div>\n",
       "<style scoped>\n",
       "    .dataframe tbody tr th:only-of-type {\n",
       "        vertical-align: middle;\n",
       "    }\n",
       "\n",
       "    .dataframe tbody tr th {\n",
       "        vertical-align: top;\n",
       "    }\n",
       "\n",
       "    .dataframe thead th {\n",
       "        text-align: right;\n",
       "    }\n",
       "</style>\n",
       "<table border=\"1\" class=\"dataframe\">\n",
       "  <thead>\n",
       "    <tr style=\"text-align: right;\">\n",
       "      <th></th>\n",
       "      <th></th>\n",
       "      <th>daily_returns</th>\n",
       "    </tr>\n",
       "    <tr>\n",
       "      <th>time</th>\n",
       "      <th>ticker</th>\n",
       "      <th></th>\n",
       "    </tr>\n",
       "  </thead>\n",
       "  <tbody>\n",
       "    <tr>\n",
       "      <th>2022-03-02 05:00:00</th>\n",
       "      <th>XLE</th>\n",
       "      <td>0.022864</td>\n",
       "    </tr>\n",
       "    <tr>\n",
       "      <th>2022-03-03 05:00:00</th>\n",
       "      <th>XLE</th>\n",
       "      <td>0.002743</td>\n",
       "    </tr>\n",
       "    <tr>\n",
       "      <th>2022-03-04 05:00:00</th>\n",
       "      <th>XLE</th>\n",
       "      <td>0.028857</td>\n",
       "    </tr>\n",
       "    <tr>\n",
       "      <th>2022-03-07 05:00:00</th>\n",
       "      <th>XLE</th>\n",
       "      <td>0.014755</td>\n",
       "    </tr>\n",
       "    <tr>\n",
       "      <th>2022-03-08 05:00:00</th>\n",
       "      <th>XLE</th>\n",
       "      <td>0.015719</td>\n",
       "    </tr>\n",
       "    <tr>\n",
       "      <th>...</th>\n",
       "      <th>...</th>\n",
       "      <td>...</td>\n",
       "    </tr>\n",
       "    <tr>\n",
       "      <th>2022-10-26 04:00:00</th>\n",
       "      <th>XLE</th>\n",
       "      <td>0.013611</td>\n",
       "    </tr>\n",
       "    <tr>\n",
       "      <th>2022-10-27 04:00:00</th>\n",
       "      <th>XLE</th>\n",
       "      <td>0.003611</td>\n",
       "    </tr>\n",
       "    <tr>\n",
       "      <th>2022-10-28 04:00:00</th>\n",
       "      <th>XLE</th>\n",
       "      <td>0.003485</td>\n",
       "    </tr>\n",
       "    <tr>\n",
       "      <th>2022-10-31 04:00:00</th>\n",
       "      <th>XLE</th>\n",
       "      <td>0.008403</td>\n",
       "    </tr>\n",
       "    <tr>\n",
       "      <th>2022-11-01 04:00:00</th>\n",
       "      <th>XLE</th>\n",
       "      <td>0.009667</td>\n",
       "    </tr>\n",
       "  </tbody>\n",
       "</table>\n",
       "<p>170 rows × 1 columns</p>\n",
       "</div>"
      ],
      "text/plain": [
       "                            daily_returns\n",
       "time                ticker               \n",
       "2022-03-02 05:00:00 XLE          0.022864\n",
       "2022-03-03 05:00:00 XLE          0.002743\n",
       "2022-03-04 05:00:00 XLE          0.028857\n",
       "2022-03-07 05:00:00 XLE          0.014755\n",
       "2022-03-08 05:00:00 XLE          0.015719\n",
       "...                                   ...\n",
       "2022-10-26 04:00:00 XLE          0.013611\n",
       "2022-10-27 04:00:00 XLE          0.003611\n",
       "2022-10-28 04:00:00 XLE          0.003485\n",
       "2022-10-31 04:00:00 XLE          0.008403\n",
       "2022-11-01 04:00:00 XLE          0.009667\n",
       "\n",
       "[170 rows x 1 columns]"
      ]
     },
     "execution_count": 15,
     "metadata": {},
     "output_type": "execute_result"
    }
   ],
   "source": [
    "XLE_daily_returns_df = all_data.loc[idx[:,'XLE'],['daily_returns']]\n",
    "XLE_daily_returns_df"
   ]
  },
  {
   "cell_type": "code",
   "execution_count": 16,
   "id": "6399dd61-3199-4c42-b23e-79a577da9b58",
   "metadata": {
    "tags": []
   },
   "outputs": [
    {
     "data": {
      "text/html": [
       "<div>\n",
       "<style scoped>\n",
       "    .dataframe tbody tr th:only-of-type {\n",
       "        vertical-align: middle;\n",
       "    }\n",
       "\n",
       "    .dataframe tbody tr th {\n",
       "        vertical-align: top;\n",
       "    }\n",
       "\n",
       "    .dataframe thead th {\n",
       "        text-align: right;\n",
       "    }\n",
       "</style>\n",
       "<table border=\"1\" class=\"dataframe\">\n",
       "  <thead>\n",
       "    <tr style=\"text-align: right;\">\n",
       "      <th></th>\n",
       "      <th></th>\n",
       "      <th>daily_returns</th>\n",
       "    </tr>\n",
       "    <tr>\n",
       "      <th>time</th>\n",
       "      <th>ticker</th>\n",
       "      <th></th>\n",
       "    </tr>\n",
       "  </thead>\n",
       "  <tbody>\n",
       "    <tr>\n",
       "      <th>2022-03-02 05:00:00</th>\n",
       "      <th>SPY</th>\n",
       "      <td>0.018396</td>\n",
       "    </tr>\n",
       "    <tr>\n",
       "      <th>2022-03-03 05:00:00</th>\n",
       "      <th>SPY</th>\n",
       "      <td>-0.004978</td>\n",
       "    </tr>\n",
       "    <tr>\n",
       "      <th>2022-03-04 05:00:00</th>\n",
       "      <th>SPY</th>\n",
       "      <td>-0.008125</td>\n",
       "    </tr>\n",
       "    <tr>\n",
       "      <th>2022-03-07 05:00:00</th>\n",
       "      <th>SPY</th>\n",
       "      <td>-0.029479</td>\n",
       "    </tr>\n",
       "    <tr>\n",
       "      <th>2022-03-08 05:00:00</th>\n",
       "      <th>SPY</th>\n",
       "      <td>-0.007582</td>\n",
       "    </tr>\n",
       "    <tr>\n",
       "      <th>...</th>\n",
       "      <th>...</th>\n",
       "      <td>...</td>\n",
       "    </tr>\n",
       "    <tr>\n",
       "      <th>2022-10-26 04:00:00</th>\n",
       "      <th>SPY</th>\n",
       "      <td>-0.007534</td>\n",
       "    </tr>\n",
       "    <tr>\n",
       "      <th>2022-10-27 04:00:00</th>\n",
       "      <th>SPY</th>\n",
       "      <td>-0.005340</td>\n",
       "    </tr>\n",
       "    <tr>\n",
       "      <th>2022-10-28 04:00:00</th>\n",
       "      <th>SPY</th>\n",
       "      <td>0.023791</td>\n",
       "    </tr>\n",
       "    <tr>\n",
       "      <th>2022-10-31 04:00:00</th>\n",
       "      <th>SPY</th>\n",
       "      <td>-0.007223</td>\n",
       "    </tr>\n",
       "    <tr>\n",
       "      <th>2022-11-01 04:00:00</th>\n",
       "      <th>SPY</th>\n",
       "      <td>-0.004376</td>\n",
       "    </tr>\n",
       "  </tbody>\n",
       "</table>\n",
       "<p>170 rows × 1 columns</p>\n",
       "</div>"
      ],
      "text/plain": [
       "                            daily_returns\n",
       "time                ticker               \n",
       "2022-03-02 05:00:00 SPY          0.018396\n",
       "2022-03-03 05:00:00 SPY         -0.004978\n",
       "2022-03-04 05:00:00 SPY         -0.008125\n",
       "2022-03-07 05:00:00 SPY         -0.029479\n",
       "2022-03-08 05:00:00 SPY         -0.007582\n",
       "...                                   ...\n",
       "2022-10-26 04:00:00 SPY         -0.007534\n",
       "2022-10-27 04:00:00 SPY         -0.005340\n",
       "2022-10-28 04:00:00 SPY          0.023791\n",
       "2022-10-31 04:00:00 SPY         -0.007223\n",
       "2022-11-01 04:00:00 SPY         -0.004376\n",
       "\n",
       "[170 rows x 1 columns]"
      ]
     },
     "execution_count": 16,
     "metadata": {},
     "output_type": "execute_result"
    }
   ],
   "source": [
    "SPY_daily_returns_df = all_data.loc[idx[:,'SPY'],['daily_returns']]\n",
    "SPY_daily_returns_df"
   ]
  },
  {
   "cell_type": "code",
   "execution_count": 17,
   "id": "3cf20180-2f73-499b-95dd-73c8a2875e9a",
   "metadata": {
    "tags": []
   },
   "outputs": [
    {
     "data": {
      "text/html": [
       "<div>\n",
       "<style scoped>\n",
       "    .dataframe tbody tr th:only-of-type {\n",
       "        vertical-align: middle;\n",
       "    }\n",
       "\n",
       "    .dataframe tbody tr th {\n",
       "        vertical-align: top;\n",
       "    }\n",
       "\n",
       "    .dataframe thead th {\n",
       "        text-align: right;\n",
       "    }\n",
       "</style>\n",
       "<table border=\"1\" class=\"dataframe\">\n",
       "  <thead>\n",
       "    <tr style=\"text-align: right;\">\n",
       "      <th></th>\n",
       "      <th></th>\n",
       "      <th></th>\n",
       "      <th>daily_returns</th>\n",
       "    </tr>\n",
       "    <tr>\n",
       "      <th></th>\n",
       "      <th>time</th>\n",
       "      <th>ticker</th>\n",
       "      <th></th>\n",
       "    </tr>\n",
       "  </thead>\n",
       "  <tbody>\n",
       "    <tr>\n",
       "      <th rowspan=\"5\" valign=\"top\">AMZN</th>\n",
       "      <th>2022-03-02 05:00:00</th>\n",
       "      <th>AMZN</th>\n",
       "      <td>0.006024</td>\n",
       "    </tr>\n",
       "    <tr>\n",
       "      <th>2022-03-03 05:00:00</th>\n",
       "      <th>AMZN</th>\n",
       "      <td>-0.027320</td>\n",
       "    </tr>\n",
       "    <tr>\n",
       "      <th>2022-03-04 05:00:00</th>\n",
       "      <th>AMZN</th>\n",
       "      <td>-0.015264</td>\n",
       "    </tr>\n",
       "    <tr>\n",
       "      <th>2022-03-07 05:00:00</th>\n",
       "      <th>AMZN</th>\n",
       "      <td>-0.056220</td>\n",
       "    </tr>\n",
       "    <tr>\n",
       "      <th>2022-03-08 05:00:00</th>\n",
       "      <th>AMZN</th>\n",
       "      <td>-0.010465</td>\n",
       "    </tr>\n",
       "    <tr>\n",
       "      <th>...</th>\n",
       "      <th>...</th>\n",
       "      <th>...</th>\n",
       "      <td>...</td>\n",
       "    </tr>\n",
       "    <tr>\n",
       "      <th rowspan=\"5\" valign=\"top\">RTH</th>\n",
       "      <th>2022-10-26 04:00:00</th>\n",
       "      <th>RTH</th>\n",
       "      <td>-0.001160</td>\n",
       "    </tr>\n",
       "    <tr>\n",
       "      <th>2022-10-27 04:00:00</th>\n",
       "      <th>RTH</th>\n",
       "      <td>-0.003589</td>\n",
       "    </tr>\n",
       "    <tr>\n",
       "      <th>2022-10-28 04:00:00</th>\n",
       "      <th>RTH</th>\n",
       "      <td>0.001099</td>\n",
       "    </tr>\n",
       "    <tr>\n",
       "      <th>2022-10-31 04:00:00</th>\n",
       "      <th>RTH</th>\n",
       "      <td>-0.006342</td>\n",
       "    </tr>\n",
       "    <tr>\n",
       "      <th>2022-11-01 04:00:00</th>\n",
       "      <th>RTH</th>\n",
       "      <td>-0.012703</td>\n",
       "    </tr>\n",
       "  </tbody>\n",
       "</table>\n",
       "<p>340 rows × 1 columns</p>\n",
       "</div>"
      ],
      "text/plain": [
       "                                 daily_returns\n",
       "     time                ticker               \n",
       "AMZN 2022-03-02 05:00:00 AMZN         0.006024\n",
       "     2022-03-03 05:00:00 AMZN        -0.027320\n",
       "     2022-03-04 05:00:00 AMZN        -0.015264\n",
       "     2022-03-07 05:00:00 AMZN        -0.056220\n",
       "     2022-03-08 05:00:00 AMZN        -0.010465\n",
       "...                                        ...\n",
       "RTH  2022-10-26 04:00:00 RTH         -0.001160\n",
       "     2022-10-27 04:00:00 RTH         -0.003589\n",
       "     2022-10-28 04:00:00 RTH          0.001099\n",
       "     2022-10-31 04:00:00 RTH         -0.006342\n",
       "     2022-11-01 04:00:00 RTH         -0.012703\n",
       "\n",
       "[340 rows x 1 columns]"
      ]
     },
     "execution_count": 17,
     "metadata": {},
     "output_type": "execute_result"
    }
   ],
   "source": [
    "tech_daily_returns = pd.concat([AMZN_daily_returns_df, RTH_daily_returns_df], keys=[\"AMZN\",\"RTH\"])\n",
    "tech_daily_returns"
   ]
  },
  {
   "cell_type": "code",
   "execution_count": 18,
   "id": "7eea0650-e218-448b-ac83-3e7212898511",
   "metadata": {
    "tags": []
   },
   "outputs": [
    {
     "data": {
      "text/html": [
       "<div>\n",
       "<style scoped>\n",
       "    .dataframe tbody tr th:only-of-type {\n",
       "        vertical-align: middle;\n",
       "    }\n",
       "\n",
       "    .dataframe tbody tr th {\n",
       "        vertical-align: top;\n",
       "    }\n",
       "\n",
       "    .dataframe thead th {\n",
       "        text-align: right;\n",
       "    }\n",
       "</style>\n",
       "<table border=\"1\" class=\"dataframe\">\n",
       "  <thead>\n",
       "    <tr style=\"text-align: right;\">\n",
       "      <th></th>\n",
       "      <th></th>\n",
       "      <th></th>\n",
       "      <th>daily_returns</th>\n",
       "    </tr>\n",
       "    <tr>\n",
       "      <th></th>\n",
       "      <th>time</th>\n",
       "      <th>ticker</th>\n",
       "      <th></th>\n",
       "    </tr>\n",
       "  </thead>\n",
       "  <tbody>\n",
       "    <tr>\n",
       "      <th rowspan=\"5\" valign=\"top\">AMT</th>\n",
       "      <th>2022-03-02 05:00:00</th>\n",
       "      <th>AMT</th>\n",
       "      <td>0.010720</td>\n",
       "    </tr>\n",
       "    <tr>\n",
       "      <th>2022-03-03 05:00:00</th>\n",
       "      <th>AMT</th>\n",
       "      <td>0.018355</td>\n",
       "    </tr>\n",
       "    <tr>\n",
       "      <th>2022-03-04 05:00:00</th>\n",
       "      <th>AMT</th>\n",
       "      <td>0.012923</td>\n",
       "    </tr>\n",
       "    <tr>\n",
       "      <th>2022-03-07 05:00:00</th>\n",
       "      <th>AMT</th>\n",
       "      <td>-0.026272</td>\n",
       "    </tr>\n",
       "    <tr>\n",
       "      <th>2022-03-08 05:00:00</th>\n",
       "      <th>AMT</th>\n",
       "      <td>-0.017455</td>\n",
       "    </tr>\n",
       "    <tr>\n",
       "      <th>...</th>\n",
       "      <th>...</th>\n",
       "      <th>...</th>\n",
       "      <td>...</td>\n",
       "    </tr>\n",
       "    <tr>\n",
       "      <th rowspan=\"5\" valign=\"top\">IYR</th>\n",
       "      <th>2022-10-26 04:00:00</th>\n",
       "      <th>IYR</th>\n",
       "      <td>0.001952</td>\n",
       "    </tr>\n",
       "    <tr>\n",
       "      <th>2022-10-27 04:00:00</th>\n",
       "      <th>IYR</th>\n",
       "      <td>0.001827</td>\n",
       "    </tr>\n",
       "    <tr>\n",
       "      <th>2022-10-28 04:00:00</th>\n",
       "      <th>IYR</th>\n",
       "      <td>0.022247</td>\n",
       "    </tr>\n",
       "    <tr>\n",
       "      <th>2022-10-31 04:00:00</th>\n",
       "      <th>IYR</th>\n",
       "      <td>-0.001189</td>\n",
       "    </tr>\n",
       "    <tr>\n",
       "      <th>2022-11-01 04:00:00</th>\n",
       "      <th>IYR</th>\n",
       "      <td>-0.001905</td>\n",
       "    </tr>\n",
       "  </tbody>\n",
       "</table>\n",
       "<p>340 rows × 1 columns</p>\n",
       "</div>"
      ],
      "text/plain": [
       "                                daily_returns\n",
       "    time                ticker               \n",
       "AMT 2022-03-02 05:00:00 AMT          0.010720\n",
       "    2022-03-03 05:00:00 AMT          0.018355\n",
       "    2022-03-04 05:00:00 AMT          0.012923\n",
       "    2022-03-07 05:00:00 AMT         -0.026272\n",
       "    2022-03-08 05:00:00 AMT         -0.017455\n",
       "...                                       ...\n",
       "IYR 2022-10-26 04:00:00 IYR          0.001952\n",
       "    2022-10-27 04:00:00 IYR          0.001827\n",
       "    2022-10-28 04:00:00 IYR          0.022247\n",
       "    2022-10-31 04:00:00 IYR         -0.001189\n",
       "    2022-11-01 04:00:00 IYR         -0.001905\n",
       "\n",
       "[340 rows x 1 columns]"
      ]
     },
     "execution_count": 18,
     "metadata": {},
     "output_type": "execute_result"
    }
   ],
   "source": [
    "RE_daily_returns = pd.concat([AMT_daily_returns_df, IYR_daily_returns_df], keys=[\"AMT\",\"IYR\"])\n",
    "RE_daily_returns"
   ]
  },
  {
   "cell_type": "code",
   "execution_count": 19,
   "id": "fa8baa24-e409-49d7-b5ca-660d51aa9a45",
   "metadata": {
    "tags": []
   },
   "outputs": [
    {
     "data": {
      "text/html": [
       "<div>\n",
       "<style scoped>\n",
       "    .dataframe tbody tr th:only-of-type {\n",
       "        vertical-align: middle;\n",
       "    }\n",
       "\n",
       "    .dataframe tbody tr th {\n",
       "        vertical-align: top;\n",
       "    }\n",
       "\n",
       "    .dataframe thead th {\n",
       "        text-align: right;\n",
       "    }\n",
       "</style>\n",
       "<table border=\"1\" class=\"dataframe\">\n",
       "  <thead>\n",
       "    <tr style=\"text-align: right;\">\n",
       "      <th></th>\n",
       "      <th></th>\n",
       "      <th></th>\n",
       "      <th>daily_returns</th>\n",
       "    </tr>\n",
       "    <tr>\n",
       "      <th></th>\n",
       "      <th>time</th>\n",
       "      <th>ticker</th>\n",
       "      <th></th>\n",
       "    </tr>\n",
       "  </thead>\n",
       "  <tbody>\n",
       "    <tr>\n",
       "      <th rowspan=\"5\" valign=\"top\">XOM</th>\n",
       "      <th>2022-03-02 05:00:00</th>\n",
       "      <th>XOM</th>\n",
       "      <td>0.017178</td>\n",
       "    </tr>\n",
       "    <tr>\n",
       "      <th>2022-03-03 05:00:00</th>\n",
       "      <th>XOM</th>\n",
       "      <td>0.006333</td>\n",
       "    </tr>\n",
       "    <tr>\n",
       "      <th>2022-03-04 05:00:00</th>\n",
       "      <th>XOM</th>\n",
       "      <td>0.037636</td>\n",
       "    </tr>\n",
       "    <tr>\n",
       "      <th>2022-03-07 05:00:00</th>\n",
       "      <th>XOM</th>\n",
       "      <td>0.036033</td>\n",
       "    </tr>\n",
       "    <tr>\n",
       "      <th>2022-03-08 05:00:00</th>\n",
       "      <th>XOM</th>\n",
       "      <td>0.007576</td>\n",
       "    </tr>\n",
       "    <tr>\n",
       "      <th>...</th>\n",
       "      <th>...</th>\n",
       "      <th>...</th>\n",
       "      <td>...</td>\n",
       "    </tr>\n",
       "    <tr>\n",
       "      <th rowspan=\"5\" valign=\"top\">XLE</th>\n",
       "      <th>2022-10-26 04:00:00</th>\n",
       "      <th>XLE</th>\n",
       "      <td>0.013611</td>\n",
       "    </tr>\n",
       "    <tr>\n",
       "      <th>2022-10-27 04:00:00</th>\n",
       "      <th>XLE</th>\n",
       "      <td>0.003611</td>\n",
       "    </tr>\n",
       "    <tr>\n",
       "      <th>2022-10-28 04:00:00</th>\n",
       "      <th>XLE</th>\n",
       "      <td>0.003485</td>\n",
       "    </tr>\n",
       "    <tr>\n",
       "      <th>2022-10-31 04:00:00</th>\n",
       "      <th>XLE</th>\n",
       "      <td>0.008403</td>\n",
       "    </tr>\n",
       "    <tr>\n",
       "      <th>2022-11-01 04:00:00</th>\n",
       "      <th>XLE</th>\n",
       "      <td>0.009667</td>\n",
       "    </tr>\n",
       "  </tbody>\n",
       "</table>\n",
       "<p>340 rows × 1 columns</p>\n",
       "</div>"
      ],
      "text/plain": [
       "                                daily_returns\n",
       "    time                ticker               \n",
       "XOM 2022-03-02 05:00:00 XOM          0.017178\n",
       "    2022-03-03 05:00:00 XOM          0.006333\n",
       "    2022-03-04 05:00:00 XOM          0.037636\n",
       "    2022-03-07 05:00:00 XOM          0.036033\n",
       "    2022-03-08 05:00:00 XOM          0.007576\n",
       "...                                       ...\n",
       "XLE 2022-10-26 04:00:00 XLE          0.013611\n",
       "    2022-10-27 04:00:00 XLE          0.003611\n",
       "    2022-10-28 04:00:00 XLE          0.003485\n",
       "    2022-10-31 04:00:00 XLE          0.008403\n",
       "    2022-11-01 04:00:00 XLE          0.009667\n",
       "\n",
       "[340 rows x 1 columns]"
      ]
     },
     "execution_count": 19,
     "metadata": {},
     "output_type": "execute_result"
    }
   ],
   "source": [
    "energy_daily_returns = pd.concat([XOM_daily_returns_df, XLE_daily_returns_df], keys=[\"XOM\",\"XLE\"])\n",
    "energy_daily_returns"
   ]
  },
  {
   "cell_type": "markdown",
   "id": "4e01bda0-7313-4129-8930-b0b950cbd90a",
   "metadata": {},
   "source": [
    "### A) Analyzing Each Stock and ETF Individually\n"
   ]
  },
  {
   "cell_type": "code",
   "execution_count": 20,
   "id": "7e265e85-6dde-4d72-9060-6ea9bb3a7238",
   "metadata": {},
   "outputs": [],
   "source": [
    "import warnings\n",
    "warnings.filterwarnings(\"ignore\")"
   ]
  },
  {
   "cell_type": "code",
   "execution_count": 21,
   "id": "3c7a7a45-67aa-45bf-b77d-c2de7163aa9c",
   "metadata": {},
   "outputs": [],
   "source": [
    "from pytz import timezone\n",
    "#from IPython.display import clear_output\n",
    "from time import sleep\n",
    "import numpy as np\n",
    "import pyfolio as pf\n",
    "import sqlalchemy"
   ]
  },
  {
   "cell_type": "code",
   "execution_count": 22,
   "id": "90bdcd33-12c4-4e17-ac2a-9dd78b52c14c",
   "metadata": {},
   "outputs": [
    {
     "data": {
      "text/html": [
       "<div>\n",
       "<style scoped>\n",
       "    .dataframe tbody tr th:only-of-type {\n",
       "        vertical-align: middle;\n",
       "    }\n",
       "\n",
       "    .dataframe tbody tr th {\n",
       "        vertical-align: top;\n",
       "    }\n",
       "\n",
       "    .dataframe thead th {\n",
       "        text-align: right;\n",
       "    }\n",
       "</style>\n",
       "<table border=\"1\" class=\"dataframe\">\n",
       "  <thead>\n",
       "    <tr style=\"text-align: right;\">\n",
       "      <th></th>\n",
       "      <th></th>\n",
       "      <th>daily_returns</th>\n",
       "    </tr>\n",
       "    <tr>\n",
       "      <th></th>\n",
       "      <th>time</th>\n",
       "      <th></th>\n",
       "    </tr>\n",
       "  </thead>\n",
       "  <tbody>\n",
       "    <tr>\n",
       "      <th rowspan=\"5\" valign=\"top\">AMZN</th>\n",
       "      <th>2022-03-02 05:00:00</th>\n",
       "      <td>0.006024</td>\n",
       "    </tr>\n",
       "    <tr>\n",
       "      <th>2022-03-03 05:00:00</th>\n",
       "      <td>-0.027320</td>\n",
       "    </tr>\n",
       "    <tr>\n",
       "      <th>2022-03-04 05:00:00</th>\n",
       "      <td>-0.015264</td>\n",
       "    </tr>\n",
       "    <tr>\n",
       "      <th>2022-03-07 05:00:00</th>\n",
       "      <td>-0.056220</td>\n",
       "    </tr>\n",
       "    <tr>\n",
       "      <th>2022-03-08 05:00:00</th>\n",
       "      <td>-0.010465</td>\n",
       "    </tr>\n",
       "    <tr>\n",
       "      <th>...</th>\n",
       "      <th>...</th>\n",
       "      <td>...</td>\n",
       "    </tr>\n",
       "    <tr>\n",
       "      <th rowspan=\"5\" valign=\"top\">SPY</th>\n",
       "      <th>2022-10-26 04:00:00</th>\n",
       "      <td>-0.007534</td>\n",
       "    </tr>\n",
       "    <tr>\n",
       "      <th>2022-10-27 04:00:00</th>\n",
       "      <td>-0.005340</td>\n",
       "    </tr>\n",
       "    <tr>\n",
       "      <th>2022-10-28 04:00:00</th>\n",
       "      <td>0.023791</td>\n",
       "    </tr>\n",
       "    <tr>\n",
       "      <th>2022-10-31 04:00:00</th>\n",
       "      <td>-0.007223</td>\n",
       "    </tr>\n",
       "    <tr>\n",
       "      <th>2022-11-01 04:00:00</th>\n",
       "      <td>-0.004376</td>\n",
       "    </tr>\n",
       "  </tbody>\n",
       "</table>\n",
       "<p>1190 rows × 1 columns</p>\n",
       "</div>"
      ],
      "text/plain": [
       "                          daily_returns\n",
       "     time                              \n",
       "AMZN 2022-03-02 05:00:00       0.006024\n",
       "     2022-03-03 05:00:00      -0.027320\n",
       "     2022-03-04 05:00:00      -0.015264\n",
       "     2022-03-07 05:00:00      -0.056220\n",
       "     2022-03-08 05:00:00      -0.010465\n",
       "...                                 ...\n",
       "SPY  2022-10-26 04:00:00      -0.007534\n",
       "     2022-10-27 04:00:00      -0.005340\n",
       "     2022-10-28 04:00:00       0.023791\n",
       "     2022-10-31 04:00:00      -0.007223\n",
       "     2022-11-01 04:00:00      -0.004376\n",
       "\n",
       "[1190 rows x 1 columns]"
      ]
     },
     "execution_count": 22,
     "metadata": {},
     "output_type": "execute_result"
    }
   ],
   "source": [
    "\n",
    "pre_pandemic_prices_df = pd.concat([AMZN_daily_returns_df.reset_index(level = 1,drop=True), RTH_daily_returns_df.reset_index(level = 1,drop=True), AMT_daily_returns_df.reset_index(level = 1,drop=True), IYR_daily_returns_df.reset_index(level = 1,drop=True), XOM_daily_returns_df.reset_index(level = 1,drop=True), XLE_daily_returns_df.reset_index(level = 1,drop=True), SPY_daily_returns_df.reset_index(level = 1,drop=True)],axis=0, keys=[\"AMZN\",\"RTH\",\"AMT\",\"IYR\",\"XOM\",\"XLE\",\"SPY\"])\n",
    "pre_pandemic_prices_df\n",
    "\n"
   ]
  },
  {
   "cell_type": "code",
   "execution_count": 23,
   "id": "ff4acb97-aefd-475c-b7a3-320ffdce8a2b",
   "metadata": {},
   "outputs": [],
   "source": [
    "database_connection_string = 'sqlite:///'"
   ]
  },
  {
   "cell_type": "code",
   "execution_count": 24,
   "id": "21b45bd6-804e-4a3a-b666-71a48852f697",
   "metadata": {},
   "outputs": [],
   "source": [
    "engine = sqlalchemy.create_engine(database_connection_string)"
   ]
  },
  {
   "cell_type": "code",
   "execution_count": 25,
   "id": "ba8f9cd5-5dd7-4082-87d8-34b9baa5a145",
   "metadata": {},
   "outputs": [
    {
     "data": {
      "text/plain": [
       "[]"
      ]
     },
     "execution_count": 25,
     "metadata": {},
     "output_type": "execute_result"
    }
   ],
   "source": [
    "engine.table_names()"
   ]
  },
  {
   "cell_type": "code",
   "execution_count": 26,
   "id": "57557244-d89f-487c-9fef-8ea4b98aade2",
   "metadata": {},
   "outputs": [
    {
     "data": {
      "text/plain": [
       "daily_returns    0.031738\n",
       "dtype: float64"
      ]
     },
     "metadata": {},
     "output_type": "display_data"
    },
    {
     "data": {
      "text/plain": [
       "daily_returns   -0.002111\n",
       "dtype: float64"
      ]
     },
     "metadata": {},
     "output_type": "display_data"
    }
   ],
   "source": [
    "#Summary statistics for AMZN stock using .std() and .mean()\n",
    "display(AMZN_daily_returns_df.std())\n",
    "display(AMZN_daily_returns_df.mean())"
   ]
  },
  {
   "cell_type": "code",
   "execution_count": 27,
   "id": "43851111-af48-4322-9aeb-30fcd0e713e0",
   "metadata": {},
   "outputs": [
    {
     "data": {
      "text/plain": [
       "daily_returns   -0.000367\n",
       "dtype: float64"
      ]
     },
     "execution_count": 27,
     "metadata": {},
     "output_type": "execute_result"
    }
   ],
   "source": [
    "#Summary statistics for RTH stock using .std() and .mean()\n",
    "RTH_daily_returns_df.std()\n",
    "RTH_daily_returns_df.mean()"
   ]
  },
  {
   "cell_type": "code",
   "execution_count": 28,
   "id": "80a18635-6927-4ebf-be21-bac003f7f04e",
   "metadata": {},
   "outputs": [
    {
     "data": {
      "text/plain": [
       "daily_returns   -0.000353\n",
       "dtype: float64"
      ]
     },
     "execution_count": 28,
     "metadata": {},
     "output_type": "execute_result"
    }
   ],
   "source": [
    "#Summary statistics for AMT stock using .std() and .mean()\n",
    "AMT_daily_returns_df.std()\n",
    "AMT_daily_returns_df.mean()"
   ]
  },
  {
   "cell_type": "code",
   "execution_count": 29,
   "id": "0a6d48da-cbbb-453a-9059-25725226b493",
   "metadata": {},
   "outputs": [
    {
     "data": {
      "text/plain": [
       "daily_returns   -0.000995\n",
       "dtype: float64"
      ]
     },
     "execution_count": 29,
     "metadata": {},
     "output_type": "execute_result"
    }
   ],
   "source": [
    "#Summary statistics for IYR stock using .std() and .mean()\n",
    "IYR_daily_returns_df.std()\n",
    "IYR_daily_returns_df.mean()"
   ]
  },
  {
   "cell_type": "code",
   "execution_count": 30,
   "id": "60b68c0d-17fb-45b8-8b7b-10c7edb435e8",
   "metadata": {},
   "outputs": [
    {
     "data": {
      "text/plain": [
       "daily_returns    0.002322\n",
       "dtype: float64"
      ]
     },
     "execution_count": 30,
     "metadata": {},
     "output_type": "execute_result"
    }
   ],
   "source": [
    "#Summary statistics for XOM stock using .std() and .mean()\n",
    "XOM_daily_returns_df.std()\n",
    "XOM_daily_returns_df.mean()"
   ]
  },
  {
   "cell_type": "code",
   "execution_count": 31,
   "id": "93ce569f-0ac9-4d0c-b2c9-95c9ac18e1f7",
   "metadata": {},
   "outputs": [
    {
     "data": {
      "text/plain": [
       "daily_returns    0.001711\n",
       "dtype: float64"
      ]
     },
     "execution_count": 31,
     "metadata": {},
     "output_type": "execute_result"
    }
   ],
   "source": [
    "#Summary statistics for XLE stock using .std() and .mean()\n",
    "XLE_daily_returns_df.std()\n",
    "XLE_daily_returns_df.mean()"
   ]
  },
  {
   "cell_type": "code",
   "execution_count": 32,
   "id": "90f2823e-f0d8-4e66-b5d2-d0f2ca4f16c9",
   "metadata": {},
   "outputs": [
    {
     "data": {
      "text/html": [
       "<div>\n",
       "<style scoped>\n",
       "    .dataframe tbody tr th:only-of-type {\n",
       "        vertical-align: middle;\n",
       "    }\n",
       "\n",
       "    .dataframe tbody tr th {\n",
       "        vertical-align: top;\n",
       "    }\n",
       "\n",
       "    .dataframe thead th {\n",
       "        text-align: right;\n",
       "    }\n",
       "</style>\n",
       "<table border=\"1\" class=\"dataframe\">\n",
       "  <thead>\n",
       "    <tr style=\"text-align: right;\">\n",
       "      <th></th>\n",
       "      <th>daily_returns</th>\n",
       "    </tr>\n",
       "  </thead>\n",
       "  <tbody>\n",
       "    <tr>\n",
       "      <th>count</th>\n",
       "      <td>1190.000000</td>\n",
       "    </tr>\n",
       "    <tr>\n",
       "      <th>mean</th>\n",
       "      <td>-0.000046</td>\n",
       "    </tr>\n",
       "    <tr>\n",
       "      <th>std</th>\n",
       "      <td>0.021852</td>\n",
       "    </tr>\n",
       "    <tr>\n",
       "      <th>min</th>\n",
       "      <td>-0.140494</td>\n",
       "    </tr>\n",
       "    <tr>\n",
       "      <th>25%</th>\n",
       "      <td>-0.011691</td>\n",
       "    </tr>\n",
       "    <tr>\n",
       "      <th>50%</th>\n",
       "      <td>0.000459</td>\n",
       "    </tr>\n",
       "    <tr>\n",
       "      <th>75%</th>\n",
       "      <td>0.014347</td>\n",
       "    </tr>\n",
       "    <tr>\n",
       "      <th>max</th>\n",
       "      <td>0.103615</td>\n",
       "    </tr>\n",
       "  </tbody>\n",
       "</table>\n",
       "</div>"
      ],
      "text/plain": [
       "       daily_returns\n",
       "count    1190.000000\n",
       "mean       -0.000046\n",
       "std         0.021852\n",
       "min        -0.140494\n",
       "25%        -0.011691\n",
       "50%         0.000459\n",
       "75%         0.014347\n",
       "max         0.103615"
      ]
     },
     "execution_count": 32,
     "metadata": {},
     "output_type": "execute_result"
    }
   ],
   "source": [
    "pre_pandemic_prices_df.describe()"
   ]
  },
  {
   "cell_type": "code",
   "execution_count": 33,
   "id": "a47fc738-e516-4502-abab-4629cec0e12d",
   "metadata": {},
   "outputs": [
    {
     "data": {
      "text/html": [
       "<div>\n",
       "<style scoped>\n",
       "    .dataframe tbody tr th:only-of-type {\n",
       "        vertical-align: middle;\n",
       "    }\n",
       "\n",
       "    .dataframe tbody tr th {\n",
       "        vertical-align: top;\n",
       "    }\n",
       "\n",
       "    .dataframe thead th {\n",
       "        text-align: right;\n",
       "    }\n",
       "</style>\n",
       "<table border=\"1\" class=\"dataframe\">\n",
       "  <thead>\n",
       "    <tr style=\"text-align: right;\">\n",
       "      <th></th>\n",
       "      <th>daily_returns</th>\n",
       "    </tr>\n",
       "  </thead>\n",
       "  <tbody>\n",
       "    <tr>\n",
       "      <th>count</th>\n",
       "      <td>170.000000</td>\n",
       "    </tr>\n",
       "    <tr>\n",
       "      <th>mean</th>\n",
       "      <td>-0.002111</td>\n",
       "    </tr>\n",
       "    <tr>\n",
       "      <th>std</th>\n",
       "      <td>0.031738</td>\n",
       "    </tr>\n",
       "    <tr>\n",
       "      <th>min</th>\n",
       "      <td>-0.140494</td>\n",
       "    </tr>\n",
       "    <tr>\n",
       "      <th>25%</th>\n",
       "      <td>-0.020766</td>\n",
       "    </tr>\n",
       "    <tr>\n",
       "      <th>50%</th>\n",
       "      <td>-0.000736</td>\n",
       "    </tr>\n",
       "    <tr>\n",
       "      <th>75%</th>\n",
       "      <td>0.021655</td>\n",
       "    </tr>\n",
       "    <tr>\n",
       "      <th>max</th>\n",
       "      <td>0.103615</td>\n",
       "    </tr>\n",
       "  </tbody>\n",
       "</table>\n",
       "</div>"
      ],
      "text/plain": [
       "       daily_returns\n",
       "count     170.000000\n",
       "mean       -0.002111\n",
       "std         0.031738\n",
       "min        -0.140494\n",
       "25%        -0.020766\n",
       "50%        -0.000736\n",
       "75%         0.021655\n",
       "max         0.103615"
      ]
     },
     "execution_count": 33,
     "metadata": {},
     "output_type": "execute_result"
    }
   ],
   "source": [
    "#Summary statistics for AMZN using .describe()\n",
    "AMZN_daily_returns_df.describe()"
   ]
  },
  {
   "cell_type": "code",
   "execution_count": 34,
   "id": "c6df94d2-4744-4ee7-b582-c820961204a7",
   "metadata": {},
   "outputs": [
    {
     "data": {
      "text/html": [
       "<div>\n",
       "<style scoped>\n",
       "    .dataframe tbody tr th:only-of-type {\n",
       "        vertical-align: middle;\n",
       "    }\n",
       "\n",
       "    .dataframe tbody tr th {\n",
       "        vertical-align: top;\n",
       "    }\n",
       "\n",
       "    .dataframe thead th {\n",
       "        text-align: right;\n",
       "    }\n",
       "</style>\n",
       "<table border=\"1\" class=\"dataframe\">\n",
       "  <thead>\n",
       "    <tr style=\"text-align: right;\">\n",
       "      <th></th>\n",
       "      <th>daily_returns</th>\n",
       "    </tr>\n",
       "  </thead>\n",
       "  <tbody>\n",
       "    <tr>\n",
       "      <th>count</th>\n",
       "      <td>170.000000</td>\n",
       "    </tr>\n",
       "    <tr>\n",
       "      <th>mean</th>\n",
       "      <td>-0.000367</td>\n",
       "    </tr>\n",
       "    <tr>\n",
       "      <th>std</th>\n",
       "      <td>0.017069</td>\n",
       "    </tr>\n",
       "    <tr>\n",
       "      <th>min</th>\n",
       "      <td>-0.074149</td>\n",
       "    </tr>\n",
       "    <tr>\n",
       "      <th>25%</th>\n",
       "      <td>-0.010150</td>\n",
       "    </tr>\n",
       "    <tr>\n",
       "      <th>50%</th>\n",
       "      <td>-0.001131</td>\n",
       "    </tr>\n",
       "    <tr>\n",
       "      <th>75%</th>\n",
       "      <td>0.012610</td>\n",
       "    </tr>\n",
       "    <tr>\n",
       "      <th>max</th>\n",
       "      <td>0.044233</td>\n",
       "    </tr>\n",
       "  </tbody>\n",
       "</table>\n",
       "</div>"
      ],
      "text/plain": [
       "       daily_returns\n",
       "count     170.000000\n",
       "mean       -0.000367\n",
       "std         0.017069\n",
       "min        -0.074149\n",
       "25%        -0.010150\n",
       "50%        -0.001131\n",
       "75%         0.012610\n",
       "max         0.044233"
      ]
     },
     "execution_count": 34,
     "metadata": {},
     "output_type": "execute_result"
    }
   ],
   "source": [
    "#Summary statistics for RTH using .describe()\n",
    "RTH_daily_returns_df.describe()"
   ]
  },
  {
   "cell_type": "code",
   "execution_count": 35,
   "id": "b6ef11bb-db63-45dc-8904-98b78c5c6ae0",
   "metadata": {},
   "outputs": [
    {
     "data": {
      "text/html": [
       "<div>\n",
       "<style scoped>\n",
       "    .dataframe tbody tr th:only-of-type {\n",
       "        vertical-align: middle;\n",
       "    }\n",
       "\n",
       "    .dataframe tbody tr th {\n",
       "        vertical-align: top;\n",
       "    }\n",
       "\n",
       "    .dataframe thead th {\n",
       "        text-align: right;\n",
       "    }\n",
       "</style>\n",
       "<table border=\"1\" class=\"dataframe\">\n",
       "  <thead>\n",
       "    <tr style=\"text-align: right;\">\n",
       "      <th></th>\n",
       "      <th>daily_returns</th>\n",
       "    </tr>\n",
       "  </thead>\n",
       "  <tbody>\n",
       "    <tr>\n",
       "      <th>count</th>\n",
       "      <td>170.000000</td>\n",
       "    </tr>\n",
       "    <tr>\n",
       "      <th>mean</th>\n",
       "      <td>-0.000353</td>\n",
       "    </tr>\n",
       "    <tr>\n",
       "      <th>std</th>\n",
       "      <td>0.020251</td>\n",
       "    </tr>\n",
       "    <tr>\n",
       "      <th>min</th>\n",
       "      <td>-0.053181</td>\n",
       "    </tr>\n",
       "    <tr>\n",
       "      <th>25%</th>\n",
       "      <td>-0.013277</td>\n",
       "    </tr>\n",
       "    <tr>\n",
       "      <th>50%</th>\n",
       "      <td>0.001093</td>\n",
       "    </tr>\n",
       "    <tr>\n",
       "      <th>75%</th>\n",
       "      <td>0.012928</td>\n",
       "    </tr>\n",
       "    <tr>\n",
       "      <th>max</th>\n",
       "      <td>0.054639</td>\n",
       "    </tr>\n",
       "  </tbody>\n",
       "</table>\n",
       "</div>"
      ],
      "text/plain": [
       "       daily_returns\n",
       "count     170.000000\n",
       "mean       -0.000353\n",
       "std         0.020251\n",
       "min        -0.053181\n",
       "25%        -0.013277\n",
       "50%         0.001093\n",
       "75%         0.012928\n",
       "max         0.054639"
      ]
     },
     "execution_count": 35,
     "metadata": {},
     "output_type": "execute_result"
    }
   ],
   "source": [
    "#Summary statistics for AMT using .describe()\n",
    "AMT_daily_returns_df.describe()"
   ]
  },
  {
   "cell_type": "code",
   "execution_count": 36,
   "id": "7c4aa0f8-a623-4855-aad0-18dee5615781",
   "metadata": {},
   "outputs": [
    {
     "data": {
      "text/html": [
       "<div>\n",
       "<style scoped>\n",
       "    .dataframe tbody tr th:only-of-type {\n",
       "        vertical-align: middle;\n",
       "    }\n",
       "\n",
       "    .dataframe tbody tr th {\n",
       "        vertical-align: top;\n",
       "    }\n",
       "\n",
       "    .dataframe thead th {\n",
       "        text-align: right;\n",
       "    }\n",
       "</style>\n",
       "<table border=\"1\" class=\"dataframe\">\n",
       "  <thead>\n",
       "    <tr style=\"text-align: right;\">\n",
       "      <th></th>\n",
       "      <th>daily_returns</th>\n",
       "    </tr>\n",
       "  </thead>\n",
       "  <tbody>\n",
       "    <tr>\n",
       "      <th>count</th>\n",
       "      <td>170.000000</td>\n",
       "    </tr>\n",
       "    <tr>\n",
       "      <th>mean</th>\n",
       "      <td>-0.000995</td>\n",
       "    </tr>\n",
       "    <tr>\n",
       "      <th>std</th>\n",
       "      <td>0.015847</td>\n",
       "    </tr>\n",
       "    <tr>\n",
       "      <th>min</th>\n",
       "      <td>-0.049313</td>\n",
       "    </tr>\n",
       "    <tr>\n",
       "      <th>25%</th>\n",
       "      <td>-0.010363</td>\n",
       "    </tr>\n",
       "    <tr>\n",
       "      <th>50%</th>\n",
       "      <td>-0.001608</td>\n",
       "    </tr>\n",
       "    <tr>\n",
       "      <th>75%</th>\n",
       "      <td>0.010670</td>\n",
       "    </tr>\n",
       "    <tr>\n",
       "      <th>max</th>\n",
       "      <td>0.039843</td>\n",
       "    </tr>\n",
       "  </tbody>\n",
       "</table>\n",
       "</div>"
      ],
      "text/plain": [
       "       daily_returns\n",
       "count     170.000000\n",
       "mean       -0.000995\n",
       "std         0.015847\n",
       "min        -0.049313\n",
       "25%        -0.010363\n",
       "50%        -0.001608\n",
       "75%         0.010670\n",
       "max         0.039843"
      ]
     },
     "execution_count": 36,
     "metadata": {},
     "output_type": "execute_result"
    }
   ],
   "source": [
    "#Summary statistics for IYR using .describe()\n",
    "IYR_daily_returns_df.describe()"
   ]
  },
  {
   "cell_type": "code",
   "execution_count": 37,
   "id": "f2a60a2b-a269-4563-b637-f2d825f99ef5",
   "metadata": {},
   "outputs": [
    {
     "data": {
      "text/html": [
       "<div>\n",
       "<style scoped>\n",
       "    .dataframe tbody tr th:only-of-type {\n",
       "        vertical-align: middle;\n",
       "    }\n",
       "\n",
       "    .dataframe tbody tr th {\n",
       "        vertical-align: top;\n",
       "    }\n",
       "\n",
       "    .dataframe thead th {\n",
       "        text-align: right;\n",
       "    }\n",
       "</style>\n",
       "<table border=\"1\" class=\"dataframe\">\n",
       "  <thead>\n",
       "    <tr style=\"text-align: right;\">\n",
       "      <th></th>\n",
       "      <th>daily_returns</th>\n",
       "    </tr>\n",
       "  </thead>\n",
       "  <tbody>\n",
       "    <tr>\n",
       "      <th>count</th>\n",
       "      <td>170.000000</td>\n",
       "    </tr>\n",
       "    <tr>\n",
       "      <th>mean</th>\n",
       "      <td>0.002322</td>\n",
       "    </tr>\n",
       "    <tr>\n",
       "      <th>std</th>\n",
       "      <td>0.023824</td>\n",
       "    </tr>\n",
       "    <tr>\n",
       "      <th>min</th>\n",
       "      <td>-0.078853</td>\n",
       "    </tr>\n",
       "    <tr>\n",
       "      <th>25%</th>\n",
       "      <td>-0.012521</td>\n",
       "    </tr>\n",
       "    <tr>\n",
       "      <th>50%</th>\n",
       "      <td>0.004781</td>\n",
       "    </tr>\n",
       "    <tr>\n",
       "      <th>75%</th>\n",
       "      <td>0.018913</td>\n",
       "    </tr>\n",
       "    <tr>\n",
       "      <th>max</th>\n",
       "      <td>0.062239</td>\n",
       "    </tr>\n",
       "  </tbody>\n",
       "</table>\n",
       "</div>"
      ],
      "text/plain": [
       "       daily_returns\n",
       "count     170.000000\n",
       "mean        0.002322\n",
       "std         0.023824\n",
       "min        -0.078853\n",
       "25%        -0.012521\n",
       "50%         0.004781\n",
       "75%         0.018913\n",
       "max         0.062239"
      ]
     },
     "execution_count": 37,
     "metadata": {},
     "output_type": "execute_result"
    }
   ],
   "source": [
    "#Summary statistics for XOM using .describe()\n",
    "XOM_daily_returns_df.describe()"
   ]
  },
  {
   "cell_type": "code",
   "execution_count": 38,
   "id": "45f67940-9e53-4ffc-9a8a-c6b59e920775",
   "metadata": {},
   "outputs": [
    {
     "data": {
      "text/html": [
       "<div>\n",
       "<style scoped>\n",
       "    .dataframe tbody tr th:only-of-type {\n",
       "        vertical-align: middle;\n",
       "    }\n",
       "\n",
       "    .dataframe tbody tr th {\n",
       "        vertical-align: top;\n",
       "    }\n",
       "\n",
       "    .dataframe thead th {\n",
       "        text-align: right;\n",
       "    }\n",
       "</style>\n",
       "<table border=\"1\" class=\"dataframe\">\n",
       "  <thead>\n",
       "    <tr style=\"text-align: right;\">\n",
       "      <th></th>\n",
       "      <th>daily_returns</th>\n",
       "    </tr>\n",
       "  </thead>\n",
       "  <tbody>\n",
       "    <tr>\n",
       "      <th>count</th>\n",
       "      <td>170.000000</td>\n",
       "    </tr>\n",
       "    <tr>\n",
       "      <th>mean</th>\n",
       "      <td>0.001711</td>\n",
       "    </tr>\n",
       "    <tr>\n",
       "      <th>std</th>\n",
       "      <td>0.023771</td>\n",
       "    </tr>\n",
       "    <tr>\n",
       "      <th>min</th>\n",
       "      <td>-0.082730</td>\n",
       "    </tr>\n",
       "    <tr>\n",
       "      <th>25%</th>\n",
       "      <td>-0.014380</td>\n",
       "    </tr>\n",
       "    <tr>\n",
       "      <th>50%</th>\n",
       "      <td>0.003835</td>\n",
       "    </tr>\n",
       "    <tr>\n",
       "      <th>75%</th>\n",
       "      <td>0.017471</td>\n",
       "    </tr>\n",
       "    <tr>\n",
       "      <th>max</th>\n",
       "      <td>0.056512</td>\n",
       "    </tr>\n",
       "  </tbody>\n",
       "</table>\n",
       "</div>"
      ],
      "text/plain": [
       "       daily_returns\n",
       "count     170.000000\n",
       "mean        0.001711\n",
       "std         0.023771\n",
       "min        -0.082730\n",
       "25%        -0.014380\n",
       "50%         0.003835\n",
       "75%         0.017471\n",
       "max         0.056512"
      ]
     },
     "execution_count": 38,
     "metadata": {},
     "output_type": "execute_result"
    }
   ],
   "source": [
    "#Summary statistics for XLE using .describe()\n",
    "XLE_daily_returns_df.describe()"
   ]
  },
  {
   "cell_type": "code",
   "execution_count": 39,
   "id": "aab7c8d8-e0ab-472f-a062-f43551600a95",
   "metadata": {},
   "outputs": [
    {
     "data": {
      "text/plain": [
       "daily_returns    0.001007\n",
       "dtype: float64"
      ]
     },
     "execution_count": 39,
     "metadata": {},
     "output_type": "execute_result"
    }
   ],
   "source": [
    "# Variance Of Amzn\n",
    "AMZN_var=AMZN_daily_returns_df.var()\n",
    "AMZN_var"
   ]
  },
  {
   "cell_type": "code",
   "execution_count": 40,
   "id": "49a7106a-df9b-4a38-a6c7-cae41ac5f38c",
   "metadata": {},
   "outputs": [
    {
     "data": {
      "text/plain": [
       "daily_returns    0.000291\n",
       "dtype: float64"
      ]
     },
     "execution_count": 40,
     "metadata": {},
     "output_type": "execute_result"
    }
   ],
   "source": [
    "# Variance For RTH\n",
    "RTH_var=RTH_daily_returns_df.var()\n",
    "RTH_var"
   ]
  },
  {
   "cell_type": "code",
   "execution_count": 41,
   "id": "c167a7bb-6072-48cb-b8ad-7597b58bc0a8",
   "metadata": {},
   "outputs": [
    {
     "data": {
      "text/plain": [
       "daily_returns    0.000251\n",
       "dtype: float64"
      ]
     },
     "execution_count": 41,
     "metadata": {},
     "output_type": "execute_result"
    }
   ],
   "source": [
    "# Variance Of IYR\n",
    "IYR_var=IYR_daily_returns_df.var()\n",
    "IYR_var"
   ]
  },
  {
   "cell_type": "code",
   "execution_count": 42,
   "id": "fd8ca882-08cb-48cb-88b8-ce31a1cd519b",
   "metadata": {},
   "outputs": [
    {
     "data": {
      "text/plain": [
       "daily_returns    0.00041\n",
       "dtype: float64"
      ]
     },
     "execution_count": 42,
     "metadata": {},
     "output_type": "execute_result"
    }
   ],
   "source": [
    "# Variance Of AMT\n",
    "AMT_var=AMT_daily_returns_df.var()\n",
    "AMT_var"
   ]
  },
  {
   "cell_type": "code",
   "execution_count": 43,
   "id": "a324ba09-e369-486a-9014-9e6b4f051d22",
   "metadata": {},
   "outputs": [
    {
     "data": {
      "text/plain": [
       "daily_returns    0.000568\n",
       "dtype: float64"
      ]
     },
     "execution_count": 43,
     "metadata": {},
     "output_type": "execute_result"
    }
   ],
   "source": [
    "# Variance Of XOM\n",
    "XOM_var=XOM_daily_returns_df.var()\n",
    "XOM_var"
   ]
  },
  {
   "cell_type": "code",
   "execution_count": 44,
   "id": "bb70e7af-f176-4366-bfc7-347bca816a08",
   "metadata": {},
   "outputs": [
    {
     "data": {
      "text/plain": [
       "daily_returns    0.000565\n",
       "dtype: float64"
      ]
     },
     "execution_count": 44,
     "metadata": {},
     "output_type": "execute_result"
    }
   ],
   "source": [
    "# Variance Of XLE\n",
    "XLE_var=XLE_daily_returns_df.var()\n",
    "XLE_var"
   ]
  },
  {
   "cell_type": "code",
   "execution_count": 45,
   "id": "dd01668f-ecde-46a6-8188-d600ca5dabcb",
   "metadata": {},
   "outputs": [
    {
     "data": {
      "text/plain": [
       "0.00040044993167342205"
      ]
     },
     "execution_count": 45,
     "metadata": {},
     "output_type": "execute_result"
    }
   ],
   "source": [
    "# Covariance for Each Stock and ETF\n",
    "AMZN_Cov=AMZN_daily_returns_df.reset_index(level = 1, drop= True)['daily_returns'].cov(SPY_daily_returns_df.reset_index(level = 1, drop= True)['daily_returns'])\n",
    "AMZN_Cov"
   ]
  },
  {
   "cell_type": "code",
   "execution_count": 46,
   "id": "d21ed2cd-ae10-477a-9cb7-89fd8338e261",
   "metadata": {},
   "outputs": [
    {
     "data": {
      "text/plain": [
       "0.00024378453298000983"
      ]
     },
     "execution_count": 46,
     "metadata": {},
     "output_type": "execute_result"
    }
   ],
   "source": [
    "RTH_Cov=RTH_daily_returns_df.reset_index(level = 1, drop= True)['daily_returns'].cov(SPY_daily_returns_df.reset_index(level = 1, drop= True)['daily_returns'])\n",
    "RTH_Cov"
   ]
  },
  {
   "cell_type": "code",
   "execution_count": 47,
   "id": "5c7aa024-9b16-4cc2-b5ae-27bc6a90e1ef",
   "metadata": {},
   "outputs": [
    {
     "data": {
      "text/plain": [
       "0.00019650976184925383"
      ]
     },
     "execution_count": 47,
     "metadata": {},
     "output_type": "execute_result"
    }
   ],
   "source": [
    "# Covariance for Each Stock and ETF\n",
    "AMT_Cov=AMT_daily_returns_df.reset_index(level = 1, drop= True)['daily_returns'].cov(SPY_daily_returns_df.reset_index(level = 1, drop= True)['daily_returns'])\n",
    "AMT_Cov"
   ]
  },
  {
   "cell_type": "code",
   "execution_count": 48,
   "id": "c53a7703-a351-4a24-bb2e-1233dc1b553b",
   "metadata": {},
   "outputs": [
    {
     "data": {
      "text/plain": [
       "0.0002019051817760291"
      ]
     },
     "execution_count": 48,
     "metadata": {},
     "output_type": "execute_result"
    }
   ],
   "source": [
    "IYR_Cov=IYR_daily_returns_df.reset_index(level = 1, drop= True)['daily_returns'].cov(SPY_daily_returns_df.reset_index(level = 1, drop= True)['daily_returns'])\n",
    "IYR_Cov"
   ]
  },
  {
   "cell_type": "code",
   "execution_count": 49,
   "id": "e91c6d15-5aa1-41fc-a6e7-d086cd9868f4",
   "metadata": {},
   "outputs": [
    {
     "data": {
      "text/plain": [
       "0.00014200594731934434"
      ]
     },
     "execution_count": 49,
     "metadata": {},
     "output_type": "execute_result"
    }
   ],
   "source": [
    "XOM_Cov=XOM_daily_returns_df.reset_index(level = 1, drop= True)['daily_returns'].cov(SPY_daily_returns_df.reset_index(level = 1, drop= True)['daily_returns'])\n",
    "XOM_Cov"
   ]
  },
  {
   "cell_type": "code",
   "execution_count": 50,
   "id": "e45d1793-5241-417b-b902-3537eacd5ab2",
   "metadata": {},
   "outputs": [
    {
     "data": {
      "text/plain": [
       "0.00017020855755096786"
      ]
     },
     "execution_count": 50,
     "metadata": {},
     "output_type": "execute_result"
    }
   ],
   "source": [
    "XLE_Cov=XLE_daily_returns_df.reset_index(level = 1, drop= True)['daily_returns'].cov(SPY_daily_returns_df.reset_index(level = 1, drop= True)['daily_returns'])\n",
    "XLE_Cov"
   ]
  },
  {
   "cell_type": "code",
   "execution_count": 51,
   "id": "48eea197-5f92-4d21-9004-44e9dca5c0bd",
   "metadata": {},
   "outputs": [],
   "source": [
    "year_trading_days = 252"
   ]
  },
  {
   "cell_type": "code",
   "execution_count": 52,
   "id": "b6dbc1b9-d70d-4692-bbeb-3c56d6305ea8",
   "metadata": {},
   "outputs": [
    {
     "data": {
      "text/plain": [
       "daily_returns   -0.092406\n",
       "dtype: float64"
      ]
     },
     "execution_count": 52,
     "metadata": {},
     "output_type": "execute_result"
    }
   ],
   "source": [
    "# Annualized returns of RTH\n",
    "RTH_Annual_Ret = RTH_daily_returns_df.mean()*252\n",
    "RTH_Annual_Ret"
   ]
  },
  {
   "cell_type": "code",
   "execution_count": 53,
   "id": "fbacf7e2-0a31-4622-b873-cf066523dbc0",
   "metadata": {},
   "outputs": [
    {
     "data": {
      "text/plain": [
       "daily_returns   -0.25075\n",
       "dtype: float64"
      ]
     },
     "execution_count": 53,
     "metadata": {},
     "output_type": "execute_result"
    }
   ],
   "source": [
    "# Annualized returns of IYR\n",
    "IYR_Annual_Ret = IYR_daily_returns_df.mean()*252\n",
    "IYR_Annual_Ret"
   ]
  },
  {
   "cell_type": "code",
   "execution_count": 54,
   "id": "f5d7b699-0382-4a13-9753-83c969fa1ecd",
   "metadata": {},
   "outputs": [
    {
     "data": {
      "text/plain": [
       "daily_returns    0.431295\n",
       "dtype: float64"
      ]
     },
     "execution_count": 54,
     "metadata": {},
     "output_type": "execute_result"
    }
   ],
   "source": [
    "# Annualized returns of XLE\n",
    "XLE_Annual_Ret = XLE_daily_returns_df.mean()*252\n",
    "XLE_Annual_Ret"
   ]
  },
  {
   "cell_type": "code",
   "execution_count": 55,
   "id": "ef9a8667-33a0-4139-9db9-21a9473fcde6",
   "metadata": {},
   "outputs": [
    {
     "data": {
      "text/plain": [
       "daily_returns    0.270963\n",
       "dtype: float64"
      ]
     },
     "execution_count": 55,
     "metadata": {},
     "output_type": "execute_result"
    }
   ],
   "source": [
    "# Annualized std dev of RTH\n",
    "annual_std_dev_RTH = RTH_daily_returns_df.std() * np.sqrt(year_trading_days)\n",
    "annual_std_dev_RTH"
   ]
  },
  {
   "cell_type": "code",
   "execution_count": 56,
   "id": "9528d47b-c694-4b9f-9165-f8667c2c4fad",
   "metadata": {},
   "outputs": [
    {
     "data": {
      "text/plain": [
       "daily_returns    0.251571\n",
       "dtype: float64"
      ]
     },
     "execution_count": 56,
     "metadata": {},
     "output_type": "execute_result"
    }
   ],
   "source": [
    "# Annualized std dev of IYR\n",
    "annual_std_dev_IYR = IYR_daily_returns_df.std() * np.sqrt(year_trading_days)\n",
    "annual_std_dev_IYR"
   ]
  },
  {
   "cell_type": "code",
   "execution_count": 57,
   "id": "bd5de4b1-8be0-4ffa-a62e-08f742d31af0",
   "metadata": {},
   "outputs": [
    {
     "data": {
      "text/plain": [
       "daily_returns    0.377347\n",
       "dtype: float64"
      ]
     },
     "execution_count": 57,
     "metadata": {},
     "output_type": "execute_result"
    }
   ],
   "source": [
    "# Annualized std dev of XLE\n",
    "annual_std_dev_XLE = XLE_daily_returns_df.std() * np.sqrt(year_trading_days)\n",
    "annual_std_dev_XLE"
   ]
  },
  {
   "cell_type": "code",
   "execution_count": 58,
   "id": "4e7d167c-cfbf-4e62-8d18-fc939d6c6939",
   "metadata": {},
   "outputs": [
    {
     "data": {
      "text/html": [
       "<table border=\"1\" class=\"dataframe\">\n",
       "  <thead>\n",
       "    <tr style=\"text-align: right;\"><th>Start date</th><td colspan=2>2022-03-02</td></tr>\n",
       "    <tr style=\"text-align: right;\"><th>End date</th><td colspan=2>2022-11-01</td></tr>\n",
       "    <tr style=\"text-align: right;\"><th>Total months</th><td colspan=2>8</td></tr>\n",
       "    <tr style=\"text-align: right;\">\n",
       "      <th></th>\n",
       "      <th>Backtest</th>\n",
       "    </tr>\n",
       "  </thead>\n",
       "  <tbody>\n",
       "    <tr>\n",
       "      <th>Annual return</th>\n",
       "      <td>-48.3%</td>\n",
       "    </tr>\n",
       "    <tr>\n",
       "      <th>Cumulative returns</th>\n",
       "      <td>-36.0%</td>\n",
       "    </tr>\n",
       "    <tr>\n",
       "      <th>Annual volatility</th>\n",
       "      <td>50.4%</td>\n",
       "    </tr>\n",
       "    <tr>\n",
       "      <th>Sharpe ratio</th>\n",
       "      <td>-1.06</td>\n",
       "    </tr>\n",
       "    <tr>\n",
       "      <th>Calmar ratio</th>\n",
       "      <td>-1.13</td>\n",
       "    </tr>\n",
       "    <tr>\n",
       "      <th>Stability</th>\n",
       "      <td>0.26</td>\n",
       "    </tr>\n",
       "    <tr>\n",
       "      <th>Max drawdown</th>\n",
       "      <td>-42.8%</td>\n",
       "    </tr>\n",
       "    <tr>\n",
       "      <th>Omega ratio</th>\n",
       "      <td>0.84</td>\n",
       "    </tr>\n",
       "    <tr>\n",
       "      <th>Sortino ratio</th>\n",
       "      <td>-1.38</td>\n",
       "    </tr>\n",
       "    <tr>\n",
       "      <th>Skew</th>\n",
       "      <td>-0.39</td>\n",
       "    </tr>\n",
       "    <tr>\n",
       "      <th>Kurtosis</th>\n",
       "      <td>1.70</td>\n",
       "    </tr>\n",
       "    <tr>\n",
       "      <th>Tail ratio</th>\n",
       "      <td>0.80</td>\n",
       "    </tr>\n",
       "    <tr>\n",
       "      <th>Daily value at risk</th>\n",
       "      <td>-6.6%</td>\n",
       "    </tr>\n",
       "  </tbody>\n",
       "</table>"
      ],
      "text/plain": [
       "<IPython.core.display.HTML object>"
      ]
     },
     "metadata": {},
     "output_type": "display_data"
    },
    {
     "ename": "IndexError",
     "evalue": "index -1 is out of bounds for axis 0 with size 0",
     "output_type": "error",
     "traceback": [
      "\u001b[0;31m---------------------------------------------------------------------------\u001b[0m",
      "\u001b[0;31mIndexError\u001b[0m                                Traceback (most recent call last)",
      "\u001b[0;32m/var/folders/0k/6khhs1fd7xqgsfgj5sgncg_40000gn/T/ipykernel_62753/1166492705.py\u001b[0m in \u001b[0;36m<module>\u001b[0;34m\u001b[0m\n\u001b[1;32m      1\u001b[0m result = pf.create_returns_tear_sheet(AMZN_daily_returns_df.reset_index(level = 1,drop = True).daily_returns,\n\u001b[0;32m----> 2\u001b[0;31m                                            return_fig=True)\n\u001b[0m\u001b[1;32m      3\u001b[0m \u001b[0;31m#result.savefig(\"amzn_prepan_tearsheet.png\", format = \"png\")\u001b[0m\u001b[0;34m\u001b[0m\u001b[0;34m\u001b[0m\u001b[0;34m\u001b[0m\u001b[0m\n",
      "\u001b[0;32m~/opt/anaconda3/envs/dev/lib/python3.7/site-packages/pyfolio/plotting.py\u001b[0m in \u001b[0;36mcall_w_context\u001b[0;34m(*args, **kwargs)\u001b[0m\n\u001b[1;32m     50\u001b[0m         \u001b[0;32mif\u001b[0m \u001b[0mset_context\u001b[0m\u001b[0;34m:\u001b[0m\u001b[0;34m\u001b[0m\u001b[0;34m\u001b[0m\u001b[0m\n\u001b[1;32m     51\u001b[0m             \u001b[0;32mwith\u001b[0m \u001b[0mplotting_context\u001b[0m\u001b[0;34m(\u001b[0m\u001b[0;34m)\u001b[0m\u001b[0;34m,\u001b[0m \u001b[0maxes_style\u001b[0m\u001b[0;34m(\u001b[0m\u001b[0;34m)\u001b[0m\u001b[0;34m:\u001b[0m\u001b[0;34m\u001b[0m\u001b[0;34m\u001b[0m\u001b[0m\n\u001b[0;32m---> 52\u001b[0;31m                 \u001b[0;32mreturn\u001b[0m \u001b[0mfunc\u001b[0m\u001b[0;34m(\u001b[0m\u001b[0;34m*\u001b[0m\u001b[0margs\u001b[0m\u001b[0;34m,\u001b[0m \u001b[0;34m**\u001b[0m\u001b[0mkwargs\u001b[0m\u001b[0;34m)\u001b[0m\u001b[0;34m\u001b[0m\u001b[0;34m\u001b[0m\u001b[0m\n\u001b[0m\u001b[1;32m     53\u001b[0m         \u001b[0;32melse\u001b[0m\u001b[0;34m:\u001b[0m\u001b[0;34m\u001b[0m\u001b[0;34m\u001b[0m\u001b[0m\n\u001b[1;32m     54\u001b[0m             \u001b[0;32mreturn\u001b[0m \u001b[0mfunc\u001b[0m\u001b[0;34m(\u001b[0m\u001b[0;34m*\u001b[0m\u001b[0margs\u001b[0m\u001b[0;34m,\u001b[0m \u001b[0;34m**\u001b[0m\u001b[0mkwargs\u001b[0m\u001b[0;34m)\u001b[0m\u001b[0;34m\u001b[0m\u001b[0;34m\u001b[0m\u001b[0m\n",
      "\u001b[0;32m~/opt/anaconda3/envs/dev/lib/python3.7/site-packages/pyfolio/tears.py\u001b[0m in \u001b[0;36mcreate_returns_tear_sheet\u001b[0;34m(returns, positions, transactions, live_start_date, cone_std, benchmark_rets, bootstrap, turnover_denom, header_rows, return_fig)\u001b[0m\n\u001b[1;32m    502\u001b[0m                              header_rows=header_rows)\n\u001b[1;32m    503\u001b[0m \u001b[0;34m\u001b[0m\u001b[0m\n\u001b[0;32m--> 504\u001b[0;31m     \u001b[0mplotting\u001b[0m\u001b[0;34m.\u001b[0m\u001b[0mshow_worst_drawdown_periods\u001b[0m\u001b[0;34m(\u001b[0m\u001b[0mreturns\u001b[0m\u001b[0;34m)\u001b[0m\u001b[0;34m\u001b[0m\u001b[0;34m\u001b[0m\u001b[0m\n\u001b[0m\u001b[1;32m    505\u001b[0m \u001b[0;34m\u001b[0m\u001b[0m\n\u001b[1;32m    506\u001b[0m     \u001b[0mvertical_sections\u001b[0m \u001b[0;34m=\u001b[0m \u001b[0;36m11\u001b[0m\u001b[0;34m\u001b[0m\u001b[0;34m\u001b[0m\u001b[0m\n",
      "\u001b[0;32m~/opt/anaconda3/envs/dev/lib/python3.7/site-packages/pyfolio/plotting.py\u001b[0m in \u001b[0;36mshow_worst_drawdown_periods\u001b[0;34m(returns, top)\u001b[0m\n\u001b[1;32m   1662\u001b[0m     \"\"\"\n\u001b[1;32m   1663\u001b[0m \u001b[0;34m\u001b[0m\u001b[0m\n\u001b[0;32m-> 1664\u001b[0;31m     \u001b[0mdrawdown_df\u001b[0m \u001b[0;34m=\u001b[0m \u001b[0mtimeseries\u001b[0m\u001b[0;34m.\u001b[0m\u001b[0mgen_drawdown_table\u001b[0m\u001b[0;34m(\u001b[0m\u001b[0mreturns\u001b[0m\u001b[0;34m,\u001b[0m \u001b[0mtop\u001b[0m\u001b[0;34m=\u001b[0m\u001b[0mtop\u001b[0m\u001b[0;34m)\u001b[0m\u001b[0;34m\u001b[0m\u001b[0;34m\u001b[0m\u001b[0m\n\u001b[0m\u001b[1;32m   1665\u001b[0m     utils.print_table(\n\u001b[1;32m   1666\u001b[0m         \u001b[0mdrawdown_df\u001b[0m\u001b[0;34m.\u001b[0m\u001b[0msort_values\u001b[0m\u001b[0;34m(\u001b[0m\u001b[0;34m'Net drawdown in %'\u001b[0m\u001b[0;34m,\u001b[0m \u001b[0mascending\u001b[0m\u001b[0;34m=\u001b[0m\u001b[0;32mFalse\u001b[0m\u001b[0;34m)\u001b[0m\u001b[0;34m,\u001b[0m\u001b[0;34m\u001b[0m\u001b[0;34m\u001b[0m\u001b[0m\n",
      "\u001b[0;32m~/opt/anaconda3/envs/dev/lib/python3.7/site-packages/pyfolio/timeseries.py\u001b[0m in \u001b[0;36mgen_drawdown_table\u001b[0;34m(returns, top)\u001b[0m\n\u001b[1;32m    989\u001b[0m \u001b[0;34m\u001b[0m\u001b[0m\n\u001b[1;32m    990\u001b[0m     \u001b[0mdf_cum\u001b[0m \u001b[0;34m=\u001b[0m \u001b[0mep\u001b[0m\u001b[0;34m.\u001b[0m\u001b[0mcum_returns\u001b[0m\u001b[0;34m(\u001b[0m\u001b[0mreturns\u001b[0m\u001b[0;34m,\u001b[0m \u001b[0;36m1.0\u001b[0m\u001b[0;34m)\u001b[0m\u001b[0;34m\u001b[0m\u001b[0;34m\u001b[0m\u001b[0m\n\u001b[0;32m--> 991\u001b[0;31m     \u001b[0mdrawdown_periods\u001b[0m \u001b[0;34m=\u001b[0m \u001b[0mget_top_drawdowns\u001b[0m\u001b[0;34m(\u001b[0m\u001b[0mreturns\u001b[0m\u001b[0;34m,\u001b[0m \u001b[0mtop\u001b[0m\u001b[0;34m=\u001b[0m\u001b[0mtop\u001b[0m\u001b[0;34m)\u001b[0m\u001b[0;34m\u001b[0m\u001b[0;34m\u001b[0m\u001b[0m\n\u001b[0m\u001b[1;32m    992\u001b[0m     df_drawdowns = pd.DataFrame(index=list(range(top)),\n\u001b[1;32m    993\u001b[0m                                 columns=['Net drawdown in %',\n",
      "\u001b[0;32m~/opt/anaconda3/envs/dev/lib/python3.7/site-packages/pyfolio/timeseries.py\u001b[0m in \u001b[0;36mget_top_drawdowns\u001b[0;34m(returns, top)\u001b[0m\n\u001b[1;32m    954\u001b[0m     \u001b[0mdrawdowns\u001b[0m \u001b[0;34m=\u001b[0m \u001b[0;34m[\u001b[0m\u001b[0;34m]\u001b[0m\u001b[0;34m\u001b[0m\u001b[0;34m\u001b[0m\u001b[0m\n\u001b[1;32m    955\u001b[0m     \u001b[0;32mfor\u001b[0m \u001b[0mt\u001b[0m \u001b[0;32min\u001b[0m \u001b[0mrange\u001b[0m\u001b[0;34m(\u001b[0m\u001b[0mtop\u001b[0m\u001b[0;34m)\u001b[0m\u001b[0;34m:\u001b[0m\u001b[0;34m\u001b[0m\u001b[0;34m\u001b[0m\u001b[0m\n\u001b[0;32m--> 956\u001b[0;31m         \u001b[0mpeak\u001b[0m\u001b[0;34m,\u001b[0m \u001b[0mvalley\u001b[0m\u001b[0;34m,\u001b[0m \u001b[0mrecovery\u001b[0m \u001b[0;34m=\u001b[0m \u001b[0mget_max_drawdown_underwater\u001b[0m\u001b[0;34m(\u001b[0m\u001b[0munderwater\u001b[0m\u001b[0;34m)\u001b[0m\u001b[0;34m\u001b[0m\u001b[0;34m\u001b[0m\u001b[0m\n\u001b[0m\u001b[1;32m    957\u001b[0m         \u001b[0;31m# Slice out draw-down period\u001b[0m\u001b[0;34m\u001b[0m\u001b[0;34m\u001b[0m\u001b[0;34m\u001b[0m\u001b[0m\n\u001b[1;32m    958\u001b[0m         \u001b[0;32mif\u001b[0m \u001b[0;32mnot\u001b[0m \u001b[0mpd\u001b[0m\u001b[0;34m.\u001b[0m\u001b[0misnull\u001b[0m\u001b[0;34m(\u001b[0m\u001b[0mrecovery\u001b[0m\u001b[0;34m)\u001b[0m\u001b[0;34m:\u001b[0m\u001b[0;34m\u001b[0m\u001b[0;34m\u001b[0m\u001b[0m\n",
      "\u001b[0;32m~/opt/anaconda3/envs/dev/lib/python3.7/site-packages/pyfolio/timeseries.py\u001b[0m in \u001b[0;36mget_max_drawdown_underwater\u001b[0;34m(underwater)\u001b[0m\n\u001b[1;32m    893\u001b[0m     \u001b[0mvalley\u001b[0m \u001b[0;34m=\u001b[0m \u001b[0mnp\u001b[0m\u001b[0;34m.\u001b[0m\u001b[0margmin\u001b[0m\u001b[0;34m(\u001b[0m\u001b[0munderwater\u001b[0m\u001b[0;34m)\u001b[0m  \u001b[0;31m# end of the period\u001b[0m\u001b[0;34m\u001b[0m\u001b[0;34m\u001b[0m\u001b[0m\n\u001b[1;32m    894\u001b[0m     \u001b[0;31m# Find first 0\u001b[0m\u001b[0;34m\u001b[0m\u001b[0;34m\u001b[0m\u001b[0;34m\u001b[0m\u001b[0m\n\u001b[0;32m--> 895\u001b[0;31m     \u001b[0mpeak\u001b[0m \u001b[0;34m=\u001b[0m \u001b[0munderwater\u001b[0m\u001b[0;34m[\u001b[0m\u001b[0;34m:\u001b[0m\u001b[0mvalley\u001b[0m\u001b[0;34m]\u001b[0m\u001b[0;34m[\u001b[0m\u001b[0munderwater\u001b[0m\u001b[0;34m[\u001b[0m\u001b[0;34m:\u001b[0m\u001b[0mvalley\u001b[0m\u001b[0;34m]\u001b[0m \u001b[0;34m==\u001b[0m \u001b[0;36m0\u001b[0m\u001b[0;34m]\u001b[0m\u001b[0;34m.\u001b[0m\u001b[0mindex\u001b[0m\u001b[0;34m[\u001b[0m\u001b[0;34m-\u001b[0m\u001b[0;36m1\u001b[0m\u001b[0;34m]\u001b[0m\u001b[0;34m\u001b[0m\u001b[0;34m\u001b[0m\u001b[0m\n\u001b[0m\u001b[1;32m    896\u001b[0m     \u001b[0;31m# Find last 0\u001b[0m\u001b[0;34m\u001b[0m\u001b[0;34m\u001b[0m\u001b[0;34m\u001b[0m\u001b[0m\n\u001b[1;32m    897\u001b[0m     \u001b[0;32mtry\u001b[0m\u001b[0;34m:\u001b[0m\u001b[0;34m\u001b[0m\u001b[0;34m\u001b[0m\u001b[0m\n",
      "\u001b[0;32m~/opt/anaconda3/envs/dev/lib/python3.7/site-packages/pandas/core/indexes/extension.py\u001b[0m in \u001b[0;36m__getitem__\u001b[0;34m(self, key)\u001b[0m\n\u001b[1;32m    277\u001b[0m \u001b[0;34m\u001b[0m\u001b[0m\n\u001b[1;32m    278\u001b[0m     \u001b[0;32mdef\u001b[0m \u001b[0m__getitem__\u001b[0m\u001b[0;34m(\u001b[0m\u001b[0mself\u001b[0m\u001b[0;34m,\u001b[0m \u001b[0mkey\u001b[0m\u001b[0;34m)\u001b[0m\u001b[0;34m:\u001b[0m\u001b[0;34m\u001b[0m\u001b[0;34m\u001b[0m\u001b[0m\n\u001b[0;32m--> 279\u001b[0;31m         \u001b[0mresult\u001b[0m \u001b[0;34m=\u001b[0m \u001b[0mself\u001b[0m\u001b[0;34m.\u001b[0m\u001b[0m_data\u001b[0m\u001b[0;34m[\u001b[0m\u001b[0mkey\u001b[0m\u001b[0;34m]\u001b[0m\u001b[0;34m\u001b[0m\u001b[0;34m\u001b[0m\u001b[0m\n\u001b[0m\u001b[1;32m    280\u001b[0m         \u001b[0;32mif\u001b[0m \u001b[0misinstance\u001b[0m\u001b[0;34m(\u001b[0m\u001b[0mresult\u001b[0m\u001b[0;34m,\u001b[0m \u001b[0mtype\u001b[0m\u001b[0;34m(\u001b[0m\u001b[0mself\u001b[0m\u001b[0;34m.\u001b[0m\u001b[0m_data\u001b[0m\u001b[0;34m)\u001b[0m\u001b[0;34m)\u001b[0m\u001b[0;34m:\u001b[0m\u001b[0;34m\u001b[0m\u001b[0;34m\u001b[0m\u001b[0m\n\u001b[1;32m    281\u001b[0m             \u001b[0;32mif\u001b[0m \u001b[0mresult\u001b[0m\u001b[0;34m.\u001b[0m\u001b[0mndim\u001b[0m \u001b[0;34m==\u001b[0m \u001b[0;36m1\u001b[0m\u001b[0;34m:\u001b[0m\u001b[0;34m\u001b[0m\u001b[0;34m\u001b[0m\u001b[0m\n",
      "\u001b[0;32m~/opt/anaconda3/envs/dev/lib/python3.7/site-packages/pandas/core/arrays/datetimelike.py\u001b[0m in \u001b[0;36m__getitem__\u001b[0;34m(self, key)\u001b[0m\n\u001b[1;32m    320\u001b[0m         \u001b[0monly\u001b[0m \u001b[0mhandle\u001b[0m \u001b[0mlist\u001b[0m\u001b[0;34m-\u001b[0m\u001b[0mlikes\u001b[0m\u001b[0;34m,\u001b[0m \u001b[0mslices\u001b[0m\u001b[0;34m,\u001b[0m \u001b[0;32mand\u001b[0m \u001b[0minteger\u001b[0m \u001b[0mscalars\u001b[0m\u001b[0;34m\u001b[0m\u001b[0;34m\u001b[0m\u001b[0m\n\u001b[1;32m    321\u001b[0m         \"\"\"\n\u001b[0;32m--> 322\u001b[0;31m         \u001b[0mresult\u001b[0m \u001b[0;34m=\u001b[0m \u001b[0msuper\u001b[0m\u001b[0;34m(\u001b[0m\u001b[0;34m)\u001b[0m\u001b[0;34m.\u001b[0m\u001b[0m__getitem__\u001b[0m\u001b[0;34m(\u001b[0m\u001b[0mkey\u001b[0m\u001b[0;34m)\u001b[0m\u001b[0;34m\u001b[0m\u001b[0;34m\u001b[0m\u001b[0m\n\u001b[0m\u001b[1;32m    323\u001b[0m         \u001b[0;32mif\u001b[0m \u001b[0mlib\u001b[0m\u001b[0;34m.\u001b[0m\u001b[0mis_scalar\u001b[0m\u001b[0;34m(\u001b[0m\u001b[0mresult\u001b[0m\u001b[0;34m)\u001b[0m\u001b[0;34m:\u001b[0m\u001b[0;34m\u001b[0m\u001b[0;34m\u001b[0m\u001b[0m\n\u001b[1;32m    324\u001b[0m             \u001b[0;32mreturn\u001b[0m \u001b[0mresult\u001b[0m\u001b[0;34m\u001b[0m\u001b[0;34m\u001b[0m\u001b[0m\n",
      "\u001b[0;32m~/opt/anaconda3/envs/dev/lib/python3.7/site-packages/pandas/core/arrays/_mixins.py\u001b[0m in \u001b[0;36m__getitem__\u001b[0;34m(self, key)\u001b[0m\n\u001b[1;32m    192\u001b[0m         \u001b[0;32mif\u001b[0m \u001b[0mlib\u001b[0m\u001b[0;34m.\u001b[0m\u001b[0mis_integer\u001b[0m\u001b[0;34m(\u001b[0m\u001b[0mkey\u001b[0m\u001b[0;34m)\u001b[0m\u001b[0;34m:\u001b[0m\u001b[0;34m\u001b[0m\u001b[0;34m\u001b[0m\u001b[0m\n\u001b[1;32m    193\u001b[0m             \u001b[0;31m# fast-path\u001b[0m\u001b[0;34m\u001b[0m\u001b[0;34m\u001b[0m\u001b[0;34m\u001b[0m\u001b[0m\n\u001b[0;32m--> 194\u001b[0;31m             \u001b[0mresult\u001b[0m \u001b[0;34m=\u001b[0m \u001b[0mself\u001b[0m\u001b[0;34m.\u001b[0m\u001b[0m_ndarray\u001b[0m\u001b[0;34m[\u001b[0m\u001b[0mkey\u001b[0m\u001b[0;34m]\u001b[0m\u001b[0;34m\u001b[0m\u001b[0;34m\u001b[0m\u001b[0m\n\u001b[0m\u001b[1;32m    195\u001b[0m             \u001b[0;32mif\u001b[0m \u001b[0mself\u001b[0m\u001b[0;34m.\u001b[0m\u001b[0mndim\u001b[0m \u001b[0;34m==\u001b[0m \u001b[0;36m1\u001b[0m\u001b[0;34m:\u001b[0m\u001b[0;34m\u001b[0m\u001b[0;34m\u001b[0m\u001b[0m\n\u001b[1;32m    196\u001b[0m                 \u001b[0;32mreturn\u001b[0m \u001b[0mself\u001b[0m\u001b[0;34m.\u001b[0m\u001b[0m_box_func\u001b[0m\u001b[0;34m(\u001b[0m\u001b[0mresult\u001b[0m\u001b[0;34m)\u001b[0m\u001b[0;34m\u001b[0m\u001b[0;34m\u001b[0m\u001b[0m\n",
      "\u001b[0;31mIndexError\u001b[0m: index -1 is out of bounds for axis 0 with size 0"
     ]
    }
   ],
   "source": [
    "result = pf.create_returns_tear_sheet(AMZN_daily_returns_df.reset_index(level = 1,drop = True).daily_returns,\n",
    "                                           return_fig=True)\n",
    "#result.savefig(\"amzn_prepan_tearsheet.png\", format = \"png\")"
   ]
  },
  {
   "cell_type": "code",
   "execution_count": null,
   "id": "83f06fe9-58d8-47eb-90c8-001d29f2d32e",
   "metadata": {},
   "outputs": [],
   "source": [
    "result = pf.create_returns_tear_sheet(RTH_daily_returns_df.reset_index(level = 1,drop = True).daily_returns,\n",
    "                                           return_fig=True)\n",
    "#result.savefig(\"RTH_prepan_tearsheet.png\", format = \"png\")"
   ]
  },
  {
   "cell_type": "code",
   "execution_count": null,
   "id": "453690b4-129f-4671-9dbd-730e93820e36",
   "metadata": {},
   "outputs": [],
   "source": [
    "result = pf.create_returns_tear_sheet(AMT_daily_returns_df.reset_index(level = 1,drop = True).daily_returns,\n",
    "                                           return_fig=True)\n",
    "#result.savefig(\"amt_prepan_tearsheet.png\", format = \"png\")"
   ]
  },
  {
   "cell_type": "code",
   "execution_count": null,
   "id": "8ea54b17-b95d-42bf-8f8b-e7ab4c20fa28",
   "metadata": {},
   "outputs": [],
   "source": [
    "result = pf.create_returns_tear_sheet(IYR_daily_returns_df.reset_index(level = 1,drop = True).daily_returns,\n",
    "                                           return_fig=True)\n",
    "#result.savefig(\"iyr_prepan_tearsheet.png\", format = \"png\")"
   ]
  },
  {
   "cell_type": "code",
   "execution_count": null,
   "id": "18163c61-a0a9-48e7-bf81-757a56f15ab3",
   "metadata": {},
   "outputs": [],
   "source": [
    "result = pf.create_returns_tear_sheet(XOM_daily_returns_df.reset_index(level = 1,drop = True).daily_returns,\n",
    "                                           return_fig=True)\n",
    "#result.savefig(\"xom_prepan_tearsheet.png\", format = \"png\")"
   ]
  },
  {
   "cell_type": "code",
   "execution_count": null,
   "id": "7b50dbb7-6a9d-45dc-8502-c75ab58e2237",
   "metadata": {},
   "outputs": [],
   "source": [
    "result = pf.create_returns_tear_sheet(XLE_daily_returns_df.reset_index(level = 1,drop = True).daily_returns,\n",
    "                                           return_fig=True)\n",
    "#result.savefig(\"xle_prepan_tearsheet.png\", format = \"png\")\n"
   ]
  },
  {
   "cell_type": "code",
   "execution_count": null,
   "id": "e9b38d9d-2ee8-4442-b2e0-b8359ccb4d6b",
   "metadata": {},
   "outputs": [],
   "source": [
    "result = pf.create_returns_tear_sheet(SPY_daily_returns_df.reset_index(level = 1,drop = True).daily_returns,\n",
    "                                           return_fig=True)\n",
    "#result.savefig(\"spy_prepan_tearsheet.png\", format = \"png\")"
   ]
  }
 ],
 "metadata": {
  "kernelspec": {
   "display_name": "dev",
   "language": "python",
   "name": "dev"
  },
  "language_info": {
   "codemirror_mode": {
    "name": "ipython",
    "version": 3
   },
   "file_extension": ".py",
   "mimetype": "text/x-python",
   "name": "python",
   "nbconvert_exporter": "python",
   "pygments_lexer": "ipython3",
   "version": "3.7.13"
  },
  "vscode": {
   "interpreter": {
    "hash": "3ad933181bd8a04b432d3370b9dc3b0662ad032c4dfaa4e4f1596c548f763858"
   }
  }
 },
 "nbformat": 4,
 "nbformat_minor": 5
}
