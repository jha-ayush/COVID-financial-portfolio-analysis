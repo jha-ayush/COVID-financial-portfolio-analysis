{
 "cells": [
  {
   "cell_type": "code",
   "execution_count": null,
   "id": "dc2bdf34-1282-4dcc-b63b-115ad31e3fb5",
   "metadata": {},
   "outputs": [],
   "source": [
    "pip install polygon-api-client"
   ]
  },
  {
   "cell_type": "code",
   "execution_count": null,
   "id": "3034660c-0e8c-4644-9082-84281dd05f05",
   "metadata": {},
   "outputs": [],
   "source": [
    "pip install fire"
   ]
  },
  {
   "cell_type": "code",
   "execution_count": null,
   "id": "edad5214-d34a-479c-b651-28b65cb9adc5",
   "metadata": {},
   "outputs": [],
   "source": [
    "pip install questionary"
   ]
  },
  {
   "cell_type": "code",
   "execution_count": null,
   "id": "9af6563f-db3b-419f-894f-2fc8144630c3",
   "metadata": {},
   "outputs": [],
   "source": [
    "pip install load_dotenv"
   ]
  },
  {
   "cell_type": "code",
   "execution_count": null,
   "id": "6ab4aec7-7311-43f8-8263-d3eecaefaccc",
   "metadata": {},
   "outputs": [],
   "source": [
    "#import the necessary modules\n",
    "import pandas as pd\n",
    "#questionary\n",
    "from pathlib import Path\n",
    "import fire\n",
    "import questionary\n",
    "#API\n",
    "import os\n",
    "import json\n",
    "import requests\n",
    "from dotenv import load_dotenv\n",
    "from MCForecastTools import MCSimulation\n",
    "%matplotlib inline\n",
    "from IPython.display import display_html \n"
   ]
  },
  {
   "cell_type": "code",
   "execution_count": null,
   "id": "1d14c3e5-b08c-483f-b2f8-40d976c07ca0",
   "metadata": {},
   "outputs": [],
   "source": [
    "POLYGON_API_KEY = 'JQfBpF3NpcYjuBdMiXeUr6q54XafY_pQ'"
   ]
  },
  {
   "cell_type": "code",
   "execution_count": null,
   "id": "d9bdf988-c402-4079-807e-fb51d636a158",
   "metadata": {},
   "outputs": [],
   "source": [
    "ticker_list = [\"AMZN\", \"RTH\", \"AMT\", \"IYR\", \"XOM\", \"XLE\", \"SPY\"]"
   ]
  },
  {
   "cell_type": "code",
   "execution_count": null,
   "id": "de404538-2933-4186-a904-213012aa6172",
   "metadata": {},
   "outputs": [],
   "source": [
    "import requests\n",
    "import datetime\n",
    "from time import sleep\n",
    "from tqdm import tqdm\n",
    "def get_prices(start_date,end_date,universe):\n",
    "    data = pd.DataFrame()\n",
    "    # end_at = datetime.datetime.now() \n",
    "    # begin_from = end_at + datetime.timedelta(days=-5000)\n",
    "    for t in tqdm(universe):\n",
    "        print(t)\n",
    "        print(len(data))\n",
    "        # for start in pd.date_range(start = begin_from, end = end_at,normalize=True,freq = '88D'):\n",
    "        #     end = start + datetime.timedelta(days = 88)\n",
    "        #     end = str(int((end - datetime.datetime(1970,1,1)).total_seconds()))\n",
    "        #     start = str(int((start - datetime.datetime(1970,1,1)).total_seconds()))\n",
    "        try:\n",
    "            r = requests.get(f'https://api.polygon.io/v2/aggs/ticker/{t}/range/1/day/{start_date}/{end_date}?apiKey={POLYGON_API_KEY}')\n",
    "        except json.JSONDecodeError:\n",
    "            pass\n",
    "        try:\n",
    "            # print(r.json())\n",
    "            temp_data = pd.DataFrame(r.json()['results'])\n",
    "            temp_data['ticker'] = t\n",
    "            data = data.append(temp_data, ignore_index=True)\n",
    "            print(t+':'+str(pd.to_datetime(start_date, unit='s'))+':'+str(pd.to_datetime(end_date, unit='s')))\n",
    "        except KeyError:\n",
    "            print(f'{t} was not found')\n",
    "            pass\n",
    "        except ValueError:\n",
    "            pass\n",
    "        except ConnectionError as error:\n",
    "            print(error)\n",
    "            sleep(200)\n",
    "            continue\n",
    "        except TimeoutError as error:\n",
    "            print(error)\n",
    "            sleep(200)\n",
    "            continue\n",
    "        sleep(0.25)\n",
    "#     data.to_csv(file_name,index = False)\n",
    "    data.t = pd.to_datetime(data.t, unit = 'ms')\n",
    "    columns_name = {'t': 'time', 'o': 'Open', 'c': 'Close', 'h': 'High', 'l': 'Low', 'v': 'Volume'} \n",
    "    data= data.rename(columns = columns_name)\n",
    "    data = data[['time','ticker','Open', 'Close','High', 'Low', 'Volume']]\n",
    "    data = data.set_index(['time', 'ticker'])\n",
    "    data[\"daily_returns\"] = data['Close'].groupby('ticker').pct_change()\n",
    "    data = data.dropna()\n",
    "    #data.to_csv(file_name, index = False)\n",
    "    return data"
   ]
  },
  {
   "cell_type": "code",
   "execution_count": null,
   "id": "1f2bd356-0979-4749-9132-cbe2875fd3b1",
   "metadata": {
    "tags": []
   },
   "outputs": [],
   "source": [
    "start_date = \"2021-03-01\"\n",
    "end_date = \"2022-10-01\"\n",
    "all_data = get_prices(start_date=start_date, end_date=end_date, universe=ticker_list)\n"
   ]
  },
  {
   "cell_type": "code",
   "execution_count": null,
   "id": "641aef46-46d7-40a3-963f-fe389d86a9aa",
   "metadata": {
    "tags": []
   },
   "outputs": [],
   "source": [
    "all_data.index"
   ]
  },
  {
   "cell_type": "code",
   "execution_count": null,
   "id": "4278395e-0e88-44a6-ad3f-9880f5f27085",
   "metadata": {},
   "outputs": [],
   "source": [
    "idx = pd.IndexSlice"
   ]
  },
  {
   "cell_type": "code",
   "execution_count": null,
   "id": "39d2d649-3903-45ec-93cc-efb94c9590bb",
   "metadata": {
    "tags": []
   },
   "outputs": [],
   "source": [
    "AMZN_daily_returns_df = all_data.loc[idx[:,'AMZN'],['daily_returns']]\n",
    "AMZN_daily_returns_df\n",
    "\n"
   ]
  },
  {
   "cell_type": "code",
   "execution_count": null,
   "id": "b72f1692-0bb2-4528-9431-dfa0dc80a484",
   "metadata": {
    "tags": []
   },
   "outputs": [],
   "source": [
    "RTH_daily_returns_df = all_data.loc[idx[:,'RTH'],['daily_returns']]\n",
    "RTH_daily_returns_df"
   ]
  },
  {
   "cell_type": "code",
   "execution_count": null,
   "id": "d8edc4c5-2f58-4209-a564-9d75a547e067",
   "metadata": {
    "tags": []
   },
   "outputs": [],
   "source": [
    "AMT_daily_returns_df = all_data.loc[idx[:,'AMT'],['daily_returns']]\n",
    "AMT_daily_returns_df"
   ]
  },
  {
   "cell_type": "code",
   "execution_count": null,
   "id": "aac22f12-0d9d-4ff3-b860-35bdafb67148",
   "metadata": {
    "tags": []
   },
   "outputs": [],
   "source": [
    "IYR_daily_returns_df = all_data.loc[idx[:,'IYR'],['daily_returns']]\n",
    "IYR_daily_returns_df"
   ]
  },
  {
   "cell_type": "code",
   "execution_count": null,
   "id": "0e7689ec-9f56-442c-b434-62affee7d563",
   "metadata": {
    "tags": []
   },
   "outputs": [],
   "source": [
    "XOM_daily_returns_df = all_data.loc[idx[:,'XOM'],['daily_returns']]\n",
    "XOM_daily_returns_df"
   ]
  },
  {
   "cell_type": "code",
   "execution_count": null,
   "id": "3f0be4f8-20b8-401b-ad7d-10f0af8744af",
   "metadata": {
    "tags": []
   },
   "outputs": [],
   "source": [
    "XLE_daily_returns_df = all_data.loc[idx[:,'XLE'],['daily_returns']]\n",
    "XLE_daily_returns_df"
   ]
  },
  {
   "cell_type": "code",
   "execution_count": null,
   "id": "39db1d1a-1855-48fe-97db-59f06ac13c4b",
   "metadata": {},
   "outputs": [],
   "source": [
    "SPY_daily_returns_df = all_data.loc[idx[:,'SPY'],['daily_returns']]\n",
    "SPY_daily_returns_df"
   ]
  },
  {
   "cell_type": "code",
   "execution_count": null,
   "id": "165a9437-f054-4d9b-bebd-53bb26ca50b9",
   "metadata": {
    "tags": []
   },
   "outputs": [],
   "source": [
    "tech_daily_returns = pd.concat([AMZN_daily_returns_df, RTH_daily_returns_df], keys=[\"AMZN\",\"RTH\"])\n",
    "tech_daily_returns"
   ]
  },
  {
   "cell_type": "code",
   "execution_count": null,
   "id": "e42db0fd-417b-49fc-b6bc-887ad00ef50d",
   "metadata": {
    "tags": []
   },
   "outputs": [],
   "source": [
    "RE_daily_returns = pd.concat([AMT_daily_returns_df, IYR_daily_returns_df], keys=[\"AMT\",\"IYR\"])\n",
    "RE_daily_returns"
   ]
  },
  {
   "cell_type": "code",
   "execution_count": null,
   "id": "368e7085-39e9-45f5-917c-b1f1fcab7f6b",
   "metadata": {
    "tags": []
   },
   "outputs": [],
   "source": [
    "energy_daily_returns = pd.concat([XOM_daily_returns_df, XLE_daily_returns_df], keys=[\"XOM\",\"XLE\"])\n",
    "energy_daily_returns"
   ]
  },
  {
   "cell_type": "code",
   "execution_count": null,
   "id": "f5f46920-0fe8-47fc-9d9e-af4ddde59543",
   "metadata": {
    "tags": []
   },
   "outputs": [],
   "source": [
    "#Display all sectors of the stock/ETF dataframes\n",
    "dfT_style = tech_daily_returns.style.set_table_attributes(\"style='display:inline; margin-right:20px;'\").set_caption(\"Tech\")\n",
    "dfR_style = RE_daily_returns.style.set_table_attributes(\"style='display:inline'\").set_caption(\"Real Estate\")\n",
    "dfE_style = energy_daily_returns.style.set_table_attributes(\"style='display:inline'\").set_caption(\"Energy\")\n",
    "\n",
    "\n",
    "display_html(dfT_style._repr_html_() + dfR_style._repr_html_() + dfE_style._repr_html_(), raw=True)"
   ]
  },
  {
   "cell_type": "markdown",
   "id": "b2b08565-76b5-4019-a43f-2176827661e2",
   "metadata": {},
   "source": [
    "### Analyzing Each Stock and ETF Individually"
   ]
  },
  {
   "cell_type": "code",
   "execution_count": null,
   "id": "6282508f-e00a-487e-98b9-9515c2592497",
   "metadata": {},
   "outputs": [],
   "source": [
    "#Questionary SQL\n",
    "#How much weight do you want in each stock?\n",
    "\n"
   ]
  },
  {
   "cell_type": "code",
   "execution_count": null,
   "id": "f8f6ae47-8d29-46eb-9972-f4c333426c0e",
   "metadata": {},
   "outputs": [],
   "source": [
    "import warnings\n",
    "warnings.filterwarnings(\"ignore\")"
   ]
  },
  {
   "cell_type": "code",
   "execution_count": null,
   "id": "1776ea41-f678-431c-9a24-389284d016de",
   "metadata": {},
   "outputs": [],
   "source": [
    "from pytz import timezone\n",
    "from IPython.display import clear_output\n",
    "from time import sleep\n",
    "import numpy as np\n",
    "import pyfolio as pf"
   ]
  },
  {
   "cell_type": "code",
   "execution_count": null,
   "id": "354b032b-6324-451f-9fbe-e80ea125bde3",
   "metadata": {},
   "outputs": [],
   "source": [
    "Pandemic_prices_df = pd.concat([AMZN_daily_returns_df, RTH_daily_returns_df, AMT_daily_returns_df, IYR_daily_returns_df, XOM_daily_returns_df, XLE_daily_returns_df, SPY_daily_returns_df],axis=1, keys=[\"AMZN\",\"RTH\",\"AMT\",\"IYR\",\"XOM\",\"XLE\",\"SPY\"])\n",
    "display(Pandemic_prices_df.std())\n",
    "display(Pandemic_prices_df.mean())"
   ]
  },
  {
   "cell_type": "code",
   "execution_count": null,
   "id": "97cca4de-368d-4ae7-a13a-d302d35165e5",
   "metadata": {},
   "outputs": [],
   "source": [
    "#Summary statistics for AMZN stock using .std() and .mean()\n",
    "display(AMZN_daily_returns_df.std())\n",
    "display(AMZN_daily_returns_df.mean())\n",
    "\n"
   ]
  },
  {
   "cell_type": "code",
   "execution_count": null,
   "id": "2067623f-d3ab-46fc-9912-8151e073c9ad",
   "metadata": {},
   "outputs": [],
   "source": [
    "#Summary statistics for RTH stock using .std() and .mean()\n",
    "display(RTH_daily_returns_df.std())\n",
    "display(RTH_daily_returns_df.mean())"
   ]
  },
  {
   "cell_type": "code",
   "execution_count": null,
   "id": "3ba377b1-1524-4a7f-b801-821f611dca80",
   "metadata": {},
   "outputs": [],
   "source": [
    "#Summary statistics for AMT stock using .std() and .mean()\n",
    "display(AMT_daily_returns_df.std())\n",
    "display(AMT_daily_returns_df.mean())\n"
   ]
  },
  {
   "cell_type": "code",
   "execution_count": null,
   "id": "6c21c874-2d3e-40cc-81dd-99905f436e4a",
   "metadata": {},
   "outputs": [],
   "source": [
    "#Summary statistics for IYR stock using .std() and .mean()\n",
    "display(IYR_daily_returns_df.std())\n",
    "display(IYR_daily_returns_df.mean())\n"
   ]
  },
  {
   "cell_type": "code",
   "execution_count": null,
   "id": "affc9786-e594-421d-8661-a149cc0ab12f",
   "metadata": {},
   "outputs": [],
   "source": [
    "#Summary statistics for XOM stock using .std() and .mean()\n",
    "display(XOM_daily_returns_df.std())\n",
    "display(XOM_daily_returns_df.mean())\n"
   ]
  },
  {
   "cell_type": "code",
   "execution_count": null,
   "id": "d9db16fc-5dd3-45de-8d11-9ad986c6bee9",
   "metadata": {},
   "outputs": [],
   "source": [
    "#Summary statistics for XLE stock using .std() and .mean()\n",
    "display(XLE_daily_returns_df.std())\n",
    "display(XLE_daily_returns_df.mean())"
   ]
  },
  {
   "cell_type": "code",
   "execution_count": null,
   "id": "45c6524d-0001-4826-85b4-f51517c63f94",
   "metadata": {},
   "outputs": [],
   "source": [
    "display(SPY_daily_returns_df.std())\n",
    "display(SPY_daily_returns_df.mean())"
   ]
  },
  {
   "cell_type": "code",
   "execution_count": null,
   "id": "03ac61bf-de7a-486e-a760-6d85b06566ff",
   "metadata": {},
   "outputs": [],
   "source": [
    "#Summary statistics for AMZN using .describe()\n",
    "AMZN_daily_returns_df.describe()"
   ]
  },
  {
   "cell_type": "code",
   "execution_count": null,
   "id": "2a46c892-9da9-4b73-b1c2-dc21209475b6",
   "metadata": {},
   "outputs": [],
   "source": [
    "RTH_daily_returns_df.describe()"
   ]
  },
  {
   "cell_type": "code",
   "execution_count": null,
   "id": "974797bf-7185-4ca7-9af8-7b760975331a",
   "metadata": {},
   "outputs": [],
   "source": [
    "#Summary statistics for AMT using .describe()\n",
    "AMT_daily_returns_df.describe()"
   ]
  },
  {
   "cell_type": "code",
   "execution_count": null,
   "id": "68964e24-76a7-4eea-9d83-ca0bbc7e7e98",
   "metadata": {},
   "outputs": [],
   "source": [
    "#Summary statistics for IYR using .describe()\n",
    "IYR_daily_returns_df.describe()"
   ]
  },
  {
   "cell_type": "code",
   "execution_count": null,
   "id": "4ce11436-517f-417c-9dd4-367e8167154d",
   "metadata": {},
   "outputs": [],
   "source": [
    "#Summary statistics for XOM using .describe()\n",
    "XOM_daily_returns_df.describe()"
   ]
  },
  {
   "cell_type": "code",
   "execution_count": null,
   "id": "6d9d2e65-214e-46d9-8243-81afd7ff40ad",
   "metadata": {},
   "outputs": [],
   "source": [
    "#Summary statistics for XLE using .describe()\n",
    "XLE_daily_returns_df.describe()"
   ]
  },
  {
   "cell_type": "code",
   "execution_count": null,
   "id": "ea904f95-9384-4879-b837-f4b06f278ca3",
   "metadata": {},
   "outputs": [],
   "source": [
    "SPY_daily_returns_df.describe()"
   ]
  },
  {
   "cell_type": "code",
   "execution_count": null,
   "id": "9e7fe0a7-8f39-4927-a4c0-eabdb0211300",
   "metadata": {},
   "outputs": [],
   "source": [
    "# Variance For Each Stock and ETF\n",
    "Pandemic_prices_df.var()"
   ]
  },
  {
   "cell_type": "code",
   "execution_count": null,
   "id": "878bd558-4df5-475e-aa82-4d959be62568",
   "metadata": {},
   "outputs": [],
   "source": [
    "# Variance Of Amzn\n",
    "AMZN_var=AMZN_daily_returns_df.var()\n",
    "AMZN_var"
   ]
  },
  {
   "cell_type": "code",
   "execution_count": null,
   "id": "ff648092-6e87-47bc-95d6-803c98cf0714",
   "metadata": {},
   "outputs": [],
   "source": [
    "# Variance For RTH\n",
    "RTH_var=RTH_daily_returns_df.var()\n",
    "RTH_var"
   ]
  },
  {
   "cell_type": "code",
   "execution_count": null,
   "id": "f5e46746-412f-490a-b072-39bf9a738556",
   "metadata": {},
   "outputs": [],
   "source": [
    "# Variance Of IYR\n",
    "IYR_var=IYR_daily_returns_df.var()\n",
    "IYR_var"
   ]
  },
  {
   "cell_type": "code",
   "execution_count": null,
   "id": "31203f3b-a2ef-4915-8b79-4f54dc361b16",
   "metadata": {},
   "outputs": [],
   "source": [
    "# Variance Of AMT\n",
    "AMT_var=AMT_daily_returns_df.var()\n",
    "AMT_var"
   ]
  },
  {
   "cell_type": "code",
   "execution_count": null,
   "id": "4159724e-cad7-4abd-acfe-2a36d57e2c0e",
   "metadata": {},
   "outputs": [],
   "source": [
    "# Variance Of XOM\n",
    "XOM_var=XOM_daily_returns_df.var()\n",
    "XOM_var"
   ]
  },
  {
   "cell_type": "code",
   "execution_count": null,
   "id": "f9004fa8-b038-45c6-94ba-b47a7e669f7f",
   "metadata": {},
   "outputs": [],
   "source": [
    "# Variance Of XLE\n",
    "XLE_var=XLE_daily_returns_df.var()\n",
    "XLE_var"
   ]
  },
  {
   "cell_type": "code",
   "execution_count": null,
   "id": "f0ac228c-0718-4bc8-a49d-32a6cf8fc540",
   "metadata": {},
   "outputs": [],
   "source": [
    "SPY_var = SPY_daily_returns_df.var()\n",
    "SPY_var"
   ]
  },
  {
   "cell_type": "code",
   "execution_count": null,
   "id": "9e85726f-681f-4c87-ab9a-3612d3cf2b84",
   "metadata": {},
   "outputs": [],
   "source": [
    "# Covariance for Each Stock and ETF\n",
    "Pandemic_prices_df.cov()"
   ]
  },
  {
   "cell_type": "code",
   "execution_count": null,
   "id": "222e67ab-71f4-47db-aec3-7f28ba3eb5e5",
   "metadata": {},
   "outputs": [],
   "source": [
    "# Annualized returns of AMZN\n",
    "AMZN_Annual_Ret = AMZN_daily_returns_df.mean()*252\n",
    "AMZN_Annual_Ret"
   ]
  },
  {
   "cell_type": "code",
   "execution_count": null,
   "id": "1bb926d2-8c3a-46ab-89a4-da73250a0dd7",
   "metadata": {},
   "outputs": [],
   "source": [
    "# Annualized returns of RTH\n",
    "RTH_Annual_Ret = RTH_daily_returns_df.mean()*252\n",
    "RTH_Annual_Ret"
   ]
  },
  {
   "cell_type": "code",
   "execution_count": null,
   "id": "39532dbe-a673-4453-b3c8-3426737d9217",
   "metadata": {},
   "outputs": [],
   "source": [
    "# Annualized returns of AMT\n",
    "AMT_Annual_Ret = AMT_daily_returns_df.mean()*252\n",
    "AMT_Annual_Ret"
   ]
  },
  {
   "cell_type": "code",
   "execution_count": null,
   "id": "6442ef6e-8c54-4919-8d51-0d5dffc10ada",
   "metadata": {},
   "outputs": [],
   "source": [
    "# Annualized returns of IYR\n",
    "IYR_Annual_Ret = IYR_daily_returns_df.mean()*252\n",
    "IYR_Annual_Ret"
   ]
  },
  {
   "cell_type": "code",
   "execution_count": null,
   "id": "098c6d6a-f256-4ed7-84fc-8fb56c1e9a0f",
   "metadata": {},
   "outputs": [],
   "source": [
    "# Annualized returns of XLE\n",
    "XLE_Annual_Ret = XLE_daily_returns_df.mean()*252\n",
    "XLE_Annual_Ret"
   ]
  },
  {
   "cell_type": "code",
   "execution_count": null,
   "id": "8ee229d8-ff17-4906-844c-04960d337ef7",
   "metadata": {},
   "outputs": [],
   "source": [
    "# Annualized returns of XOM\n",
    "XOM_Annual_Ret = XOM_daily_returns_df.mean()*252\n",
    "XOM_Annual_Ret"
   ]
  },
  {
   "cell_type": "code",
   "execution_count": null,
   "id": "00aabdf5-1e91-4e83-8f4a-4763eecab775",
   "metadata": {},
   "outputs": [],
   "source": [
    "SPY_Annual_Ret = SPY_daily_returns_df.mean()*252\n",
    "SPY_Annual_Ret"
   ]
  },
  {
   "cell_type": "code",
   "execution_count": null,
   "id": "1ff3e1a3-56c9-4844-aa7f-d74e1205a5ba",
   "metadata": {},
   "outputs": [],
   "source": [
    "year_trading_days = 252"
   ]
  },
  {
   "cell_type": "code",
   "execution_count": null,
   "id": "7ef0700c-f44b-4b1a-a029-3da2ef6e4f85",
   "metadata": {},
   "outputs": [],
   "source": [
    "# Annualized std dev of AMZN\n",
    "annual_std_dev_AMZN = AMZN_daily_returns_df.std() * np.sqrt(year_trading_days)\n",
    "annual_std_dev_AMZN"
   ]
  },
  {
   "cell_type": "code",
   "execution_count": null,
   "id": "49118aae-257e-421a-a64c-8afd32c8acb4",
   "metadata": {},
   "outputs": [],
   "source": [
    "# Annualized std dev of RTH\n",
    "annual_std_dev_RTH = RTH_daily_returns_df.std() * np.sqrt(year_trading_days)\n",
    "annual_std_dev_RTH"
   ]
  },
  {
   "cell_type": "code",
   "execution_count": null,
   "id": "1dfa1cd0-c70a-440c-952c-4179280c3323",
   "metadata": {},
   "outputs": [],
   "source": [
    "# Annualized std dev of AMT\n",
    "annual_std_dev_AMT = AMT_daily_returns_df.std() * np.sqrt(year_trading_days)\n",
    "annual_std_dev_AMT"
   ]
  },
  {
   "cell_type": "code",
   "execution_count": null,
   "id": "fd97eac8-3cbb-4a2a-96ba-898271aed865",
   "metadata": {},
   "outputs": [],
   "source": [
    "# Annualized std dev of IYR\n",
    "annual_std_dev_IYR = IYR_daily_returns_df.std() * np.sqrt(year_trading_days)\n",
    "annual_std_dev_IYR"
   ]
  },
  {
   "cell_type": "code",
   "execution_count": null,
   "id": "fc2a4990-5446-4138-a3da-908337893329",
   "metadata": {},
   "outputs": [],
   "source": [
    "# Annualized std dev of XLE\n",
    "annual_std_dev_XLE = XLE_daily_returns_df.std() * np.sqrt(year_trading_days)\n",
    "annual_std_dev_XLE"
   ]
  },
  {
   "cell_type": "code",
   "execution_count": null,
   "id": "177d800f-c004-4c19-b721-3251557459c2",
   "metadata": {},
   "outputs": [],
   "source": [
    "# Annualized std dev of XOM\n",
    "annual_std_dev_XOM= XOM_daily_returns_df.std() * np.sqrt(year_trading_days)\n",
    "annual_std_dev_XOM"
   ]
  },
  {
   "cell_type": "code",
   "execution_count": null,
   "id": "210e2975-f407-4ade-82f9-b9088e3ba465",
   "metadata": {},
   "outputs": [],
   "source": [
    "# Annualized std dev of SPY\n",
    "annual_std_dev_SPY = SPY_daily_returns_df.std() * np.sqrt(year_trading_days)\n",
    "annual_std_dev_SPY"
   ]
  },
  {
   "cell_type": "code",
   "execution_count": null,
   "id": "6e5a89d7-8146-4ae7-b9dc-c3ee7286ecc9",
   "metadata": {},
   "outputs": [],
   "source": [
    "#Sharpe ratio for each stock and ETF \n",
    "Sharpe_AMZN = AMZN_Annual_Ret/annual_std_dev_AMZN\n",
    "Sharpe_AMZN"
   ]
  },
  {
   "cell_type": "code",
   "execution_count": null,
   "id": "3ef56c90-0285-40f6-add9-ceb431b7453b",
   "metadata": {},
   "outputs": [],
   "source": [
    "#Sharpe ratio for each stock and ETF \n",
    "Sharpe_RTH = RTH_Annual_Ret/annual_std_dev_RTH\n",
    "Sharpe_RTH"
   ]
  },
  {
   "cell_type": "code",
   "execution_count": null,
   "id": "96568213-727f-4d82-9d9b-bb6f290498b2",
   "metadata": {},
   "outputs": [],
   "source": [
    "#Sharpe ratio for each stock and ETF \n",
    "Sharpe_IYR = IYR_Annual_Ret/annual_std_dev_IYR\n",
    "Sharpe_IYR"
   ]
  },
  {
   "cell_type": "code",
   "execution_count": null,
   "id": "245b6bd2-f817-48c9-9f41-3d489fc6a94b",
   "metadata": {},
   "outputs": [],
   "source": [
    "#Sharpe ratio for each stock and ETF \n",
    "Sharpe_XLE = XLE_Annual_Ret/annual_std_dev_XLE\n",
    "Sharpe_XLE"
   ]
  },
  {
   "cell_type": "code",
   "execution_count": null,
   "id": "ba670f2a-20e8-49d6-8bbb-9baad7c5431f",
   "metadata": {},
   "outputs": [],
   "source": [
    "#Sharpe ratio for each stock and ETF \n",
    "Sharpe_XOM = XOM_Annual_Ret/annual_std_dev_XOM\n",
    "Sharpe_XOM"
   ]
  },
  {
   "cell_type": "code",
   "execution_count": null,
   "id": "1b868b8d-9f1f-4715-a4d7-0ce5c55fb50f",
   "metadata": {},
   "outputs": [],
   "source": [
    "#Sharpe ratio for each stock and ETF \n",
    "Sharpe_SPY = SPY_Annual_Ret/annual_std_dev_SPY\n",
    "Sharpe_SPY"
   ]
  },
  {
   "cell_type": "code",
   "execution_count": null,
   "id": "825d8eb1-999d-49d6-a2d7-707b202bcac1",
   "metadata": {},
   "outputs": [],
   "source": []
  },
  {
   "cell_type": "code",
   "execution_count": null,
   "id": "61583093-b3a3-4f71-810f-b836fb22acc6",
   "metadata": {
    "tags": []
   },
   "outputs": [],
   "source": [
    "result = pf.create_returns_tear_sheet(AMZN_daily_returns_df.reset_index(level = 1,drop = True).daily_returns,\n",
    "                                           return_fig=True)\n",
    "result.savefig(\"amzn_postpan_tearsheet.png\", format = \"png\")"
   ]
  },
  {
   "cell_type": "code",
   "execution_count": null,
   "id": "4fee4c52-3fb9-4b96-98fd-06f56367cb82",
   "metadata": {
    "tags": []
   },
   "outputs": [],
   "source": [
    "result = pf.create_returns_tear_sheet(RTH_daily_returns_df.reset_index(level = 1,drop = True).daily_returns,\n",
    "                                           return_fig=True)\n",
    "result.savefig(\"RTH_postpan_tearsheet.png\", format = \"png\")"
   ]
  },
  {
   "cell_type": "code",
   "execution_count": null,
   "id": "b1434b2b-dae6-4d0c-b32b-192c6c700707",
   "metadata": {
    "tags": []
   },
   "outputs": [],
   "source": [
    "result = pf.create_returns_tear_sheet(AMT_daily_returns_df.reset_index(level = 1,drop = True).daily_returns,\n",
    "                                           return_fig=True)\n",
    "result.savefig(\"amt_postpan_tearsheet.png\", format = \"png\")\n"
   ]
  },
  {
   "cell_type": "code",
   "execution_count": null,
   "id": "30fbef0b-4f05-4972-9bef-812e5fd12e04",
   "metadata": {
    "tags": []
   },
   "outputs": [],
   "source": [
    "result = pf.create_returns_tear_sheet(IYR_daily_returns_df.reset_index(level = 1,drop = True).daily_returns,\n",
    "                                           return_fig=True)\n",
    "result.savefig(\"iyr_postpan_tearsheet.png\", format = \"png\")"
   ]
  },
  {
   "cell_type": "code",
   "execution_count": null,
   "id": "cda720dd-4c6c-4cc1-9e27-6acbf9397a51",
   "metadata": {
    "tags": []
   },
   "outputs": [],
   "source": [
    "result = pf.create_returns_tear_sheet(XOM_daily_returns_df.reset_index(level = 1,drop = True).daily_returns,\n",
    "                                           return_fig=True)\n",
    "result.savefig(\"xom_postpan_tearsheet.png\", format = \"png\")\n"
   ]
  },
  {
   "cell_type": "code",
   "execution_count": null,
   "id": "a497d66c-3753-4d74-b4f4-970d3efbbd24",
   "metadata": {
    "tags": []
   },
   "outputs": [],
   "source": [
    "result = pf.create_returns_tear_sheet(XLE_daily_returns_df.reset_index(level = 1,drop = True).daily_returns,\n",
    "                                           return_fig=True)\n",
    "result.savefig(\"xle_postpan_tearsheet.png\", format = \"png\")\n"
   ]
  },
  {
   "cell_type": "code",
   "execution_count": null,
   "id": "137eda2b-5ae6-4422-9c6c-e134c3aeab2e",
   "metadata": {
    "tags": []
   },
   "outputs": [],
   "source": [
    "result = pf.create_returns_tear_sheet(SPY_daily_returns_df.reset_index(level = 1,drop = True).daily_returns,\n",
    "                                           return_fig=True)\n",
    "result.savefig(\"spy_postpan_tearsheet.png\", format = \"png\")\n"
   ]
  },
  {
   "cell_type": "code",
   "execution_count": null,
   "id": "942b28ab-e98e-4b2d-b526-ae5cb100372f",
   "metadata": {},
   "outputs": [],
   "source": [
    "# Calculate betas of AMZN, RTH, AMT, IYR, XOM, XLE \n",
    "\n"
   ]
  },
  {
   "cell_type": "code",
   "execution_count": null,
   "id": "17a40ea3-3cbe-41e8-b1c3-56ce4975890e",
   "metadata": {},
   "outputs": [],
   "source": [
    "# Calculate alphas of AMZN, RTH, AMT, IYR, XOM, XLE \n",
    "\n",
    "# Display the alphas of all stocks and ETFS\n"
   ]
  },
  {
   "cell_type": "markdown",
   "id": "e148213f-9d5e-4568-a68a-2a97d14e3708",
   "metadata": {},
   "source": [
    "### Analyzing What Would Happen To A Portfolio in Each Sector For the Period Before the Pandemic"
   ]
  },
  {
   "cell_type": "code",
   "execution_count": null,
   "id": "b51b8c29-9209-48c5-a2d3-9723d005c07e",
   "metadata": {},
   "outputs": [],
   "source": [
    "#Questionary SQL\n",
    "#How much weight do you want in each stock?\n",
    "\n",
    "\n"
   ]
  },
  {
   "cell_type": "code",
   "execution_count": null,
   "id": "94851774-e3d2-49dc-bc89-0e63b7171188",
   "metadata": {},
   "outputs": [],
   "source": [
    "#Portfolio Returns for Tech: use (portfolio_return = weightAMZN * meanAMZN + weightRTH * meanRTH)\n",
    "\n"
   ]
  },
  {
   "cell_type": "code",
   "execution_count": null,
   "id": "bdc78003-1e59-4167-8752-eba0b1664c2f",
   "metadata": {},
   "outputs": [],
   "source": [
    "#Portfolio Returns for Real Estate: use (portfolio_return = weightAMT * meanAMT + weightIYR * meanIYR)\n",
    "\n"
   ]
  },
  {
   "cell_type": "code",
   "execution_count": null,
   "id": "7ec7f675-2009-4112-8e73-fb91ba27a01b",
   "metadata": {},
   "outputs": [],
   "source": [
    "#Portfolio Returns for Energy: use (portfolio_return = weightXOM * meanXOM + weightXLE * meanXLE)\n",
    "\n"
   ]
  },
  {
   "cell_type": "code",
   "execution_count": null,
   "id": "40bf0488-80e1-4a6f-8f50-b7d207cc33de",
   "metadata": {},
   "outputs": [],
   "source": [
    "# Using the Pandas var function, calculate the covariance of the S&P 500 using tech portfolio returns information\n",
    "# The ETF SPY will represent the market\n",
    "\n"
   ]
  },
  {
   "cell_type": "code",
   "execution_count": null,
   "id": "56ace0d7-871c-41ab-a6d3-19f3625bf5ac",
   "metadata": {},
   "outputs": [],
   "source": [
    "# Using the Pandas var function, calculate the covariance of the S&P 500 using tech portfolio returns information\n",
    "# The ETF SPY will represent the market"
   ]
  },
  {
   "cell_type": "code",
   "execution_count": null,
   "id": "f07c4332-f206-408e-9e43-52399b9e3c16",
   "metadata": {},
   "outputs": [],
   "source": [
    "# Using the Pandas var function, calculate the covariance of the S&P 500 using Energy portfolio returns information\n",
    "# The ETF SPY will represent the market"
   ]
  },
  {
   "cell_type": "code",
   "execution_count": null,
   "id": "00086579-a7b3-4e66-9e43-2b7be6a51af6",
   "metadata": {},
   "outputs": [],
   "source": [
    "# Using the Pandas rolling function in conjunction with the var function, \n",
    "# calculate the 30-day rolling variance for the S&P 500 using tech daily returns information\n",
    "\n",
    "# Visualize the 30-day rolling variance of the S&P 500\n",
    "# Be sure to adjust the figure size and add a title"
   ]
  },
  {
   "cell_type": "code",
   "execution_count": null,
   "id": "e122c6b5-cc25-48b0-a5a1-fca25742e57c",
   "metadata": {},
   "outputs": [],
   "source": [
    "#Monte Carlo Simulation\n"
   ]
  },
  {
   "cell_type": "code",
   "execution_count": null,
   "id": "7a41cfb6-6dd7-4fc2-b935-81a2cc673e60",
   "metadata": {},
   "outputs": [],
   "source": [
    "#Box and Whisker Plot"
   ]
  },
  {
   "cell_type": "code",
   "execution_count": null,
   "id": "d6262568-994b-438a-95b8-0b95c1c7d48b",
   "metadata": {},
   "outputs": [],
   "source": [
    "#HVPlot"
   ]
  },
  {
   "cell_type": "code",
   "execution_count": null,
   "id": "a8267907-9edd-48b4-b2bc-9a783154c316",
   "metadata": {},
   "outputs": [],
   "source": [
    "#bar plot comparing returns of all sectors "
   ]
  },
  {
   "cell_type": "code",
   "execution_count": null,
   "id": "b5ae71cf-867f-4c8c-a154-8bb9ed0a5472",
   "metadata": {},
   "outputs": [],
   "source": [
    "#bar plot comparing returns of all portfolio"
   ]
  },
  {
   "cell_type": "code",
   "execution_count": null,
   "id": "8878c1d9-42c4-4c8e-a229-d81de0393692",
   "metadata": {},
   "outputs": [],
   "source": []
  }
 ],
 "metadata": {
  "kernelspec": {
   "display_name": "Python (dev)",
   "language": "python",
   "name": "dev"
  },
  "language_info": {
   "codemirror_mode": {
    "name": "ipython",
    "version": 3
   },
   "file_extension": ".py",
   "mimetype": "text/x-python",
   "name": "python",
   "nbconvert_exporter": "python",
   "pygments_lexer": "ipython3",
   "version": "3.7.13"
  },
  "vscode": {
   "interpreter": {
    "hash": "62e67a83eca6e542ae263c60cec4f6dec4cbb93237356f2037b8454ca6367d8b"
   }
  }
 },
 "nbformat": 4,
 "nbformat_minor": 5
}
