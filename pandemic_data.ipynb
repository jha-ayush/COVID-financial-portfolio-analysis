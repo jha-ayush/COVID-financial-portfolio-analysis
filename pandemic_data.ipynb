{
 "cells": [
  {
   "cell_type": "code",
   "execution_count": null,
   "id": "a6957759-0c63-420a-8f1a-808156e26304",
   "metadata": {
    "tags": []
   },
   "outputs": [],
   "source": [
    "pip install polygon-api-client"
   ]
  },
  {
   "cell_type": "code",
   "execution_count": null,
   "id": "762bdcda-9598-4581-b08b-f1e1b7f195a6",
   "metadata": {
    "tags": []
   },
   "outputs": [],
   "source": [
    "pip install fire"
   ]
  },
  {
   "cell_type": "code",
   "execution_count": null,
   "id": "acb799a4-4ac2-4529-a998-d961b7477e0b",
   "metadata": {
    "tags": []
   },
   "outputs": [],
   "source": [
    "pip install questionary"
   ]
  },
  {
   "cell_type": "code",
   "execution_count": null,
   "id": "9bfb6c57-33e7-4dee-8757-ccabf256e66c",
   "metadata": {
    "tags": []
   },
   "outputs": [],
   "source": [
    "pip install load_dotenv"
   ]
  },
  {
   "cell_type": "code",
   "execution_count": null,
   "id": "70b0da6e-60af-4d08-8f5c-e00f94128512",
   "metadata": {},
   "outputs": [],
   "source": [
    "#from polygon import RESTClient"
   ]
  },
  {
   "cell_type": "code",
   "execution_count": null,
   "id": "60b78199-1cd0-4b38-9838-49cdaf599eb4",
   "metadata": {},
   "outputs": [],
   "source": [
    "#import the necessary modules\n",
    "import pandas as pd\n",
    "#questionary\n",
    "from pathlib import Path\n",
    "import fire\n",
    "import questionary\n",
    "#API\n",
    "import os\n",
    "import json\n",
    "import requests\n",
    "from dotenv import load_dotenv\n",
    "from MCForecastTools import MCSimulation\n",
    "%matplotlib inline\n"
   ]
  },
  {
   "cell_type": "code",
   "execution_count": null,
   "id": "c3248d17-b986-4109-b801-872e79d429c6",
   "metadata": {},
   "outputs": [],
   "source": [
    "from IPython.display import display_html "
   ]
  },
  {
   "cell_type": "code",
   "execution_count": null,
   "id": "e66002f2-790e-46cc-bc18-957c349ffbef",
   "metadata": {},
   "outputs": [],
   "source": [
    "POLYGON_API_KEY = 'JQfBpF3NpcYjuBdMiXeUr6q54XafY_pQ'"
   ]
  },
  {
   "cell_type": "code",
   "execution_count": null,
   "id": "2b73d6bb-596d-450d-8a68-ac14f5d85764",
   "metadata": {},
   "outputs": [],
   "source": [
    "ticker_list = [\"AMZN\", \"RTH\", \"AMT\", \"IYR\", \"XOM\", \"XLE\", \"SPY\"]"
   ]
  },
  {
   "cell_type": "code",
   "execution_count": null,
   "id": "64d85094-657d-4769-a1f1-e01f44339e8e",
   "metadata": {},
   "outputs": [],
   "source": [
    "import requests\n",
    "import datetime\n",
    "from time import sleep\n",
    "from tqdm import tqdm\n",
    "def get_prices(start_date,end_date,universe):\n",
    "    data = pd.DataFrame()\n",
    "    # end_at = datetime.datetime.now() \n",
    "    # begin_from = end_at + datetime.timedelta(days=-5000)\n",
    "    for t in tqdm(universe):\n",
    "        print(t)\n",
    "        print(len(data))\n",
    "        # for start in pd.date_range(start = begin_from, end = end_at,normalize=True,freq = '88D'):\n",
    "        #     end = start + datetime.timedelta(days = 88)\n",
    "        #     end = str(int((end - datetime.datetime(1970,1,1)).total_seconds()))\n",
    "        #     start = str(int((start - datetime.datetime(1970,1,1)).total_seconds()))\n",
    "        try:\n",
    "            r = requests.get(f'https://api.polygon.io/v2/aggs/ticker/{t}/range/1/day/{start_date}/{end_date}?apiKey={POLYGON_API_KEY}')\n",
    "        except json.JSONDecodeError:\n",
    "            pass\n",
    "        try:\n",
    "            # print(r.json())\n",
    "            temp_data = pd.DataFrame(r.json()['results'])\n",
    "            temp_data['ticker'] = t\n",
    "            data = data.append(temp_data, ignore_index=True)\n",
    "            print(t+':'+str(pd.to_datetime(start_date, unit='s'))+':'+str(pd.to_datetime(end_date, unit='s')))\n",
    "        except KeyError:\n",
    "            print(f'{t} was not found')\n",
    "            pass\n",
    "        except ValueError:\n",
    "            pass\n",
    "        except ConnectionError as error:\n",
    "            print(error)\n",
    "            sleep(200)\n",
    "            continue\n",
    "        except TimeoutError as error:\n",
    "            print(error)\n",
    "            sleep(200)\n",
    "            continue\n",
    "        sleep(0.25)\n",
    "#     data.to_csv(file_name,index = False)\n",
    "    data.t = pd.to_datetime(data.t, unit = 'ms')\n",
    "    columns_name = {'t': 'time', 'o': 'Open', 'c': 'Close', 'h': 'High', 'l': 'Low', 'v': 'Volume'} \n",
    "    data= data.rename(columns = columns_name)\n",
    "    data = data[['time','ticker','Open', 'Close','High', 'Low', 'Volume']]\n",
    "    data = data.set_index(['time', 'ticker'])\n",
    "    data[\"daily_returns\"] = data['Close'].groupby('ticker').pct_change()\n",
    "    data = data.dropna()\n",
    "    #data.to_csv(file_name, index = False)\n",
    "    return data"
   ]
  },
  {
   "cell_type": "code",
   "execution_count": null,
   "id": "861a6c5d-f684-4d0b-b9f7-778141d8e963",
   "metadata": {
    "tags": []
   },
   "outputs": [],
   "source": [
    "# Create `start_date` and `end_date` variables for the period during the pandemic\n",
    "start_date = \"2020-03-01\"\n",
    "end_date = \"2021-03-01\"\n",
    "all_data = get_prices(start_date=start_date, end_date=end_date, universe=ticker_list)\n"
   ]
  },
  {
   "cell_type": "code",
   "execution_count": null,
   "id": "4528a8d5-5ce1-4ae6-9847-d1b57348b948",
   "metadata": {
    "tags": []
   },
   "outputs": [],
   "source": [
    "all_data.index"
   ]
  },
  {
   "cell_type": "code",
   "execution_count": null,
   "id": "3af46637-7b43-4583-8569-39bf2bb80158",
   "metadata": {},
   "outputs": [],
   "source": [
    "idx = pd.IndexSlice"
   ]
  },
  {
   "cell_type": "code",
   "execution_count": null,
   "id": "6d292c12-1167-4d53-8430-6ee0d1553b77",
   "metadata": {
    "tags": []
   },
   "outputs": [],
   "source": [
    "AMZN_daily_returns_df = all_data.loc[idx[:,'AMZN'],['daily_returns']]\n",
    "AMZN_daily_returns_df\n"
   ]
  },
  {
   "cell_type": "code",
   "execution_count": null,
   "id": "6eb318d3-a7b8-4595-9b61-2f520d909f8f",
   "metadata": {
    "tags": []
   },
   "outputs": [],
   "source": [
    "RTH_daily_returns_df = all_data.loc[idx[:,'RTH'],['daily_returns']]\n",
    "RTH_daily_returns_df"
   ]
  },
  {
   "cell_type": "code",
   "execution_count": null,
   "id": "d9e5d1a1-3b05-468f-be4d-ccbb099b14c4",
   "metadata": {
    "tags": []
   },
   "outputs": [],
   "source": [
    "AMT_daily_returns_df = all_data.loc[idx[:,'AMT'],['daily_returns']]\n",
    "AMT_daily_returns_df"
   ]
  },
  {
   "cell_type": "code",
   "execution_count": null,
   "id": "77134b7a-1a74-43c0-87df-fdf3ec6dfeb1",
   "metadata": {
    "tags": []
   },
   "outputs": [],
   "source": [
    "IYR_daily_returns_df = all_data.loc[idx[:,'IYR'],['daily_returns']]\n",
    "IYR_daily_returns_df"
   ]
  },
  {
   "cell_type": "code",
   "execution_count": null,
   "id": "50789e54-cbe3-42b0-9ea3-c8f5fc3b7879",
   "metadata": {
    "tags": []
   },
   "outputs": [],
   "source": [
    "XOM_daily_returns_df = all_data.loc[idx[:,'XOM'],['daily_returns']]\n",
    "XOM_daily_returns_df"
   ]
  },
  {
   "cell_type": "code",
   "execution_count": null,
   "id": "0da66881-491c-4b6b-a415-f20ebf5e971b",
   "metadata": {
    "tags": []
   },
   "outputs": [],
   "source": [
    "XLE_daily_returns_df = all_data.loc[idx[:,'XLE'],['daily_returns']]\n",
    "XLE_daily_returns_df"
   ]
  },
  {
   "cell_type": "code",
   "execution_count": null,
   "id": "f0f95195-b3f9-44a4-acc8-324b3067b7aa",
   "metadata": {},
   "outputs": [],
   "source": [
    "SPY_daily_returns_df = all_data.loc[idx[:,'SPY'],['daily_returns']]\n",
    "SPY_daily_returns_df"
   ]
  },
  {
   "cell_type": "code",
   "execution_count": null,
   "id": "a2e7a771-37d1-4e2b-a4a2-eea4653b9bad",
   "metadata": {
    "tags": []
   },
   "outputs": [],
   "source": [
    "tech_daily_returns = pd.concat([AMZN_daily_returns_df, RTH_daily_returns_df], keys=[\"AMZN\",\"RTH\"])\n",
    "tech_daily_returns"
   ]
  },
  {
   "cell_type": "code",
   "execution_count": null,
   "id": "5406eb4f-bbb3-49b8-b028-e4bad5c2d814",
   "metadata": {
    "tags": []
   },
   "outputs": [],
   "source": [
    "RE_daily_returns = pd.concat([AMT_daily_returns_df, IYR_daily_returns_df], keys=[\"AMT\",\"IYR\"])\n",
    "RE_daily_returns"
   ]
  },
  {
   "cell_type": "code",
   "execution_count": null,
   "id": "8f63acac-3e21-4a0a-93e2-14670f1eacd1",
   "metadata": {
    "tags": []
   },
   "outputs": [],
   "source": [
    "energy_daily_returns = pd.concat([XOM_daily_returns_df, XLE_daily_returns_df], keys=[\"XOM\",\"XLE\"])\n",
    "energy_daily_returns"
   ]
  },
  {
   "cell_type": "code",
   "execution_count": null,
   "id": "4575d51b-7bae-4236-b292-f94b53958310",
   "metadata": {
    "tags": []
   },
   "outputs": [],
   "source": [
    "#Display all sectors of the stock/ETF dataframes\n",
    "dfT_style = tech_daily_returns.style.set_table_attributes(\"style='display:inline; margin-right:20px;'\").set_caption(\"Tech\")\n",
    "dfR_style = RE_daily_returns.style.set_table_attributes(\"style='display:inline'\").set_caption(\"Real Estate\")\n",
    "dfE_style = energy_daily_returns.style.set_table_attributes(\"style='display:inline'\").set_caption(\"Energy\")\n",
    "\n",
    "\n",
    "display_html(dfT_style._repr_html_() + dfR_style._repr_html_() + dfE_style._repr_html_(), raw=True)"
   ]
  },
  {
   "cell_type": "markdown",
   "id": "4a4d8295-3ac3-4e89-9bff-fd5e6ea50742",
   "metadata": {},
   "source": [
    "### Analyzing Each Stock and ETF Individually¶"
   ]
  },
  {
   "cell_type": "code",
   "execution_count": null,
   "id": "986d9a13-e2d4-46f6-9af9-e3755ddd5bf7",
   "metadata": {},
   "outputs": [],
   "source": [
    "#Questionary SQL\n",
    "#How much weight do you want in each stock?\n"
   ]
  },
  {
   "cell_type": "code",
   "execution_count": null,
   "id": "ab9b5262-4f3b-438e-bc5b-f09b27c9799a",
   "metadata": {},
   "outputs": [],
   "source": [
    "import warnings\n",
    "warnings.filterwarnings(\"ignore\")"
   ]
  },
  {
   "cell_type": "code",
   "execution_count": null,
   "id": "41cd1e39-d684-4fb0-9139-d51ca7ce0852",
   "metadata": {},
   "outputs": [],
   "source": [
    "from pytz import timezone\n",
    "from IPython.display import clear_output\n",
    "from time import sleep\n",
    "import numpy as np\n",
    "import pyfolio as pf"
   ]
  },
  {
   "cell_type": "code",
   "execution_count": null,
   "id": "19c6e33c-c495-4b5e-b4b4-a28e5d6c620b",
   "metadata": {},
   "outputs": [],
   "source": [
    "Pandemic_prices_df = pd.concat([AMZN_daily_returns_df, RTH_daily_returns_df, AMT_daily_returns_df, IYR_daily_returns_df, XOM_daily_returns_df, XLE_daily_returns_df, SPY_daily_returns_df],axis=1, keys=[\"AMZN\",\"RTH\",\"AMT\",\"IYR\",\"XOM\",\"XLE\",\"SPY\"])\n",
    "display(Pandemic_prices_df.std())\n",
    "display(Pandemic_prices_df.mean())"
   ]
  },
  {
   "cell_type": "code",
   "execution_count": null,
   "id": "c0446d12-95ba-4394-82c7-9cebfd53f338",
   "metadata": {},
   "outputs": [],
   "source": [
    "#Summary statistics for AMZN stock using .std() and .mean()\n",
    "display(AMZN_daily_returns_df.std())\n",
    "display(AMZN_daily_returns_df.mean())\n"
   ]
  },
  {
   "cell_type": "code",
   "execution_count": null,
   "id": "a52e76e0-f6af-4828-b9a4-0bfbbe26f083",
   "metadata": {},
   "outputs": [],
   "source": [
    "#Summary statistics for RTH stock using .std() and .mean()\n",
    "display(RTH_daily_returns_df.std())\n",
    "display(RTH_daily_returns_df.mean())"
   ]
  },
  {
   "cell_type": "code",
   "execution_count": null,
   "id": "75b58417-20ee-46be-a93e-055fd7e6602d",
   "metadata": {},
   "outputs": [],
   "source": [
    "#Summary statistics for AMT stock using .std() and .mean()\n",
    "display(AMT_daily_returns_df.std())\n",
    "display(AMT_daily_returns_df.mean())\n"
   ]
  },
  {
   "cell_type": "code",
   "execution_count": null,
   "id": "5d0ff66d-0ca1-4563-a783-79bc8c2e8d88",
   "metadata": {},
   "outputs": [],
   "source": [
    "#Summary statistics for IYR stock using .std() and .mean()\n",
    "display(IYR_daily_returns_df.std())\n",
    "display(IYR_daily_returns_df.mean())\n"
   ]
  },
  {
   "cell_type": "code",
   "execution_count": null,
   "id": "80d89f44-a91d-4317-8a7d-6e903470d530",
   "metadata": {},
   "outputs": [],
   "source": [
    "#Summary statistics for XOM stock using .std() and .mean()\n",
    "display(XOM_daily_returns_df.std())\n",
    "display(XOM_daily_returns_df.mean())\n"
   ]
  },
  {
   "cell_type": "code",
   "execution_count": null,
   "id": "3ec9cec2-5f96-43f0-9132-07986d59db4c",
   "metadata": {},
   "outputs": [],
   "source": [
    "#Summary statistics for XLE stock using .std() and .mean()\n",
    "display(XLE_daily_returns_df.std())\n",
    "display(XLE_daily_returns_df.mean())"
   ]
  },
  {
   "cell_type": "code",
   "execution_count": null,
   "id": "2d4020b3-09d1-4376-8b43-d6bbf894be06",
   "metadata": {},
   "outputs": [],
   "source": [
    "#Summary statistics for AMZN using .describe()\n",
    "AMZN_daily_returns_df.describe()"
   ]
  },
  {
   "cell_type": "code",
   "execution_count": null,
   "id": "7fc909b9-7c4b-43fd-9847-e47b9a4325b1",
   "metadata": {},
   "outputs": [],
   "source": [
    "RTH_daily_returns_df.describe()"
   ]
  },
  {
   "cell_type": "code",
   "execution_count": null,
   "id": "37c63e69-24fe-4271-8d28-dac8f2800c74",
   "metadata": {},
   "outputs": [],
   "source": [
    "#Summary statistics for AMT using .describe()\n",
    "AMT_daily_returns_df.describe()"
   ]
  },
  {
   "cell_type": "code",
   "execution_count": null,
   "id": "2028632c-2ada-4b2d-8172-33a5362d625e",
   "metadata": {},
   "outputs": [],
   "source": [
    "#Summary statistics for IYR using .describe()\n",
    "IYR_daily_returns_df.describe()"
   ]
  },
  {
   "cell_type": "code",
   "execution_count": null,
   "id": "556ecd06-c636-497d-a66c-3ffe8f101b7a",
   "metadata": {},
   "outputs": [],
   "source": [
    "#Summary statistics for XOM using .describe()\n",
    "XOM_daily_returns_df.describe()"
   ]
  },
  {
   "cell_type": "code",
   "execution_count": null,
   "id": "53c64223-f3b5-4123-aa39-57d4091277ea",
   "metadata": {},
   "outputs": [],
   "source": [
    "#Summary statistics for XLE using .describe()\n",
    "XLE_daily_returns_df.describe()"
   ]
  },
  {
   "cell_type": "code",
   "execution_count": null,
   "id": "353b9fd0-8ebe-42bf-a70e-8adab820a977",
   "metadata": {},
   "outputs": [],
   "source": [
    "SPY_daily_returns_df.describe()"
   ]
  },
  {
   "cell_type": "code",
   "execution_count": null,
   "id": "5940c70d-d809-469f-a0e1-4b404ad028ae",
   "metadata": {},
   "outputs": [],
   "source": [
    "# Variance For Each Stock and ETF\n",
    "Pandemic_prices_df.var()"
   ]
  },
  {
   "cell_type": "code",
   "execution_count": null,
   "id": "c15998f9-8b17-4fc9-af0c-9bba3ca74e25",
   "metadata": {},
   "outputs": [],
   "source": [
    "# Variance Of Amzn\n",
    "AMZN_var=AMZN_daily_returns_df.var()\n",
    "AMZN_var"
   ]
  },
  {
   "cell_type": "code",
   "execution_count": null,
   "id": "bae5687e-b474-48f9-873f-36f3f4752737",
   "metadata": {},
   "outputs": [],
   "source": [
    "# Variance For RTH\n",
    "RTH_var=RTH_daily_returns_df.var()\n",
    "RTH_var"
   ]
  },
  {
   "cell_type": "code",
   "execution_count": null,
   "id": "6b6c97ae-7902-48c2-b008-4aea96214388",
   "metadata": {},
   "outputs": [],
   "source": [
    "# Variance Of IYR\n",
    "IYR_var=IYR_daily_returns_df.var()\n",
    "IYR_var"
   ]
  },
  {
   "cell_type": "code",
   "execution_count": null,
   "id": "c67a8b45-176c-421e-ad6c-bba2e96b9df8",
   "metadata": {},
   "outputs": [],
   "source": [
    "# Variance Of AMT\n",
    "AMT_var=AMT_daily_returns_df.var()\n",
    "AMT_var"
   ]
  },
  {
   "cell_type": "code",
   "execution_count": null,
   "id": "e840290c-c32d-4a4d-a506-4098f5013628",
   "metadata": {},
   "outputs": [],
   "source": [
    "# Variance Of XOM\n",
    "XOM_var=XOM_daily_returns_df.var()\n",
    "XOM_var"
   ]
  },
  {
   "cell_type": "code",
   "execution_count": null,
   "id": "60dd0aa6-f270-4d38-8cc8-87a1642c7ffb",
   "metadata": {},
   "outputs": [],
   "source": [
    "# Variance Of XLE\n",
    "XLE_var=XLE_daily_returns_df.var()\n",
    "XLE_var"
   ]
  },
  {
   "cell_type": "code",
   "execution_count": null,
   "id": "f0f4afdf-22bf-4b8f-a44b-7c7d22f954c9",
   "metadata": {},
   "outputs": [],
   "source": [
    "SPY_var = SPY_daily_returns_df.var()\n",
    "SPY_var"
   ]
  },
  {
   "cell_type": "code",
   "execution_count": null,
   "id": "b708733d-2536-4e64-a692-2d91a31b3ccd",
   "metadata": {},
   "outputs": [],
   "source": [
    "# Covariance for Each Stock and ETF\n",
    "Pandemic_prices_df.cov()"
   ]
  },
  {
   "cell_type": "code",
   "execution_count": null,
   "id": "eed47b8a-fa31-4550-a838-4a1b186680c1",
   "metadata": {},
   "outputs": [],
   "source": [
    "# Annualized returns of AMZN\n",
    "AMZN_Annual_Ret = AMZN_daily_returns_df.mean()*252\n",
    "AMZN_Annual_Ret"
   ]
  },
  {
   "cell_type": "code",
   "execution_count": null,
   "id": "1b362000-1e9d-4fd2-937d-2f0718aada3e",
   "metadata": {},
   "outputs": [],
   "source": [
    "# Annualized returns of RTH\n",
    "RTH_Annual_Ret = RTH_daily_returns_df.mean()*252\n",
    "RTH_Annual_Ret"
   ]
  },
  {
   "cell_type": "code",
   "execution_count": null,
   "id": "88393686-d0cb-497f-87db-023da35ab896",
   "metadata": {},
   "outputs": [],
   "source": [
    "# Annualized returns of AMT\n",
    "AMT_Annual_Ret = AMT_daily_returns_df.mean()*252\n",
    "AMT_Annual_Ret"
   ]
  },
  {
   "cell_type": "code",
   "execution_count": null,
   "id": "87b1eb1c-13a8-4aad-b32a-9d211a5dab3e",
   "metadata": {},
   "outputs": [],
   "source": [
    "# Annualized returns of IYR\n",
    "IYR_Annual_Ret = IYR_daily_returns_df.mean()*252\n",
    "IYR_Annual_Ret"
   ]
  },
  {
   "cell_type": "code",
   "execution_count": null,
   "id": "8a86b88f-1d7c-46ef-9fc7-3db15ba68ce5",
   "metadata": {},
   "outputs": [],
   "source": [
    "# Annualized returns of XLE\n",
    "XLE_Annual_Ret = XLE_daily_returns_df.mean()*252\n",
    "XLE_Annual_Ret"
   ]
  },
  {
   "cell_type": "code",
   "execution_count": null,
   "id": "9ec0362b-a140-4b5d-aef9-e2f7e7822e08",
   "metadata": {},
   "outputs": [],
   "source": [
    "# Annualized returns of XOM\n",
    "XOM_Annual_Ret = XOM_daily_returns_df.mean()*252\n",
    "XOM_Annual_Ret"
   ]
  },
  {
   "cell_type": "code",
   "execution_count": null,
   "id": "b1dedf72-b651-4442-a991-f927630f1528",
   "metadata": {},
   "outputs": [],
   "source": [
    "SPY_Annual_Ret = SPY_daily_returns_df.mean()*252\n",
    "SPY_Annual_Ret"
   ]
  },
  {
   "cell_type": "code",
   "execution_count": null,
   "id": "1be5b2df-fecb-4233-adf5-b9d1b4a9e65f",
   "metadata": {},
   "outputs": [],
   "source": [
    "year_trading_days = 252\n"
   ]
  },
  {
   "cell_type": "code",
   "execution_count": null,
   "id": "0c472465-a132-42b8-9a7e-6c43b504a284",
   "metadata": {},
   "outputs": [],
   "source": [
    "# Annualized std dev of AMZN\n",
    "annual_std_dev_AMZN = AMZN_daily_returns_df.std() * np.sqrt(year_trading_days)\n",
    "annual_std_dev_AMZN"
   ]
  },
  {
   "cell_type": "code",
   "execution_count": null,
   "id": "8a07a656-ef4a-4338-8de3-4c258b680a8d",
   "metadata": {},
   "outputs": [],
   "source": [
    "# Annualized std dev of RTH\n",
    "annual_std_dev_RTH = RTH_daily_returns_df.std() * np.sqrt(year_trading_days)\n",
    "annual_std_dev_RTH"
   ]
  },
  {
   "cell_type": "code",
   "execution_count": null,
   "id": "e667f318-0061-4841-9162-4ee1e2cde785",
   "metadata": {},
   "outputs": [],
   "source": [
    "# Annualized std dev of AMT\n",
    "annual_std_dev_AMT = AMT_daily_returns_df.std() * np.sqrt(year_trading_days)\n",
    "annual_std_dev_AMT"
   ]
  },
  {
   "cell_type": "code",
   "execution_count": null,
   "id": "1beae828-7908-49ab-b962-1dc738da3ef3",
   "metadata": {},
   "outputs": [],
   "source": [
    "# Annualized std dev of IYR\n",
    "annual_std_dev_IYR = IYR_daily_returns_df.std() * np.sqrt(year_trading_days)\n",
    "annual_std_dev_IYR"
   ]
  },
  {
   "cell_type": "code",
   "execution_count": null,
   "id": "02585832-1b20-48ca-81c1-279337b0a81f",
   "metadata": {},
   "outputs": [],
   "source": [
    "# Annualized std dev of XLE\n",
    "annual_std_dev_XLE = XLE_daily_returns_df.std() * np.sqrt(year_trading_days)\n",
    "annual_std_dev_XLE"
   ]
  },
  {
   "cell_type": "code",
   "execution_count": null,
   "id": "4c552895-6bf5-4d2e-be44-23ec2ac42449",
   "metadata": {},
   "outputs": [],
   "source": [
    "# Annualized std dev of XOM\n",
    "annual_std_dev_XOM= XOM_daily_returns_df.std() * np.sqrt(year_trading_days)\n",
    "annual_std_dev_XOM"
   ]
  },
  {
   "cell_type": "code",
   "execution_count": null,
   "id": "f35fc6eb-df71-4064-b2ab-0fd6ee553d88",
   "metadata": {},
   "outputs": [],
   "source": [
    "# Annualized std dev of SPY\n",
    "annual_std_dev_SPY = SPY_daily_returns_df.std() * np.sqrt(year_trading_days)\n",
    "annual_std_dev_SPY"
   ]
  },
  {
   "cell_type": "code",
   "execution_count": null,
   "id": "d73a1154-b899-4133-9144-eb0a6c5a2986",
   "metadata": {},
   "outputs": [],
   "source": [
    "#Sharpe ratio for each stock and ETF \n",
    "Sharpe_AMZN = AMZN_Annual_Ret/annual_std_dev_AMZN\n",
    "Sharpe_AMZN"
   ]
  },
  {
   "cell_type": "code",
   "execution_count": null,
   "id": "006fe3a1-d713-42a7-afca-d69b1c34f8f3",
   "metadata": {},
   "outputs": [],
   "source": [
    "#Sharpe ratio for each stock and ETF \n",
    "Sharpe_RTH = RTH_Annual_Ret/annual_std_dev_RTH\n",
    "Sharpe_RTH"
   ]
  },
  {
   "cell_type": "code",
   "execution_count": null,
   "id": "b11a92e1-b0a1-4cca-9e04-f4f5de54ea18",
   "metadata": {},
   "outputs": [],
   "source": [
    "#Sharpe ratio for each stock and ETF \n",
    "Sharpe_IYR = IYR_Annual_Ret/annual_std_dev_IYR\n",
    "Sharpe_IYR "
   ]
  },
  {
   "cell_type": "code",
   "execution_count": null,
   "id": "482d1f1c-f603-4933-a879-842dc57bc1f1",
   "metadata": {},
   "outputs": [],
   "source": [
    "#Sharpe ratio for each stock and ETF \n",
    "Sharpe_XLE = XLE_Annual_Ret/annual_std_dev_XLE\n",
    "Sharpe_XLE"
   ]
  },
  {
   "cell_type": "code",
   "execution_count": null,
   "id": "0eadcd92-3a1d-49a4-a835-0d7e2a7dfeb0",
   "metadata": {},
   "outputs": [],
   "source": [
    "#Sharpe ratio for each stock and ETF \n",
    "Sharpe_XOM = XOM_Annual_Ret/annual_std_dev_XOM\n",
    "Sharpe_XOM"
   ]
  },
  {
   "cell_type": "code",
   "execution_count": null,
   "id": "3e6570d0-6c8a-4a43-9faf-74c69fd703d4",
   "metadata": {},
   "outputs": [],
   "source": [
    "#Sharpe ratio for each stock and ETF \n",
    "Sharpe_SPY = SPY_Annual_Ret/annual_std_dev_SPY\n",
    "Sharpe_SPY"
   ]
  },
  {
   "cell_type": "code",
   "execution_count": null,
   "id": "e9f31787-eaef-47bb-b590-7675d8103295",
   "metadata": {},
   "outputs": [],
   "source": [
    "AMZN_daily_returns_df.reset_index(level = 1,drop = True).daily_returns"
   ]
  },
  {
   "cell_type": "code",
   "execution_count": null,
   "id": "dd69332a-932e-4e4f-8fab-f3ddca4df49d",
   "metadata": {},
   "outputs": [],
   "source": []
  },
  {
   "cell_type": "code",
   "execution_count": null,
   "id": "c897c9fc-d241-429e-9d75-97f89801f1ba",
   "metadata": {
    "tags": []
   },
   "outputs": [],
   "source": [
    "# Calculate betas of AMZN, RTH, AMT, IYR, XOM, XLE \n",
    "result = pf.create_returns_tear_sheet(AMZN_daily_returns_df.reset_index(level = 1,drop = True).daily_returns,\n",
    "                                           return_fig=True)\n",
    "result.savefig(\"amzn_pan_tearsheet.png\", format = \"png\")\n"
   ]
  },
  {
   "cell_type": "code",
   "execution_count": null,
   "id": "8f5e467c-4d34-4069-80d6-fe6702da79a4",
   "metadata": {
    "tags": []
   },
   "outputs": [],
   "source": [
    "result = pf.create_returns_tear_sheet(RTH_daily_returns_df.reset_index(level = 1,drop = True).daily_returns,\n",
    "                                           return_fig=True)\n",
    "result.savefig(\"rth_pan_tearsheet.png\", format = \"png\")\n"
   ]
  },
  {
   "cell_type": "code",
   "execution_count": null,
   "id": "384e125e-37cc-4bb6-9ec2-3cc0e55f055c",
   "metadata": {},
   "outputs": [],
   "source": [
    "result = pf.create_returns_tear_sheet(AMT_daily_returns_df.reset_index(level = 1,drop = True).daily_returns,\n",
    "                                           return_fig=True)\n",
    "result.savefig(\"amt_pan_tearsheet.png\", format = \"png\")\n"
   ]
  },
  {
   "cell_type": "code",
   "execution_count": null,
   "id": "6a9e0f3d-e6e7-4118-b2a0-b182a71317e6",
   "metadata": {},
   "outputs": [],
   "source": [
    "result = pf.create_returns_tear_sheet(IYR_daily_returns_df.reset_index(level = 1,drop = True).daily_returns,\n",
    "                                           return_fig=True)\n",
    "result.savefig(\"iyr_pan_tearsheet.png\", format = \"png\")\n"
   ]
  },
  {
   "cell_type": "code",
   "execution_count": null,
   "id": "d0b2ee6c-48d8-414a-9d2b-7338f93094f3",
   "metadata": {},
   "outputs": [],
   "source": [
    "result = pf.create_returns_tear_sheet(XOM_daily_returns_df.reset_index(level = 1,drop = True).daily_returns,\n",
    "                                           return_fig=True)\n",
    "result.savefig(\"xom_pan_tearsheet.png\", format = \"png\")\n"
   ]
  },
  {
   "cell_type": "code",
   "execution_count": null,
   "id": "654353cb-30f7-46a6-9824-caf4ef4dfee4",
   "metadata": {},
   "outputs": [],
   "source": [
    "result = pf.create_returns_tear_sheet(XLE_daily_returns_df.reset_index(level = 1,drop = True).daily_returns,\n",
    "                                           return_fig=True)\n",
    "result.savefig(\"xle_pan_tearsheet.png\", format = \"png\")\n"
   ]
  },
  {
   "cell_type": "code",
   "execution_count": null,
   "id": "f41dfef4-3e5c-4bdc-bd59-d91c82ff22a3",
   "metadata": {},
   "outputs": [],
   "source": [
    "result = pf.create_returns_tear_sheet(SPY_daily_returns_df.reset_index(level = 1,drop = True).daily_returns,\n",
    "                                           return_fig=True)\n",
    "result.savefig(\"spy_pan_tearsheet.png\", format = \"png\")\n"
   ]
  },
  {
   "cell_type": "code",
   "execution_count": null,
   "id": "e525adb5-a36f-4d6d-b0d9-63306b04e5b6",
   "metadata": {},
   "outputs": [],
   "source": [
    "# Calculate alphas of AMZN, RTH, AMT, IYR, XOM, XLE \n",
    "\n"
   ]
  },
  {
   "cell_type": "markdown",
   "id": "73054e2a-8dac-4173-a2e6-1e517ac1bccb",
   "metadata": {},
   "source": [
    "### Analyzing What Would Happen To A Portfolio in Each Sector For the Period Before the Pandemic"
   ]
  },
  {
   "cell_type": "code",
   "execution_count": null,
   "id": "f536527d-30af-4ac8-97c6-e2a7da5bd8b2",
   "metadata": {},
   "outputs": [],
   "source": [
    "#Questionary SQL\n",
    "#How much weight do you want in each stock?\n",
    "\n"
   ]
  },
  {
   "cell_type": "code",
   "execution_count": null,
   "id": "a1cad240-8bf0-48fd-ad9e-fb8299b4a6ae",
   "metadata": {},
   "outputs": [],
   "source": [
    "#Portfolio Returns for Tech: use (portfolio_return = weightAMZN * meanAMZN + weightRTH * meanRTH)\n"
   ]
  },
  {
   "cell_type": "code",
   "execution_count": null,
   "id": "a94c0dda-57a9-422c-ad19-a857152939ae",
   "metadata": {},
   "outputs": [],
   "source": [
    "#Portfolio Returns for Real Estate: use (portfolio_return = weightAMT * meanAMT + weightIYR * meanIYR)\n"
   ]
  },
  {
   "cell_type": "code",
   "execution_count": null,
   "id": "52f15c94-b367-473d-9e58-0a21264f1a3b",
   "metadata": {},
   "outputs": [],
   "source": [
    "#Portfolio Returns for Energy: use (portfolio_return = weightXOM * meanXOM + weightXLE * meanXLE)\n",
    "\n"
   ]
  },
  {
   "cell_type": "code",
   "execution_count": null,
   "id": "9aaace19-04d7-44b6-b240-58ded69c5d6a",
   "metadata": {},
   "outputs": [],
   "source": [
    "# Using the Pandas var function, calculate the covariance of the S&P 500 using tech portfolio returns information\n",
    "# The ETF SPY will represent the market\n"
   ]
  },
  {
   "cell_type": "code",
   "execution_count": null,
   "id": "110e6b9e-ebbc-49fe-818f-a45f021d0022",
   "metadata": {},
   "outputs": [],
   "source": [
    "# Using the Pandas var function, calculate the covariance of the S&P 500 using Energy portfolio returns information\n",
    "# The ETF SPY will represent the market\n",
    "\n"
   ]
  },
  {
   "cell_type": "code",
   "execution_count": null,
   "id": "1333d78d-62ee-484e-b3e5-51fe5babf4e3",
   "metadata": {},
   "outputs": [],
   "source": [
    "# Using the Pandas rolling function in conjunction with the var function, \n",
    "# calculate the 30-day rolling variance for the S&P 500 using tech daily returns information\n",
    "\n",
    "# Visualize the 30-day rolling variance of the S&P 500\n",
    "# Be sure to adjust the figure size and add a title"
   ]
  },
  {
   "cell_type": "code",
   "execution_count": null,
   "id": "80397d5b-759b-4b7b-940a-f479946fa7fb",
   "metadata": {},
   "outputs": [],
   "source": [
    "#Monte Carlo Simulation\n"
   ]
  },
  {
   "cell_type": "code",
   "execution_count": null,
   "id": "4184ca35-bfe2-4c70-abd4-2caae4b58f42",
   "metadata": {},
   "outputs": [],
   "source": [
    "#Box and Whisker Plot\n"
   ]
  },
  {
   "cell_type": "code",
   "execution_count": null,
   "id": "8240cb4b-1c5c-4b39-954b-523219e3062e",
   "metadata": {},
   "outputs": [],
   "source": [
    "#HVPlot\n"
   ]
  },
  {
   "cell_type": "code",
   "execution_count": null,
   "id": "8661901f-ceb7-4946-b513-793576d46e0c",
   "metadata": {},
   "outputs": [],
   "source": [
    "#bar plot comparing returns of all sectors \n"
   ]
  },
  {
   "cell_type": "code",
   "execution_count": null,
   "id": "ed6945f5-41cd-4087-893a-2aab9f4e205a",
   "metadata": {},
   "outputs": [],
   "source": [
    "#bar plot comparing returns of all portfolio"
   ]
  },
  {
   "cell_type": "code",
   "execution_count": null,
   "id": "864bcd7f-a776-4592-8a88-452ce6c0b77a",
   "metadata": {},
   "outputs": [],
   "source": []
  }
 ],
 "metadata": {
  "kernelspec": {
   "display_name": "Python 3 (ipykernel)",
   "language": "python",
   "name": "python3"
  },
  "language_info": {
   "codemirror_mode": {
    "name": "ipython",
    "version": 3
   },
   "file_extension": ".py",
   "mimetype": "text/x-python",
   "name": "python",
   "nbconvert_exporter": "python",
   "pygments_lexer": "ipython3",
   "version": "3.7.13"
  },
  "vscode": {
   "interpreter": {
    "hash": "3ad933181bd8a04b432d3370b9dc3b0662ad032c4dfaa4e4f1596c548f763858"
   }
  }
 },
 "nbformat": 4,
 "nbformat_minor": 5
}
