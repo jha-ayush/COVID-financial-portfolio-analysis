{
 "cells": [
  {
   "cell_type": "code",
   "execution_count": null,
   "id": "a6957759-0c63-420a-8f1a-808156e26304",
   "metadata": {},
   "outputs": [],
   "source": [
    "pip install polygon-api-client"
   ]
  },
  {
   "cell_type": "code",
   "execution_count": null,
   "id": "762bdcda-9598-4581-b08b-f1e1b7f195a6",
   "metadata": {},
   "outputs": [],
   "source": [
    "pip install fire"
   ]
  },
  {
   "cell_type": "code",
   "execution_count": null,
   "id": "acb799a4-4ac2-4529-a998-d961b7477e0b",
   "metadata": {},
   "outputs": [],
   "source": [
    "pip install questionary"
   ]
  },
  {
   "cell_type": "code",
   "execution_count": null,
   "id": "9bfb6c57-33e7-4dee-8757-ccabf256e66c",
   "metadata": {},
   "outputs": [],
   "source": [
    "pip install load_dotenv"
   ]
  },
  {
   "cell_type": "code",
   "execution_count": null,
   "id": "70b0da6e-60af-4d08-8f5c-e00f94128512",
   "metadata": {},
   "outputs": [],
   "source": [
    "from polygon import RESTClient"
   ]
  },
  {
   "cell_type": "code",
   "execution_count": null,
   "id": "60b78199-1cd0-4b38-9838-49cdaf599eb4",
   "metadata": {},
   "outputs": [],
   "source": [
    "#import the necessary modules\n",
    "import pandas as pd\n",
    "#questionary\n",
    "from pathlib import Path\n",
    "import fire\n",
    "import questionary\n",
    "#API\n",
    "import os\n",
    "import json\n",
    "import requests\n",
    "from dotenv import load_dotenv\n",
    "from MCForecastTools import MCSimulation\n",
    "%matplotlib inline\n",
    "#"
   ]
  },
  {
   "cell_type": "code",
   "execution_count": null,
   "id": "c3248d17-b986-4109-b801-872e79d429c6",
   "metadata": {},
   "outputs": [],
   "source": [
    "from IPython.display import display_html "
   ]
  },
  {
   "cell_type": "code",
   "execution_count": null,
   "id": "e66002f2-790e-46cc-bc18-957c349ffbef",
   "metadata": {},
   "outputs": [],
   "source": [
    "%env POLYGON_API_KEY 'JQfBpF3NpcYjuBdMiXeUr6q54XafY_pQ'"
   ]
  },
  {
   "cell_type": "code",
   "execution_count": null,
   "id": "4eb97927-9386-4814-a720-93f74d6d932a",
   "metadata": {},
   "outputs": [],
   "source": [
    "# Get the API key from the environment variable and store as Python variable\n",
    "polygon_api_key = os.getenv(\"POLYGON_API_KEY\")\n",
    "\n",
    "# Using the type funcion, confirm that the Nasdaq API key is available for use in the notebook\n",
    "type(polygon_api_key)"
   ]
  },
  {
   "cell_type": "code",
   "execution_count": null,
   "id": "861a6c5d-f684-4d0b-b9f7-778141d8e963",
   "metadata": {},
   "outputs": [],
   "source": [
    "# Create `start_date` and `end_date` variables for the period before the pandemic\n",
    "start_date = pd.Timestamp(\"2020-03-01\", tz=\"America/New_York\").isoformat()\n",
    "end_date = pd.Timestamp(\"2021-02-01\", tz=\"America/New_York\").isoformat()\n"
   ]
  },
  {
   "cell_type": "code",
   "execution_count": null,
   "id": "093bdad4-ca2f-44a9-ba6e-ae08989eb6d0",
   "metadata": {},
   "outputs": [],
   "source": [
    "#Create endpoint URLs for all the stocks and related ETFs for the period prior to the pandemic\n",
    "AMZN_url = \"https://api.polygon.io/v2/aggs/ticker/AMZN/range/1/day/2020-03-01/2021-03-01?apiKey=JQfBpF3NpcYjuBdMiXeUr6q54XafY_pQ\"\n",
    "\n",
    "RTH_url = \"https://api.polygon.io/v2/aggs/ticker/RTH/range/1/day/2020-03-01/2021-03-01?apiKey=JQfBpF3NpcYjuBdMiXeUr6q54XafY_pQ\"\n",
    "\n",
    "AMT_url = \"https://api.polygon.io/v2/aggs/ticker/AMT/range/1/day/2020-03-01/2021-03-01?apiKey=JQfBpF3NpcYjuBdMiXeUr6q54XafY_pQ\"\n",
    "\n",
    "IYR_url = \"https://api.polygon.io/v2/aggs/ticker/IYR/range/1/day/2020-03-01/2021-03-01?apiKey=JQfBpF3NpcYjuBdMiXeUr6q54XafY_pQ\"\n",
    "\n",
    "XOM_url = \"https://api.polygon.io/v2/aggs/ticker/XOM/range/1/day/2020-03-01/2021-03-01?apiKey=JQfBpF3NpcYjuBdMiXeUr6q54XafY_pQ\"\n",
    "\n",
    "XLE_url = \"https://api.polygon.io/v2/aggs/ticker/XLE/range/1/day/2020-03-01/2021-03-01?apiKey=JQfBpF3NpcYjuBdMiXeUr6q54XafY_pQ\"\n",
    "\n",
    "SPY_url = \"https://api.polygon.io/v2/aggs/ticker/SPY/range/1/day/2020-03-01/2021-03-01?apiKey=JQfBpF3NpcYjuBdMiXeUr6q54XafY_pQ\"\n"
   ]
  },
  {
   "cell_type": "code",
   "execution_count": null,
   "id": "4b917c2e-9dd3-4086-8da9-93de30c57c2c",
   "metadata": {},
   "outputs": [],
   "source": [
    "# Make the API call for the AMZN information using requests.get\n",
    "AMZN_response = requests.get(AMZN_url).json()\n",
    "\n",
    "# Use the json.dumps function to review the response data from the API call\n",
    "# Use the indent and sort_keys parameters to make the response object readable\n",
    "print(json.dumps(AMZN_response, indent=2, sort_keys=True))"
   ]
  },
  {
   "cell_type": "code",
   "execution_count": null,
   "id": "9633b77c-b492-4ab0-a95e-c921cea1b53d",
   "metadata": {},
   "outputs": [],
   "source": [
    "# Make the API call for the RTH information using requests.get\n",
    "RTH_response = requests.get(RTH_url).json()\n",
    "\n",
    "# Use the json.dumps function to review the response data from the API call\n",
    "# Use the indent and sort_keys parameters to make the response object readable\n",
    "print(json.dumps(RTH_response, indent=2, sort_keys=True))"
   ]
  },
  {
   "cell_type": "code",
   "execution_count": null,
   "id": "7558b26c-f737-482f-95fb-43d4fe55fd6b",
   "metadata": {},
   "outputs": [],
   "source": [
    "# Make the API call for the AMT information using requests.get\n",
    "AMT_response = requests.get(AMT_url).json()\n",
    "\n",
    "# Use the json.dumps function to review the response data from the API call\n",
    "# Use the indent and sort_keys parameters to make the response object readable\n",
    "print(json.dumps(AMT_response, indent=2, sort_keys=True))"
   ]
  },
  {
   "cell_type": "code",
   "execution_count": null,
   "id": "aaebe8a2-b788-4fc6-9a70-cadbf0a716bc",
   "metadata": {},
   "outputs": [],
   "source": [
    "# Make the API call for the IYR information using requests.get\n",
    "IYR_response = requests.get(IYR_url).json()\n",
    "\n",
    "# Use the json.dumps function to review the response data from the API call\n",
    "# Use the indent and sort_keys parameters to make the response object readable\n",
    "print(json.dumps(IYR_response, indent=2, sort_keys=True))"
   ]
  },
  {
   "cell_type": "code",
   "execution_count": null,
   "id": "2dedc9a6-73ae-4444-88c5-0f51d618b331",
   "metadata": {},
   "outputs": [],
   "source": [
    "# Make the API call for the XOM information using requests.get\n",
    "XOM_response = requests.get(XOM_url).json()\n",
    "\n",
    "# Use the json.dumps function to review the response data from the API call\n",
    "# Use the indent and sort_keys parameters to make the response object readable\n",
    "print(json.dumps(XOM_response, indent=2, sort_keys=True))"
   ]
  },
  {
   "cell_type": "code",
   "execution_count": null,
   "id": "a2d5d611-c197-46cf-b1a3-a4e21ef3ac5e",
   "metadata": {},
   "outputs": [],
   "source": [
    "# Make the API call for the XLE information using requests.get\n",
    "XLE_response = requests.get(XLE_url).json()\n",
    "\n",
    "# Use the json.dumps function to review the response data from the API call\n",
    "# Use the indent and sort_keys parameters to make the response object readable\n",
    "print(json.dumps(XLE_response, indent=2, sort_keys=True))"
   ]
  },
  {
   "cell_type": "code",
   "execution_count": null,
   "id": "66aa270c-c29a-431a-9bcf-9599e6529c5d",
   "metadata": {},
   "outputs": [],
   "source": [
    "# Make the API call for the AMZN information using requests.get\n",
    "SPY_response = requests.get(SPY_url).json()\n",
    "\n",
    "# Use the json.dumps function to review the response data from the API call\n",
    "# Use the indent and sort_keys parameters to make the response object readable\n",
    "print(json.dumps(SPY_response, indent=2, sort_keys=True))"
   ]
  },
  {
   "cell_type": "code",
   "execution_count": null,
   "id": "82f7876e-4452-4ec2-928c-fac597249e3e",
   "metadata": {},
   "outputs": [],
   "source": [
    "#Create a dataframe to store the AMZN data\n",
    "AMZN_df = pd.DataFrame(AMZN_response[\"results\"])\n",
    "\n",
    "#Review the dataframe\n",
    "AMZN_df"
   ]
  },
  {
   "cell_type": "code",
   "execution_count": null,
   "id": "af124763-ed20-4cc7-a9a4-294c503783d2",
   "metadata": {},
   "outputs": [],
   "source": [
    "#Create a Dataframe to store the RTH data\n",
    "RTH_df = pd.DataFrame(RTH_response[\"results\"])\n",
    "\n",
    "#Review the dataframe\n",
    "RTH_df"
   ]
  },
  {
   "cell_type": "code",
   "execution_count": null,
   "id": "4694c590-ba18-4369-8af6-0753f4eb9750",
   "metadata": {},
   "outputs": [],
   "source": [
    "#Create a Dataframe to store the AMT data\n",
    "AMT_df = pd.DataFrame(AMT_response[\"results\"])\n",
    "\n",
    "#Review the dataframe\n",
    "AMT_df"
   ]
  },
  {
   "cell_type": "code",
   "execution_count": null,
   "id": "66833ace-d80b-49b7-9070-0a20b974f15a",
   "metadata": {},
   "outputs": [],
   "source": [
    "#Create a Dataframe to store the IYR data\n",
    "IYR_df = pd.DataFrame(IYR_response[\"results\"])\n",
    "\n",
    "#Review the dataframe\n",
    "IYR_df"
   ]
  },
  {
   "cell_type": "code",
   "execution_count": null,
   "id": "26bf297b-11df-4dcc-a31d-7466c577a12f",
   "metadata": {},
   "outputs": [],
   "source": [
    "#Create a Dataframe to store the XOM data\n",
    "XOM_df = pd.DataFrame(XOM_response[\"results\"])\n",
    "\n",
    "#Review the dataframe\n",
    "XOM_df"
   ]
  },
  {
   "cell_type": "code",
   "execution_count": null,
   "id": "4ff3549a-6fba-492a-9f98-ce37868d2b62",
   "metadata": {},
   "outputs": [],
   "source": [
    "#Create a Dataframe to store the XLE data\n",
    "XLE_df = pd.DataFrame(XLE_response[\"results\"])\n",
    "\n",
    "#Review the dataframe\n",
    "XLE_df"
   ]
  },
  {
   "cell_type": "code",
   "execution_count": null,
   "id": "acd0fe2b-1dda-46de-8464-64be07e21a49",
   "metadata": {},
   "outputs": [],
   "source": [
    "#Create a Dataframe to store the SPY data\n",
    "SPY_df = pd.DataFrame(SPY_response[\"results\"])\n",
    "\n",
    "#Review the dataframe\n",
    "SPY_df"
   ]
  },
  {
   "cell_type": "code",
   "execution_count": null,
   "id": "6b1da39b-e5b0-4969-a452-3076e72038b7",
   "metadata": {},
   "outputs": [],
   "source": [
    "#Create a new dataframe with only the closing prices for each stock and ETF\n",
    "AMZN_price_df = pd.DataFrame(AMZN_df[\"c\"])\n",
    "\n",
    "#Review the dataframe\n",
    "AMZN_price_df\n",
    "\n",
    "#Drop the index column\n",
    "AMZN_price"
   ]
  },
  {
   "cell_type": "code",
   "execution_count": null,
   "id": "fce3760a-c927-4e3d-a648-088c011e369b",
   "metadata": {},
   "outputs": [],
   "source": [
    "#Create a new dataframe with only the closing prices for each stock and ETF\n",
    "RTH_price_df = pd.DataFrame(RTH_df[\"c\"])\n",
    "\n",
    "#Review the dataframe\n",
    "RTH_price_df\n",
    "\n",
    "#Drop the index column"
   ]
  },
  {
   "cell_type": "code",
   "execution_count": null,
   "id": "97761ea2-3b9c-48da-bbd2-259b1e8cf7ff",
   "metadata": {},
   "outputs": [],
   "source": [
    "#Create a new dataframe with only the closing prices for each stock and ETF\n",
    "AMT_price_df = pd.DataFrame(AMT_df[\"c\"])\n",
    "\n",
    "#Review the dataframe\n",
    "AMT_price_df\n",
    "\n",
    "#Drop the index column\n"
   ]
  },
  {
   "cell_type": "code",
   "execution_count": null,
   "id": "e4cf5a96-79e4-4076-aa5a-5b641418a5d0",
   "metadata": {},
   "outputs": [],
   "source": [
    "#Create a new dataframe with only the closing prices for each stock and ETF\n",
    "IYR_price_df = pd.DataFrame(IYR_df[\"c\"])\n",
    "\n",
    "#Review the dataframe\n",
    "IYR_price_df\n",
    "\n",
    "#Drop the index column"
   ]
  },
  {
   "cell_type": "code",
   "execution_count": null,
   "id": "84892c77-c188-4eb8-83dd-a4236426a71e",
   "metadata": {},
   "outputs": [],
   "source": [
    "#Create a new dataframe with only the closing prices for each stock and ETF\n",
    "XOM_price_df = pd.DataFrame(XOM_df[\"c\"])\n",
    "\n",
    "#Review the dataframe\n",
    "XOM_price_df\n",
    "\n",
    "#Drop the index column"
   ]
  },
  {
   "cell_type": "code",
   "execution_count": null,
   "id": "3f371a50-42b4-4bc5-af8e-4ce37b35acce",
   "metadata": {},
   "outputs": [],
   "source": [
    "#Create a new dataframe with only the closing prices for each stock and ETF\n",
    "XLE_price_df = pd.DataFrame(XLE_df[\"c\"])\n",
    "\n",
    "#Review the dataframe\n",
    "XLE_price_df\n",
    "\n",
    "#Drop the index column\n"
   ]
  },
  {
   "cell_type": "code",
   "execution_count": null,
   "id": "8d2ac3ca-9169-4a71-a749-7820e2353a0b",
   "metadata": {},
   "outputs": [],
   "source": [
    "#Create a new dataframe with only the closing prices for each stock and ETF\n",
    "SPY_price_df = pd.DataFrame(SPY_df[\"c\"])\n",
    "\n",
    "#Review the dataframe\n",
    "SPY_price_df\n",
    "\n",
    "#Drop the index column\n"
   ]
  },
  {
   "cell_type": "code",
   "execution_count": null,
   "id": "19833d02-4bf6-4238-a767-de77a824f836",
   "metadata": {},
   "outputs": [],
   "source": [
    "#Concatenate the tech stock and tech etf price dataframe to create one dataframe of prices for each sector\n",
    "tech_portfolio_prices_df = pd.concat([AMZN_price_df, RTH_price_df],axis=1, keys=[\"AMZN\",\"RTH\"])\n",
    "\n",
    "#Review the dataframe\n",
    "tech_portfolio_prices_df\n",
    "\n",
    "#Drop NaN values\n",
    "#tech_portfolio_prices_df_.dropna()"
   ]
  },
  {
   "cell_type": "code",
   "execution_count": null,
   "id": "44afbd72-dd64-4ced-81a7-50ec73200e14",
   "metadata": {},
   "outputs": [],
   "source": [
    "#Concatenate the tech stock and tech etf price dataframe to create one dataframe of prices for each sector\n",
    "RE_portfolio_prices_df = pd.concat([AMT_price_df, IYR_price_df],axis=1, keys=[\"AMT\",\"IYR\"])\n",
    "\n",
    "#Review the dataframe\n",
    "RE_portfolio_prices_df\n",
    "\n",
    "#Drop NaN values\n",
    "#RE_portfolio_prices_df = RE_portfolio_prices_df_.dropna()"
   ]
  },
  {
   "cell_type": "code",
   "execution_count": null,
   "id": "ab5b8747-cbcd-4c55-ac4a-71d671308b03",
   "metadata": {},
   "outputs": [],
   "source": [
    "#Concatenate the tech stock and tech etf price dataframe to create one dataframe of prices for each sector\n",
    "energy_portfolio_prices_df = pd.concat([XOM_price_df, XLE_price_df],axis=1, keys=[\"XOM\",\"XLE\"])\n",
    "\n",
    "#Review the dataframe\n",
    "energy_portfolio_prices_df"
   ]
  },
  {
   "cell_type": "code",
   "execution_count": null,
   "id": "b93c169e-10dd-4b3b-966e-3b29ce69bf2a",
   "metadata": {},
   "outputs": [],
   "source": [
    "#Tech Daily Returns\n",
    "tech_daily_returns = tech_portfolio_prices_df.pct_change().dropna()\n",
    "tech_daily_returns"
   ]
  },
  {
   "cell_type": "code",
   "execution_count": null,
   "id": "bd86ca80-21d2-45c7-8864-4a099b690208",
   "metadata": {},
   "outputs": [],
   "source": [
    "#Tech Daily Returns\n",
    "RE_daily_returns = RE_portfolio_prices_df.pct_change().dropna()\n",
    "RE_daily_returns"
   ]
  },
  {
   "cell_type": "code",
   "execution_count": null,
   "id": "241b784d-a134-4140-949b-26ad67f6f40b",
   "metadata": {},
   "outputs": [],
   "source": [
    "#Tech Daily Returns\n",
    "energy_daily_returns = energy_portfolio_prices_df.pct_change().dropna()\n",
    "energy_daily_returns"
   ]
  },
  {
   "cell_type": "code",
   "execution_count": null,
   "id": "4575d51b-7bae-4236-b292-f94b53958310",
   "metadata": {},
   "outputs": [],
   "source": [
    "#Display all sectors of the stock/ETF dataframes\n",
    "dfT_style = tech_daily_returns.style.set_table_attributes(\"style='display:inline; margin-right:20px;'\").set_caption(\"Tech\")\n",
    "dfR_style = RE_daily_returns.style.set_table_attributes(\"style='display:inline'\").set_caption(\"Real Estate\")\n",
    "dfE_style = energy_daily_returns.style.set_table_attributes(\"style='display:inline'\").set_caption(\"Energy\")\n",
    "\n",
    "\n",
    "display_html(dfT_style._repr_html_() + dfR_style._repr_html_() + dfE_style._repr_html_(), raw=True)"
   ]
  },
  {
   "cell_type": "markdown",
   "id": "4a4d8295-3ac3-4e89-9bff-fd5e6ea50742",
   "metadata": {},
   "source": [
    "Analyzing Each Stock and ETF Individually¶"
   ]
  },
  {
   "cell_type": "code",
   "execution_count": null,
   "id": "986d9a13-e2d4-46f6-9af9-e3755ddd5bf7",
   "metadata": {},
   "outputs": [],
   "source": [
    "#Questionary SQL\n",
    "#How much weight do you want in each stock?\n"
   ]
  },
  {
   "cell_type": "code",
   "execution_count": null,
   "id": "c0446d12-95ba-4394-82c7-9cebfd53f338",
   "metadata": {},
   "outputs": [],
   "source": [
    "#Summary statistics for AMZN stock using .std() and .mean()\n",
    "\n"
   ]
  },
  {
   "cell_type": "code",
   "execution_count": null,
   "id": "a52e76e0-f6af-4828-b9a4-0bfbbe26f083",
   "metadata": {},
   "outputs": [],
   "source": [
    "#Summary statistics for RTH stock using .std() and .mean()\n"
   ]
  },
  {
   "cell_type": "code",
   "execution_count": null,
   "id": "75b58417-20ee-46be-a93e-055fd7e6602d",
   "metadata": {},
   "outputs": [],
   "source": [
    "#Summary statistics for AMT stock using .std() and .mean()\n",
    "\n"
   ]
  },
  {
   "cell_type": "code",
   "execution_count": null,
   "id": "5d0ff66d-0ca1-4563-a783-79bc8c2e8d88",
   "metadata": {},
   "outputs": [],
   "source": [
    "#Summary statistics for IYR stock using .std() and .mean()\n",
    "\n"
   ]
  },
  {
   "cell_type": "code",
   "execution_count": null,
   "id": "80d89f44-a91d-4317-8a7d-6e903470d530",
   "metadata": {},
   "outputs": [],
   "source": [
    "#Summary statistics for XOM stock using .std() and .mean()\n",
    "\n"
   ]
  },
  {
   "cell_type": "code",
   "execution_count": null,
   "id": "3ec9cec2-5f96-43f0-9132-07986d59db4c",
   "metadata": {},
   "outputs": [],
   "source": [
    "#Summary statistics for XLE stock using .std() and .mean()\n"
   ]
  },
  {
   "cell_type": "code",
   "execution_count": null,
   "id": "5940c70d-d809-469f-a0e1-4b404ad028ae",
   "metadata": {},
   "outputs": [],
   "source": [
    "# Variance For Each Stock and ETF"
   ]
  },
  {
   "cell_type": "code",
   "execution_count": null,
   "id": "b708733d-2536-4e64-a692-2d91a31b3ccd",
   "metadata": {},
   "outputs": [],
   "source": [
    "# Covariance for Each Stock and ETF"
   ]
  },
  {
   "cell_type": "code",
   "execution_count": null,
   "id": "c897c9fc-d241-429e-9d75-97f89801f1ba",
   "metadata": {},
   "outputs": [],
   "source": [
    "# Calculate betas of AMZN, RTH, AMT, IYR, XOM, XLE \n",
    "\n",
    "# Display the beta of all stocks and ETFS"
   ]
  },
  {
   "cell_type": "code",
   "execution_count": null,
   "id": "e525adb5-a36f-4d6d-b0d9-63306b04e5b6",
   "metadata": {},
   "outputs": [],
   "source": [
    "# Calculate alphas of AMZN, RTH, AMT, IYR, XOM, XLE \n",
    "\n",
    "# Display the alphas of all stocks and ETFS"
   ]
  },
  {
   "cell_type": "code",
   "execution_count": null,
   "id": "f1421589-31b4-41b5-88e3-951dd82c8e3a",
   "metadata": {},
   "outputs": [],
   "source": [
    "Analyzing What Would Happen To A Portfolio in Each Sector For the Period Before the Pandemic"
   ]
  },
  {
   "cell_type": "code",
   "execution_count": null,
   "id": "f536527d-30af-4ac8-97c6-e2a7da5bd8b2",
   "metadata": {},
   "outputs": [],
   "source": [
    "#Questionary SQL\n",
    "#How much weight do you want in each stock?\n",
    "\n"
   ]
  },
  {
   "cell_type": "code",
   "execution_count": null,
   "id": "a1cad240-8bf0-48fd-ad9e-fb8299b4a6ae",
   "metadata": {},
   "outputs": [],
   "source": [
    "#Portfolio Returns for Tech: use (portfolio_return = weightAMZN * meanAMZN + weightRTH * meanRTH)\n"
   ]
  },
  {
   "cell_type": "code",
   "execution_count": null,
   "id": "a94c0dda-57a9-422c-ad19-a857152939ae",
   "metadata": {},
   "outputs": [],
   "source": [
    "#Portfolio Returns for Real Estate: use (portfolio_return = weightAMT * meanAMT + weightIYR * meanIYR)\n"
   ]
  },
  {
   "cell_type": "code",
   "execution_count": null,
   "id": "52f15c94-b367-473d-9e58-0a21264f1a3b",
   "metadata": {},
   "outputs": [],
   "source": [
    "#Portfolio Returns for Energy: use (portfolio_return = weightXOM * meanXOM + weightXLE * meanXLE)\n",
    "\n"
   ]
  },
  {
   "cell_type": "code",
   "execution_count": null,
   "id": "9aaace19-04d7-44b6-b240-58ded69c5d6a",
   "metadata": {},
   "outputs": [],
   "source": [
    "# Using the Pandas var function, calculate the covariance of the S&P 500 using tech portfolio returns information\n",
    "# The ETF SPY will represent the market\n"
   ]
  },
  {
   "cell_type": "code",
   "execution_count": null,
   "id": "110e6b9e-ebbc-49fe-818f-a45f021d0022",
   "metadata": {},
   "outputs": [],
   "source": [
    "# Using the Pandas var function, calculate the covariance of the S&P 500 using Energy portfolio returns information\n",
    "# The ETF SPY will represent the market\n",
    "\n"
   ]
  },
  {
   "cell_type": "code",
   "execution_count": null,
   "id": "1333d78d-62ee-484e-b3e5-51fe5babf4e3",
   "metadata": {},
   "outputs": [],
   "source": [
    "# Using the Pandas rolling function in conjunction with the var function, \n",
    "# calculate the 30-day rolling variance for the S&P 500 using tech daily returns information\n",
    "\n",
    "# Visualize the 30-day rolling variance of the S&P 500\n",
    "# Be sure to adjust the figure size and add a title"
   ]
  },
  {
   "cell_type": "code",
   "execution_count": null,
   "id": "80397d5b-759b-4b7b-940a-f479946fa7fb",
   "metadata": {},
   "outputs": [],
   "source": [
    "#Monte Carlo Simulation\n"
   ]
  }
 ],
 "metadata": {
  "kernelspec": {
   "display_name": "Python 3 (ipykernel)",
   "language": "python",
   "name": "python3"
  },
  "language_info": {
   "codemirror_mode": {
    "name": "ipython",
    "version": 3
   },
   "file_extension": ".py",
   "mimetype": "text/x-python",
   "name": "python",
   "nbconvert_exporter": "python",
   "pygments_lexer": "ipython3",
   "version": "3.9.12"
  }
 },
 "nbformat": 4,
 "nbformat_minor": 5
}
