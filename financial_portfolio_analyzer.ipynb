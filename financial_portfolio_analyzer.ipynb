{
 "cells": [
  {
   "cell_type": "markdown",
   "id": "1a47de4a-ec9e-4135-b1fe-e1cb051330cf",
   "metadata": {},
   "source": [
    "# Portfolio Analyzer"
   ]
  },
  {
   "cell_type": "code",
   "execution_count": null,
   "id": "03992521-3ffe-4f80-afe2-3758b347937e",
   "metadata": {},
   "outputs": [],
   "source": [
    "pip install polygon-api-client"
   ]
  },
  {
   "cell_type": "code",
   "execution_count": null,
   "id": "77b4f6f6-4879-479b-a308-50dcc3172783",
   "metadata": {},
   "outputs": [],
   "source": [
    "pip install fire"
   ]
  },
  {
   "cell_type": "code",
   "execution_count": null,
   "id": "af2293b9-ec20-48d3-9c76-89265e442e8a",
   "metadata": {},
   "outputs": [],
   "source": [
    "pip install questionary"
   ]
  },
  {
   "cell_type": "code",
   "execution_count": null,
   "id": "9bfccd83-a28c-47f4-bed9-fffdd01c1f22",
   "metadata": {},
   "outputs": [],
   "source": [
    "pip install load_dotenv"
   ]
  },
  {
   "cell_type": "code",
   "execution_count": null,
   "id": "f07eedd7-cb82-4139-8c5e-93734f70d310",
   "metadata": {},
   "outputs": [],
   "source": [
    "pip install alpaca"
   ]
  },
  {
   "cell_type": "code",
   "execution_count": null,
   "id": "abdf4912-1f85-494c-ae72-53d942d705b5",
   "metadata": {},
   "outputs": [],
   "source": [
    "from polygon import RESTClient"
   ]
  },
  {
   "cell_type": "code",
   "execution_count": null,
   "id": "9cc85755-763a-4539-987e-801e235a720e",
   "metadata": {},
   "outputs": [],
   "source": [
    "#from local_settings import polygon as settings"
   ]
  },
  {
   "cell_type": "code",
   "execution_count": null,
   "id": "8d02b074-93ec-4081-b94d-1253f94aaedf",
   "metadata": {},
   "outputs": [],
   "source": [
    "#import the necessary modules\n",
    "import pandas as pd\n",
    "#questionary\n",
    "from pathlib import Path\n",
    "import fire\n",
    "import questionary\n",
    "#API\n",
    "import os\n",
    "import json\n",
    "import requests\n",
    "from dotenv import load_dotenv\n",
    "from MCForecastTools import MCSimulation\n",
    "%matplotlib inline\n",
    "#"
   ]
  },
  {
   "cell_type": "code",
   "execution_count": null,
   "id": "94801a56-cbee-4b0e-962b-7a69ffafa7e5",
   "metadata": {},
   "outputs": [],
   "source": [
    "from IPython.display import display_html "
   ]
  },
  {
   "cell_type": "code",
   "execution_count": null,
   "id": "428574e2-2c55-4b44-a188-84e527dedd02",
   "metadata": {},
   "outputs": [],
   "source": [
    "%env POLYGON_API_KEY 'enZp2AUpH4pGXJJuQ1CbjdVXJIsBFBEl'"
   ]
  },
  {
   "cell_type": "code",
   "execution_count": null,
   "id": "617081b8-4453-4ce1-aab1-6f713e3470c9",
   "metadata": {},
   "outputs": [],
   "source": [
    "# Load .env enviroment variables into the notebook\n",
    "#code lines in terminal"
   ]
  },
  {
   "cell_type": "code",
   "execution_count": null,
   "id": "3660efc3-6176-41fa-9c54-1528cb4670da",
   "metadata": {},
   "outputs": [],
   "source": [
    "# Get the API key from the environment variable and store as Python variable\n",
    "polygon_api_key = os.getenv(\"POLYGON_API_KEY\")\n",
    "\n",
    "# Using the type funcion, confirm that the Nasdaq API key is available for use in the notebook\n",
    "type(polygon_api_key)"
   ]
  },
  {
   "cell_type": "code",
   "execution_count": 73,
   "id": "416c6c2e-9467-46a9-bcb0-fced2c70cc60",
   "metadata": {},
   "outputs": [],
   "source": [
    "# Create `start_date` and `end_date` variables for the period before the pandemic\n",
    "start_date = pd.Timestamp(\"2017-01-01\", tz=\"America/New_York\").isoformat()\n",
    "end_date = pd.Timestamp(\"20-02-01\", tz=\"America/New_York\").isoformat()\n"
   ]
  },
  {
   "cell_type": "code",
   "execution_count": null,
   "id": "b0594479-5c99-49e2-9c6d-40a7d537e19d",
   "metadata": {},
   "outputs": [],
   "source": [
    "#Create endpoint URLs for all the stocks and related ETFs for the period prior to the pandemic\n",
    "AMZN_url = \"https://api.polygon.io/v2/aggs/ticker/AMZN/range/1/day/2017-01-01/2019-02-01?apiKey=rHtIrGbGhJY6umnXSqp6hYgTM3XnHI2_\"\n",
    "\n",
    "RTH_url = \"https://api.polygon.io/v2/aggs/ticker/RTH/range/1/day/2017-01-01/2019-02-01?apiKey=rHtIrGbGhJY6umnXSqp6hYgTM3XnHI2_\"\n",
    "\n",
    "AMT_url = \"https://api.polygon.io/v2/aggs/ticker/AMT/range/1/day/2017-01-01/2019-02-01?apiKey=rHtIrGbGhJY6umnXSqp6hYgTM3XnHI2_\"\n",
    "\n",
    "IYR_url = \"https://api.polygon.io/v2/aggs/ticker/IYR/range/1/day/2017-01-01/2019-02-01?apiKey=rHtIrGbGhJY6umnXSqp6hYgTM3XnHI2_\"\n",
    "\n",
    "XOM_url = \"https://api.polygon.io/v2/aggs/ticker/XOM/range/1/day/2017-01-01/2019-02-01?apiKey=rHtIrGbGhJY6umnXSqp6hYgTM3XnHI2_\"\n",
    "\n",
    "XLE_url = \"https://api.polygon.io/v2/aggs/ticker/XLE/range/1/day/2017-01-01/2019-02-01?apiKey=rHtIrGbGhJY6umnXSqp6hYgTM3XnHI2_\"\n",
    "\n",
    "SPY_url = \"https://api.polygon.io/v2/aggs/ticker/SPY/range/1/day/2017-01-01/2019-02-01?apiKey=rHtIrGbGhJY6umnXSqp6hYgTM3XnHI2_\"\n"
   ]
  },
  {
   "cell_type": "code",
   "execution_count": null,
   "id": "c2144778-5055-4f36-ada0-ef2f5bca3c5b",
   "metadata": {},
   "outputs": [],
   "source": [
    "# Make the API call for the AMZN information using requests.get\n",
    "AMZN_response = requests.get(AMZN_url).json()\n",
    "\n",
    "# Use the json.dumps function to review the response data from the API call\n",
    "# Use the indent and sort_keys parameters to make the response object readable\n",
    "print(json.dumps(AMZN_response, indent=2, sort_keys=True))"
   ]
  },
  {
   "cell_type": "code",
   "execution_count": null,
   "id": "f6dc0a65-e8f4-42b1-87ee-7f55fcd2d5d6",
   "metadata": {},
   "outputs": [],
   "source": [
    "# Make the API call for the RTH information using requests.get\n",
    "RTH_response = requests.get(RTH_url).json()\n",
    "\n",
    "# Use the json.dumps function to review the response data from the API call\n",
    "# Use the indent and sort_keys parameters to make the response object readable\n",
    "print(json.dumps(RTH_response, indent=2, sort_keys=True))"
   ]
  },
  {
   "cell_type": "code",
   "execution_count": null,
   "id": "53a295cd-dea1-496c-a826-51d8fdbe4453",
   "metadata": {},
   "outputs": [],
   "source": [
    "# Make the API call for the AMT information using requests.get\n",
    "AMT_response = requests.get(AMT_url).json()\n",
    "\n",
    "# Use the json.dumps function to review the response data from the API call\n",
    "# Use the indent and sort_keys parameters to make the response object readable\n",
    "print(json.dumps(AMT_response, indent=2, sort_keys=True))"
   ]
  },
  {
   "cell_type": "code",
   "execution_count": null,
   "id": "5429b7ba-b86d-46a8-9ca3-9d3d194bcadf",
   "metadata": {},
   "outputs": [],
   "source": [
    "# Make the API call for the IYR information using requests.get\n",
    "IYR_response = requests.get(IYR_url).json()\n",
    "\n",
    "# Use the json.dumps function to review the response data from the API call\n",
    "# Use the indent and sort_keys parameters to make the response object readable\n",
    "print(json.dumps(IYR_response, indent=2, sort_keys=True))"
   ]
  },
  {
   "cell_type": "code",
   "execution_count": null,
   "id": "2fc7aa38-8307-46c9-98a4-0c0c4230d6af",
   "metadata": {},
   "outputs": [],
   "source": [
    "# Make the API call for the XOM information using requests.get\n",
    "XOM_response = requests.get(XOM_url).json()\n",
    "\n",
    "# Use the json.dumps function to review the response data from the API call\n",
    "# Use the indent and sort_keys parameters to make the response object readable\n",
    "print(json.dumps(XOM_response, indent=2, sort_keys=True))"
   ]
  },
  {
   "cell_type": "code",
   "execution_count": null,
   "id": "8498d951-d94a-4179-b1c4-f8f3500ae17e",
   "metadata": {},
   "outputs": [],
   "source": [
    "# Make the API call for the XLE information using requests.get\n",
    "XLE_response = requests.get(XLE_url).json()\n",
    "\n",
    "# Use the json.dumps function to review the response data from the API call\n",
    "# Use the indent and sort_keys parameters to make the response object readable\n",
    "print(json.dumps(XLE_response, indent=2, sort_keys=True))"
   ]
  },
  {
   "cell_type": "code",
   "execution_count": null,
   "id": "5fe423e8-0ce2-4a33-a411-1c9d83fb8af6",
   "metadata": {},
   "outputs": [],
   "source": [
    "# Make the API call for the AMZN information using requests.get\n",
    "SPY_response = requests.get(SPY_url).json()\n",
    "\n",
    "# Use the json.dumps function to review the response data from the API call\n",
    "# Use the indent and sort_keys parameters to make the response object readable\n",
    "print(json.dumps(SPY_response, indent=2, sort_keys=True))"
   ]
  },
  {
   "cell_type": "code",
   "execution_count": null,
   "id": "d4687a78-3dc1-4bd7-bbbb-1ca034b7b6f7",
   "metadata": {},
   "outputs": [],
   "source": [
    "#Create REST object\n",
    "#client = RESTClient(\"enZp2AUpH4pGXJJuQ1CbjdVXJIsBFBEl\")\n",
    "#client\n"
   ]
  },
  {
   "cell_type": "code",
   "execution_count": null,
   "id": "2a3367e0-b959-42ae-be61-f6d2c1c21375",
   "metadata": {},
   "outputs": [],
   "source": [
    "#Create a dataframe to store the AMZN data\n",
    "AMZN_df = pd.DataFrame(AMZN_response[\"results\"])\n",
    "\n",
    "#Review the dataframe\n",
    "AMZN_df"
   ]
  },
  {
   "cell_type": "code",
   "execution_count": null,
   "id": "495a5174-d941-46e1-a20c-cc28f6f0d674",
   "metadata": {},
   "outputs": [],
   "source": [
    "#Create a Dataframe to store the RTH data\n",
    "RTH_df = pd.DataFrame(RTH_response[\"results\"])\n",
    "\n",
    "#Review the dataframe\n",
    "RTH_df"
   ]
  },
  {
   "cell_type": "code",
   "execution_count": null,
   "id": "12f6d54f-790d-4fe3-b3b3-54fe7683c41d",
   "metadata": {},
   "outputs": [],
   "source": [
    "#Create a Dataframe to store the AMT data\n",
    "AMT_df = pd.DataFrame(AMT_response[\"results\"])\n",
    "\n",
    "#Review the dataframe\n",
    "AMT_df"
   ]
  },
  {
   "cell_type": "code",
   "execution_count": null,
   "id": "1b9ad1d6-158f-480f-8194-557e1a5aebaf",
   "metadata": {},
   "outputs": [],
   "source": [
    "#Create a Dataframe to store the IYR data\n",
    "IYR_df = pd.DataFrame(IYR_response[\"results\"])\n",
    "\n",
    "#Review the dataframe\n",
    "IYR_df"
   ]
  },
  {
   "cell_type": "code",
   "execution_count": null,
   "id": "501ae629-74a3-430a-b88f-a2258c8f62a9",
   "metadata": {},
   "outputs": [],
   "source": [
    "#Create a Dataframe to store the XOM data\n",
    "XOM_df = pd.DataFrame(XOM_response[\"results\"])\n",
    "\n",
    "#Review the dataframe\n",
    "XOM_df"
   ]
  },
  {
   "cell_type": "code",
   "execution_count": null,
   "id": "1ee9d797-df1f-496f-bc06-bf508e2f02ec",
   "metadata": {},
   "outputs": [],
   "source": [
    "#Create a Dataframe to store the XLE data\n",
    "XLE_df = pd.DataFrame(XLE_response[\"results\"])\n",
    "\n",
    "#Review the dataframe\n",
    "XLE_df"
   ]
  },
  {
   "cell_type": "code",
   "execution_count": null,
   "id": "f8da93aa-ebcc-4c8c-b655-3e5f655ec537",
   "metadata": {},
   "outputs": [],
   "source": [
    "#Create a Dataframe to store the SPY data\n",
    "SPY_df = pd.DataFrame(SPY_response[\"results\"])\n",
    "\n",
    "#Review the dataframe\n",
    "SPY_df"
   ]
  },
  {
   "cell_type": "code",
   "execution_count": null,
   "id": "f3571a2f-c584-4ac9-8df5-e2298e608262",
   "metadata": {},
   "outputs": [],
   "source": [
    "#Create a new dataframe with only the closing prices for each stock and ETF\n",
    "AMZN_price_df = pd.DataFrame(AMZN_df[\"c\"])\n",
    "\n",
    "#Review the dataframe\n",
    "AMZN_price_df\n",
    "\n",
    "#Drop the index column\n"
   ]
  },
  {
   "cell_type": "code",
   "execution_count": null,
   "id": "f070ae7b-b309-4afe-9424-5918cafbe5a0",
   "metadata": {},
   "outputs": [],
   "source": [
    "#Create a new dataframe with only the closing prices for each stock and ETF\n",
    "RTH_price_df = pd.DataFrame(RTH_df[\"c\"])\n",
    "\n",
    "#Review the dataframe\n",
    "RTH_price_df\n",
    "\n",
    "#Drop the index column\n"
   ]
  },
  {
   "cell_type": "code",
   "execution_count": null,
   "id": "05d62b54-a6f2-4a06-8ffd-123cd7f2ce2d",
   "metadata": {},
   "outputs": [],
   "source": [
    "#Create a new dataframe with only the closing prices for each stock and ETF\n",
    "RTH_price_df = pd.DataFrame(RTH_df[\"c\"])\n",
    "\n",
    "#Review the dataframe\n",
    "RTH_price_df\n",
    "\n",
    "#Drop the index column\n"
   ]
  },
  {
   "cell_type": "code",
   "execution_count": null,
   "id": "96b28da7-5f76-443f-b442-59f618cd9d3a",
   "metadata": {},
   "outputs": [],
   "source": [
    "#Create a new dataframe with only the closing prices for each stock and ETF\n",
    "AMT_price_df = pd.DataFrame(AMT_df[\"c\"])\n",
    "\n",
    "#Review the dataframe\n",
    "AMT_price_df\n",
    "\n",
    "#Drop the index column\n"
   ]
  },
  {
   "cell_type": "code",
   "execution_count": null,
   "id": "aab73725-f02b-4981-baf9-4b9bb73aacf3",
   "metadata": {},
   "outputs": [],
   "source": [
    "#Create a new dataframe with only the closing prices for each stock and ETF\n",
    "IYR_price_df = pd.DataFrame(IYR_df[\"c\"])\n",
    "\n",
    "#Review the dataframe\n",
    "IYR_price_df\n",
    "\n",
    "#Drop the index column\n"
   ]
  },
  {
   "cell_type": "code",
   "execution_count": null,
   "id": "ed8a55f9-a527-49ce-897c-e729b00ff61e",
   "metadata": {},
   "outputs": [],
   "source": [
    "#Create a new dataframe with only the closing prices for each stock and ETF\n",
    "XOM_price_df = pd.DataFrame(XOM_df[\"c\"])\n",
    "\n",
    "#Review the dataframe\n",
    "XOM_price_df\n",
    "\n",
    "#Drop the index column\n"
   ]
  },
  {
   "cell_type": "code",
   "execution_count": null,
   "id": "0eb63ebf-3cc2-4ba5-952d-5fcdb5782a28",
   "metadata": {},
   "outputs": [],
   "source": [
    "#Create a new dataframe with only the closing prices for each stock and ETF\n",
    "XLE_price_df = pd.DataFrame(XLE_df[\"c\"])\n",
    "\n",
    "#Review the dataframe\n",
    "XLE_price_df\n",
    "\n",
    "#Drop the index column\n"
   ]
  },
  {
   "cell_type": "code",
   "execution_count": null,
   "id": "4da878e1-2cae-48ec-bff2-7e3299be8a39",
   "metadata": {},
   "outputs": [],
   "source": [
    "#Create a new dataframe with only the closing prices for each stock and ETF\n",
    "SPY_price_df = pd.DataFrame(SPY_df[\"c\"])\n",
    "\n",
    "#Review the dataframe\n",
    "SPY_price_df\n",
    "\n",
    "#Drop the index column\n"
   ]
  },
  {
   "cell_type": "code",
   "execution_count": null,
   "id": "54f4d6ef-d592-4ca2-917f-f26291d4201d",
   "metadata": {},
   "outputs": [],
   "source": [
    "#Concatenate the tech stock and tech etf price dataframe to create one dataframe of prices for each sector\n",
    "tech_portfolio_prices_df = pd.concat([AMZN_price_df, RTH_price_df],axis=1, keys=[\"AMZN\",\"RTH\"])\n",
    "\n",
    "#Review the dataframe\n",
    "tech_portfolio_prices_df\n",
    "\n",
    "#Drop NaN values\n",
    "#tech_portfolio_prices_df_.dropna()"
   ]
  },
  {
   "cell_type": "code",
   "execution_count": null,
   "id": "c7e309f4-d5b6-4870-8afa-25b4cc84e9f4",
   "metadata": {},
   "outputs": [],
   "source": [
    "#Concatenate the tech stock and tech etf price dataframe to create one dataframe of prices for each sector\n",
    "RE_portfolio_prices_df = pd.concat([AMT_price_df, IYR_price_df],axis=1, keys=[\"AMT\",\"IYR\"])\n",
    "\n",
    "#Review the dataframe\n",
    "RE_portfolio_prices_df\n",
    "\n",
    "#Drop NaN values\n",
    "#RE_portfolio_prices_df = RE_portfolio_prices_df_.dropna()"
   ]
  },
  {
   "cell_type": "code",
   "execution_count": null,
   "id": "e816de00-e9cb-4698-8404-62f7d4ce70c1",
   "metadata": {},
   "outputs": [],
   "source": [
    "#Concatenate the tech stock and tech etf price dataframe to create one dataframe of prices for each sector\n",
    "energy_portfolio_prices_df = pd.concat([XOM_price_df, XLE_price_df],axis=1, keys=[\"XOM\",\"XLE\"])\n",
    "\n",
    "#Review the dataframe\n",
    "energy_portfolio_prices_df"
   ]
  },
  {
   "cell_type": "code",
   "execution_count": null,
   "id": "64d4ae84-16b8-47be-9084-9d6f447d81f5",
   "metadata": {},
   "outputs": [],
   "source": [
    "#Tech Daily Returns\n",
    "tech_daily_returns = tech_portfolio_prices_df.pct_change().dropna()\n",
    "tech_daily_returns\n"
   ]
  },
  {
   "cell_type": "code",
   "execution_count": null,
   "id": "e379c861-95f0-4275-9752-43458f5e3324",
   "metadata": {},
   "outputs": [],
   "source": [
    "#Tech Daily Returns\n",
    "RE_daily_returns = RE_portfolio_prices_df.pct_change().dropna()\n",
    "RE_daily_returns"
   ]
  },
  {
   "cell_type": "code",
   "execution_count": null,
   "id": "bce93234-1959-4a80-9b7d-44b2454e7e26",
   "metadata": {},
   "outputs": [],
   "source": [
    "#Tech Daily Returns\n",
    "energy_daily_returns = energy_portfolio_prices_df.pct_change().dropna()\n",
    "energy_daily_returns"
   ]
  },
  {
   "cell_type": "code",
   "execution_count": null,
   "id": "40c8e451-dae7-4df9-a92e-828b215f332d",
   "metadata": {},
   "outputs": [],
   "source": [
    "#Display all sectors of the stock/ETF dataframes\n",
    "dfT_style = tech_daily_returns.style.set_table_attributes(\"style='display:inline; margin-right:20px;'\").set_caption(\"Tech\")\n",
    "dfR_style = RE_daily_returns.style.set_table_attributes(\"style='display:inline'\").set_caption(\"Real Estate\")\n",
    "dfE_style = energy_daily_returns.style.set_table_attributes(\"style='display:inline'\").set_caption(\"Energy\")\n",
    "\n",
    "\n",
    "display_html(dfT_style._repr_html_() + dfR_style._repr_html_() + dfE_style._repr_html_(), raw=True)"
   ]
  },
  {
   "cell_type": "markdown",
   "id": "4e01bda0-7313-4129-8930-b0b950cbd90a",
   "metadata": {},
   "source": [
    "# Analyzing Each Stock and ETF Individually\n"
   ]
  },
  {
   "cell_type": "code",
   "execution_count": null,
   "id": "12cc12dd-68c1-4ff6-8985-aa88feb14cf6",
   "metadata": {},
   "outputs": [],
   "source": [
    "#Questionary SQL\n",
    "#How much weight do you want in each stock?\n"
   ]
  },
  {
   "cell_type": "code",
   "execution_count": null,
   "id": "57557244-d89f-487c-9fef-8ea4b98aade2",
   "metadata": {},
   "outputs": [],
   "source": [
    "#Summary statistics for AMZN stock using .std() and .mean()\n",
    "\n"
   ]
  },
  {
   "cell_type": "code",
   "execution_count": null,
   "id": "43851111-af48-4322-9aeb-30fcd0e713e0",
   "metadata": {},
   "outputs": [],
   "source": [
    "#Summary statistics for RTH stock using .std() and .mean()\n"
   ]
  },
  {
   "cell_type": "code",
   "execution_count": null,
   "id": "80a18635-6927-4ebf-be21-bac003f7f04e",
   "metadata": {},
   "outputs": [],
   "source": [
    "#Summary statistics for AMT stock using .std() and .mean()\n",
    "\n"
   ]
  },
  {
   "cell_type": "code",
   "execution_count": null,
   "id": "0a6d48da-cbbb-453a-9059-25725226b493",
   "metadata": {},
   "outputs": [],
   "source": [
    "#Summary statistics for IYR stock using .std() and .mean()\n",
    "\n"
   ]
  },
  {
   "cell_type": "code",
   "execution_count": null,
   "id": "60b68c0d-17fb-45b8-8b7b-10c7edb435e8",
   "metadata": {},
   "outputs": [],
   "source": [
    "#Summary statistics for XOM stock using .std() and .mean()\n",
    "\n"
   ]
  },
  {
   "cell_type": "code",
   "execution_count": null,
   "id": "93ce569f-0ac9-4d0c-b2c9-95c9ac18e1f7",
   "metadata": {},
   "outputs": [],
   "source": [
    "#Summary statistics for XLE stock using .std() and .mean()\n",
    "\n"
   ]
  },
  {
   "cell_type": "code",
   "execution_count": null,
   "id": "a47fc738-e516-4502-abab-4629cec0e12d",
   "metadata": {},
   "outputs": [],
   "source": [
    "#Summary statistics for each stock using .describe()\n",
    "\n"
   ]
  },
  {
   "cell_type": "code",
   "execution_count": null,
   "id": "aab7c8d8-e0ab-472f-a062-f43551600a95",
   "metadata": {},
   "outputs": [],
   "source": [
    "# Variance For Each Stock and ETF\n"
   ]
  },
  {
   "cell_type": "code",
   "execution_count": null,
   "id": "e91c6d15-5aa1-41fc-a6e7-d086cd9868f4",
   "metadata": {},
   "outputs": [],
   "source": [
    "# Covariance for Each Stock and ETF"
   ]
  },
  {
   "cell_type": "code",
   "execution_count": null,
   "id": "bb0dcb6d-e07c-4022-971a-8628d0aae00c",
   "metadata": {},
   "outputs": [],
   "source": [
    "#Sharpe ratio for each stock and ETF \n"
   ]
  },
  {
   "cell_type": "code",
   "execution_count": null,
   "id": "9b56aa30-cfb3-4468-a1c2-2447683fe4ac",
   "metadata": {},
   "outputs": [],
   "source": [
    "# Calculate betas of AMZN, RTH, AMT, IYR, XOM, XLE \n",
    "\n",
    "# Display the beta of all stocks and ETFS\n"
   ]
  },
  {
   "cell_type": "code",
   "execution_count": null,
   "id": "0b8f0366-8155-4c95-8355-5833bfa1c2fa",
   "metadata": {},
   "outputs": [],
   "source": [
    "# Calculate alphas of AMZN, RTH, AMT, IYR, XOM, XLE \n",
    "\n",
    "# Display the alphas of all stocks and ETFS\n"
   ]
  },
  {
   "cell_type": "markdown",
   "id": "730909ed-38de-433e-b54b-0d3f6bc1fc8c",
   "metadata": {},
   "source": [
    "### Analyzing What Would Happen To A Portfolio in Each Sector For the Period Before the Pandemic"
   ]
  },
  {
   "cell_type": "code",
   "execution_count": null,
   "id": "f2dc4b63-30ac-46a8-bf71-0af30379345b",
   "metadata": {},
   "outputs": [],
   "source": [
    "#Questionary SQL\n",
    "#How much weight do you want in each stock?\n",
    "\n"
   ]
  },
  {
   "cell_type": "code",
   "execution_count": null,
   "id": "aef37e10-756f-4ee1-9266-40335ec09176",
   "metadata": {},
   "outputs": [],
   "source": [
    "#Portfolio Returns for Tech: use (portfolio_return = weightAMZN * meanAMZN + weightRTH * meanRTH)\n"
   ]
  },
  {
   "cell_type": "code",
   "execution_count": null,
   "id": "2065791a-7216-4bd2-b797-1ee44011e409",
   "metadata": {},
   "outputs": [],
   "source": [
    "#Portfolio Returns for Real Estate: use (portfolio_return = weightAMT * meanAMT + weightIYR * meanIYR)\n",
    "\n"
   ]
  },
  {
   "cell_type": "code",
   "execution_count": null,
   "id": "22810902-1b52-4d3a-9292-88d944facd09",
   "metadata": {},
   "outputs": [],
   "source": [
    "#Portfolio Returns for Energy: use (portfolio_return = weightXOM * meanXOM + weightXLE * meanXLE)\n",
    "\n"
   ]
  },
  {
   "cell_type": "code",
   "execution_count": null,
   "id": "4c02dd9f-5fdf-4354-969d-fc3d4f333e71",
   "metadata": {},
   "outputs": [],
   "source": [
    "# Using the Pandas var function, calculate the covariance of the S&P 500 using tech portfolio returns information\n",
    "# The ETF SPY will represent the market\n"
   ]
  },
  {
   "cell_type": "code",
   "execution_count": null,
   "id": "cf15e04a-fc49-48f3-99b8-6c05f9ffabff",
   "metadata": {},
   "outputs": [],
   "source": [
    "# Using the Pandas var function, calculate the covariance of the S&P 500 using Real Estate portfolio returns information\n",
    "# The ETF SPY will represent the market\n"
   ]
  },
  {
   "cell_type": "code",
   "execution_count": null,
   "id": "81d6f2b5-93ed-4d9a-8e5c-569dec488e0c",
   "metadata": {},
   "outputs": [],
   "source": [
    "# Using the Pandas var function, calculate the covariance of the S&P 500 using Energy portfolio returns information\n",
    "# The ETF SPY will represent the market\n"
   ]
  },
  {
   "cell_type": "code",
   "execution_count": null,
   "id": "13208f83-4d9a-4891-b5a6-58ff48280422",
   "metadata": {},
   "outputs": [],
   "source": [
    "# Using the Pandas rolling function in conjunction with the var function, \n",
    "# calculate the 30-day rolling variance for the S&P 500 using tech daily returns information\n",
    "\n",
    "# Visualize the 30-day rolling variance of the S&P 500\n",
    "# Be sure to adjust the figure size and add a title\n"
   ]
  },
  {
   "cell_type": "code",
   "execution_count": null,
   "id": "7df3d87b-6d71-4d1e-8067-984111e671d7",
   "metadata": {},
   "outputs": [],
   "source": [
    "#Monte Carlo Simulation\n"
   ]
  },
  {
   "cell_type": "code",
   "execution_count": null,
   "id": "d1e86eb5-7600-4485-b234-0b7c96421eaa",
   "metadata": {},
   "outputs": [],
   "source": [
    "#Box and Whisker Plot\n"
   ]
  }
 ],
 "metadata": {
  "kernelspec": {
   "display_name": "Python (dev)",
   "language": "python",
   "name": "dev"
  },
  "language_info": {
   "codemirror_mode": {
    "name": "ipython",
    "version": 3
   },
   "file_extension": ".py",
   "mimetype": "text/x-python",
   "name": "python",
   "nbconvert_exporter": "python",
   "pygments_lexer": "ipython3",
   "version": "3.7.13"
  }
 },
 "nbformat": 4,
 "nbformat_minor": 5
}
